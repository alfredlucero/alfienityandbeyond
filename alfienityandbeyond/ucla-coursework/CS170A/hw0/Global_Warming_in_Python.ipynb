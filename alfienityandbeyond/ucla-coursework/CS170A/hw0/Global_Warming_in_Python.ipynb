{
 "cells": [
  {
   "cell_type": "markdown",
   "metadata": {},
   "source": [
    "# GHCN Temperature anomaly dataset analysis -- in Python"
   ]
  },
  {
   "cell_type": "markdown",
   "metadata": {},
   "source": [
    "GHCN is a large matrix of global historical temperature data, from 1880 to 2016\n",
    "(it is freely available; we downloaded it from <a href=\"ftp://ftp.ncdc.noaa.gov/pub/data/ghcn/v3/grid/\">ftp://ftp.ncdc.noaa.gov/pub/data/ghcn/v3/grid/</a>).\n",
    "A not-very-easy-to-read technical paper describing the dataset is at\n",
    "<a href=\"http://onlinelibrary.wiley.com/doi/10.1029/2011JD016187/pdf\">http://onlinelibrary.wiley.com/doi/10.1029/2011JD016187/pdf</a>).\n",
    "\n",
    "The data stores values for the whole globe using a grid, which has a resolution of $5^{\\circ} \\times 5^{\\circ}$.\n",
    "In other words, the grid has 36 rows (for latitude) and 72 columns (for longitude).\n",
    "Although the earth is spherical and a $36 \\times 72$ rectangular grid introduces distortion,\n",
    "for this problem we will follow this approach.\n",
    "\n",
    "The GHCN dataset covers $2016 - 1880 + 1 = 137$ years, with 12 months per year.\n",
    "So the data set contains $137 \\times 12$ grids.\n",
    "The <tt>ghcn.csv</tt> file storing the data is basically a $(36 \\times 12 \\times 137) \\times 72$ matrix of temperature values.\n",
    "It is stored as a 2D matrix of size $(36 \\times 12 \\times 137) \\times 72$, along with two initial columns giving the year and month.\n",
    "\n",
    "The script <tt>ghcn_script.py</tt> reads in the data file and reshapes it for you\n",
    "into a 4D matrix of size $36 \\times 12 \\times 137 \\times 72$.\n",
    "\n",
    "Actually, the GHCN data gives \"anomaly\" values instead of temperature values.\n",
    "That is, it gives values of how far the temperature was from normal in that grid square in that month.\n",
    "Positive values are above normal; all values are in Celsius.\n",
    "(Why does it give anomaly values only?  The paper explains why computing actual temperatures is much harder.)\n",
    "\n",
    "The point of this dataset in the assignment is that it permits us to use \"slices\" to do a lot of work.\n",
    "For example, it turns out the coordinates of most of the continental U.S. are the rectangle\n",
    "with rows 9:12 and columns 14:20  [in Python these are 8:11 and 13:19].\n",
    "\n",
    "-- D.S. Parker, Fall 2016."
   ]
  },
  {
   "cell_type": "code",
   "execution_count": 1,
   "metadata": {
    "collapsed": true
   },
   "outputs": [],
   "source": [
    "import numpy as np\n",
    "import matplotlib.pyplot as plt\n",
    "%matplotlib inline"
   ]
  },
  {
   "cell_type": "code",
   "execution_count": 2,
   "metadata": {
    "collapsed": true
   },
   "outputs": [],
   "source": [
    "import pandas as pd"
   ]
  },
  {
   "cell_type": "code",
   "execution_count": 3,
   "metadata": {
    "collapsed": false
   },
   "outputs": [
    {
     "data": {
      "text/plain": [
       "(59184, 72)"
      ]
     },
     "execution_count": 3,
     "metadata": {},
     "output_type": "execute_result"
    }
   ],
   "source": [
    "GHCN = pd.read_csv('ghcn.csv', header=None).fillna(0).as_matrix()\n",
    "\n",
    "#   The data was artificially shifted to [0, 4500]\n",
    "#     its range should be [-2500, +2000]/100 = [-25,+20], in degrees Centigrade.\n",
    "#     Since our focus here is on warming, we ignore temperatures below -5.\n",
    "#   We omit the year and month in columns 1:2 before scaling:\n",
    "\n",
    "GHCN_in_centigrade  = (GHCN[:,2:74] - 2500.0) / 100.0                        # omit the first two columns\n",
    "GHCN_in_centigrade.shape"
   ]
  },
  {
   "cell_type": "code",
   "execution_count": 4,
   "metadata": {
    "collapsed": false
   },
   "outputs": [
    {
     "data": {
      "text/plain": [
       "(36, 12, 137, 72)"
      ]
     },
     "execution_count": 4,
     "metadata": {},
     "output_type": "execute_result"
    }
   ],
   "source": [
    "temperature_anomaly = np.reshape( GHCN_in_centigrade, (36, 12, 137, 72), order=\"F\" )\n",
    "# convert to a 4D matrix, so we can use slices; use Fortran conventions, like Matlab\n",
    "\n",
    "temperature_anomaly.shape"
   ]
  },
  {
   "cell_type": "code",
   "execution_count": 5,
   "metadata": {
    "collapsed": false
   },
   "outputs": [
    {
     "data": {
      "text/plain": [
       "4261248"
      ]
     },
     "execution_count": 5,
     "metadata": {},
     "output_type": "execute_result"
    }
   ],
   "source": [
    "number_of_all_GHCN_values = np.prod( temperature_anomaly.shape )\n",
    "number_of_all_GHCN_values"
   ]
  },
  {
   "cell_type": "code",
   "execution_count": 6,
   "metadata": {
    "collapsed": false
   },
   "outputs": [
    {
     "data": {
      "text/plain": [
       "3620065"
      ]
     },
     "execution_count": 6,
     "metadata": {},
     "output_type": "execute_result"
    }
   ],
   "source": [
    "missing_values     = (temperature_anomaly == -25)\n",
    "non_missing_values = (temperature_anomaly != -25)\n",
    "\n",
    "number_of_missing_values = missing_values.sum()\n",
    "number_of_missing_values"
   ]
  },
  {
   "cell_type": "code",
   "execution_count": 7,
   "metadata": {
    "collapsed": false
   },
   "outputs": [
    {
     "data": {
      "text/plain": [
       "19.940000000000001"
      ]
     },
     "execution_count": 7,
     "metadata": {},
     "output_type": "execute_result"
    }
   ],
   "source": [
    "maximum_anomaly_value = temperature_anomaly.max()\n",
    "maximum_anomaly_value"
   ]
  },
  {
   "cell_type": "code",
   "execution_count": 8,
   "metadata": {
    "collapsed": false
   },
   "outputs": [
    {
     "data": {
      "text/plain": [
       "-24.260000000000002"
      ]
     },
     "execution_count": 8,
     "metadata": {},
     "output_type": "execute_result"
    }
   ],
   "source": [
    "minimum_anomaly_value = temperature_anomaly[non_missing_values].min()\n",
    "minimum_anomaly_value"
   ]
  },
  {
   "cell_type": "code",
   "execution_count": 9,
   "metadata": {
    "collapsed": true
   },
   "outputs": [],
   "source": [
    "year_month_anomaly = lambda Y,M: np.reshape( temperature_anomaly[:, M-1][:, :, Y-1880], (36,72), order=\"F\")\n",
    "year_month_missing = lambda Y,M: np.reshape(      missing_values[:, M-1][:, :, Y-1880], (36,72), order=\"F\")"
   ]
  },
  {
   "cell_type": "code",
   "execution_count": 10,
   "metadata": {
    "collapsed": true
   },
   "outputs": [],
   "source": [
    "US_latitude  = np.arange(8,12)\n",
    "US_longitude = np.arange(14,20)\n",
    "my_years = np.arange(1916,2016)\n",
    "my_year_indices = np.arange(1916-1880,2016-1880)"
   ]
  },
  {
   "cell_type": "code",
   "execution_count": 11,
   "metadata": {
    "collapsed": false
   },
   "outputs": [
    {
     "data": {
      "text/plain": [
       "array([[-0.11,  0.04, -0.11,  0.43,  0.8 ,  1.32],\n",
       "       [ 0.7 ,  0.2 , -0.16, -0.14,  0.33,  1.18],\n",
       "       [ 0.75,  1.52,  0.5 ,  0.56,  0.6 ,  1.19],\n",
       "       [ 2.08,  2.64,  1.58,  0.77,  1.13,  1.63]])"
      ]
     },
     "execution_count": 11,
     "metadata": {},
     "output_type": "execute_result"
    }
   ],
   "source": [
    "temperature_anomaly[US_latitude][:,6,136,US_longitude] # anomaly in the for July 2016"
   ]
  },
  {
   "cell_type": "code",
   "execution_count": 12,
   "metadata": {
    "collapsed": false
   },
   "outputs": [
    {
     "data": {
      "text/plain": [
       "(4, 12, 100, 6)"
      ]
     },
     "execution_count": 12,
     "metadata": {},
     "output_type": "execute_result"
    }
   ],
   "source": [
    "my_slice = temperature_anomaly[ US_latitude ][ :, :, my_year_indices][ :, :, :, US_longitude ]\n",
    "my_slice.shape"
   ]
  },
  {
   "cell_type": "code",
   "execution_count": 13,
   "metadata": {
    "collapsed": false
   },
   "outputs": [
    {
     "data": {
      "text/plain": [
       "288"
      ]
     },
     "execution_count": 13,
     "metadata": {},
     "output_type": "execute_result"
    }
   ],
   "source": [
    "total_number_of_grid_squares = len(US_latitude) * len(US_longitude) * 12\n",
    "N = total_number_of_grid_squares\n",
    "N"
   ]
  },
  {
   "cell_type": "code",
   "execution_count": 14,
   "metadata": {
    "collapsed": false
   },
   "outputs": [
    {
     "data": {
      "text/plain": [
       "100"
      ]
     },
     "execution_count": 14,
     "metadata": {},
     "output_type": "execute_result"
    }
   ],
   "source": [
    "len(my_years)"
   ]
  },
  {
   "cell_type": "code",
   "execution_count": 15,
   "metadata": {
    "collapsed": false
   },
   "outputs": [],
   "source": [
    "average_US_anomaly_by_year = np.reshape( my_slice.sum(axis=3).sum(axis=1).sum(axis=0), (len(my_years), 1) ) / N\n",
    "# order=\"F\" is not needed for this reshape since the result is a vector"
   ]
  },
  {
   "cell_type": "code",
   "execution_count": 16,
   "metadata": {
    "collapsed": false
   },
   "outputs": [
    {
     "data": {
      "image/png": "[encoded data removed]",
      "text/plain": [
       "<matplotlib.figure.Figure at 0x11541fd30>"
      ]
     },
     "metadata": {},
     "output_type": "display_data"
    }
   ],
   "source": [
    "plt.rcParams['figure.figsize'] = (12.0, 8.0)\n",
    "\n",
    "plt.plot( my_years, average_US_anomaly_by_year )\n",
    "plt.xlabel('year')\n",
    "plt.ylabel('temperature anomaly -- Celsius')\n",
    "plt.show()\n"
   ]
  },
  {
   "cell_type": "code",
   "execution_count": null,
   "metadata": {
    "collapsed": true
   },
   "outputs": [],
   "source": []
  }
 ],
 "metadata": {
  "kernelspec": {
   "display_name": "Python [Root]",
   "language": "python",
   "name": "Python [Root]"
  },
  "language_info": {
   "codemirror_mode": {
    "name": "ipython",
    "version": 3
   },
   "file_extension": ".py",
   "mimetype": "text/x-python",
   "name": "python",
   "nbconvert_exporter": "python",
   "pygments_lexer": "ipython3",
   "version": "3.5.2"
  }
 },
 "nbformat": 4,
 "nbformat_minor": 0
}
