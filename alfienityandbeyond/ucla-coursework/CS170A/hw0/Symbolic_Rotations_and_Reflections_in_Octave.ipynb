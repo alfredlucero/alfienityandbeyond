{
 "cells": [
  {
   "cell_type": "markdown",
   "metadata": {},
   "source": [
    "# Symbolic matrix computation in Octave -- with Sympy"
   ]
  },
  {
   "cell_type": "code",
   "execution_count": 1,
   "metadata": {
    "collapsed": false
   },
   "outputs": [
    {
     "name": "stdout",
     "output_type": "stream",
     "text": [
      " added to session magics.\n",
      "\n"
     ]
    }
   ],
   "source": [
    "%%% Before using this notebook, first un-comment and run the following command (to download the 'symbolic' package):\n",
    "\n",
    "% pkg install -forge symbolic   %  download and install symbolic package on your machine"
   ]
  },
  {
   "cell_type": "code",
   "execution_count": 2,
   "metadata": {
    "collapsed": true
   },
   "outputs": [],
   "source": [
    "pkg load symbolic"
   ]
  },
  {
   "cell_type": "code",
   "execution_count": 3,
   "metadata": {
    "collapsed": false
   },
   "outputs": [
    {
     "name": "stdout",
     "output_type": "stream",
     "text": [
      "OctSymPy v2.4.0: this is free software without warranty, see source.\n",
      "Initializing communication with SymPy using a popen2() pipe.\n",
      "Some output from the Python subprocess (pid 39176) might appear next.\n",
      "Python 3.5.2 |Anaconda 4.1.1 (x86_64)| (default, Jul  2 2016, 17:52:12) \n",
      "[GCC 4.2.1 Compatible Apple LLVM 4.2 (clang-425.0.28)] on darwin\n",
      "Type \"help\", \"copyright\", \"credits\" or \"license\" for more information.\n",
      ">>> >>> \n",
      "OctSymPy: Communication established.  SymPy v1.0.\n"
     ]
    }
   ],
   "source": [
    "syms phi theta   %  declare phi and theta to be symbolic variables"
   ]
  },
  {
   "cell_type": "code",
   "execution_count": 4,
   "metadata": {
    "collapsed": false
   },
   "outputs": [
    {
     "name": "stdout",
     "output_type": "stream",
     "text": [
      "Rotation =\n",
      "\n",
      "@(t) [cos(t), -sin(t); sin(t), cos(t)]\n",
      "\n"
     ]
    }
   ],
   "source": [
    "Rotation = @(t) [ cos(t) -sin(t) ; sin(t) cos(t) ]   %  define a function that returns a rotation matrix"
   ]
  },
  {
   "cell_type": "code",
   "execution_count": 5,
   "metadata": {
    "collapsed": false
   },
   "outputs": [
    {
     "name": "stdout",
     "output_type": "stream",
     "text": [
      "ans = (sym 2×2 matrix)\n",
      "\n",
      "  ⎡cos(θ)  -sin(θ)⎤\n",
      "  ⎢               ⎥\n",
      "  ⎣sin(θ)  cos(θ) ⎦\n",
      "\n"
     ]
    }
   ],
   "source": [
    "Rotation(theta)"
   ]
  },
  {
   "cell_type": "code",
   "execution_count": 6,
   "metadata": {
    "collapsed": false
   },
   "outputs": [
    {
     "name": "stdout",
     "output_type": "stream",
     "text": [
      "ans = (sym 2×2 matrix)\n",
      "\n",
      "  ⎡   2         2                      ⎤\n",
      "  ⎢sin (θ) + cos (θ)          0        ⎥\n",
      "  ⎢                                    ⎥\n",
      "  ⎢                      2         2   ⎥\n",
      "  ⎣        0          sin (θ) + cos (θ)⎦\n",
      "\n"
     ]
    }
   ],
   "source": [
    "Rotation(theta) * Rotation(-theta)"
   ]
  },
  {
   "cell_type": "code",
   "execution_count": 7,
   "metadata": {
    "collapsed": false
   },
   "outputs": [
    {
     "name": "stdout",
     "output_type": "stream",
     "text": [
      "ans = (sym 2×2 matrix)\n",
      "\n",
      "  ⎡1  0⎤\n",
      "  ⎢    ⎥\n",
      "  ⎣0  1⎦\n",
      "\n"
     ]
    }
   ],
   "source": [
    "simplify( Rotation(theta) * Rotation(-theta) )"
   ]
  },
  {
   "cell_type": "code",
   "execution_count": 8,
   "metadata": {
    "collapsed": false
   },
   "outputs": [
    {
     "name": "stdout",
     "output_type": "stream",
     "text": [
      "ans = (sym 2×2 matrix)\n",
      "\n",
      "  ⎡cos(2⋅θ)  -sin(2⋅θ)⎤\n",
      "  ⎢                   ⎥\n",
      "  ⎣sin(2⋅θ)  cos(2⋅θ) ⎦\n",
      "\n"
     ]
    }
   ],
   "source": [
    "simplify( Rotation(theta) * Rotation(theta) )"
   ]
  },
  {
   "cell_type": "code",
   "execution_count": 9,
   "metadata": {
    "collapsed": false
   },
   "outputs": [
    {
     "name": "stdout",
     "output_type": "stream",
     "text": [
      "ans = (sym 2×2 matrix)\n",
      "\n",
      "  ⎡cos(φ + θ)  -sin(φ + θ)⎤\n",
      "  ⎢                       ⎥\n",
      "  ⎣sin(φ + θ)  cos(φ + θ) ⎦\n",
      "\n"
     ]
    }
   ],
   "source": [
    "simplify( Rotation(theta) * Rotation(phi) )"
   ]
  },
  {
   "cell_type": "code",
   "execution_count": 10,
   "metadata": {
    "collapsed": false
   },
   "outputs": [
    {
     "name": "stdout",
     "output_type": "stream",
     "text": [
      "Reflection =\n",
      "\n",
      "@(t) [cos(t), sin(t); sin(t), -cos(t)]\n",
      "\n"
     ]
    }
   ],
   "source": [
    "Reflection = @(t) [ cos(t) sin(t) ; sin(t) -cos(t) ]   %  define a function that yields a reflection matrix"
   ]
  },
  {
   "cell_type": "code",
   "execution_count": 11,
   "metadata": {
    "collapsed": false
   },
   "outputs": [
    {
     "name": "stdout",
     "output_type": "stream",
     "text": [
      "ans = (sym 2×2 matrix)\n",
      "\n",
      "  ⎡cos(θ)  sin(θ) ⎤\n",
      "  ⎢               ⎥\n",
      "  ⎣sin(θ)  -cos(θ)⎦\n",
      "\n"
     ]
    }
   ],
   "source": [
    "Reflection(theta)"
   ]
  },
  {
   "cell_type": "code",
   "execution_count": 12,
   "metadata": {
    "collapsed": false
   },
   "outputs": [
    {
     "name": "stdout",
     "output_type": "stream",
     "text": [
      "ans = (sym 2×2 matrix)\n",
      "\n",
      "  ⎡   2         2                      ⎤\n",
      "  ⎢sin (θ) + cos (θ)          0        ⎥\n",
      "  ⎢                                    ⎥\n",
      "  ⎢                      2         2   ⎥\n",
      "  ⎣        0          sin (θ) + cos (θ)⎦\n",
      "\n"
     ]
    }
   ],
   "source": [
    "Reflection(theta) * Reflection(theta)"
   ]
  },
  {
   "cell_type": "code",
   "execution_count": 13,
   "metadata": {
    "collapsed": false
   },
   "outputs": [
    {
     "name": "stdout",
     "output_type": "stream",
     "text": [
      "ans = (sym 2×2 matrix)\n",
      "\n",
      "  ⎡1  0⎤\n",
      "  ⎢    ⎥\n",
      "  ⎣0  1⎦\n",
      "\n"
     ]
    }
   ],
   "source": [
    "simplify(ans)"
   ]
  },
  {
   "cell_type": "code",
   "execution_count": 14,
   "metadata": {
    "collapsed": false
   },
   "outputs": [
    {
     "name": "stdout",
     "output_type": "stream",
     "text": [
      "ans = (sym 2×2 matrix)\n",
      "\n",
      "  ⎡sin(φ)⋅sin(θ) + cos(φ)⋅cos(θ)   sin(φ)⋅cos(θ) - sin(θ)⋅cos(φ)⎤\n",
      "  ⎢                                                             ⎥\n",
      "  ⎣-sin(φ)⋅cos(θ) + sin(θ)⋅cos(φ)  sin(φ)⋅sin(θ) + cos(φ)⋅cos(θ)⎦\n",
      "\n"
     ]
    }
   ],
   "source": [
    "Reflection(theta) * Reflection(phi)"
   ]
  },
  {
   "cell_type": "code",
   "execution_count": 15,
   "metadata": {
    "collapsed": false
   },
   "outputs": [
    {
     "name": "stdout",
     "output_type": "stream",
     "text": [
      "ans = (sym 2×2 matrix)\n",
      "\n",
      "  ⎡cos(φ - θ)   sin(φ - θ)⎤\n",
      "  ⎢                       ⎥\n",
      "  ⎣-sin(φ - θ)  cos(φ - θ)⎦\n",
      "\n"
     ]
    }
   ],
   "source": [
    "simplify(ans)"
   ]
  },
  {
   "cell_type": "code",
   "execution_count": 16,
   "metadata": {
    "collapsed": false
   },
   "outputs": [
    {
     "name": "stdout",
     "output_type": "stream",
     "text": [
      "ans = (sym 2×2 matrix)\n",
      "\n",
      "  ⎡cos(φ - θ)   sin(φ - θ)⎤\n",
      "  ⎢                       ⎥\n",
      "  ⎣-sin(φ - θ)  cos(φ - θ)⎦\n",
      "\n"
     ]
    }
   ],
   "source": [
    "Rotation(theta - phi)"
   ]
  },
  {
   "cell_type": "code",
   "execution_count": 17,
   "metadata": {
    "collapsed": false
   },
   "outputs": [
    {
     "name": "stdout",
     "output_type": "stream",
     "text": [
      "ans = (sym 2×2 matrix)\n",
      "\n",
      "  ⎡0  0⎤\n",
      "  ⎢    ⎥\n",
      "  ⎣0  0⎦\n",
      "\n"
     ]
    }
   ],
   "source": [
    "simplify( Reflection(theta) * Reflection(phi)  -  Rotation(theta - phi) )"
   ]
  }
 ],
 "metadata": {
  "anaconda-cloud": {},
  "kernelspec": {
   "display_name": "Octave",
   "language": "octave",
   "name": "octave"
  },
  "language_info": {
   "file_extension": ".m",
   "help_links": [
    {
     "text": "MetaKernel Magics",
     "url": "https://github.com/calysto/metakernel/blob/master/metakernel/magics/README.md"
    }
   ],
   "mimetype": "text/x-octave",
   "name": "octave",
   "version": "0.16.0"
  }
 },
 "nbformat": 4,
 "nbformat_minor": 0
}
