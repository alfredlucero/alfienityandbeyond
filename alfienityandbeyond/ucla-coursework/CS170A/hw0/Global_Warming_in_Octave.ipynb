{
 "cells": [
  {
   "cell_type": "markdown",
   "metadata": {},
   "source": [
    "# GHCN Temperature anomaly dataset analysis -- in Octave"
   ]
  },
  {
   "cell_type": "markdown",
   "metadata": {},
   "source": [
    "GHCN is a large matrix of global historical temperature data, from 1880 to 2016\n",
    "(it is freely available; we downloaded it from <a href=\"ftp://ftp.ncdc.noaa.gov/pub/data/ghcn/v3/grid/\">ftp://ftp.ncdc.noaa.gov/pub/data/ghcn/v3/grid/</a>).\n",
    "A not-very-easy-to-read technical paper describing the dataset is at\n",
    "<a href=\"http://onlinelibrary.wiley.com/doi/10.1029/2011JD016187/pdf\">http://onlinelibrary.wiley.com/doi/10.1029/2011JD016187/pdf</a>).\n",
    "\n",
    "The data stores values for the whole globe using a grid, which has a resolution of $5^{\\circ} \\times 5^{\\circ}$.\n",
    "In other words, the grid has 36 rows (for latitude) and 72 columns (for longitude).\n",
    "Although the earth is spherical and a $36 \\times 72$ rectangular grid introduces distortion,\n",
    "for this problem we will follow this approach.\n",
    "\n",
    "The GHCN dataset covers $2016 - 1880 + 1 = 137$ years, with 12 months per year.\n",
    "So the data set contains $137 \\times 12$ grids.\n",
    "The <tt>ghcn.csv</tt> file storing the data is basically a $(36 \\times 12 \\times 137) \\times 72$ matrix of temperature values.\n",
    "It is stored as a 2D matrix of size $(36 \\times 12 \\times 137) \\times 72$ matrix, along with two initial columns giving the year and month.\n",
    "\n",
    "The script <tt>ghcn_script.py</tt> reads in the data file and reshapes it for you\n",
    "into a 4D matrix of size $36 \\times 12 \\times 137 \\times 72$.\n",
    "\n",
    "Actually, the GHCN data gives \"anomaly\" values instead of temperature values.\n",
    "That is, it gives values of how far the temperature was from normal in that grid square in that month.\n",
    "Positive values are above normal; all values are in Celsius.\n",
    "(Why does it give anomaly values only?  The paper explains why computing actual temperatures is much harder.)\n",
    "\n",
    "The point of this dataset in the assignment is that it permits us to use \"slices\" to do a lot of work.\n",
    "For example, it turns out the coordinates of most of the continental U.S. are the rectangle\n",
    "with rows 9:12 and columns 14:20  [in Python these are 8:11 and 13:19].\n",
    "\n",
    "\n",
    "-- D.S. Parker, Fall 2016."
   ]
  },
  {
   "cell_type": "code",
   "execution_count": 1,
   "metadata": {
    "collapsed": true
   },
   "outputs": [],
   "source": [
    "GHCN = csvread('ghcn.csv');\n",
    "\n",
    "%   The data was artificially shifted to [0, 4500];\n",
    "%     its range should be [-2500, +2000]/100 = [-25,+20], in degrees Centigrade.\n",
    "%     Since our focus here is on warming, we ignore temperatures below -5.\n",
    "%   We omit the year and month in columns 1:2 before scaling:\n",
    "\n",
    "GHCN_in_centigrade  = (GHCN(:,3:74) - 2500) / 100;"
   ]
  },
  {
   "cell_type": "code",
   "execution_count": 2,
   "metadata": {
    "collapsed": false
   },
   "outputs": [
    {
     "name": "stdout",
     "output_type": "stream",
     "text": [
      "ans =\n",
      "\n",
      "    36    12   137    72\n",
      "\n"
     ]
    }
   ],
   "source": [
    "temperature_anomaly = reshape( GHCN_in_centigrade, [36, 12, 137, 72] );   % convert to a 4D matrix, so we can use slices\n",
    "size( temperature_anomaly )"
   ]
  },
  {
   "cell_type": "code",
   "execution_count": 3,
   "metadata": {
    "collapsed": false
   },
   "outputs": [
    {
     "name": "stdout",
     "output_type": "stream",
     "text": [
      "number_of_all_GHCN_values =  4261248\n",
      "number_of_all_GHCN_values =  4261248\n"
     ]
    }
   ],
   "source": [
    "number_of_all_GHCN_values = prod(size( temperature_anomaly ))\n",
    "number_of_all_GHCN_values"
   ]
  },
  {
   "cell_type": "code",
   "execution_count": 4,
   "metadata": {
    "collapsed": true
   },
   "outputs": [],
   "source": [
    "missing_values = (temperature_anomaly == -25);\n",
    "number_of_missing_values = sum(sum(sum(sum( missing_values ))));"
   ]
  },
  {
   "cell_type": "code",
   "execution_count": 5,
   "metadata": {
    "collapsed": false
   },
   "outputs": [
    {
     "name": "stdout",
     "output_type": "stream",
     "text": [
      "maximum_anomaly_value =  19.940\n",
      "minimum_anomaly_value = -24.260\n"
     ]
    }
   ],
   "source": [
    "maximum_anomaly_value = max(max(max(max( temperature_anomaly ))))\n",
    "minimum_anomaly_value = min(min(min(min( temperature_anomaly .*  (~ missing_values) ))))  %  '~' is 'not' in MATLAB"
   ]
  },
  {
   "cell_type": "code",
   "execution_count": 6,
   "metadata": {
    "collapsed": false
   },
   "outputs": [
    {
     "name": "stdout",
     "output_type": "stream",
     "text": [
      "US_latitude =\n",
      "\n",
      "    9   10   11   12\n",
      "\n",
      "US_longitude =\n",
      "\n",
      "   15   16   17   18   19   20\n",
      "\n",
      "my_years =\n",
      "\n",
      " Columns 1 through 11:\n",
      "\n",
      "   1916   1917   1918   1919   1920   1921   1922   1923   1924   1925   1926\n",
      "\n",
      " Columns 12 through 22:\n",
      "\n",
      "   1927   1928   1929   1930   1931   1932   1933   1934   1935   1936   1937\n",
      "\n",
      " Columns 23 through 33:\n",
      "\n",
      "   1938   1939   1940   1941   1942   1943   1944   1945   1946   1947   1948\n",
      "\n",
      " Columns 34 through 44:\n",
      "\n",
      "   1949   1950   1951   1952   1953   1954   1955   1956   1957   1958   1959\n",
      "\n",
      " Columns 45 through 55:\n",
      "\n",
      "   1960   1961   1962   1963   1964   1965   1966   1967   1968   1969   1970\n",
      "\n",
      " Columns 56 through 66:\n",
      "\n",
      "   1971   1972   1973   1974   1975   1976   1977   1978   1979   1980   1981\n",
      "\n",
      " Columns 67 through 77:\n",
      "\n",
      "   1982   1983   1984   1985   1986   1987   1988   1989   1990   1991   1992\n",
      "\n",
      " Columns 78 through 88:\n",
      "\n",
      "   1993   1994   1995   1996   1997   1998   1999   2000   2001   2002   2003\n",
      "\n",
      " Columns 89 through 99:\n",
      "\n",
      "   2004   2005   2006   2007   2008   2009   2010   2011   2012   2013   2014\n",
      "\n",
      " Column 100:\n",
      "\n",
      "   2015\n",
      "\n"
     ]
    }
   ],
   "source": [
    "US_latitude  = 9:12\n",
    "US_longitude = 15:20\n",
    "my_years = 1916:2015\n",
    "my_slice = temperature_anomaly( US_latitude, :, my_years - 1880 + 1, US_longitude );"
   ]
  },
  {
   "cell_type": "code",
   "execution_count": 7,
   "metadata": {
    "collapsed": false
   },
   "outputs": [
    {
     "name": "stdout",
     "output_type": "stream",
     "text": [
      "total_number_of_grid_squares =  288\n",
      "N =  288\n"
     ]
    }
   ],
   "source": [
    "total_number_of_grid_squares = length(US_latitude) * length(US_longitude) * 12\n",
    "N = total_number_of_grid_squares"
   ]
  },
  {
   "cell_type": "code",
   "execution_count": 8,
   "metadata": {
    "collapsed": false
   },
   "outputs": [
    {
     "name": "stdout",
     "output_type": "stream",
     "text": [
      "average_US_anomaly_by_year =\n",
      "\n",
      "  -1.107500\n",
      "  -1.908299\n",
      "  -0.597604\n",
      "  -0.696771\n",
      "  -0.966806\n",
      "   0.782604\n",
      "  -0.241736\n",
      "  -0.610451\n",
      "  -1.507292\n",
      "  -0.287986\n",
      "  -0.816076\n",
      "  -0.471042\n",
      "  -0.589097\n",
      "  -1.351042\n",
      "  -0.275729\n",
      "   0.801979\n",
      "  -0.531111\n",
      "   0.240833\n",
      "   0.518958\n",
      "  -0.502465\n",
      "  -0.577292\n",
      "  -0.764028\n",
      "   0.394271\n",
      "   0.270625\n",
      "  -0.766458\n",
      "   0.110104\n",
      "  -0.454479\n",
      "  -0.482500\n",
      "  -0.279306\n",
      "  -0.687569\n",
      "   0.257569\n",
      "  -0.568194\n",
      "  -0.460347\n",
      "  -0.261319\n",
      "  -1.163819\n",
      "  -1.175868\n",
      "  -0.103993\n",
      "   0.454583\n",
      "   0.419028\n",
      "  -0.355833\n",
      "  -0.190312\n",
      "  -0.405104\n",
      "  -0.689132\n",
      "  -0.543576\n",
      "  -0.865208\n",
      "  -0.579340\n",
      "  -0.520799\n",
      "  -0.260243\n",
      "  -0.438472\n",
      "  -0.726076\n",
      "  -0.946076\n",
      "  -0.775208\n",
      "  -0.835278\n",
      "  -0.803750\n",
      "  -0.740000\n",
      "  -0.557778\n",
      "  -1.033993\n",
      "  -0.149861\n",
      "  -0.411146\n",
      "  -0.605486\n",
      "  -0.771736\n",
      "  -0.070208\n",
      "  -1.187118\n",
      "  -1.375903\n",
      "  -0.284757\n",
      "   0.211424\n",
      "  -0.839132\n",
      "  -0.479618\n",
      "  -0.341424\n",
      "  -0.903264\n",
      "   0.245660\n",
      "   0.590590\n",
      "  -0.147569\n",
      "  -0.779028\n",
      "   0.480139\n",
      "   0.285451\n",
      "  -0.344028\n",
      "  -0.958958\n",
      "  -0.055937\n",
      "  -0.240625\n",
      "  -0.953194\n",
      "  -0.508819\n",
      "   1.179965\n",
      "   0.823021\n",
      "   0.246806\n",
      "   0.599306\n",
      "   0.222604\n",
      "   0.071632\n",
      "   0.079271\n",
      "   0.600486\n",
      "   1.041389\n",
      "   0.523056\n",
      "  -0.468854\n",
      "  -0.425694\n",
      "   0.243611\n",
      "   0.341181\n",
      "   1.681076\n",
      "  -0.470382\n",
      "  -0.760625\n",
      "   0.727674\n",
      "\n"
     ]
    }
   ],
   "source": [
    "average_US_anomaly_by_year = reshape( sum(sum(sum( my_slice, 4),2),1), [length(my_years) 1] ) / N"
   ]
  },
  {
   "cell_type": "code",
   "execution_count": 9,
   "metadata": {
    "collapsed": false
   },
   "outputs": [
    {
     "data": {
      "image/svg+xml": [
       "<svg height=\"420px\" viewBox=\"0 0 576 432\" width=\"560px\" xmlns=\"http://www.w3.org/2000/svg\" xmlns:xlink=\"http://www.w3.org/1999/xlink\">\n",
       "\n",
       "<title>Gnuplot</title>\n",
       "<desc>Produced by GNUPLOT 5.0 patchlevel 4 </desc>\n",
       "\n",
       "<g id=\"gnuplot_canvas\">\n",
       "\n",
       "<rect fill=\"none\" height=\"432\" width=\"576\" x=\"0\" y=\"0\"/>\n",
       "<defs>\n",
       "\n",
       "\t<circle id=\"gpDot\" r=\"0.5\" stroke-width=\"0.5\"/>\n",
       "\t<path d=\"M-1,0 h2 M0,-1 v2\" id=\"gpPt0\" stroke=\"currentColor\" stroke-width=\"0.333\"/>\n",
       "\t<path d=\"M-1,-1 L1,1 M1,-1 L-1,1\" id=\"gpPt1\" stroke=\"currentColor\" stroke-width=\"0.333\"/>\n",
       "\t<path d=\"M-1,0 L1,0 M0,-1 L0,1 M-1,-1 L1,1 M-1,1 L1,-1\" id=\"gpPt2\" stroke=\"currentColor\" stroke-width=\"0.333\"/>\n",
       "\t<rect height=\"2\" id=\"gpPt3\" stroke=\"currentColor\" stroke-width=\"0.333\" width=\"2\" x=\"-1\" y=\"-1\"/>\n",
       "\t<rect fill=\"currentColor\" height=\"2\" id=\"gpPt4\" stroke=\"currentColor\" stroke-width=\"0.333\" width=\"2\" x=\"-1\" y=\"-1\"/>\n",
       "\t<circle cx=\"0\" cy=\"0\" id=\"gpPt5\" r=\"1\" stroke=\"currentColor\" stroke-width=\"0.333\"/>\n",
       "\t<use fill=\"currentColor\" id=\"gpPt6\" stroke=\"none\" xlink:href=\"#gpPt5\"/>\n",
       "\t<path d=\"M0,-1.33 L-1.33,0.67 L1.33,0.67 z\" id=\"gpPt7\" stroke=\"currentColor\" stroke-width=\"0.333\"/>\n",
       "\t<use fill=\"currentColor\" id=\"gpPt8\" stroke=\"none\" xlink:href=\"#gpPt7\"/>\n",
       "\t<use id=\"gpPt9\" stroke=\"currentColor\" transform=\"rotate(180)\" xlink:href=\"#gpPt7\"/>\n",
       "\t<use fill=\"currentColor\" id=\"gpPt10\" stroke=\"none\" xlink:href=\"#gpPt9\"/>\n",
       "\t<use id=\"gpPt11\" stroke=\"currentColor\" transform=\"rotate(45)\" xlink:href=\"#gpPt3\"/>\n",
       "\t<use fill=\"currentColor\" id=\"gpPt12\" stroke=\"none\" xlink:href=\"#gpPt11\"/>\n",
       "\t<path d=\"M0,1.330 L1.265,0.411 L0.782,-1.067 L-0.782,-1.076 L-1.265,0.411 z\" id=\"gpPt13\" stroke=\"currentColor\" stroke-width=\"0.333\"/>\n",
       "\t<use fill=\"currentColor\" id=\"gpPt14\" stroke=\"none\" xlink:href=\"#gpPt13\"/>\n",
       "\t<filter filterUnits=\"objectBoundingBox\" height=\"1\" id=\"textbox\" width=\"1\" x=\"0\" y=\"0\">\n",
       "\t  <feFlood flood-color=\"white\" flood-opacity=\"1\" result=\"bgnd\"/>\n",
       "\t  <feComposite in=\"SourceGraphic\" in2=\"bgnd\" operator=\"atop\"/>\n",
       "\t</filter>\n",
       "\t<filter filterUnits=\"objectBoundingBox\" height=\"1\" id=\"greybox\" width=\"1\" x=\"0\" y=\"0\">\n",
       "\t  <feFlood flood-color=\"lightgrey\" flood-opacity=\"1\" result=\"grey\"/>\n",
       "\t  <feComposite in=\"SourceGraphic\" in2=\"grey\" operator=\"atop\"/>\n",
       "\t</filter>\n",
       "</defs>\n",
       "<g color=\"white\" fill=\"none\" stroke=\"currentColor\" stroke-linecap=\"butt\" stroke-linejoin=\"miter\" stroke-width=\"1.00\">\n",
       "</g>\n",
       "<g color=\"black\" fill=\"none\" stroke=\"currentColor\" stroke-linecap=\"butt\" stroke-linejoin=\"miter\" stroke-width=\"1.00\">\n",
       "\t<g shape-rendering=\"crispEdges\" stroke=\"none\">\n",
       "\t\t<polygon fill=\"rgb(255, 255, 255)\" points=\"48.4,393.6 559.0,393.6 559.0,39.2 48.4,39.2 \"/>\n",
       "\t</g>\n",
       "</g>\n",
       "<g color=\"black\" fill=\"none\" stroke=\"rgb(255, 255, 255)\" stroke-linecap=\"butt\" stroke-linejoin=\"miter\" stroke-width=\"0.50\">\n",
       "</g>\n",
       "<g color=\"black\" fill=\"none\" stroke=\"currentColor\" stroke-linecap=\"butt\" stroke-linejoin=\"miter\" stroke-width=\"0.50\">\n",
       "\t<path d=\"M48.4,393.6 L56.8,393.6 M559.1,393.6 L550.7,393.6  \" stroke=\"black\"/>\t<g fill=\"rgb(0,0,0)\" font-family=\"{}\" font-size=\"10.00\" stroke=\"none\" text-anchor=\"end\" transform=\"translate(42.8,397.3)\">\n",
       "\t\t<text><tspan font-family=\"{}\">-2</tspan></text>\n",
       "\t</g>\n",
       "</g>\n",
       "<g color=\"black\" fill=\"none\" stroke=\"currentColor\" stroke-linecap=\"butt\" stroke-linejoin=\"miter\" stroke-width=\"0.50\">\n",
       "\t<path d=\"M48.4,349.3 L56.8,349.3 M559.1,349.3 L550.7,349.3  \" stroke=\"black\"/>\t<g fill=\"rgb(0,0,0)\" font-family=\"{}\" font-size=\"10.00\" stroke=\"none\" text-anchor=\"end\" transform=\"translate(42.8,353.0)\">\n",
       "\t\t<text><tspan font-family=\"{}\">-1.5</tspan></text>\n",
       "\t</g>\n",
       "</g>\n",
       "<g color=\"black\" fill=\"none\" stroke=\"currentColor\" stroke-linecap=\"butt\" stroke-linejoin=\"miter\" stroke-width=\"0.50\">\n",
       "\t<path d=\"M48.4,305.0 L56.8,305.0 M559.1,305.0 L550.7,305.0  \" stroke=\"black\"/>\t<g fill=\"rgb(0,0,0)\" font-family=\"{}\" font-size=\"10.00\" stroke=\"none\" text-anchor=\"end\" transform=\"translate(42.8,308.7)\">\n",
       "\t\t<text><tspan font-family=\"{}\">-1</tspan></text>\n",
       "\t</g>\n",
       "</g>\n",
       "<g color=\"black\" fill=\"none\" stroke=\"currentColor\" stroke-linecap=\"butt\" stroke-linejoin=\"miter\" stroke-width=\"0.50\">\n",
       "\t<path d=\"M48.4,260.7 L56.8,260.7 M559.1,260.7 L550.7,260.7  \" stroke=\"black\"/>\t<g fill=\"rgb(0,0,0)\" font-family=\"{}\" font-size=\"10.00\" stroke=\"none\" text-anchor=\"end\" transform=\"translate(42.8,264.4)\">\n",
       "\t\t<text><tspan font-family=\"{}\">-0.5</tspan></text>\n",
       "\t</g>\n",
       "</g>\n",
       "<g color=\"black\" fill=\"none\" stroke=\"currentColor\" stroke-linecap=\"butt\" stroke-linejoin=\"miter\" stroke-width=\"0.50\">\n",
       "\t<path d=\"M48.4,216.3 L56.8,216.3 M559.1,216.3 L550.7,216.3  \" stroke=\"black\"/>\t<g fill=\"rgb(0,0,0)\" font-family=\"{}\" font-size=\"10.00\" stroke=\"none\" text-anchor=\"end\" transform=\"translate(42.8,220.0)\">\n",
       "\t\t<text><tspan font-family=\"{}\">0</tspan></text>\n",
       "\t</g>\n",
       "</g>\n",
       "<g color=\"black\" fill=\"none\" stroke=\"currentColor\" stroke-linecap=\"butt\" stroke-linejoin=\"miter\" stroke-width=\"0.50\">\n",
       "\t<path d=\"M48.4,172.0 L56.8,172.0 M559.1,172.0 L550.7,172.0  \" stroke=\"black\"/>\t<g fill=\"rgb(0,0,0)\" font-family=\"{}\" font-size=\"10.00\" stroke=\"none\" text-anchor=\"end\" transform=\"translate(42.8,175.7)\">\n",
       "\t\t<text><tspan font-family=\"{}\">0.5</tspan></text>\n",
       "\t</g>\n",
       "</g>\n",
       "<g color=\"black\" fill=\"none\" stroke=\"currentColor\" stroke-linecap=\"butt\" stroke-linejoin=\"miter\" stroke-width=\"0.50\">\n",
       "\t<path d=\"M48.4,127.7 L56.8,127.7 M559.1,127.7 L550.7,127.7  \" stroke=\"black\"/>\t<g fill=\"rgb(0,0,0)\" font-family=\"{}\" font-size=\"10.00\" stroke=\"none\" text-anchor=\"end\" transform=\"translate(42.8,131.4)\">\n",
       "\t\t<text><tspan font-family=\"{}\">1</tspan></text>\n",
       "\t</g>\n",
       "</g>\n",
       "<g color=\"black\" fill=\"none\" stroke=\"currentColor\" stroke-linecap=\"butt\" stroke-linejoin=\"miter\" stroke-width=\"0.50\">\n",
       "\t<path d=\"M48.4,83.4 L56.8,83.4 M559.1,83.4 L550.7,83.4  \" stroke=\"black\"/>\t<g fill=\"rgb(0,0,0)\" font-family=\"{}\" font-size=\"10.00\" stroke=\"none\" text-anchor=\"end\" transform=\"translate(42.8,87.1)\">\n",
       "\t\t<text><tspan font-family=\"{}\">1.5</tspan></text>\n",
       "\t</g>\n",
       "</g>\n",
       "<g color=\"black\" fill=\"none\" stroke=\"currentColor\" stroke-linecap=\"butt\" stroke-linejoin=\"miter\" stroke-width=\"0.50\">\n",
       "\t<path d=\"M48.4,39.1 L56.8,39.1 M559.1,39.1 L550.7,39.1  \" stroke=\"black\"/>\t<g fill=\"rgb(0,0,0)\" font-family=\"{}\" font-size=\"10.00\" stroke=\"none\" text-anchor=\"end\" transform=\"translate(42.8,42.8)\">\n",
       "\t\t<text><tspan font-family=\"{}\">2</tspan></text>\n",
       "\t</g>\n",
       "</g>\n",
       "<g color=\"black\" fill=\"none\" stroke=\"currentColor\" stroke-linecap=\"butt\" stroke-linejoin=\"miter\" stroke-width=\"0.50\">\n",
       "\t<path d=\"M48.4,393.6 L48.4,385.2 M48.4,39.1 L48.4,47.5  \" stroke=\"black\"/>\t<g fill=\"rgb(0,0,0)\" font-family=\"{}\" font-size=\"10.00\" stroke=\"none\" text-anchor=\"middle\" transform=\"translate(48.4,409.3)\">\n",
       "\t\t<text><tspan font-family=\"{}\">1900</tspan></text>\n",
       "\t</g>\n",
       "</g>\n",
       "<g color=\"black\" fill=\"none\" stroke=\"currentColor\" stroke-linecap=\"butt\" stroke-linejoin=\"miter\" stroke-width=\"0.50\">\n",
       "\t<path d=\"M133.5,393.6 L133.5,385.2 M133.5,39.1 L133.5,47.5  \" stroke=\"black\"/>\t<g fill=\"rgb(0,0,0)\" font-family=\"{}\" font-size=\"10.00\" stroke=\"none\" text-anchor=\"middle\" transform=\"translate(133.5,409.3)\">\n",
       "\t\t<text><tspan font-family=\"{}\">1920</tspan></text>\n",
       "\t</g>\n",
       "</g>\n",
       "<g color=\"black\" fill=\"none\" stroke=\"currentColor\" stroke-linecap=\"butt\" stroke-linejoin=\"miter\" stroke-width=\"0.50\">\n",
       "\t<path d=\"M218.6,393.6 L218.6,385.2 M218.6,39.1 L218.6,47.5  \" stroke=\"black\"/>\t<g fill=\"rgb(0,0,0)\" font-family=\"{}\" font-size=\"10.00\" stroke=\"none\" text-anchor=\"middle\" transform=\"translate(218.6,409.3)\">\n",
       "\t\t<text><tspan font-family=\"{}\">1940</tspan></text>\n",
       "\t</g>\n",
       "</g>\n",
       "<g color=\"black\" fill=\"none\" stroke=\"currentColor\" stroke-linecap=\"butt\" stroke-linejoin=\"miter\" stroke-width=\"0.50\">\n",
       "\t<path d=\"M303.8,393.6 L303.8,385.2 M303.8,39.1 L303.8,47.5  \" stroke=\"black\"/>\t<g fill=\"rgb(0,0,0)\" font-family=\"{}\" font-size=\"10.00\" stroke=\"none\" text-anchor=\"middle\" transform=\"translate(303.8,409.3)\">\n",
       "\t\t<text><tspan font-family=\"{}\">1960</tspan></text>\n",
       "\t</g>\n",
       "</g>\n",
       "<g color=\"black\" fill=\"none\" stroke=\"currentColor\" stroke-linecap=\"butt\" stroke-linejoin=\"miter\" stroke-width=\"0.50\">\n",
       "\t<path d=\"M388.9,393.6 L388.9,385.2 M388.9,39.1 L388.9,47.5  \" stroke=\"black\"/>\t<g fill=\"rgb(0,0,0)\" font-family=\"{}\" font-size=\"10.00\" stroke=\"none\" text-anchor=\"middle\" transform=\"translate(388.9,409.3)\">\n",
       "\t\t<text><tspan font-family=\"{}\">1980</tspan></text>\n",
       "\t</g>\n",
       "</g>\n",
       "<g color=\"black\" fill=\"none\" stroke=\"currentColor\" stroke-linecap=\"butt\" stroke-linejoin=\"miter\" stroke-width=\"0.50\">\n",
       "\t<path d=\"M474.0,393.6 L474.0,385.2 M474.0,39.1 L474.0,47.5  \" stroke=\"black\"/>\t<g fill=\"rgb(0,0,0)\" font-family=\"{}\" font-size=\"10.00\" stroke=\"none\" text-anchor=\"middle\" transform=\"translate(474.0,409.3)\">\n",
       "\t\t<text><tspan font-family=\"{}\">2000</tspan></text>\n",
       "\t</g>\n",
       "</g>\n",
       "<g color=\"black\" fill=\"none\" stroke=\"currentColor\" stroke-linecap=\"butt\" stroke-linejoin=\"miter\" stroke-width=\"0.50\">\n",
       "\t<path d=\"M559.1,393.6 L559.1,385.2 M559.1,39.1 L559.1,47.5  \" stroke=\"black\"/>\t<g fill=\"rgb(0,0,0)\" font-family=\"{}\" font-size=\"10.00\" stroke=\"none\" text-anchor=\"middle\" transform=\"translate(559.1,409.3)\">\n",
       "\t\t<text><tspan font-family=\"{}\">2020</tspan></text>\n",
       "\t</g>\n",
       "</g>\n",
       "<g color=\"black\" fill=\"none\" stroke=\"currentColor\" stroke-linecap=\"butt\" stroke-linejoin=\"miter\" stroke-width=\"0.50\">\n",
       "</g>\n",
       "<g color=\"black\" fill=\"none\" stroke=\"currentColor\" stroke-linecap=\"butt\" stroke-linejoin=\"miter\" stroke-width=\"0.50\">\n",
       "\t<path d=\"M48.4,39.1 L48.4,393.6 L559.1,393.6 L559.1,39.1 L48.4,39.1 Z  \" stroke=\"black\"/></g>\n",
       "<g color=\"black\" fill=\"none\" stroke=\"currentColor\" stroke-linecap=\"butt\" stroke-linejoin=\"miter\" stroke-width=\"0.50\">\n",
       "\t<g fill=\"rgb(0,0,0)\" font-family=\"{}\" font-size=\"10.00\" stroke=\"none\" text-anchor=\"middle\" transform=\"translate(12.5,216.4) rotate(-90)\">\n",
       "\t\t<text><tspan font-family=\"{}\">avg anomaly (Centigrade) in the US</tspan></text>\n",
       "\t</g>\n",
       "</g>\n",
       "<g color=\"black\" fill=\"none\" stroke=\"currentColor\" stroke-linecap=\"butt\" stroke-linejoin=\"miter\" stroke-width=\"0.50\">\n",
       "\t<g fill=\"rgb(0,0,0)\" font-family=\"{}\" font-size=\"10.00\" stroke=\"none\" text-anchor=\"middle\" transform=\"translate(303.7,427.3)\">\n",
       "\t\t<text><tspan font-family=\"{}\">year</tspan></text>\n",
       "\t</g>\n",
       "</g>\n",
       "<g color=\"black\" fill=\"none\" stroke=\"currentColor\" stroke-linecap=\"butt\" stroke-linejoin=\"miter\" stroke-width=\"0.50\">\n",
       "\t<g fill=\"rgb(0,0,0)\" font-family=\"{}\" font-size=\"10.00\" stroke=\"none\" text-anchor=\"middle\" transform=\"translate(303.7,21.8)\">\n",
       "\t\t<text><tspan font-family=\"{}\">average US temperature anomaly by year</tspan></text>\n",
       "\t</g>\n",
       "</g>\n",
       "<g color=\"black\" fill=\"none\" stroke=\"currentColor\" stroke-linecap=\"butt\" stroke-linejoin=\"miter\" stroke-width=\"0.50\">\n",
       "</g>\n",
       "\t<g id=\"gnuplot_plot_1a\"><title>gnuplot_plot_1a</title>\n",
       "<g color=\"black\" fill=\"none\" stroke=\"currentColor\" stroke-linecap=\"butt\" stroke-linejoin=\"miter\" stroke-width=\"0.50\">\n",
       "\t<path d=\"M116.5,314.5 L120.7,385.5 L125.0,269.3 L129.3,278.1 L133.5,302.0 L137.8,147.0 L142.0,237.8 L146.3,270.5   L150.5,349.9 L154.8,241.9 L159.1,288.7 L163.3,258.1 L167.6,268.6 L171.8,336.1 L176.1,240.8 L180.3,145.3   L184.6,263.4 L188.8,195.0 L193.1,170.4 L197.4,260.9 L201.6,267.5 L205.9,284.1 L210.1,181.4 L214.4,192.4   L218.6,284.3 L222.9,206.6 L227.1,256.6 L231.4,259.1 L235.7,241.1 L239.9,277.3 L244.2,193.5 L248.4,266.7   L252.7,257.1 L256.9,239.5 L261.2,319.5 L265.4,320.6 L269.7,225.6 L274.0,176.1 L278.2,179.2 L282.5,247.9   L286.7,233.2 L291.0,252.3 L295.2,277.4 L299.5,264.5 L303.8,293.0 L308.0,267.7 L312.3,262.5 L316.5,239.4   L320.8,255.2 L325.0,280.7 L329.3,300.2 L333.5,285.1 L337.8,290.4 L342.1,287.6 L346.3,281.9 L350.6,265.8   L354.8,308.0 L359.1,229.6 L363.3,252.8 L367.6,270.0 L371.8,284.7 L376.1,222.6 L380.4,321.6 L384.6,338.3   L388.9,241.6 L393.1,197.6 L397.4,290.7 L401.6,258.9 L405.9,246.6 L410.1,296.4 L414.4,194.6 L418.7,164.0   L422.9,229.4 L427.2,285.4 L431.4,173.8 L435.7,191.1 L439.9,246.8 L444.2,301.3 L448.4,221.3 L452.7,237.7   L457.0,300.8 L461.2,261.4 L465.5,111.8 L469.7,143.4 L474.0,194.5 L478.2,163.2 L482.5,196.6 L486.8,210.0   L491.0,209.3 L495.3,163.1 L499.5,124.1 L503.8,170.0 L508.0,257.9 L512.3,254.1 L516.5,194.8 L520.8,186.1   L525.1,67.4 L529.3,258.0 L533.6,283.8 L537.8,151.9  \" stroke=\"rgb(  0,   0, 255)\"/></g>\n",
       "\t</g>\n",
       "<g color=\"white\" fill=\"none\" stroke=\"rgb(  0,   0, 255)\" stroke-linecap=\"butt\" stroke-linejoin=\"miter\" stroke-width=\"2.00\">\n",
       "</g>\n",
       "<g color=\"black\" fill=\"none\" stroke=\"currentColor\" stroke-linecap=\"butt\" stroke-linejoin=\"miter\" stroke-width=\"2.00\">\n",
       "</g>\n",
       "<g color=\"black\" fill=\"none\" stroke=\"black\" stroke-linecap=\"butt\" stroke-linejoin=\"miter\" stroke-width=\"0.50\">\n",
       "</g>\n",
       "<g color=\"black\" fill=\"none\" stroke=\"currentColor\" stroke-linecap=\"butt\" stroke-linejoin=\"miter\" stroke-width=\"0.50\">\n",
       "</g>\n",
       "</g>\n",
       "</svg>"
      ],
      "text/plain": [
       "<IPython.core.display.SVG object>"
      ]
     },
     "metadata": {},
     "output_type": "display_data"
    }
   ],
   "source": [
    "plot( my_years, average_US_anomaly_by_year )\n",
    "xlabel('year')\n",
    "ylabel('avg anomaly (Centigrade) in the US')\n",
    "title('average US temperature anomaly by year')"
   ]
  },
  {
   "cell_type": "code",
   "execution_count": null,
   "metadata": {
    "collapsed": true
   },
   "outputs": [],
   "source": []
  }
 ],
 "metadata": {
  "kernelspec": {
   "display_name": "Octave",
   "language": "octave",
   "name": "octave"
  },
  "language_info": {
   "file_extension": ".m",
   "help_links": [
    {
     "text": "MetaKernel Magics",
     "url": "https://github.com/calysto/metakernel/blob/master/metakernel/magics/README.md"
    }
   ],
   "mimetype": "text/x-octave",
   "name": "octave",
   "version": "0.16.0"
  }
 },
 "nbformat": 4,
 "nbformat_minor": 0
}
