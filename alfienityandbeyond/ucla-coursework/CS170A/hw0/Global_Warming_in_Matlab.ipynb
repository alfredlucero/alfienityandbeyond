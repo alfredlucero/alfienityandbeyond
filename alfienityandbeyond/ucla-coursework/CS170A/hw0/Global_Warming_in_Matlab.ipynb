{
 "cells": [
  {
   "cell_type": "markdown",
   "metadata": {},
   "source": [
    "# GHCN Temperature anomaly dataset analysis -- in Matlab"
   ]
  },
  {
   "cell_type": "markdown",
   "metadata": {},
   "source": [
    "GHCN is a large matrix of global historical temperature data, from 1880 to 2016\n",
    "(it is freely available; we downloaded it from <a href=\"ftp://ftp.ncdc.noaa.gov/pub/data/ghcn/v3/grid/\">ftp://ftp.ncdc.noaa.gov/pub/data/ghcn/v3/grid/</a>).\n",
    "A not-very-easy-to-read technical paper describing the dataset is at\n",
    "<a href=\"http://onlinelibrary.wiley.com/doi/10.1029/2011JD016187/pdf\">http://onlinelibrary.wiley.com/doi/10.1029/2011JD016187/pdf</a>).\n",
    "\n",
    "The data stores values for the whole globe using a grid, which has a resolution of $5^{\\circ} \\times 5^{\\circ}$.\n",
    "In other words, the grid has 36 rows (for latitude) and 72 columns (for longitude).\n",
    "Although the earth is spherical and a $36 \\times 72$ rectangular grid introduces distortion,\n",
    "for this problem we will follow this approach.\n",
    "\n",
    "The GHCN dataset covers $2016 - 1880 + 1 = 137$ years, with 12 months per year.\n",
    "So the data set contains $137 \\times 12$ grids.\n",
    "The <tt>ghcn.csv</tt> file storing the data is basically a $(36 \\times 12 \\times 137) \\times 72$ matrix of temperature values.\n",
    "It is stored as a 2D matrix of size $(36 \\times 12 \\times 137) \\times 72$ matrix, along with two initial columns giving the year and month.\n",
    "\n",
    "The script <tt>ghcn_script.py</tt> reads in the data file and reshapes it for you\n",
    "into a 4D matrix of size $36 \\times 12 \\times 137 \\times 72$.\n",
    "\n",
    "Actually, the GHCN data gives \"anomaly\" values instead of temperature values.\n",
    "That is, it gives values of how far the temperature was from normal in that grid square in that month.\n",
    "Positive values are above normal; all values are in Celsius.\n",
    "(Why does it give anomaly values only?  The paper explains why computing actual temperatures is much harder.)\n",
    "\n",
    "The point of this dataset in the assignment is that it permits us to use \"slices\" to do a lot of work.\n",
    "For example, it turns out the coordinates of most of the continental U.S. are the rectangle\n",
    "with rows 9:12 and columns 14:20  [in Python these are 8:11 and 13:19].\n",
    "\n",
    "\n",
    "-- D.S. Parker, Fall 2016."
   ]
  },
  {
   "cell_type": "code",
   "execution_count": null,
   "metadata": {
    "collapsed": true
   },
   "outputs": [],
   "source": [
    "GHCN = csvread('ghcn.csv');\n",
    "\n",
    "%   The data was artificially shifted to [0, 4500];\n",
    "%     its range should be [-2500, +2000]/100 = [-25,+20], in degrees Centigrade.\n",
    "%     Since our focus here is on warming, we ignore temperatures below -5.\n",
    "%   We omit the year and month in columns 1:2 before scaling:\n",
    "\n",
    "GHCN_in_centigrade  = (GHCN(:,3:74) - 2500) / 100;"
   ]
  },
  {
   "cell_type": "code",
   "execution_count": null,
   "metadata": {
    "collapsed": false
   },
   "outputs": [],
   "source": [
    "temperature_anomaly = reshape( GHCN_in_centigrade, [36, 12, 137, 72] );   % convert to a 4D matrix, so we can use slices\n",
    "size( temperature_anomaly )"
   ]
  },
  {
   "cell_type": "code",
   "execution_count": null,
   "metadata": {
    "collapsed": false
   },
   "outputs": [],
   "source": [
    "number_of_all_GHCN_values = prod(size( temperature_anomaly ))\n",
    "number_of_all_GHCN_values"
   ]
  },
  {
   "cell_type": "code",
   "execution_count": null,
   "metadata": {
    "collapsed": true
   },
   "outputs": [],
   "source": [
    "missing_values = (temperature_anomaly == -25);\n",
    "number_of_missing_values = sum(sum(sum(sum( missing_values ))));"
   ]
  },
  {
   "cell_type": "code",
   "execution_count": null,
   "metadata": {
    "collapsed": false
   },
   "outputs": [],
   "source": [
    "maximum_anomaly_value = max(max(max(max( temperature_anomaly ))))\n",
    "minimum_anomaly_value = min(min(min(min( temperature_anomaly .*  (~ missing_values) ))))  %  '~' is 'not' in MATLAB"
   ]
  },
  {
   "cell_type": "code",
   "execution_count": null,
   "metadata": {
    "collapsed": false
   },
   "outputs": [],
   "source": [
    "US_latitude  = 9:12\n",
    "US_longitude = 15:20\n",
    "my_years = 1916:2015\n",
    "my_slice = temperature_anomaly( US_latitude, :, my_years - 1880 + 1, US_longitude );"
   ]
  },
  {
   "cell_type": "code",
   "execution_count": null,
   "metadata": {
    "collapsed": false
   },
   "outputs": [],
   "source": [
    "total_number_of_grid_squares = length(US_latitude) * length(US_longitude) * 12\n",
    "N = total_number_of_grid_squares"
   ]
  },
  {
   "cell_type": "code",
   "execution_count": null,
   "metadata": {
    "collapsed": false
   },
   "outputs": [],
   "source": [
    "average_US_anomaly_by_year = reshape( sum(sum(sum( my_slice, 4),2),1), [length(my_years) 1] ) / N"
   ]
  },
  {
   "cell_type": "code",
   "execution_count": null,
   "metadata": {
    "collapsed": false
   },
   "outputs": [],
   "source": [
    "plot( my_years, average_US_anomaly_by_year )\n",
    "xlabel('year')\n",
    "ylabel('avg anomaly (Centigrade) in the US')\n",
    "title('average US temperature anomaly by year')"
   ]
  },
  {
   "cell_type": "code",
   "execution_count": null,
   "metadata": {
    "collapsed": true
   },
   "outputs": [],
   "source": []
  }
 ],
 "metadata": {
  "kernelspec": {
   "display_name": "Matlab",
   "language": "matlab",
   "name": "matlab"
  },
  "language_info": {
   "file_extension": ".m",
   "help_links": [
    {
     "text": "MetaKernel Magics",
     "url": "https://github.com/calysto/metakernel/blob/master/metakernel/magics/README.md"
    }
   ],
   "mimetype": "text/x-matlab",
   "name": "matlab",
   "version": "0.11.0"
  }
 },
 "nbformat": 4,
 "nbformat_minor": 0
}
