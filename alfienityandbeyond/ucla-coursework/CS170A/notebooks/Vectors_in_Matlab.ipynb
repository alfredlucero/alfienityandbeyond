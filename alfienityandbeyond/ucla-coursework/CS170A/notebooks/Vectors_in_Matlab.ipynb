{
 "cells": [
  {
   "cell_type": "markdown",
   "metadata": {},
   "source": [
    "# Vectors in Matlab\n",
    "\n",
    "When using a Notebook, remember to use shift-return to execute each cell."
   ]
  },
  {
   "cell_type": "markdown",
   "metadata": {},
   "source": [
    "<b>This is a Matlab notebook.  All commands are Matlab commands.</b>\n",
    "\n",
    "For this notebook to execute Matlab commands in Jupyter on your machine,\n",
    "you must first:\n",
    "<ul><li>install Matlab (from <a target=\"_blank\" href=\"http://mathworks.com/academic/student_version\">MathWorks</a></li>\n",
    "<li>install the Matlab kernel for Jupyter\n",
    "<blockquote><pre>\n",
    "sudo   pip install matlab_kernel\n",
    "sudo   python  -m  matlab_kernel  install\n",
    "</pre></blockquote>\n",
    "For more information see:  <a target=\"_blank\" href=\"https://pypi.python.org/pypi/matlab_kernel\">pypi.python.org/pypi/matlab_kernel</a>\n",
    "</li>\n",
    "</ul>"
   ]
  },
  {
   "cell_type": "code",
   "execution_count": null,
   "metadata": {
    "collapsed": false
   },
   "outputs": [],
   "source": [
    "n = 20;                                                                                                                                               \n",
    "                                                                                                                                                      \n",
    "t = linspace(0, 2*pi, n);  %  n points in a linear sequence, starting at 0, ending at 2*pi                                                            \n",
    "t = (0:(n-1)) * 2*pi/n;                                                                                                                               \n",
    "                                                                                                                                                      \n",
    "x1 = cos(t);                                                                                                                                          \n",
    "x2 = sin(t);                                                                                                                                          \n",
    "                                                                                                                                                      \n",
    "plot(x1,x2, 'b.')                                                                                                                                     \n",
    "axis equal    %  axis equal == make x and y axes the same scale (i.e., aspect ratio = 1.0)           "
   ]
  },
  {
   "cell_type": "markdown",
   "metadata": {},
   "source": [
    "## Fancier plot: draw vectors (arrows) for each point on the circle"
   ]
  },
  {
   "cell_type": "code",
   "execution_count": null,
   "metadata": {
    "collapsed": false
   },
   "outputs": [],
   "source": [
    "plot(x1,x2, 'b.')                                                                                                                                     \n",
    "axis equal                                                                                                                                            \n",
    "                                                                                                                                                      \n",
    "hold on            %  hold on == \"superimpose another plot on the current figure\"                                                                     \n",
    "for i=1:n                                                                                                                                             \n",
    "   quiver( 0,0, x1(i), x2(i), 'b' );  % draw an arrow from (0,0) to v = (x1(i),x2(i))                                                                 \n",
    "end                                                                                                                                                   \n",
    "hold off"
   ]
  },
  {
   "cell_type": "markdown",
   "metadata": {},
   "source": [
    "## Define a function for plotting vectors, and make it even prettier"
   ]
  },
  {
   "cell_type": "code",
   "execution_count": null,
   "metadata": {
    "collapsed": false
   },
   "outputs": [],
   "source": [
    "% function:  draw an arrow from (0,0) to v = (v1,v2)                                                                                                  \n",
    "                                                                                                                                                      \n",
    "drawvector = @(v1, v2, color)  quiver(0,0, v1,v2, 0,color, 'MaxHeadSize',0.05 )                                                                       \n",
    "% the MaxHeadSize option makes the arrow heads smaller                                                                                                \n",
    "                                                                                                                                                      \n",
    "plot(x1,x2, 'b.')                                                                                                                                     \n",
    "axis equal                                                                                                                                            \n",
    "                                                                                                                                                      \n",
    "hold on                                                                                                                                               \n",
    "for i=1:n                                                                                                                                             \n",
    "   drawvector( x1(i), x2(i), 'b' );                                                                                                                   \n",
    "end                                                                                                                                                   \n",
    "hold off"
   ]
  },
  {
   "cell_type": "code",
   "execution_count": null,
   "metadata": {
    "collapsed": false
   },
   "outputs": [],
   "source": [
    "t = linspace(0, 2*pi, n);                                                                                                                             \n",
    "                                                                                                                                                      \n",
    "x1 = cos(t);                                                                                                                                          \n",
    "x2 = sin(t);                                                                                                                                          \n",
    "                                                                                                                                                      \n",
    "z = zeros(n,1);                                                                                                                                       \n",
    "                                                                                                                                                      \n",
    "plot(x1,x2, 'b.')                                                                                                                                     \n",
    "axis equal                                                                                                                                            \n",
    "                                                                                                                                                      \n",
    "hold on                                                                                                                                               \n",
    "quiver( z, z, x1, x2, 0, 'b', 'MaxHeadSize',0.04, 'LineWidth',0.75 )  % thinner lines                                                                 \n",
    "hold off"
   ]
  },
  {
   "cell_type": "markdown",
   "metadata": {},
   "source": [
    "## Now translate each vector in the circle by a linear transformation"
   ]
  },
  {
   "cell_type": "code",
   "execution_count": null,
   "metadata": {
    "collapsed": false
   },
   "outputs": [],
   "source": [
    "x = [ x1 ; x2 ];\n",
    "\n",
    "A = [1.8 0.6 ; 0.6 0.7];  %  or any 2x2 matrix you want\n",
    "\n",
    "Ax = A * x;\n",
    "\n",
    "Ax1 = Ax(1,:);\n",
    "Ax2 = Ax(2,:);\n",
    "\n",
    "\n",
    "plot(x1,x2, 'b.')\n",
    "axis equal\n",
    "hold on\n",
    "\n",
    "quiver( z, z, x1, x2, 0, 'b', 'MaxHeadSize',0.04, 'LineWidth',0.75 )\n",
    "\n",
    "plot(Ax1, Ax2, 'r.')\n",
    "\n",
    "quiver( z, z, Ax1, Ax2, 0, 'r', 'MaxHeadSize',0.04, 'LineWidth',0.75 )\n",
    "\n",
    "hold off"
   ]
  },
  {
   "cell_type": "code",
   "execution_count": null,
   "metadata": {
    "collapsed": false
   },
   "outputs": [],
   "source": [
    "plot(x1,x2, 'b.')\n",
    "axis equal\n",
    "\n",
    "hold on\n",
    "\n",
    "plot(Ax1, Ax2, 'r.')\n",
    "\n",
    "quiver( x1, x2, Ax1-x1, Ax2-x2, 0, 'm', 'MaxHeadSize',0.04, 'LineWidth',0.75 )\n",
    "% plot the change from x to A*x -- with magenta arrows\n",
    "\n",
    "hold off"
   ]
  },
  {
   "cell_type": "markdown",
   "metadata": {},
   "source": [
    "## Fancy diagram..."
   ]
  },
  {
   "cell_type": "code",
   "execution_count": null,
   "metadata": {
    "collapsed": false
   },
   "outputs": [],
   "source": [
    "A = [1.8 0.6 ; 0.6 0.7];\n",
    "n = 4;\n",
    "\n",
    "xtext  = { '(1,0)', '(0,1)', '(-1,0)',  '(0,-1)'  };\n",
    "Axtext = { '(a,c)', '(b,d)', '(-a,-c)', '(-b,-d)' };\n",
    "\n",
    "t = linspace(0, 2*pi, n);\n",
    "t = (0:(n-1)) * 2*pi/n;\n",
    "x1 = cos(t);\n",
    "x2 = sin(t);\n",
    "x = [ x1 ; x2 ];\n",
    "Ax = A * x;\n",
    "Ax1 = Ax(1,:);\n",
    "Ax2 = Ax(2,:);\n",
    "xmax = max( 1.5, max(abs(Ax1))+0.5 );\n",
    "ymax = max( 1.5, max(abs(Ax2))+0.5 );\n",
    "drawvector = @(v,c,t,dx,dy) {quiver(0,0,v(1),v(2), 0,c, 'MaxHeadSize',0.04, 'LineWidth',2.5 ), ...\n",
    "                             text( v(1) + dx, v(2) + dy, t )} ;\n",
    "drawtranslation = @(x1,x2,y1,y2,c)  quiver(x1,x2,(y1-x1),(y2-x2), 0,c, ...\n",
    "                             'LineWidth',0.75, 'MaxHeadSize',0.04);\n",
    "\n",
    "hold on\n",
    "axis([-xmax xmax -ymax ymax])\n",
    "axis equal\n",
    "xlabel('translation by A of individual unit vectors is shown with magenta arrows')\n",
    "for i=1:n\n",
    "   drawtranslation( x1(i),x2(i),  Ax1(i),Ax2(i), 'm' );\n",
    "   text( (x1(i)+Ax1(i))*0.57, (x2(i)+Ax2(i))*0.57, 'A', 'Color', 'm' );\n",
    "   drawvector(  x(:,i), 'b',  xtext(i), x1(i)*0.25-0.15, x2(i)*0.15  );\n",
    "   drawvector( Ax(:,i), 'r', Axtext(i), x1(i)*0.25-0.15, x2(i)*0.15  );\n",
    "end\n",
    "text(  1.15, 1.35, 'A = [ a b ]')\n",
    "text(  1.23, 1.20, '    [ c d ]')\n",
    "hold off\n"
   ]
  },
  {
   "cell_type": "markdown",
   "metadata": {},
   "source": [
    "## Vector Projection"
   ]
  },
  {
   "cell_type": "code",
   "execution_count": null,
   "metadata": {
    "collapsed": false
   },
   "outputs": [],
   "source": [
    "u = [7.68 ; 2.24]\n",
    "\n",
    "v = [3 ; 4]\n",
    "\n",
    "lambda = (u' * v) / (u' * u)   %  = length of projection of v onto u\n",
    "\n",
    "vector_projection_of_v_onto_u  =  lambda * u\n"
   ]
  },
  {
   "cell_type": "markdown",
   "metadata": {},
   "source": [
    "## Fancy diagram..."
   ]
  },
  {
   "cell_type": "code",
   "execution_count": null,
   "metadata": {
    "collapsed": false
   },
   "outputs": [],
   "source": [
    "u = [7.68 ; 2.24]\n",
    "v = [3 ; 4]\n",
    "origin = [0; 0]\n",
    "\n",
    "figure\n",
    "axis([-1 9 -1 6])\n",
    "axis equal\n",
    "hold on\n",
    "plot([-1;8], [0;0] )  % x-axis\n",
    "plot([0;0],  [-1;5])  % y-axis\n",
    "text(6.1,2.7, sprintf('u  =  [%4.2f, %4.2f]', u(1),u(2)))\n",
    "text(3.1,4.2, sprintf('v  =  [%4.2f, %4.2f]', v(1),v(2)))\n",
    "title('projection of v onto u')\n",
    "\n",
    "lambda = (u' * v) / (u' * u)\n",
    "w = lambda * u\n",
    "\n",
    "drawvector = @(o,v,c)  quiver(o(1),o(2),v(1),v(2),0, c, 'MaxHeadSize',0.04,'LineWidth',2 )\n",
    "drawvector( origin, u, 'r'  )\n",
    "drawvector( origin, v, 'b'  )\n",
    "drawvector( w,    v-w, 'm.' )\n",
    "pause(5)\n",
    "text(2.0,5.0, sprintf('lambda  =  ( <u,v> / <u,u> )  =  %4.2f', lambda))\n",
    "text(4.0,0.9, sprintf('w  =  lambda  u  =  %4.2f  u', lambda))\n",
    "text(4.0,0.5, sprintf('w  =  [%4.2f, %4.2f]', w(1),w(2)))\n",
    "text(3.7,2.5, '3')\n",
    "text(2.4,1.0, '4')\n",
    "text(1.4,2.5, '5')\n",
    "epsilon = 0.03;\n",
    "drawvector( origin+epsilon, w+epsilon, 'm'  )\n",
    "hold off\n"
   ]
  },
  {
   "cell_type": "markdown",
   "metadata": {},
   "source": [
    "## Vector Length (and Norm)"
   ]
  },
  {
   "cell_type": "code",
   "execution_count": null,
   "metadata": {
    "collapsed": false
   },
   "outputs": [],
   "source": [
    "u = [7.68 ; 2.24]\n",
    "\n",
    "v = [3 ; 4]\n",
    "\n",
    "disp(sprintf('length of u =? %f', u' * u ))\n",
    "disp(sprintf('norm of u = %f', norm(u)))\n",
    "\n",
    "\n",
    "disp(sprintf('length of v =? %f', v' * v ))\n",
    "disp(sprintf('norm of v = %f', norm(v)))"
   ]
  },
  {
   "cell_type": "markdown",
   "metadata": {},
   "source": [
    "## Incorrect mathematical definition of vector norm\n",
    "\n",
    "$$norm(v) ~=~ <v,v> ~=~ v' * v ~=~ \\sum_{i=1}^n ~ \\overline{v_i} ~ v_i ~$$\n",
    "\n",
    "Why is this definition incorrect?"
   ]
  },
  {
   "cell_type": "markdown",
   "metadata": {},
   "source": [
    "## Discretized Functions"
   ]
  },
  {
   "cell_type": "code",
   "execution_count": null,
   "metadata": {
    "collapsed": false
   },
   "outputs": [],
   "source": [
    "n = 100;\n",
    "x = linspace(0, 4*pi, n);   %  x  =  vector of samples\n",
    "\n",
    "f = @sin;                   %  f  =  sin\n",
    "fx = sin(x);                %  fx is a discretized version of f\n",
    "\n",
    "plot( x, fx, 'b.-' )"
   ]
  },
  {
   "cell_type": "markdown",
   "metadata": {},
   "source": [
    "## Multiple views (subplots)"
   ]
  },
  {
   "cell_type": "code",
   "execution_count": null,
   "metadata": {
    "collapsed": false
   },
   "outputs": [],
   "source": [
    "n = 100;\n",
    "x = linspace(0, 4*pi, n);   %  x  =  vector of samples\n",
    "\n",
    "f = @sin;                   %  f  =  sin\n",
    "fx = sin(x);                %  fx = discretized f\n",
    "\n",
    "subplot(3,1, 1)             %  1st of 3 plots\n",
    "plot( x, fx, 'b.-' )\n",
    "\n",
    "subplot(3,1, 2)             %  2nd of 3 plots\n",
    "plot( x, [diff(fx) 0], 'r.-')\n",
    "\n",
    "subplot(3,1, 3)             %  3rd of 3 plots\n",
    "deltax = x(2) - x(1)\n",
    "plot( x, fx, 'b.-',   x, [diff(fx)/deltax 0], 'r.-')\n"
   ]
  },
  {
   "cell_type": "markdown",
   "metadata": {},
   "source": [
    "## Rotations"
   ]
  },
  {
   "cell_type": "code",
   "execution_count": null,
   "metadata": {
    "collapsed": false
   },
   "outputs": [],
   "source": [
    "Rotation = @(t) [ cos(t) -sin(t) ; sin(t) cos(t) ]   %  define a function that returns a rotation matrix\n",
    "\n",
    "theta = pi/2\n",
    "\n",
    "R_theta = Rotation(theta)\n",
    "\n",
    "R_theta_minus_theta = Rotation(theta) * Rotation(-theta)\n",
    "\n",
    "R_theta_plus_theta = Rotation(theta) * Rotation(theta)\n",
    "\n",
    "R_two_theta = Rotation(2 * theta)\n",
    "\n",
    "phi = pi/4\n",
    "\n",
    "R_theta_phi = Rotation(theta) * Rotation(phi)\n"
   ]
  },
  {
   "cell_type": "code",
   "execution_count": null,
   "metadata": {
    "collapsed": true
   },
   "outputs": [],
   "source": []
  }
 ],
 "metadata": {
  "anaconda-cloud": {},
  "kernelspec": {
   "display_name": "Matlab",
   "language": "matlab",
   "name": "matlab"
  },
  "language_info": {
   "codemirror_mode": "octave",
   "file_extension": ".m",
   "help_links": [
    {
     "text": "MetaKernel Magics",
     "url": "https://github.com/calysto/metakernel/blob/master/metakernel/magics/README.md"
    }
   ],
   "mimetype": "text/x-octave",
   "name": "matlab",
   "version": "0.11.0"
  }
 },
 "nbformat": 4,
 "nbformat_minor": 0
}
