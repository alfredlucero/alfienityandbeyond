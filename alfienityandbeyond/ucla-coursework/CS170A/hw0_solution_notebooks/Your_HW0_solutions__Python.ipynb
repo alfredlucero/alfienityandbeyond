{
 "cells": [
  {
   "cell_type": "markdown",
   "metadata": {},
   "source": [
    "# CS170A -- HW#0 -- Solution form -- Python"
   ]
  },
  {
   "cell_type": "markdown",
   "metadata": {},
   "source": [
    "Your name:  ______________________\n",
    "\n",
    "Your UID:  _________\n",
    "\n",
    "<b>Please upload only this notebook to CCLE by the deadline.</b>\n",
    "\n",
    "<b>Policy for late submission of solutions:</b>  We will use Paul Eggert's Late\n",
    "Policy: $N$ days late $\\Leftrightarrow$ $2^N$ points deducted}\n",
    "The number of days late is $N=0$\n",
    "for the first 24 hrs, $N=1$ for the next 24 hrs, etc., and if you submit\n",
    "an assignment $H$ hours late, $2^{\\lfloor H/24\\rfloor}$ points are\n",
    "deducted."
   ]
  },
  {
   "cell_type": "markdown",
   "metadata": {},
   "source": [
    "## Problem 1:  Images (30 points)"
   ]
  },
  {
   "cell_type": "markdown",
   "metadata": {},
   "source": [
    "<b>(a) color-to-grayscale transformation:</b>\n",
    "<br/>\n",
    "include both your function <tt>grayscale(A)</tt>\n",
    "and its result where <tt>A</tt> the RGB Mandrill image."
   ]
  },
  {
   "cell_type": "code",
   "execution_count": null,
   "metadata": {
    "collapsed": true
   },
   "outputs": [],
   "source": [
    "def grayscale(A):\n",
    "       return None"
   ]
  },
  {
   "cell_type": "markdown",
   "metadata": {},
   "source": [
    "<b>(b) image saturation and oversaturation:</b>\n",
    "<br/>\n",
    "include both your function <tt>saturate(A,t)</tt>\n",
    "and its result where <tt>A</tt> the RGB Mandrill image, when t=0.25.\n"
   ]
  },
  {
   "cell_type": "code",
   "execution_count": 2,
   "metadata": {
    "collapsed": true
   },
   "outputs": [],
   "source": [
    "def saturate(A,t):\n",
    "       return None"
   ]
  },
  {
   "cell_type": "markdown",
   "metadata": {},
   "source": [
    "<b>(c) image brightening:</b>\n",
    "<br/>\n",
    "include both your function <tt>brighten(A,t)</tt>\n",
    "and its result where <tt>A</tt> the RGB Mandrill image, when t=0.25."
   ]
  },
  {
   "cell_type": "code",
   "execution_count": null,
   "metadata": {
    "collapsed": true
   },
   "outputs": [],
   "source": [
    "def brighten(A,t):\n",
    "       return None"
   ]
  },
  {
   "cell_type": "markdown",
   "metadata": {},
   "source": [
    "## Problem 2: Color Models  (30 points)"
   ]
  },
  {
   "cell_type": "markdown",
   "metadata": {},
   "source": [
    "<b>(a) RGB to YCbCr(R,G,B):</b>\n",
    "<br/>\n",
    "Prove that the result of <tt>RGB to YCbCr(R,G,B)</tt>\n",
    "are all in the range 0 t 255, provided R, G, and B are."
   ]
  },
  {
   "cell_type": "code",
   "execution_count": null,
   "metadata": {
    "collapsed": true
   },
   "outputs": [],
   "source": []
  },
  {
   "cell_type": "markdown",
   "metadata": {},
   "source": [
    "<b>(b) RGB to CMY(R,G,B):</b>\n",
    "<br/>\n",
    "Develop a similar kind of function <tt>RGB_to_CMY(R,G,B)</tt>\n",
    "for converting RGB to CMY values."
   ]
  },
  {
   "cell_type": "code",
   "execution_count": null,
   "metadata": {
    "collapsed": true
   },
   "outputs": [],
   "source": []
  },
  {
   "cell_type": "markdown",
   "metadata": {},
   "source": [
    "<b>(c) CMY Mandrill:</b>\n",
    "<br/>\n",
    "Show your result of <tt>RGB_to_CMY()</tt> for the Mandrill image by rendering it in RGB.\n",
    "(Please display the image in RGB -- with Cyan as Red, Magenta as Green, Yellow as Blue.)"
   ]
  },
  {
   "cell_type": "code",
   "execution_count": null,
   "metadata": {
    "collapsed": true
   },
   "outputs": [],
   "source": []
  },
  {
   "cell_type": "markdown",
   "metadata": {},
   "source": [
    "## Problem 3: Rotations  (20 points)"
   ]
  },
  {
   "cell_type": "markdown",
   "metadata": {},
   "source": [
    "The file <tt>rotations_and_reflections.m</tt> produces some 2x2 matrices,\n",
    "and shows how to define symbolic variables like $\\theta$.\n",
    "Using symbolic values, find a 3x3 matrix for $R_{123}(\\psi,\\theta,\\phi)$.\n",
    "(Hint: blkdiag might help.)"
   ]
  },
  {
   "cell_type": "code",
   "execution_count": null,
   "metadata": {
    "collapsed": true
   },
   "outputs": [],
   "source": []
  },
  {
   "cell_type": "markdown",
   "metadata": {},
   "source": [
    "## Problem 4: Slices  (20 points)"
   ]
  },
  {
   "cell_type": "markdown",
   "metadata": {},
   "source": [
    "<b>(a) Global Average Temperature Anomaly:</b>\n",
    "<br/>\n",
    "plot the average (non-missing-value) temperature anomaly over the entire grid,\n",
    "for every year from 1916 to 2015."
   ]
  },
  {
   "cell_type": "code",
   "execution_count": null,
   "metadata": {
    "collapsed": true
   },
   "outputs": [],
   "source": []
  },
  {
   "cell_type": "markdown",
   "metadata": {},
   "source": [
    "<b>(b) Global Warming:</b>\n",
    "<br/>\n",
    "Based on your plot, give your opinion on this question: is `global warming' real?"
   ]
  },
  {
   "cell_type": "code",
   "execution_count": null,
   "metadata": {
    "collapsed": true
   },
   "outputs": [],
   "source": []
  }
 ],
 "metadata": {
  "kernelspec": {
   "display_name": "Python [Root]",
   "language": "python",
   "name": "Python [Root]"
  },
  "language_info": {
   "codemirror_mode": {
    "name": "ipython",
    "version": 3
   },
   "file_extension": ".py",
   "mimetype": "text/x-python",
   "name": "python",
   "nbconvert_exporter": "python",
   "pygments_lexer": "ipython3",
   "version": "3.5.2"
  }
 },
 "nbformat": 4,
 "nbformat_minor": 0
}
