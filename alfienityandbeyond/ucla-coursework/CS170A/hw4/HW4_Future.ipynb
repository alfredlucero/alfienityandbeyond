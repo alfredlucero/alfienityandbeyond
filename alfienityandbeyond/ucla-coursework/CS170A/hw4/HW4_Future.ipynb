{
 "cells": [
  {
   "cell_type": "markdown",
   "metadata": {},
   "source": [
    "# CS170A -- HW#4 -- assignment and solution form -- Octave"
   ]
  },
  {
   "cell_type": "markdown",
   "metadata": {},
   "source": [
    "Your name:  ______________________\n",
    "\n",
    "Your UID:  _________\n",
    "\n",
    "<b>Please upload only this notebook to CCLE by the deadline.</b>\n",
    "\n",
    "<b>Policy for late submission of solutions:</b>  We will use Paul Eggert's Late\n",
    "Policy: $N$ days late $\\Leftrightarrow$ $2^N$ points deducted}\n",
    "The number of days late is $N=0$\n",
    "for the first 24 hrs, $N=1$ for the next 24 hrs, etc., and if you submit\n",
    "an assignment $H$ hours late, $2^{\\lfloor \\,H\\,/\\,24\\, \\rfloor}$ points are\n",
    "deducted."
   ]
  },
  {
   "cell_type": "code",
   "execution_count": null,
   "metadata": {
    "collapsed": true
   },
   "outputs": [],
   "source": []
  },
  {
   "cell_type": "markdown",
   "metadata": {},
   "source": [
    "## Problem 1:  Income Tax and Benford's Law"
   ]
  },
  {
   "cell_type": "markdown",
   "metadata": {},
   "source": [
    "For every presidential candidate (except Donald Trump), income tax returns have been filed prior to an election:\n",
    "<a href=\"http://www.taxhistory.org/www/website.nsf/Web/PresidentialTaxReturns?OpenDocument\">\n",
    "http://www.taxhistory.org/www/website.nsf/Web/PresidentialTaxReturns?OpenDocument</a>.\n",
    "\n",
    "Some of these returns are impressive.\n",
    "Mitt Romney's 2011 tax return was 379 pages long!\n",
    "Bernie Sanders' income is barely enough for his family to survive in Los Angeles!\n",
    "Hillary Clinton's income was the highest of the 2016 candidates except perhaps Trump.\n",
    "You can check\n",
    "<a href=\"http://www.taxhistory.org/thp/presreturns.nsf/Returns/FCA79776EFA029088525800D005A016C/$file/HR_Clinton_2015.pdf\">her 2015 income tax return</a>.)"
   ]
  },
  {
   "cell_type": "markdown",
   "metadata": {},
   "source": [
    "### 1.1  Hillary Clinton's 2014 and 2015 Income Tax returns\n",
    "\n",
    "In this assignment, take the files\n",
    "<tt>HR_Clinton_2014_tax_return_numbers.txt</tt>\n",
    "and\n",
    "<tt>HR_Clinton_2015_tax_return_numbers.txt</tt>\n",
    "listing numbers in Hillary's tax returns for the last 2 years.\n",
    "\n",
    "For each of these two files,\n",
    "determine (using the method in the Course Reader)\n",
    "whether the <i>unique</i> numbers in this file\n",
    "(please omit duplicates) violate Benford's Law."
   ]
  },
  {
   "cell_type": "code",
   "execution_count": null,
   "metadata": {
    "collapsed": true
   },
   "outputs": [],
   "source": []
  },
  {
   "cell_type": "markdown",
   "metadata": {},
   "source": [
    "### 1.2  Donald Trump's 1995 Income Tax return\n",
    "\n",
    "<a href=\"https://assets.documentcloud.org/documents/3117920/Pages-From-Donald-Trump-s-1995-Income-Tax-Returns.pdf\">\n",
    "3 pages of Donald Trump's 1995 Income Tax form</a>\n",
    "have been published by the <a href=\"http://www.nytimes.com\">New York Times</a>.\n",
    "\n",
    "The file <tt>DJ_Trump_1995_tax_return_numbers.txt</tt>\n",
    "lists numbers in this (partial) income tax return.\n",
    "\n",
    "Determine whether the unique numbers in this file violate Benford's Law."
   ]
  },
  {
   "cell_type": "code",
   "execution_count": null,
   "metadata": {
    "collapsed": true
   },
   "outputs": [],
   "source": []
  },
  {
   "cell_type": "markdown",
   "metadata": {},
   "source": [
    "## Problem 2: Regularization\n",
    "\n",
    "In the traditional least squares model ${\\bf y} \\,=\\, X {\\bf c}$,\n",
    "the vector of coefficients ${\\bf c}$ is often chosen to minimize the least squared error\n",
    "$$\n",
    "\\epsilon({\\bf c}) ~~=~~ ||{{\\bf y} ~-~ X {\\bf c}}||^2 .\n",
    "$$\n",
    "\n",
    "<!-- %%% \\item\n",
    "%%% Using a vector iteration like that for the Banana function in the text,\n",
    "%%% show how we can use Newton's method to obtain a least squares solution ${\\bf c}$\n",
    "%%% in the situation where the vector ${\\bf c}$ contains two coefficients $c_1$ and $c_2$.\n",
    "%%% -->\n",
    "We can add a <i>constraint</i> that requires\n",
    "<!-- %%% ${\\bf c} \\geq 0$, and/or requires that -->\n",
    "$||{{\\bf c}}||^2$ to be small.\n",
    "This is often implemented by adding a <b>regularization term</b> $R({\\bf c})$\n",
    "to the error that is very large for values of ${\\bf c}$ that violate the constraints.\n",
    "In this case the iteration seeks to minimize the <b>regularized problem</b>\n",
    "$$\n",
    "\\epsilon({\\bf c}) ~+~ R({\\bf c}) ~~=~~ ||{{\\bf y} ~-~ X {\\bf c}}||^2~+~ R({\\bf c}) .\n",
    "$$"
   ]
  },
  {
   "cell_type": "markdown",
   "metadata": {},
   "source": [
    "### 2.0 Get the data\n",
    "\n",
    "In the folder\n",
    "<a href=\"https://github.com/probml/pmtk3/tree/master/data/prostate\">prostate</a>\n",
    "is a file called <tt>prostate.csv</tt>\n",
    "(<a href=\"https://raw.githubusercontent.com/probml/pmtk3/master/data/prostate/prostate.csv\">the raw file</a>).\n",
    "\n",
    "Read in this file.  Omit the first column, since it contains row numbers."
   ]
  },
  {
   "cell_type": "code",
   "execution_count": null,
   "metadata": {
    "collapsed": true
   },
   "outputs": [],
   "source": []
  },
  {
   "cell_type": "markdown",
   "metadata": {},
   "source": [
    "### 2.1 Tikhonov regularization\n",
    "\n",
    "<b>Tikhonov regularization</b>\n",
    "$R({\\bf c}) = ||{T\\,{\\bf c}}||^2$ uses\n",
    "a covariance matrix $T$ that is chosen to scale the $\\bf{c}$ values properly.\n",
    "In this case we want to solve the Tikhonov regularized least squares problem,\n",
    "minimizing\n",
    "$$\n",
    "L({\\bf c},T) ~=~\n",
    "\\epsilon({\\bf c}) ~+~ R({\\bf c}) ~ ~=~ ~\n",
    "||{{\\bf y} ~-~ X {\\bf c}}||^2 ~+~ ||{T\\,{\\bf c}}||^2\n",
    "~ ~=~ ~\n",
    "\\left|\\left|{\n",
    "\\left({\\!\\!\n",
    "\\begin{array}{c}\n",
    "{\\bf y} \\\\\n",
    "{\\bf 0}\n",
    "\\end{array}\n",
    "\\!\\!}\\right)\n",
    "\\;-\\;\n",
    "\\left({\\!\\!\n",
    "\\begin{array}{c}\n",
    "X \\\\\n",
    "T\n",
    "\\end{array}\n",
    "\\!\\!}\\right)\n",
    "\\,\n",
    "{\\bf c}\n",
    "}\\right|\\right|^2 .\n",
    "$$\n",
    "To minimize the expression on the right, we need to find the least squares solution of:\n",
    "$$\n",
    "\\left({\n",
    "\\begin{array}{c}\n",
    "X \\\\\n",
    "T\n",
    "\\end{array}\n",
    "}\\right)\n",
    "~ {\\bf c}\n",
    "~ ~=~ ~\n",
    "\\left({\n",
    "\\begin{array}{c}\n",
    "{\\bf y} \\\\\n",
    "{\\bf 0}\n",
    "\\end{array}\n",
    "}\\right) .\n",
    "$$\n",
    "What are the <b>normal equations</b> for this equation\n",
    "that we can use to obtain the least squares solution?"
   ]
  },
  {
   "cell_type": "markdown",
   "metadata": {},
   "source": [
    "<b>My answer:</b>\n",
    "$$\n",
    "(...) {\\bf c}  ~=~  (...)\n",
    "$$"
   ]
  },
  {
   "cell_type": "markdown",
   "metadata": {},
   "source": [
    "From this equation give a formula for the <b>least squares solution</b> ${\\bf c}$:"
   ]
  },
  {
   "cell_type": "markdown",
   "metadata": {
    "collapsed": true
   },
   "source": [
    "<b>My answer:</b>\n",
    "$$\n",
    "{\\bf c} ~=~ ... ...\n",
    "$$"
   ]
  },
  {
   "cell_type": "markdown",
   "metadata": {},
   "source": [
    "### 2.2 Ridge Regression\n",
    "\n",
    "Ridge Regression is a popular form of this least squares problem\n",
    "when $T'\\,T \\,=\\, \\lambda\\,I$ for some $\\lambda \\geq 0$\n",
    "(so that $T'\\,T$ has a 'ridge' down the diagonal).\n",
    "As $\\lambda$ decreases to 0, the problem reduces to the ordinary least squares,\n",
    "while as $\\lambda$ grows large, $||{{\\bf c}}||$ becomes increasingly emphasized and minimization reduces it to zero.\n",
    "\n",
    "Assume that the singular values of $X$ are $\\sigma_1, \\ldots, \\sigma_p$.\n",
    "What are the singular values of $(X'\\,X ~+~ T'\\,T)$?"
   ]
  },
  {
   "cell_type": "code",
   "execution_count": null,
   "metadata": {
    "collapsed": true
   },
   "outputs": [],
   "source": [
    "<b>My answer:</b>\n",
    "We are assuming that $X$ has SVD $U S V'$, where $S$ is a diagonal matrix\n",
    "whose $i$-th singular value is $\\sigma_i$,\n",
    "so $(X' X)$ has SVD $V S'S V'$, with $i$-th singular value $\\sigma_i^2$.\n",
    "\n",
    "Therefore, since $T = \\lambda I$,\n",
    "and $V D V' = D$ for any constant diagonal matrix $D = \\lambda I$,\n",
    "the $i$-th singular value of $(X' X + T' T)$ is\n",
    "$$\n",
    "...... some formula involving \\sigma_i ......\n",
    "$$"
   ]
  },
  {
   "cell_type": "markdown",
   "metadata": {},
   "source": [
    "Also give the singular values of the <b>hat matrix</b>\n",
    "$$\n",
    "H_{\\lambda} \\,=\\, X\\, (X'\\,X \\,+\\, \\lambda \\,I)^{-1}\\,X' .\n",
    "$$"
   ]
  },
  {
   "cell_type": "markdown",
   "metadata": {
    "collapsed": true
   },
   "source": [
    "<u><b>My answer:</b></u>\n",
    "Again, we are assuming that $X$ has SVD $U S V'$, where $S$ has $i$-th singular value $\\sigma_i$,\n",
    "and $(X' X) = V S' S V'$ has $i$-th singular value $\\sigma_i^2$.\n",
    "\n",
    "Therefore, the $i$-th singular value of the hat matrix\n",
    "$H_{\\lambda} = X (X' X + \\lambda I)^{-1} X'$ is\n",
    "$$\n",
    "...... some formula involving \\sigma_i ......\n",
    "$$"
   ]
  },
  {
   "cell_type": "markdown",
   "metadata": {},
   "source": [
    "### 2.3 Degrees of Freedom\n",
    "\n",
    "Define <b>degrees of freedom</b> $\\mbox{df}(\\lambda) \\,=\\, \\mbox{trace}(\\,H_{\\lambda}\\,)$,\n",
    "where $H_{\\lambda}$ is the hat matrix.\n",
    "<!--\n",
    "%% when $T'\\,T \\,=\\, \\lambda I$,\n",
    "%% where $\\lambda > 0$.\n",
    "%% The regularization term encourages ${\\bf c}$ to be small.\n",
    "-->\n",
    "\n",
    "Give a formula for $\\mbox{df}(\\lambda)$ in terms of $\\lambda$ and the singular values of $X$:"
   ]
  },
  {
   "cell_type": "code",
   "execution_count": null,
   "metadata": {
    "collapsed": true
   },
   "outputs": [],
   "source": [
    "<u><b>My answer:</b></u>\n",
    "Assuming the $i$-th singular value of the hat matrix\n",
    "$H_{\\lambda} = X (X' X + \\lambda I)^{-1} X'$ is as in the previous answer,\n",
    "$$\n",
    "df(\\lambda) = ...... some formula involving \\sigma_i values ......\n",
    "$$"
   ]
  },
  {
   "cell_type": "markdown",
   "metadata": {},
   "source": [
    "Also give a formula for $\\mbox{df}(0)$:"
   ]
  },
  {
   "cell_type": "code",
   "execution_count": null,
   "metadata": {
    "collapsed": true
   },
   "outputs": [],
   "source": [
    "<u><b>My answer:</b></u>\n",
    "$$\n",
    "df(0) = ...... some formula involving \\sigma_i ......\n",
    "$$"
   ]
  },
  {
   "cell_type": "markdown",
   "metadata": {},
   "source": [
    "### 2.4  Actually computing regression coefficients for various values of $\\lambda$\n",
    "\n",
    "\n",
    "Using the prostate dataset,\n",
    "let ${\\bf y}$ be the vector <tt>lcavol</tt>,\n",
    "and let $X$ be the matrix with the other variables.\n",
    "\n",
    "Also normalize $X$ and ${\\bf y}$ (i.e., replace them by their z-scores), so that all columns have the same scale.\n",
    "\n",
    "Plot the value of the ridge regression coefficients ${\\bf c}$\n",
    "for all values of $\\lambda$ from 0 to $2 \\, ||{X' \\, X}||$."
   ]
  },
  {
   "cell_type": "code",
   "execution_count": null,
   "metadata": {
    "collapsed": true
   },
   "outputs": [],
   "source": [
    "% COMPLETE THIS CODE SO THAT IT PLOTS THE COEFFICIENTS c FOR VARIOUS VALUES OF lambda\n",
    "% AND INCLUDE THE PLOT IN THE OUTPUT YOU SUBMIT.\n",
    "\n",
    "max_lambda = round( 2 * norm(X' * X) )\n",
    "N = 100\n",
    "lambda_values = linspace( 0, max_lambda, N )\n",
    "c_values = zeros(p,N)\n",
    "colors = { 'r' 'g' 'b' 'c' 'm' 'y' 'k' }\n",
    "% varnames = { ... names of columns in X ... }\n",
    "\n",
    "for j=1:N\n",
    "   c_values(:,j) = ...\n",
    "end\n",
    "\n",
    "plot( lambda_values, c(1,:), colors(i))\n",
    "hold on\n",
    "for i=2:p\n",
    "   plot( ..., colors(i) )\n",
    "end\n",
    "xlabel('lambda')\n",
    "ylabel('coefficient value')\n",
    "title('Ridge regression coefficients for various values of lambda')\n",
    "% legend( ... varnames ... )   %  add a legend showing variable names\n",
    "hold off"
   ]
  },
  {
   "cell_type": "markdown",
   "metadata": {},
   "source": [
    "### 2.4 Plotting Generalized Cross-Validation\n",
    "\n",
    "An 'optimal' value of $\\lambda$ will yield coefficients ${\\bf c}$ that balances the residual sum of squares:\n",
    "$$\n",
    "RSS = ||{{\\bf y} \\,-\\, \\widehat{{\\bf y}}}||^2 \\,=\\, ||{{\\bf y} \\,-\\, H_{\\lambda}\\,{\\bf y}}||^2\n",
    "$$\n",
    "Note $\\widehat{{\\bf y}} \\,=\\, H_{\\lambda}\\,{\\bf y}$ depends on $\\lambda$\n",
    "and the regularization error $||{{\\bf c}}||^2$.\n",
    "\n",
    "Define the <b>Generalized Cross-Validation</b> (GCV) measure\n",
    "$$\n",
    "\\mbox{GCV}(\\lambda) ~=~ \\frac{n}{(n - \\mbox{df}(\\lambda))^2} ~ ||{\\,{\\bf y} \\,-\\, \\widehat{{\\bf y}} \\,}||^2 .\n",
    "$$\n",
    "\n",
    "Ridge Regression is often implemented by finding a value of $\\lambda$\n",
    "that minimizes $\\mbox{GCV}(\\lambda)$.\n",
    "\n",
    "For the values of $\\lambda$ that you used above, compute $\\mbox{GCV}(\\lambda)$."
   ]
  },
  {
   "cell_type": "code",
   "execution_count": null,
   "metadata": {
    "collapsed": true
   },
   "outputs": [],
   "source": [
    "% COMPLETE THIS CODE SO THAT IT PLOTS GCV(lambda) FOR VARIOUS VALUES OF lambda\n",
    "% AND INCLUDE THE PLOT IN THE OUTPUT YOU SUBMIT.\n",
    "\n",
    "max_lambda = round( 2 * norm(X' * X) )\n",
    "N = 100\n",
    "lambda_values = linspace( 0, max_lambda, N )\n",
    "GCV = zeros(N,1)\n",
    "\n",
    "for j=1:N\n",
    "   GCV(j) = ... some function of lambda_values(j) ....\n",
    "end\n",
    "\n",
    "minimal_lambda_position = find( GCV = min(GCV) )\n",
    "minimal_lambda = lambda_values( minimal_lambda_position )\n",
    "\n",
    "plot( lambda_values, GCV, 'b' )\n",
    "xlabel('lambda')\n",
    "ylabel('GCV(lambda)')\n",
    "title( sprintf('GCV(lambda) is minimal at lambda = %7.3f', minimal_lambda) )\n",
    "hold on\n",
    "plot( [minimal_lambda], [min(GCV)], 'r.' )\n",
    "hold off"
   ]
  },
  {
   "cell_type": "markdown",
   "metadata": {
    "collapsed": true
   },
   "source": [
    "### 2.5 Actually Optimizing Generalized Cross-Validation\n",
    "\n",
    "First, develop a function that computes $\\mbox{GCV}(\\lambda)$.\n",
    "\n",
    "Then, use an optimization routine to find a value $\\lambda$\n",
    "in the interval $[\\, 0,\\,2 \\, ||{X' \\, X}|| \\,]$\n",
    "for which $\\mbox{GCV}(\\lambda)$ is minimal.\n"
   ]
  },
  {
   "cell_type": "code",
   "execution_count": null,
   "metadata": {
    "collapsed": true
   },
   "outputs": [],
   "source": [
    "%  In Octave, execute the following to download/install, and load, the 'optim' package:\n",
    "\n",
    "pkg -forge install optim\n",
    "\n",
    "pkg  load optim\n",
    "\n",
    "\n",
    "%  optimization functions in Octave / Matlab\n",
    "\n",
    "help fzero    % find a root of a univariate function\n",
    "\n",
    "help fminbnd  % minimization of a univariate function\n",
    "\n",
    "help fminsearch % minimization of a multivariate function\n",
    "\n",
    "help fminunc % minimization of a multivariate function (with gradients)\n",
    "\n",
    "help lsqlin   % linear least squares\n",
    "\n",
    "help quadprog % quadratic programming\n",
    "\n",
    "help lsqnonlin % nonlinear least squares\n",
    "\n",
    "help fsolve   % solve set of nonlinear equations (vector-valued function)"
   ]
  },
  {
   "cell_type": "markdown",
   "metadata": {},
   "source": [
    "% COMPLETE THIS CODE SO THAT IT FINDS A VALUE OF lambda THAT MINIMIZES GCV(lambda).\n",
    "\n",
    "max_lambda = round( 2 * norm(X' * X) )\n",
    "\n",
    "GCV_function = @(lambda) ...\n",
    "\n",
    "minimal_lambda =  fminbnd( ... )"
   ]
  },
  {
   "cell_type": "markdown",
   "metadata": {
    "collapsed": true
   },
   "source": [
    "#### For illustration only:  Derivation of $\\partial \\mbox{GCV} / \\partial \\lambda$, which might be useful for optimization\n",
    "\n",
    "Note: for the problem above you do <b>not</b>\n",
    "need to compute the derivative of $\\frac{\\partial \\mbox{GCV}(\\lambda) }{ \\partial \\lambda }$.\n",
    "However, since it is interesting, below is a derivation showing how you\n",
    "compute this derivative, and use it with e.g. \n",
    "Newton's method to find locally optimal values of $\\lambda$.\n",
    "\n",
    "<blockquote>\n",
    "\\begin{eqnarray*}\n",
    "\\mbox{GCV}(\\lambda)\n",
    "& = &\n",
    "\\frac{n}{(n - \\mbox{df}(\\lambda))^2} ~ ||{\\,{\\bf y} \\,-\\, \\widehat{{\\bf y}} \\,}||^2 .\n",
    "\\\\\n",
    "& = &\n",
    "\\frac{n}{(n - \\mbox{trace}(H_{\\lambda}))^2}\n",
    "~~ ||{\\, (I \\;-\\;H_{\\lambda})\\, {\\bf y} \\,}||^2\n",
    "\\\\\n",
    "& = &\n",
    "\\frac{n}{(\\mbox{trace}(I - H_{\\lambda}))^2}\n",
    "~~ ||{\\, (\\, I \\;-\\;H_{\\lambda} \\,)\\, {\\bf y} \\,}||^2 .\n",
    "\\end{eqnarray*}\n",
    "</blockquote>\n",
    "\n",
    "Here the matrix $(I \\;-\\;H_{\\lambda})$ is $n \\times n$.\n",
    "\n",
    "Now notice that the singular values of $(I \\;-\\;H_{\\lambda})$ are\n",
    "$$\n",
    "1 \\,-\\, \\frac{\\sigma_k^2}{\\sigma_k^2 \\,+\\, \\lambda}\n",
    "~~=~~\n",
    "\\frac{\\sigma_k^2 \\,+\\, \\lambda ~ - ~ \\sigma_k^2}{\\sigma_k^2 \\,+\\, \\lambda}\n",
    "~~=~~\n",
    "\\frac{\\lambda}{\\sigma_k^2 \\,+\\, \\lambda}\n",
    "$$\n",
    "and these values simplify to 1 for $p < k \\leq n$.\n",
    "\n",
    "Therefore\n",
    "$$\n",
    "(I \\;-\\;H_{\\lambda})\n",
    "~~=~~ V ~ \\left(\\mbox{diag}\\left(\\frac{\\lambda}{\\sigma_i^2 + \\lambda}\\right)\\right) ~ {V'}\n",
    "$$\n",
    "and\n",
    "\\begin{eqnarray*}\n",
    "\\mbox{GCV}(\\lambda)\n",
    "& = &\n",
    "\\frac{n}{(\\mbox{trace}( \\, I - H_{\\lambda} \\, ))^2}\n",
    "%% \\frac{n}{(\\sum_{k=1}^n \\frac{\\lambda}{\\sigma_k^2 + \\lambda})^2} ~\n",
    "~~~~  ||{~ (I \\;-\\;H_{\\lambda})~ {\\bf y} ~}||^2\n",
    "\\\\\n",
    "& = &\n",
    "\\frac{n}{(\\sum_{k=1}^n \\frac{\\lambda}{\\sigma_k^2 + \\lambda})^2} ~\n",
    "~~~~ {{\\bf y}'} ~ V ~ \\left(\\mbox{diag}\\left(\\frac{\\lambda}{\\sigma_i^2 + \\lambda}\\right)\\right)^2 ~ {V'} ~ {\\bf y}\n",
    "\\\\\n",
    "& = &\n",
    "n ~~~~ {{\\bf z}'} ~ ~\\mbox{diag}(~\\tau_i^2~)~ ~ {\\bf z}\n",
    "\\end{eqnarray*}\n",
    "where we define\n",
    "${\\bf z} \\,=\\, {V'} ~ {\\bf y}$\n",
    "and also define\n",
    "$$\n",
    "\\tau_i\n",
    "~~=~~ \\left(\\frac{\\lambda}{\\sigma_i^2 + \\lambda}\\right) ~ / ~ \\left(\\sum_{k=1}^n \\frac{\\lambda}{\\sigma_k^2 + \\lambda}\\right)\n",
    "~~=~~ \\left(\\frac{1}{\\sigma_i^2 + \\lambda}\\right) ~ / ~ \\left(\\sum_{k=1}^n \\frac{1}{\\sigma_k^2 + \\lambda}\\right) .\n",
    "$$\n",
    "\n",
    "The derivative of this expression can be computed using the derivatives\n",
    "$\\frac{\\partial \\, \\tau_i}{\\partial \\, \\lambda}$:\n",
    "\n",
    "$$\n",
    "\\frac{\\partial}{\\partial\\,\\lambda}\n",
    "~~\n",
    "\\frac{1}{\\sigma_i^2 + \\lambda}\n",
    "~~=~~\n",
    "\\frac{-1}{(\\sigma_i^2 + \\lambda)^2}\n",
    "~~~~~~~\n",
    "\\mbox{and}\n",
    "~~~~~~~\n",
    "\\frac{\\partial}{\\partial\\,\\lambda}\n",
    "~~\n",
    "\\sum_{k=1}^n \\frac{1}{\\sigma_k^2 + \\lambda}\n",
    "~~=~~\n",
    "\\sum_{k=1}^n \\frac{-1}{(\\sigma_k^2 + \\lambda)^2}\n",
    "$$\n",
    "so that\n",
    "\\begin{eqnarray*}\n",
    "\\frac{\\partial \\, \\tau_i}{\\partial \\, \\lambda}\n",
    "~~=~~\n",
    "\\frac{\\partial}{\\partial\\,\\lambda}\n",
    "~\n",
    "\\left(\\frac{1}{\\sigma_i^2 + \\lambda}\\right) \\, / \\, \\left(\\sum_{k=1}^n \\frac{1}{\\sigma_k^2 + \\lambda}\\right)\n",
    "& = &\n",
    "\\frac{\n",
    "\\frac{-1}{(\\sigma_i^2 + \\lambda)^2} \\, \\left(\\sum_{k=1}^n \\frac{1}{\\sigma_k^2 + \\lambda}\\right)\n",
    "~-~\n",
    "\\frac{1}{\\sigma_i^2 + \\lambda} \\,\n",
    "\\left(\\sum_{k=1}^n \\frac{-1}{(\\sigma_k^2 + \\lambda)^2}\\right)\n",
    "}{\n",
    "\\left(\\sum_{k=1}^n \\frac{1}{\\sigma_k^2 + \\lambda}\\right)^2\n",
    "}\n",
    "\\\\\n",
    "& = &\n",
    "\\tau_i ~\n",
    "\\left({\n",
    "\\frac{-1}{\\sigma_i^2 + \\lambda}\n",
    "~~+~~\n",
    "\\frac{\n",
    "\\sum_{k=1}^n \\frac{1}{(\\sigma_k^2 + \\lambda)^2}\n",
    "}{\n",
    "\\sum_{k=1}^n \\frac{1}{\\sigma_k^2 + \\lambda}\n",
    "}\n",
    "}\\right) .\n",
    "\\end{eqnarray*}\n",
    "As a result,\n",
    "$$\n",
    "\\frac{\\partial \\, \\mbox{GCV}}{\\partial \\, \\lambda}\n",
    "~~=~~\n",
    "n ~~~~ {{\\bf z}'} ~\n",
    "\\mbox{diag}\\left(~2~\\tau_i ~\n",
    "\\frac{\\partial \\, \\tau_i}{\\partial \\, \\lambda}\n",
    "~\\right)\n",
    "~ {\\bf z}\n",
    "~~=~~\n",
    "n ~~~~ {{\\bf z}'} ~~\n",
    "\\mbox{diag}\\left( \\, 2~\\tau_i^2 ~\n",
    "\\left({\n",
    "\\frac{-1}{\\sigma_i^2 + \\lambda}\n",
    "~+~\n",
    "\\frac{\n",
    "\\sum_{k=1}^n \\frac{1}{(\\sigma_k^2 + \\lambda)^2}\n",
    "}{\n",
    "\\sum_{k=1}^n \\frac{1}{\\sigma_k^2 + \\lambda}\n",
    "}\n",
    "}\\right)\n",
    "\\, \\right)\n",
    "~~ {\\bf z} .\n",
    "$$\n"
   ]
  },
  {
   "cell_type": "markdown",
   "metadata": {},
   "source": [
    "## Problem 3: Earthquakes\n",
    "\n",
    "For this assignment we want you to test whether earthquakes in a given region\n",
    "occur with uniform frequency throughout the year.\n",
    "Some geologists claim earthquakes are completely unpredictable, occurring randomly.\n",
    "\n",
    "Specifically, we want you to compare the histograms of months in which the earthquakes compare\n",
    "with an expected uniform histogram.\n",
    "\n",
    "To do this, given a dataset of 20,000 earthquakes, we want you to create a histogram with 12 bins\n",
    "giving the number of earthquakes that occurred within each of the 12 months of the year.\n",
    "This is the <b>observed histogram</b> $O$.\n",
    "Since there are 20,000 earthquakes, the total of all bins in $O$ will be 20,000.\n",
    "\n",
    "<br/>\n",
    "\n",
    "Next, create an expected histogram $E$ of 12 bins whose bins have values\n",
    "<blockquote>\n",
    "E = ([ 31, 28, 31, 30, 31, 30, 31, 31, 30, 31, 30, 31 ] / 365) * 20000\n",
    "</blockquote>\n",
    "giving a uniform expected number of earthquakes in each month.\n",
    "(Simply ignore leap years for this assignment.)\n",
    "\n",
    "<br/>\n",
    "\n",
    "We want you to use the $\\chi^2$ test to determine whether the earthquakes occur uniformly or not.\n",
    "\n",
    "<br/>\n",
    "\n",
    "Each dataset is a .csv file obtained from a server at\n",
    "<a href=\"http://www.iris.edu/seismon\">http://www.iris.edu/seismon</a>.\n",
    "Earthquake times are reported in UTC (Coordinated Universal Time),\n",
    "which is essentially the same thing as GMT (Greenwich Mean Time).\n",
    "However, all we will need is the month in which each earthquake occurred.\n"
   ]
  },
  {
   "cell_type": "markdown",
   "metadata": {},
   "source": [
    "### 3.1 Do large earthquakes in the New Zealand area happen uniformly around the year?\n",
    "\n",
    "On Sunday November 13 there was a 7.8 earthquake in New Zealand.\n",
    "\n",
    "The file <tt>NewZealandQuakes.csv</tt> is a list of the 20,000 largest earthquakes since 1970\n",
    "in the Tonga/Kermadec Islands region near New Zealand.\n",
    "This region, where the Australian continent and Pacific Ocean meet, is very highly active earthquake-wise.\n",
    "It is an amazing geological formation, a wall that is over 400 miles deep.\n",
    "\n",
    "Does this distribution of month values of earthquakes differ significantly from a uniform distribution?\n"
   ]
  },
  {
   "cell_type": "code",
   "execution_count": null,
   "metadata": {
    "collapsed": false
   },
   "outputs": [],
   "source": [
    "E = ([ 31, 28, 31, 30, 31, 30, 31, 31, 30, 31, 30, 31 ] / 365) * 20000\n",
    "\n",
    "O = ... histogram of column 'Month' in the NewZealandQuakes.csv file ...\n",
    "\n",
    "ChiSquareStatistic = ... (O - E) ...\n",
    "\n"
   ]
  },
  {
   "cell_type": "markdown",
   "metadata": {},
   "source": [
    "### 3.2 Do large earthquakes in the Japan area happen uniformly around the year?\n",
    "\n",
    "The file <tt>JapanQuakes.csv</tt> is a list of the 20,000 largest earthquakes since 1970\n",
    "in the region around Japan.\n",
    "A magnitude 9.0 earthquake hit this area in 2011.\n",
    "\n",
    "Does the distribution of month values of earthquakes in this region differ significantly from a uniform distribution?"
   ]
  },
  {
   "cell_type": "code",
   "execution_count": null,
   "metadata": {
    "collapsed": true
   },
   "outputs": [],
   "source": [
    "E = ([ 31, 28, 31, 30, 31, 30, 31, 31, 30, 31, 30, 31 ] / 365) * 20000\n",
    "\n",
    "O = ... histogram of column 'Month' in the JapanQuakes.csv file ...\n",
    "\n",
    "ChiSquareStatistic = ... (O - E) ...\n",
    "\n"
   ]
  },
  {
   "cell_type": "markdown",
   "metadata": {},
   "source": [
    "\n",
    "==\n",
    "\n",
    "___Matrix Computations___, by Gene Golub and Charles Van Loan, is a clasic text about algorithms for computation on matrices.\n",
    "\n",
    "This book is on the web at:  http://web.mit.edu/ehliu/Public/sclark/Golub%20G.H.,%20Van%20Loan%20C.F.-%20Matrix%20Computations.pdf\n",
    "\n",
    "Section 8.4 of this book is a discussion of ___Jacobi methods___ -- a class of methods for finding the eigendecomposition of a matrix.\n",
    "\n",
    "* Using sections 8.4.1 -- 8.4.4 of the book as a specification, develop an implementation of the ___Jacobi method that finds the eigenvalues and eigenvectors of a real symmetric matrix $A$___.\n",
    "\n",
    "* Test your implementation on the matrix $H$ in the previous problem.  Compare your eigenvalues, and first eigenvector, with the ones you obtained earlier.\n",
    "\n",
    "\n",
    "* Test your implementation on the matrix .............\n",
    "\n",
    "* Use your implemention to write functions that compute the following:\n",
    "   1. the ___determinant___ $\\det(A)$ of a real symmetric matrix $A$\n",
    "   2. the ___inverse___ $A^{-1}$ of a real symmetric matrix $A$\n",
    "   3. the ___2-norm___ $||A||_2$ of a real symmetric matrix $A$\n",
    "   3. the ___condition number___ $\\kappa_2(A) \\;=\\; ||A||\\,/\\,||A^{-1}||$ of a real symmetric matrix $A$.\n",
    "   4. the ___rank___ of a real symmetric matrix $A$.\n",
    "\n",
    "Test all of your functions on the matrix ......."
   ]
  },
  {
   "cell_type": "markdown",
   "metadata": {},
   "source": [
    "# Problem 4:  Using Newton's Method on Matrices\n",
    "\n",
    "The Course Reader explains that Newton's method for computing inverses $b^{-1}$\n",
    "works by defining $f(x) = (1/x - b)$, giving a Newton iteration $x_{n+1} \\,=\\, g(x_n)$, where:\n",
    "$$\n",
    "g(x) ~ ~=~ ~ x ~-~ f(x)/f'(x) ~ ~=~ ~\n",
    "x ~-~ \\frac{1/x - b}{-1/x^2} ~ ~=~ ~ x ~ \\left( 2 ~-~ bx \\right) .\n",
    "$$\n",
    "\n",
    "A similar iteration obtained from $f(X) \\,=\\, (X^{-1} \\,-\\, B)$ can be used on matrices:\n",
    "$$\n",
    "g(X) ~=~ X ~-~ (\\nabla f(X))^{-1} ~ f(X)\n",
    "~=~ X ~-~ ({-X^{2}}) \\; ({X^{-1} - B})\n",
    "~=~ X ~ \\left( 2\\,I ~-~ B\\,X \\right) .\n",
    "$$\n",
    "\n",
    "<b/>\n",
    "\n",
    "For each of the Hilbert matrices $B$ in\n",
    "<tt>hilb(4)</tt>,\n",
    "<tt>hilb(6)</tt>,\n",
    "<tt>hilb(8)</tt>,\n",
    "<tt>hilb(10)</tt>,\n",
    "use the iteration to obtain $B^{-1}$,\n",
    "starting with initial value $X=I$, the identity matrix.\n",
    "\n",
    "<b/>\n",
    "\n",
    "For each such matrix $B$, determine how many iterations are needed for convergence,\n",
    "and measure the relative error  $||X-B^{-1}||/||B^{-1}||$.\n",
    "\n",
    "You can use the function <tt>invhilb()</tt> to compute the exact value of the inverse.\n"
   ]
  },
  {
   "cell_type": "code",
   "execution_count": null,
   "metadata": {
    "collapsed": true
   },
   "outputs": [],
   "source": []
  },
  {
   "cell_type": "code",
   "execution_count": null,
   "metadata": {
    "collapsed": true
   },
   "outputs": [],
   "source": []
  },
  {
   "cell_type": "markdown",
   "metadata": {},
   "source": [
    "he \\emph{Gamma function} is defined by\n",
    "$$\n",
    "\\Gamma(x) ~=~ \\int_0^\\infty ~ t^{x-1} ~ e^{-t} ~ dt .\n",
    "$$\n",
    "(In Matlab, try <tt>help gamma\"</tt>.)\n",
    "\n",
    "For positive integers $n$, $\\Gamma(n+1) = n!$ is the factorial function:.\n",
    "However $\\Gamma(x)$ is defined for all positive values $x$, and all non-integer values less than zero:\n",
    "\n",
    "<img src=\"http://upload.wikimedia.org/wikipedia/commons/5/52/Gamma_plot.svg\" style=\"height:400px;\">Wikipedia GPL image of the Gamma function\n"
   ]
  },
  {
   "cell_type": "markdown",
   "metadata": {},
   "source": [
    "Develop a Newton iteration for finding\n",
    "the value $x$ in the interval between 1 and 2\n",
    "that minimizes $\\Gamma(x)$.\n",
    "Have your iteration terminate when the successive iteration values agree to 15 decimal digits.\n",
    "\n",
    "Also do this for the interval between $-2$ and $-1$.\n",
    "\n",
    "Hint:\n",
    "You can use the function <tt>Newtonize()</tt> described in the Course Reader to obtain a Newton iteration\n",
    "$$\n",
    "y_{n+1} ~ = ~ g(y_n) ~ = ~ y_n ~ - ~ \\frac{f(y_n)}{f'(y_n)}.\n",
    "$$\n",
    "The derivative of the Gamma function is easy to obtain."
   ]
  },
  {
   "cell_type": "code",
   "execution_count": null,
   "metadata": {
    "collapsed": true
   },
   "outputs": [],
   "source": []
  },
  {
   "cell_type": "markdown",
   "metadata": {},
   "source": [
    "\n",
    "\n",
    "Newton's method can be used to compute inverses of functions.\n",
    "For example, the (lower) <b>incomplete gamma function</b>\n",
    "$$\n",
    "\\gamma(x,a) = \\int_0^a t^{x-1}\\,e^{-t}\\,dt\n",
    "$$\n",
    "is like the Gamma function\n",
    "but has an extra parameter $a$.\n",
    "(In Matlab, try <tt>help gammainc</tt>.)\n",
    "\n",
    "The inverse of this function\n",
    "finds the value of $x$ such that $\\gamma(x,a)$ equals the input value $y$.\n",
    "(In Matlab, try <tt>help gammaincinv</tt>.)\n",
    "\n",
    "Give a Newton iteration for finding this inverse function.\n",
    "\n",
    "<!--\n",
    "For a given input value $x$, what is a mathematical expression for the starting value $y_0$\n",
    "-->"
   ]
  },
  {
   "cell_type": "code",
   "execution_count": null,
   "metadata": {
    "collapsed": true
   },
   "outputs": [],
   "source": []
  },
  {
   "cell_type": "markdown",
   "metadata": {},
   "source": [
    "## Problem ?:  Kernels\n",
    "\n",
    "A <b>kernel</b> $k({\\mathbf{x}},{\\mathbf{y}})$ is a measure of similarity\n",
    "between vectors ${\\mathbf{x}}$ and ${\\mathbf{y}}$.\n",
    "An important special case is defined by a similarity matrix $K$:\n",
    "$$\n",
    "k({\\mathbf{x}},{\\mathbf{y}}) \\;=\\; {\\mathbf{x}}' \\; K \\; \\mathbf{y}\n",
    "$$\n",
    "\n",
    "When $K$ is a symmetric positive definite matrix,\n",
    "the kernel can be used as a norm or measure of length:\n",
    "$$\n",
    "||{\\mathbf{x}}||_K^2 \\;=\\; {\\mathbf{x}}' \\; K \\; \\mathbf{x} .\n",
    "$$\n",
    "The result will always be nonnegative in this case.\n",
    "\n",
    "Covariance matrices are always\n",
    "symmetric positive semidefinite (nonnegative definite).\n",
    "Thus we can use them in constructing kernels.\n",
    "If we define \n",
    "$$\n",
    "k({\\mathbf{x}},{\\mathbf{y}}) \\;=\\; {\\mathbf{x}}' \\; C^{-1} \\; \\mathbf{y}\n",
    "$$\n",
    "where $C$ is a covariance matrix,\n",
    "then the similarity measure scales pairs of dimensions in the vectors\n",
    "according to their covariance.\n",
    "Inverse covariance matrices have many uses in data analysis.\n"
   ]
  },
  {
   "cell_type": "markdown",
   "metadata": {
    "collapsed": true
   },
   "source": [
    "## Problem 3:  Horror Stories\n",
    "\n",
    "For each of the following matrices <tt>X</tt>:\n",
    "<ul><li>\n",
    "If <tt>sigma</tt> is the sequence of singular values of <tt>X</tt>,\n",
    "print <tt>sigma</tt>, <tt>log10(sigma)</tt>, and <tt>range(log10(sigma))</tt>, <tt>cond(X)</tt>.\n",
    "</li><li>\n",
    "print the Frobenius norm of the difference between the product\n",
    "<tt>X &ast; inv(X)</tt> and the identity matrix.\n",
    "</li><li>\n",
    "Write a program that computes the <i>exact</i> inverse\n",
    "<tt>X</tt>${}^{-1}$ of <tt>X</tt>.\n",
    "(With the <tt>hilb(n)</tt> matrix, this is computed by <tt>invhilb(n)</tt> for example,\n",
    "but you may need to do a little research on the internet to get the form of the exact inverse.)\n",
    "Then print the Frobenius norm of the difference between the product\n",
    "<tt>X &ast; X</tt>${}^{-1}$ and the identity matrix.\n",
    "</li></ul>"
   ]
  },
  {
   "cell_type": "markdown",
   "metadata": {
    "collapsed": false
   },
   "source": [
    "#### 3a: The Hilbert matrix\n",
    "<tt>hilb(12)</tt>."
   ]
  },
  {
   "cell_type": "code",
   "execution_count": 8,
   "metadata": {
    "collapsed": false
   },
   "outputs": [
    {
     "name": "stdout",
     "output_type": "stream",
     "text": [
      "ans =  48.600\r\n"
     ]
    }
   ],
   "source": [
    "243 / 5"
   ]
  },
  {
   "cell_type": "markdown",
   "metadata": {
    "collapsed": true
   },
   "source": [
    "#### 3b: The Pascal matrix\n",
    "<tt>pascal(12)</tt>."
   ]
  },
  {
   "cell_type": "code",
   "execution_count": null,
   "metadata": {
    "collapsed": true
   },
   "outputs": [],
   "source": []
  },
  {
   "cell_type": "markdown",
   "metadata": {},
   "source": [
    "#### 3c: The Fourier matrix\n",
    "<tt>fft(eye(12)) / sqrt(12)</tt>."
   ]
  },
  {
   "cell_type": "code",
   "execution_count": null,
   "metadata": {
    "collapsed": true
   },
   "outputs": [],
   "source": []
  },
  {
   "cell_type": "markdown",
   "metadata": {},
   "source": [
    "#### 3d: The Vandermonde matrix\n",
    "<tt>vand(12)</tt>."
   ]
  },
  {
   "cell_type": "code",
   "execution_count": null,
   "metadata": {
    "collapsed": true
   },
   "outputs": [],
   "source": []
  }
 ],
 "metadata": {
  "anaconda-cloud": {},
  "kernelspec": {
   "display_name": "Octave",
   "language": "octave",
   "name": "octave"
  },
  "language_info": {
   "file_extension": ".m",
   "help_links": [
    {
     "text": "MetaKernel Magics",
     "url": "https://github.com/calysto/metakernel/blob/master/metakernel/magics/README.md"
    }
   ],
   "mimetype": "text/x-octave",
   "name": "octave",
   "version": "0.16.0"
  }
 },
 "nbformat": 4,
 "nbformat_minor": 0
}
