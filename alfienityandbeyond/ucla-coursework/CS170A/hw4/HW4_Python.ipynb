{
 "cells": [
  {
   "cell_type": "markdown",
   "metadata": {},
   "source": [
    "# CS170A -- HW#4 -- assignment and solution form -- Octave"
   ]
  },
  {
   "cell_type": "markdown",
   "metadata": {},
   "source": [
    "Your name:  ______________________\n",
    "\n",
    "Your UID:  _________\n",
    "\n",
    "<b>Please upload only this notebook to CCLE by the deadline.</b>\n",
    "\n",
    "<b>Policy for late submission of solutions:</b>  We will use Paul Eggert's Late\n",
    "Policy: $N$ days late $\\Leftrightarrow$ $2^N$ points deducted}\n",
    "The number of days late is $N=0$\n",
    "for the first 24 hrs, $N=1$ for the next 24 hrs, etc., and if you submit\n",
    "an assignment $H$ hours late, $2^{\\lfloor \\,H\\,/\\,24\\, \\rfloor}$ points are\n",
    "deducted."
   ]
  },
  {
   "cell_type": "markdown",
   "metadata": {
    "collapsed": true
   },
   "source": [
    "<hr style=\"border-width:60px;\"/>"
   ]
  },
  {
   "cell_type": "code",
   "execution_count": null,
   "metadata": {
    "collapsed": true
   },
   "outputs": [],
   "source": [
    "import numpy as np\n",
    "import scipy as sp\n",
    "import scipy.stats as spstats"
   ]
  },
  {
   "cell_type": "code",
   "execution_count": null,
   "metadata": {
    "collapsed": true
   },
   "outputs": [],
   "source": [
    "import matplotlib.pyplot as plt\n",
    "import matplotlib.image as mpimg\n",
    "%matplotlib inline"
   ]
  },
  {
   "cell_type": "code",
   "execution_count": null,
   "metadata": {
    "collapsed": true
   },
   "outputs": [],
   "source": [
    "from scipy.stats.norm import cdf"
   ]
  },
  {
   "cell_type": "markdown",
   "metadata": {},
   "source": [
    "# Problem 1:  Income Tax and Benford's Law"
   ]
  },
  {
   "cell_type": "markdown",
   "metadata": {},
   "source": [
    "For every presidential candidate (except Donald Trump), income tax returns have been filed prior to an election:\n",
    "<a href=\"http://www.taxhistory.org/www/website.nsf/Web/PresidentialTaxReturns?OpenDocument\">\n",
    "http://www.taxhistory.org/www/website.nsf/Web/PresidentialTaxReturns?OpenDocument</a>.\n",
    "\n",
    "Some of these returns are impressive: Mitt Romney's 2011 tax return was 379 pages long!\n",
    "<br/>\n",
    "Hillary Clinton's income was the highest of the 2016 candidates (except perhaps Trump); see\n",
    "<a href=\"http://www.taxhistory.org/thp/presreturns.nsf/Returns/FCA79776EFA029088525800D005A016C/$file/HR_Clinton_2015.pdf\">her 2015 income tax return</a>.\n",
    "<br/>\n",
    "Bernie Sanders' reported income is barely enough for his family to survive in Los Angeles..."
   ]
  },
  {
   "cell_type": "markdown",
   "metadata": {},
   "source": [
    "## 1.1  Hillary Clinton's 2014 and 2015 Income Tax returns\n",
    "\n",
    "In this assignment, take the files <tt>HR_Clinton_2014_tax_return_numbers.txt</tt> and <tt>HR_Clinton_2015_tax_return_numbers.txt</tt> listing numbers in Hillary's tax returns for the last 2 years.\n",
    "\n",
    "For each of these two files, determine (using the method in the Course Reader) whether the <i>unique</i> numbers in this file (please omit duplicates) violate Benford's Law."
   ]
  },
  {
   "cell_type": "code",
   "execution_count": null,
   "metadata": {
    "collapsed": true
   },
   "outputs": [],
   "source": []
  },
  {
   "cell_type": "markdown",
   "metadata": {},
   "source": [
    "## 1.2  Donald Trump's 1995 Income Tax return\n",
    "\n",
    "<a href=\"https://assets.documentcloud.org/documents/3117920/Pages-From-Donald-Trump-s-1995-Income-Tax-Returns.pdf\">\n",
    "3 pages of Donald Trump's 1995 Income Tax form</a>\n",
    "have been published by the <a href=\"http://www.nytimes.com\">New York Times</a>.\n",
    "\n",
    "The file <tt>DJ_Trump_1995_tax_return_numbers.txt</tt>\n",
    "lists numbers in this (partial) income tax return.\n",
    "\n",
    "Determine whether the unique numbers in this file violate Benford's Law."
   ]
  },
  {
   "cell_type": "code",
   "execution_count": null,
   "metadata": {
    "collapsed": true
   },
   "outputs": [],
   "source": []
  },
  {
   "cell_type": "markdown",
   "metadata": {},
   "source": [
    "<hr style=\"border-width:60px;\"/>"
   ]
  },
  {
   "cell_type": "markdown",
   "metadata": {},
   "source": [
    "# Problem 2: Earthquakes\n",
    "\n",
    "For this assignment we want you to test whether earthquakes in a given region\n",
    "occur with uniform frequency throughout the year.\n",
    "Some geologists claim earthquakes are completely unpredictable, occurring randomly.\n",
    "\n",
    "Specifically, we want you to compare the histograms of months in which the earthquakes compare\n",
    "with an expected uniform histogram.\n",
    "\n",
    "To do this, given a dataset of 20,000 earthquakes, we want you to create a histogram with 12 bins\n",
    "giving the number of earthquakes that occurred within each of the 12 months of the year.\n",
    "This is the <b>observed histogram</b> $O$.\n",
    "Since there are 20,000 earthquakes, the total of all bins in $O$ will be 20,000.\n",
    "\n",
    "<br/>\n",
    "\n",
    "Next, create an expected histogram $E$ of 12 bins whose bins have values\n",
    "<blockquote>\n",
    "E = ([ 31, 28, 31, 30, 31, 30, 31, 31, 30, 31, 30, 31 ] / 365) * 20000\n",
    "</blockquote>\n",
    "giving a uniform expected number of earthquakes in each month.\n",
    "(Simply ignore leap years for this assignment.)\n",
    "\n",
    "<br/>\n",
    "\n",
    "We want you to use the $\\chi^2$ test to determine whether the earthquakes occur uniformly or not.\n",
    "In Matlab you can use the <tt>cdf()</tt> function to compute probabilities of $\\chi^2$ values.\n",
    "\n",
    "In Octave, you can install and load the <tt>cdf()</tt> function with commands like:\n",
    "<blockquote>\n",
    "<pre>\n",
    "import scipy.stats as spstats\n",
    "\n",
    "help( spstats.chi2 )\n",
    "\n",
    "help( spstats.chi2.cdf )\n",
    "\n",
    "ChiSquareProbability = spstats.chi2.cdf( ChiSquareStatistic, nu )\n",
    "</pre>\n",
    "</blockquote>\n",
    "\n",
    "<br/>\n",
    "\n",
    "Each dataset is a .csv file obtained from a server at\n",
    "<a href=\"http://www.iris.edu/seismon\">http://www.iris.edu/seismon</a>.\n",
    "Earthquake times are reported in UTC (Coordinated Universal Time),\n",
    "which is essentially the same thing as GMT (Greenwich Mean Time).\n",
    "However, all we will need is the month in which each earthquake occurred.\n"
   ]
  },
  {
   "cell_type": "code",
   "execution_count": 12,
   "metadata": {
    "collapsed": false
   },
   "outputs": [],
   "source": [
    "import scipy.stats as spstats\n",
    "# help(spstats.chi2.cdf)"
   ]
  },
  {
   "cell_type": "markdown",
   "metadata": {},
   "source": [
    "## 2.1 Do large earthquakes in the area around New Zealand happen uniformly around the year?\n",
    "\n",
    "On Sunday November 13 there was a 7.8 earthquake in New Zealand.\n",
    "\n",
    "The file <tt>NewZealandQuakes.csv</tt> is a list of the 20,000 largest earthquakes since 1970\n",
    "in the Tonga/Kermadec Islands region near New Zealand.\n",
    "This region, where the Australian continent and Pacific Ocean meet, is very highly active earthquake-wise.\n",
    "It is an amazing geological formation, a wall that is over 400 miles deep.\n",
    "\n",
    "Does this distribution of month values of earthquakes differ significantly from a uniform distribution?"
   ]
  },
  {
   "cell_type": "code",
   "execution_count": null,
   "metadata": {
    "collapsed": true
   },
   "outputs": [],
   "source": [
    "E = ([ 31, 28, 31, 30, 31, 30, 31, 31, 30, 31, 30, 31 ] / 365.0) * 20000\n",
    "\n",
    "O = ... histogram of column 'Month' in the NewZealandQuakes.csv file ...\n",
    "\n",
    "# ChiSquareStatistic = ... (O - E) ...\n",
    "\n",
    "# determine whether ChiSquareStatistic is so large that it is unlikely the distribution is uniform."
   ]
  },
  {
   "cell_type": "markdown",
   "metadata": {},
   "source": [
    "## 2.2 Do large earthquakes in the area around Japan happen uniformly around the year?\n",
    "\n",
    "The file <tt>JapanQuakes.csv</tt> is a list of the 20,000 largest earthquakes since 1970\n",
    "in the region around Japan.\n",
    "A magnitude 9.0 earthquake hit this area in 2011.\n",
    "\n",
    "Does the distribution of month values of earthquakes in this region differ significantly from a uniform distribution?"
   ]
  },
  {
   "cell_type": "code",
   "execution_count": null,
   "metadata": {
    "collapsed": true
   },
   "outputs": [],
   "source": [
    "E = ([ 31, 28, 31, 30, 31, 30, 31, 31, 30, 31, 30, 31 ] / 365.0) * 20000\n",
    "\n",
    "O = ... histogram of column 'Month' in the JapanQuakes.csv file ...\n",
    "\n",
    "# ChiSquareStatistic = ... (O - E) ...\n",
    "\n",
    "# determine whether ChiSquareStatistic is so large that it is unlikely the distribution is uniform."
   ]
  },
  {
   "cell_type": "markdown",
   "metadata": {},
   "source": [
    "# Problem 3:  Using Newton's Method on Matrices\n",
    "\n",
    "The Course Reader explains that Newton's method for computing inverses $b^{-1}$\n",
    "works by defining $f(x) = (1/x - b)$, giving a Newton iteration $x_{n+1} \\,=\\, g(x_n)$, where:\n",
    "\n",
    "$$\n",
    "g(x) ~ ~=~ ~ x ~-~ f(x)/f'(x) ~ ~=~ ~\n",
    "x ~-~ \\frac{1/x - b}{-1/x^2} ~ ~=~ ~ x ~ \\left( 2 ~-~ bx \\right) .\n",
    "$$\n",
    "\n",
    "A similar iteration obtained from $f(X) \\,=\\, (X^{-1} \\,-\\, B)$ can be used on matrices:\n",
    "\n",
    "$$\n",
    "g(X) ~=~ X ~-~ (\\nabla f(X))^{-1} ~ f(X)\n",
    "~=~ X ~-~ ({-X^{2}}) \\; ({X^{-1} - B})\n",
    "~=~ X ~ \\left( 2\\,I ~-~ B\\,X \\right) .\n",
    "$$\n",
    "\n",
    "<br/>\n",
    "\n",
    "Use the iteration to obtain $B^{-1}$ for each of the Hilbert matrices $B$:\n",
    "<ul><li><tt>B = hilb(4)</tt>\n",
    "</li><li><tt>B = hilb(8)</tt>\n",
    "</li><li><tt>B = invhilb(4)</tt>\n",
    "</li><li><tt>B = invhilb(8)</tt>\n",
    "</li></ul>\n",
    "\n",
    "For <tt>B = hilb(...)</tt>, you can start with initial value $X=I$, the identity matrix.\n",
    "\n",
    "For <tt>B = invhilb(...)</tt>, you will need to find a good starting value yourself.\n",
    "\n",
    "\n",
    "For each such matrix $B$, determine how many iterations are needed for convergence,\n",
    "and measure the relative error  $||X-B^{-1}|| ~/~ ||B^{-1}||$.\n",
    "\n",
    "The function <tt>invhilb()</tt> can be used to obtain the exact value of the inverse of <tt>hilb()</tt>."
   ]
  },
  {
   "cell_type": "code",
   "execution_count": null,
   "metadata": {
    "collapsed": true
   },
   "outputs": [],
   "source": [
    "#  Implementation of hilb() and invhilb()\n",
    "#  from https://gist.github.com/fabianp/1046959"
   ]
  },
  {
   "cell_type": "code",
   "execution_count": 22,
   "metadata": {
    "collapsed": true
   },
   "outputs": [],
   "source": [
    "\"\"\"\n",
    "hilbert matrix using numpy. Contains:\n",
    "  - hilb(n, m) : returns the Hilbert matrix of size (n, m)\n",
    "  - invhilb(n) : returns the inverse of the hilbert matrix of size (n, n)\n",
    "\"\"\"\n",
    "import numpy as np\n",
    "from math import factorial\n",
    "\n",
    "def binomial(n, k):\n",
    "    \"\"\"binomial(n, k): return the binomial coefficient (n k).\"\"\"\n",
    "\n",
    "    if k < 0 or k > n:\n",
    "        return 0\n",
    "    if k == 0 or k == n:\n",
    "        return 1\n",
    "    return factorial(n) // (factorial(k) * factorial(n-k))\n",
    "\n",
    "def hilb(n, m=0):\n",
    "    \"\"\"\n",
    "    hilb   Hilbert matrix.\n",
    "       hilb(n,m) is the n-by-m matrix with elements 1/(i+j-1).\n",
    "       it is a famous example of a badly conditioned matrix.\n",
    "       cond(hilb(n)) grows like exp(3.5*n).\n",
    "       hilb(n) is symmetric positive definite, totally positive, and a\n",
    "       Hankel matrix.\n",
    "       References:\n",
    "       M.-D. Choi, Tricks or treats with the Hilbert matrix, Amer. Math.\n",
    "           Monthly, 90 (1983), pp. 301-312.\n",
    "       N.J. Higham, Accuracy and Stability of Numerical Algorithms,\n",
    "           Society for Industrial and Applied Mathematics, Philadelphia, PA,\n",
    "           USA, 2002; sec. 28.1.\n",
    "       M. Newman and J. Todd, The evaluation of matrix inversion\n",
    "           programs, J. Soc. Indust. Appl. Math., 6 (1958), pp. 466-476.\n",
    "       D.E. Knuth, The Art of Computer Programming,\n",
    "           Volume 1, Fundamental Algorithms, second edition, Addison-Wesley,\n",
    "           Reading, Massachusetts, 1973, p. 37.\n",
    "       NOTE added in porting.  We do not use the function cauchy here to\n",
    "       generate the Hilbert matrix.  That is done so we can unit test the\n",
    "       the functions against each other.  Also, the function has been\n",
    "       generalized to take by row and column sizes.  If only a row size\n",
    "       is given, we assume a square matrix is desired.\n",
    "    \"\"\"\n",
    "    if n < 1 or m < 0:\n",
    "        raise ValueError(\"Matrix size must be one or greater\")\n",
    "    elif n == 1 and (m == 0 or m == 1):\n",
    "        return np.array([[1]])\n",
    "    elif m == 0:\n",
    "        m = n\n",
    "\n",
    "    v = np.arange(1, n + 1) + np.arange(0, m)[:, np.newaxis]\n",
    "    return 1. / v\n",
    "\n",
    "\n",
    "def invhilb(n):\n",
    "    \"\"\"\n",
    "    invhilb   Generate the exact inverse of the n-by-n Hilbert matrix.\n",
    "    Limitations:\n",
    "    Comparing invhilb(n) with inv(hilb(n)) involves the effects of two or\n",
    "    three sets of roundoff errors:\n",
    "        - The errors caused by representing hilb(n)\n",
    "        - The errors in the matrix inversion process\n",
    "        - The errors, if any, in representing invhilb(n)\n",
    "    It turns out that the first of these, which involves representing\n",
    "    fractions like 1/3 and 1/5 in floating-point, is the most significant.\n",
    "    \"\"\"\n",
    "    H = np.empty((n, n))\n",
    "    for i in range(n):\n",
    "        for j in range(n):\n",
    "            H[i, j] = ((-1)**(i + j)) * (i + j + 1) * binomial(n + i, n - j - 1) * \\\n",
    "             binomial(n + j, n - i - 1) * binomial(i + j, i) ** 2\n",
    "    return H\n"
   ]
  },
  {
   "cell_type": "code",
   "execution_count": 27,
   "metadata": {
    "collapsed": false
   },
   "outputs": [
    {
     "data": {
      "text/plain": [
       "array([[ 1.        ,  0.5       ,  0.33333333,  0.25      ],\n",
       "       [ 0.5       ,  0.33333333,  0.25      ,  0.2       ],\n",
       "       [ 0.33333333,  0.25      ,  0.2       ,  0.16666667],\n",
       "       [ 0.25      ,  0.2       ,  0.16666667,  0.14285714]])"
      ]
     },
     "execution_count": 27,
     "metadata": {},
     "output_type": "execute_result"
    }
   ],
   "source": [
    "B = hilb(4)\n",
    "Binv = invhilb(4)\n",
    "X = np.eye(4)  # starting value for the iteration\n",
    "\n",
    "B\n",
    "# ..."
   ]
  },
  {
   "cell_type": "code",
   "execution_count": null,
   "metadata": {
    "collapsed": true
   },
   "outputs": [],
   "source": [
    "B = hilb(8)\n",
    "Binv = invhilb(8)\n",
    "# ..."
   ]
  },
  {
   "cell_type": "code",
   "execution_count": null,
   "metadata": {
    "collapsed": true
   },
   "outputs": [],
   "source": [
    "B = invhilb(4)\n",
    "Binv = hilb(4)\n",
    "# X = ... some clever starting value\n",
    "# ..."
   ]
  },
  {
   "cell_type": "code",
   "execution_count": null,
   "metadata": {
    "collapsed": true
   },
   "outputs": [],
   "source": [
    "B = invhilb(8)\n",
    "Binv = hilb(8)\n",
    "# ..."
   ]
  },
  {
   "cell_type": "markdown",
   "metadata": {},
   "source": [
    "<hr style=\"border-width:60px;\"/>"
   ]
  },
  {
   "cell_type": "markdown",
   "metadata": {},
   "source": [
    "# Problem 4: Regularized Optimization in Ridge Regression\n",
    "\n",
    "In the traditional least squares model ${\\bf y} \\,=\\, X {\\bf c}$,\n",
    "the vector of coefficients ${\\bf c}$ is often chosen to minimize the least squared error\n",
    "\n",
    "$$\n",
    "\\epsilon({\\bf c}) ~~=~~ ||{{\\bf y} ~-~ X {\\bf c}}||^2 .\n",
    "$$\n",
    "\n",
    "<!-- %%% \\item\n",
    "### Using a vector iteration like that for the Banana function in the text,\n",
    "### show how we can use Newton's method to obtain a least squares solution ${\\bf c}$\n",
    "### in the situation where the vector ${\\bf c}$ contains two coefficients $c_1$ and $c_2$.\n",
    "### -->\n",
    "We can add a <i>constraint</i> that requires\n",
    "<!-- %%% ${\\bf c} \\geq 0$, and/or requires that -->\n",
    "$||{{\\bf c}}||^2$ to be small.\n",
    "This is often implemented by adding a <b>regularization term</b> $R({\\bf c})$\n",
    "to the error that is very large for values of ${\\bf c}$ that violate the constraints.\n",
    "In this case the iteration seeks to minimize the <b>regularized problem</b>\n",
    "\n",
    "$$\n",
    "\\epsilon({\\bf c}) ~+~ R({\\bf c}) ~~=~~ ||{{\\bf y} ~-~ X {\\bf c}}||^2~+~ R({\\bf c}) .\n",
    "$$"
   ]
  },
  {
   "cell_type": "markdown",
   "metadata": {},
   "source": [
    "## 4.0 Get the data\n",
    "\n",
    "The dataset for this problem is called <tt>prostate.csv</tt>.\n",
    "Read in this file.\n",
    "The columns are lcavol,lweight,age,lbph,svi,lcp,gleason,pgg45,lpsa.\n",
    "\n",
    "The regression problem is to predict lpsa from the other 8 variables."
   ]
  },
  {
   "cell_type": "code",
   "execution_count": null,
   "metadata": {
    "collapsed": true
   },
   "outputs": [],
   "source": [
    "# ...\n",
    "\n",
    "y = lpsa\n",
    "\n",
    "X = [ lcavol lweight age lbph svi lcp gleason pgg45 ]\n",
    "\n",
    "# ..."
   ]
  },
  {
   "cell_type": "markdown",
   "metadata": {},
   "source": [
    "## 4.1 Tikhonov regularization\n",
    "\n",
    "<b>Tikhonov regularization</b>\n",
    "$R({\\bf c}) = ||{T\\,{\\bf c}}||^2$ uses\n",
    "a covariance matrix $T$ that is chosen to scale the $\\bf{c}$ values properly.\n",
    "In this case we want to solve the Tikhonov regularized least squares problem,\n",
    "minimizing\n",
    "\n",
    "$$\n",
    "L({\\bf c},T) ~=~\n",
    "\\epsilon({\\bf c}) ~+~ R({\\bf c}) ~ ~=~ ~\n",
    "||{{\\bf y} ~-~ X {\\bf c}}||^2 ~+~ ||{T\\,{\\bf c}}||^2\n",
    "~ ~=~ ~\n",
    "\\left|\\left|{\n",
    "\\left({\\!\\!\n",
    "\\begin{array}{c}\n",
    "{\\bf y} \\\\\n",
    "{\\bf 0}\n",
    "\\end{array}\n",
    "\\!\\!}\\right)\n",
    "\\;-\\;\n",
    "\\left({\\!\\!\n",
    "\\begin{array}{c}\n",
    "X \\\\\n",
    "T\n",
    "\\end{array}\n",
    "\\!\\!}\\right)\n",
    "\\,\n",
    "{\\bf c}\n",
    "}\\right|\\right|^2 .\n",
    "$$\n",
    "\n",
    "To minimize the expression on the right, we need to find the least squares solution of:\n",
    "\n",
    "$$\n",
    "\\left({\n",
    "\\begin{array}{c}\n",
    "X \\\\\n",
    "T\n",
    "\\end{array}\n",
    "}\\right)\n",
    "~ {\\bf c}\n",
    "~ ~=~ ~\n",
    "\\left({\n",
    "\\begin{array}{c}\n",
    "{\\bf y} \\\\\n",
    "{\\bf 0}\n",
    "\\end{array}\n",
    "}\\right) .\n",
    "$$\n",
    "\n",
    "What are the <b>normal equations</b> for this equation\n",
    "that we can use to obtain the least squares solution?"
   ]
  },
  {
   "cell_type": "markdown",
   "metadata": {},
   "source": [
    "<u><b>My answer (to be filled in with Markdown and Equations):</b></u>\n",
    "\n",
    "$$\n",
    "(...) {\\bf c}  ~=~  (...)\n",
    "$$"
   ]
  },
  {
   "cell_type": "markdown",
   "metadata": {},
   "source": [
    "From this equation give a formula for the <b>least squares solution</b> ${\\bf c}$:"
   ]
  },
  {
   "cell_type": "markdown",
   "metadata": {
    "collapsed": true
   },
   "source": [
    "<u><b>My answer (to be filled in with Markdown and Equations):</b></u>\n",
    "\n",
    "$$\n",
    "{\\bf c} ~=~ ... ...\n",
    "$$"
   ]
  },
  {
   "cell_type": "markdown",
   "metadata": {},
   "source": [
    "## 4.2 Ridge Regression\n",
    "\n",
    "Ridge Regression is a popular form of this least squares problem\n",
    "when $T'\\,T \\,=\\, \\lambda\\,I$ for some $\\lambda \\geq 0$\n",
    "(so that $T'\\,T$ has a 'ridge' down the diagonal).\n",
    "As $\\lambda$ decreases to 0, the problem reduces to the ordinary least squares,\n",
    "while as $\\lambda$ grows large, $||{{\\bf c}}||$ becomes increasingly emphasized and minimization reduces it to zero.\n",
    "\n",
    "Assume that the singular values of $X$ are $\\sigma_1, \\ldots, \\sigma_p$.\n",
    "What are the singular values of $(X'\\,X ~+~ T'\\,T)$?"
   ]
  },
  {
   "cell_type": "markdown",
   "metadata": {},
   "source": [
    "<u><b>My answer (to be filled in with Markdown and Equations):</b></u>\n",
    "\n",
    "We are assuming that $X$ has SVD $U S V'$, where $S$ is a diagonal matrix\n",
    "whose $i$-th singular value is $\\sigma_i$,\n",
    "so $(X' X)$ has SVD $V S'S V'$, with $i$-th singular value $\\sigma_i^2$.\n",
    "\n",
    "Therefore, since $T = \\lambda I$,\n",
    "and $V D V' = D$ for any constant diagonal matrix $D = \\lambda I$,\n",
    "the $i$-th singular value of $(X' X + T' T)$ is\n",
    "$$\n",
    "...... some formula involving \\sigma_i ......\n",
    "$$"
   ]
  },
  {
   "cell_type": "markdown",
   "metadata": {},
   "source": [
    "Also give the singular values of the <b>hat matrix</b>\n",
    "$$\n",
    "H_{\\lambda} \\,=\\, X\\, (X'\\,X \\,+\\, \\lambda \\,I)^{-1}\\,X' .\n",
    "$$"
   ]
  },
  {
   "cell_type": "markdown",
   "metadata": {
    "collapsed": true
   },
   "source": [
    "<u><b>My answer (to be filled in with Markdown and Equations):</b></u>\n",
    "\n",
    "Again, we are assuming that $X$ has SVD $U S V'$, where $S$ has $i$-th singular value $\\sigma_i$,\n",
    "and $(X' X) = V S' S V'$ has $i$-th singular value $\\sigma_i^2$.\n",
    "\n",
    "Therefore, the $i$-th singular value of the hat matrix\n",
    "$H_{\\lambda} = X (X' X + \\lambda I)^{-1} X'$ is\n",
    "$$\n",
    "...... some formula involving \\sigma_i ......\n",
    "$$"
   ]
  },
  {
   "cell_type": "markdown",
   "metadata": {},
   "source": [
    "## 4.3 Degrees of Freedom\n",
    "\n",
    "Define <b>degrees of freedom</b> $\\mbox{df}(\\lambda) \\,=\\, \\mbox{trace}(\\,H_{\\lambda}\\,)$,\n",
    "where $H_{\\lambda}$ is the hat matrix.\n",
    "<!--\n",
    "when $T'\\,T \\,=\\, \\lambda I$,\n",
    "where $\\lambda > 0$.\n",
    "The regularization term encourages ${\\bf c}$ to be small.\n",
    "-->\n",
    "\n",
    "Give a formula for $\\mbox{df}(\\lambda)$ in terms of $\\lambda$ and the singular values of $X$:"
   ]
  },
  {
   "cell_type": "markdown",
   "metadata": {},
   "source": [
    "<u><b>My answer (to be filled in with Markdown and Equations):</b></u>\n",
    "\n",
    "Assuming the $i$-th singular value of the hat matrix\n",
    "$H_{\\lambda} = X (X' X + \\lambda I)^{-1} X'$ is as in the previous answer,\n",
    "$$\n",
    "df(\\lambda) = ...... some formula involving \\sigma_i values ......\n",
    "$$"
   ]
  },
  {
   "cell_type": "markdown",
   "metadata": {},
   "source": [
    "Also give a formula for $\\mbox{df}(0)$:"
   ]
  },
  {
   "cell_type": "markdown",
   "metadata": {
    "collapsed": true
   },
   "source": [
    "<u><b>My answer (to be filled in with Markdown and Equations):</b></u>\n",
    "\n",
    "$$\n",
    "df(0) = ...... some formula involving \\sigma_i ......\n",
    "$$"
   ]
  },
  {
   "cell_type": "markdown",
   "metadata": {},
   "source": [
    "## 4.4  Actually computing regression coefficients for various values of $\\lambda$\n",
    "\n",
    "\n",
    "Using the prostate dataset,\n",
    "let ${\\bf y}$ be the vector <tt>lcavol</tt>,\n",
    "and let $X$ be the matrix with the other variables.\n",
    "\n",
    "Also normalize $X$ and ${\\bf y}$ (i.e., replace them by their z-scores), so that all columns have the same scale.\n",
    "\n",
    "Plot the value of the ridge regression coefficients ${\\bf c}$\n",
    "for all values of $\\lambda$ from 0 to $2 \\, ||{X' \\, X}||$."
   ]
  },
  {
   "cell_type": "code",
   "execution_count": null,
   "metadata": {
    "collapsed": true
   },
   "outputs": [],
   "source": [
    "# COMPLETE THIS CODE SO THAT IT PLOTS THE COEFFICIENTS c FOR VARIOUS VALUES OF lambda\n",
    "# AND INCLUDE THE PLOT IN THE OUTPUT YOU SUBMIT.\n",
    "\n",
    "max_lambda = round( 2 * norm(X.T * X) )\n",
    "N = 100\n",
    "lambda_values = np.linspace( 0, max_lambda, N )\n",
    "\n",
    "c_values = np.zeros((p,N))\n",
    "                             \n",
    "colors = [ 'r', 'g', 'b', 'c', 'm', 'y', 'k', 'b' ]\n",
    "# varnames = [ 'lcavol', 'lweight', 'age', 'lbph', 'svi', 'lcp', 'gleason', 'pgg45' ]\n",
    "\n",
    "for j in range(N):\n",
    "   c_values[:,j] = ...\n",
    "\n",
    "plt.plot( lambda_values, c[0,:], colors[i])\n",
    "plt.hold(True)\n",
    "for i in range(1,p):\n",
    "   plt.plot( ..., colors[i] )\n",
    "\n",
    "plt.xlabel('lambda')\n",
    "plt.ylabel('coefficient value')\n",
    "plt.title('Ridge regression coefficients for various values of lambda')\n",
    "# plt.legend( ... varnames ... )   #  add a legend showing variable names\n",
    "plt.hold(False)\n",
    "                             "
   ]
  },
  {
   "cell_type": "markdown",
   "metadata": {},
   "source": [
    "## 4.5 Plotting the Generalized Cross-Validation function\n",
    "\n",
    "An 'optimal' value of $\\lambda$ will yield coefficients ${\\bf c}$ that balances the residual sum of squares:\n",
    "\n",
    "$$\n",
    "RSS = ||{{\\bf y} \\,-\\, \\widehat{{\\bf y}}}||^2 \\,=\\, ||{{\\bf y} \\,-\\, H_{\\lambda}\\,{\\bf y}}||^2\n",
    "$$\n",
    "\n",
    "Note $\\widehat{{\\bf y}} \\,=\\, H_{\\lambda}\\,{\\bf y}$ depends on $\\lambda$\n",
    "and the regularization error $||{{\\bf c}}||^2$.\n",
    "\n",
    "Define the <b>Generalized Cross-Validation</b> (GCV) measure\n",
    "\n",
    "$$\n",
    "\\mbox{GCV}(\\lambda) ~=~ \\frac{n}{(n - \\mbox{df}(\\lambda))^2} ~ ||{\\,{\\bf y} \\,-\\, \\widehat{{\\bf y}} \\,}||^2 .\n",
    "$$\n",
    "\n",
    "Ridge Regression is often implemented by finding a value of $\\lambda$\n",
    "that minimizes $\\mbox{GCV}(\\lambda)$.\n",
    "\n",
    "For the values of $\\lambda$ that you used above, compute $\\mbox{GCV}(\\lambda)$."
   ]
  },
  {
   "cell_type": "code",
   "execution_count": null,
   "metadata": {
    "collapsed": true
   },
   "outputs": [],
   "source": [
    "# COMPLETE THIS CODE SO THAT IT PLOTS GCV(lambda) FOR VARIOUS VALUES OF lambda\n",
    "# AND INCLUDE THE PLOT IN THE OUTPUT YOU SUBMIT.\n",
    "\n",
    "max_lambda = round( 2 * norm(X.T * X) )\n",
    "N = 100\n",
    "lambda_values = np.linspace( 0, max_lambda, N )\n",
    "\n",
    "GCV = np.zeros(N)\n",
    "\n",
    "for j in range(N):\n",
    "   GCV[j] = ... some function of lambda_values(j) ....\n",
    "\n",
    "minimal_lambda_position = ( GCV == min(GCV) ).index(True)\n",
    "\n",
    "minimal_lambda = lambda_values[ minimal_lambda_position ]\n",
    "\n",
    "plt.plot( lambda_values, GCV, 'b' )\n",
    "plt.xlabel('lambda')\n",
    "plt.ylabel('GCV(lambda)')\n",
    "plt.title( sprintf('GCV(lambda) is minimal at lambda = %7.3f', minimal_lambda) )\n",
    "plt.hold(True)\n",
    "plt.plot( [minimal_lambda], [min(GCV)], 'r.' )\n",
    "plt.hold(False)\n"
   ]
  },
  {
   "cell_type": "markdown",
   "metadata": {
    "collapsed": true
   },
   "source": [
    "## 4.6 Actually Optimizing Generalized Cross-Validation\n",
    "\n",
    "First, develop a function that computes $\\mbox{GCV}(\\lambda)$.\n",
    "\n",
    "Then, use an optimization routine to find a value $\\lambda$\n",
    "in the interval $[\\, 0,\\,2 \\, ||{X' \\, X}|| \\,]$\n",
    "for which $\\mbox{GCV}(\\lambda)$ is minimal.\n"
   ]
  },
  {
   "cell_type": "code",
   "execution_count": null,
   "metadata": {
    "collapsed": true
   },
   "outputs": [],
   "source": [
    "import scipy.optimize as optimize\n",
    "\n",
    "help( optimize )\n",
    "\n",
    "help( optimize.fmin )\n",
    "\n",
    "help( optimize.fminbound )\n",
    "\n",
    "help( optimize.minimize )\n"
   ]
  },
  {
   "cell_type": "code",
   "execution_count": null,
   "metadata": {
    "collapsed": true
   },
   "outputs": [],
   "source": [
    "# COMPLETE THIS CODE SO THAT IT FINDS A VALUE OF lambda THAT MINIMIZES GCV(lambda).\n",
    "\n",
    "max_lambda = round( 2 * np.norm(X.T * X) )\n",
    "\n",
    "def GCV_function(lambda_):  ....\n",
    "\n",
    "minimal_lambda =  optimize.fmin( ... )\n"
   ]
  },
  {
   "cell_type": "markdown",
   "metadata": {},
   "source": [
    "<hr style=\"border-width:60px;\"/>"
   ]
  }
 ],
 "metadata": {
  "anaconda-cloud": {},
  "kernelspec": {
   "display_name": "Python [conda root]",
   "language": "python",
   "name": "conda-root-py"
  },
  "language_info": {
   "codemirror_mode": {
    "name": "ipython",
    "version": 3
   },
   "file_extension": ".py",
   "mimetype": "text/x-python",
   "name": "python",
   "nbconvert_exporter": "python",
   "pygments_lexer": "ipython3",
   "version": "3.5.2"
  }
 },
 "nbformat": 4,
 "nbformat_minor": 0
}
