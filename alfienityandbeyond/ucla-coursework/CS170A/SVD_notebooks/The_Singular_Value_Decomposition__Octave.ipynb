{
 "cells": [
  {
   "cell_type": "markdown",
   "metadata": {},
   "source": [
    "#  The Singular Value Decomposition "
   ]
  },
  {
   "cell_type": "code",
   "execution_count": 1,
   "metadata": {
    "collapsed": false
   },
   "outputs": [],
   "source": [
    "% eigsvdgui # demo showing how various Eigenvalue routines eliminate off-diagonal entries"
   ]
  },
  {
   "cell_type": "code",
   "execution_count": 2,
   "metadata": {
    "collapsed": false
   },
   "outputs": [],
   "source": [
    "% imagesvd  # demo showing how the rank-k approximation work  (works only in Matlab)"
   ]
  },
  {
   "cell_type": "markdown",
   "metadata": {},
   "source": [
    "## Unitary Matrices\n",
    "\n",
    "A (possibly complex) square matrix $U$ is <b>unitary</b> if\n",
    "$U' \\, U ~=~ U \\, U' ~=~ I$.\n",
    "\n",
    "<ul><li>\n",
    "every orthogonal matrix $Q$ is unitary:  $Q'\\,Q ~=~ I$.\n",
    "</li><li>\n",
    "a <b>complex unit value</b> (a value like $z = e^{i\\theta}$) is unitary:  $\\overline{z}\\,z ~=~ 1$.\n",
    "</li><li>every diagonal matrix $D$ of complex unit values is unitary:\n",
    "$D' \\, D ~=~ 1$.\n",
    "</li><li>\n",
    "If $U$ is unitary, then the eigenvalues of $U$ are complex unit values.\n",
    "</li><li>\n",
    "Unitary matrices preserve the length of any vector they transform:\n",
    "if $U$ is unitary, and ${\\bf v}$ is a vector,\n",
    " then $\\mid\\mid{U\\,{\\bf v}}\\mid\\mid = \\mid\\mid{\\bf v}\\mid\\mid$.\n",
    "</li></ul>\n"
   ]
  },
  {
   "cell_type": "code",
   "execution_count": 3,
   "metadata": {
    "collapsed": false
   },
   "outputs": [
    {
     "name": "stdout",
     "output_type": "stream",
     "text": [
      "Q =\n",
      "\n",
      "   0.37175   0.60150   0.60150   0.37175\n",
      "   0.60150   0.37175  -0.37175  -0.60150\n",
      "   0.60150  -0.37175  -0.37175   0.60150\n",
      "   0.37175  -0.60150   0.60150  -0.37175\n",
      "\n",
      "ans =\n",
      "\n",
      "   1.00000  -0.00000   0.00000   0.00000\n",
      "  -0.00000   1.00000   0.00000  -0.00000\n",
      "   0.00000   0.00000   1.00000   0.00000\n",
      "   0.00000  -0.00000   0.00000   1.00000\n",
      "\n"
     ]
    }
   ],
   "source": [
    "%  All orthogonal matrices are unitary\n",
    "\n",
    "%  random orthogonal matrix\n",
    "\n",
    "Q = gallery(\"orthog\", 4)\n",
    "\n",
    "Q' * Q"
   ]
  },
  {
   "cell_type": "markdown",
   "metadata": {},
   "source": [
    "### Nice Example of a Unitary Matrix:  The Fourier Matrix"
   ]
  },
  {
   "cell_type": "code",
   "execution_count": 4,
   "metadata": {
    "collapsed": false
   },
   "outputs": [
    {
     "name": "stdout",
     "output_type": "stream",
     "text": [
      "F2 =\n",
      "\n",
      "   0.70711   0.70711\n",
      "   0.70711  -0.70711\n",
      "\n"
     ]
    }
   ],
   "source": [
    "FourierMatrix  =  @(n) 1/sqrt(n) * fft(eye(n));\n",
    "\n",
    "F2 = FourierMatrix(2)"
   ]
  },
  {
   "cell_type": "code",
   "execution_count": 5,
   "metadata": {
    "collapsed": false
   },
   "outputs": [
    {
     "name": "stdout",
     "output_type": "stream",
     "text": [
      "ans =\n",
      "\n",
      "   1.00000   0.00000\n",
      "   0.00000   1.00000\n",
      "\n",
      "ans = -1.00000\n"
     ]
    }
   ],
   "source": [
    "F2 * F2'\n",
    "det(F2)"
   ]
  },
  {
   "cell_type": "code",
   "execution_count": 6,
   "metadata": {
    "collapsed": false
   },
   "outputs": [
    {
     "name": "stdout",
     "output_type": "stream",
     "text": [
      "F4 =\n",
      "\n",
      " Columns 1 through 3:\n",
      "\n",
      "   0.50000 + 0.00000i   0.50000 + 0.00000i   0.50000 + 0.00000i\n",
      "   0.50000 + 0.00000i   0.00000 - 0.50000i  -0.50000 + 0.00000i\n",
      "   0.50000 + 0.00000i  -0.50000 + 0.00000i   0.50000 + 0.00000i\n",
      "   0.50000 - 0.00000i   0.00000 + 0.50000i  -0.50000 - 0.00000i\n",
      "\n",
      " Column 4:\n",
      "\n",
      "   0.50000 + 0.00000i\n",
      "   0.00000 + 0.50000i\n",
      "  -0.50000 + 0.00000i\n",
      "   0.00000 - 0.50000i\n",
      "\n"
     ]
    }
   ],
   "source": [
    "F4 = FourierMatrix(4)"
   ]
  },
  {
   "cell_type": "code",
   "execution_count": 7,
   "metadata": {
    "collapsed": false
   },
   "outputs": [
    {
     "name": "stdout",
     "output_type": "stream",
     "text": [
      "ans =\n",
      "\n",
      "   1   0   0   0\n",
      "   0   1   0   0\n",
      "   0   0   1   0\n",
      "   0   0   0   1\n",
      "\n"
     ]
    }
   ],
   "source": [
    "F4 * F4'"
   ]
  },
  {
   "cell_type": "code",
   "execution_count": 8,
   "metadata": {
    "collapsed": false
   },
   "outputs": [
    {
     "name": "stdout",
     "output_type": "stream",
     "text": [
      "ans =  0 + 1i\r\n"
     ]
    }
   ],
   "source": [
    "det(F4)"
   ]
  },
  {
   "cell_type": "markdown",
   "metadata": {},
   "source": [
    "## The SVD"
   ]
  },
  {
   "cell_type": "code",
   "execution_count": 9,
   "metadata": {
    "collapsed": false
   },
   "outputs": [
    {
     "name": "stdout",
     "output_type": "stream",
     "text": [
      "A =\n",
      "\n",
      "   0.838993   0.461125   0.392736\n",
      "   0.036211   0.240850   0.670676\n",
      "   0.077928   0.161682   0.936185\n",
      "\n",
      "U =\n",
      "\n",
      "  -0.611913   0.790430   0.027998\n",
      "  -0.478099  -0.341458  -0.809215\n",
      "  -0.630067  -0.508555   0.586846\n",
      "\n",
      "S =\n",
      "\n",
      "Diagonal Matrix\n",
      "\n",
      "   1.381943          0          0\n",
      "          0   0.754526          0\n",
      "          0          0   0.097434\n",
      "\n",
      "V =\n",
      "\n",
      "  -0.41956   0.81001   0.40971\n",
      "  -0.36122   0.26510  -0.89400\n",
      "  -0.83276  -0.52308   0.18137\n",
      "\n"
     ]
    }
   ],
   "source": [
    "A = rand(3,3)\n",
    "[U,S,V] = svd(A)"
   ]
  },
  {
   "cell_type": "code",
   "execution_count": 10,
   "metadata": {
    "collapsed": false
   },
   "outputs": [
    {
     "name": "stdout",
     "output_type": "stream",
     "text": [
      "ans =\n",
      "\n",
      "   0.838993   0.461125   0.392736\n",
      "   0.036211   0.240850   0.670676\n",
      "   0.077928   0.161682   0.936185\n",
      "\n",
      "A =\n",
      "\n",
      "   0.838993   0.461125   0.392736\n",
      "   0.036211   0.240850   0.670676\n",
      "   0.077928   0.161682   0.936185\n",
      "\n",
      "error =    6.7002e-16\n"
     ]
    }
   ],
   "source": [
    "U * S * V'\n",
    "A\n",
    "error = norm( A - U * S * V' )"
   ]
  },
  {
   "cell_type": "markdown",
   "metadata": {},
   "source": [
    "### Every matrix has an SVD -- even rectangular matrices"
   ]
  },
  {
   "cell_type": "code",
   "execution_count": 11,
   "metadata": {
    "collapsed": false
   },
   "outputs": [
    {
     "name": "stdout",
     "output_type": "stream",
     "text": [
      "A =\n",
      "\n",
      "   0.796714   0.856384   0.077361\n",
      "   0.683926   0.477364   0.273891\n",
      "   0.737613   0.193704   0.203371\n",
      "   0.979902   0.247950   0.318896\n",
      "\n",
      "U =\n",
      "\n",
      "  -0.583618  -0.728560  -0.345078   0.097527\n",
      "  -0.458899  -0.067737   0.864762  -0.192378\n",
      "  -0.401305   0.386539  -0.350182  -0.752937\n",
      "  -0.536429   0.561426  -0.102372   0.621743\n",
      "\n",
      "S =\n",
      "\n",
      "Diagonal Matrix\n",
      "\n",
      "   1.89871         0         0\n",
      "         0   0.52190         0\n",
      "         0         0   0.11684\n",
      "         0         0         0\n",
      "\n",
      "V =\n",
      "\n",
      "  -0.84293   0.39946  -0.36041\n",
      "  -0.48960  -0.84726   0.20604\n",
      "  -0.22306   0.35013   0.90976\n",
      "\n"
     ]
    }
   ],
   "source": [
    "A = rand(4,3)\n",
    "[U,S,V] = svd(A)"
   ]
  },
  {
   "cell_type": "code",
   "execution_count": 12,
   "metadata": {
    "collapsed": false
   },
   "outputs": [
    {
     "name": "stdout",
     "output_type": "stream",
     "text": [
      "ans =\n",
      "\n",
      "   0.796714   0.856384   0.077361\n",
      "   0.683926   0.477364   0.273891\n",
      "   0.737613   0.193704   0.203371\n",
      "   0.979902   0.247950   0.318896\n",
      "\n",
      "A =\n",
      "\n",
      "   0.796714   0.856384   0.077361\n",
      "   0.683926   0.477364   0.273891\n",
      "   0.737613   0.193704   0.203371\n",
      "   0.979902   0.247950   0.318896\n",
      "\n",
      "error =    3.2342e-16\n"
     ]
    }
   ],
   "source": [
    "U * S * V'\n",
    "A\n",
    "error = norm( A - U * S * V' )"
   ]
  },
  {
   "cell_type": "markdown",
   "metadata": {},
   "source": [
    "## The \"Economy\" SVD  -- doesn't bother with zero singular values; S is always a square matrix"
   ]
  },
  {
   "cell_type": "code",
   "execution_count": 13,
   "metadata": {
    "collapsed": false
   },
   "outputs": [
    {
     "name": "stdout",
     "output_type": "stream",
     "text": [
      "U =\n",
      "\n",
      "  -0.583618  -0.728560  -0.345078\n",
      "  -0.458899  -0.067737   0.864762\n",
      "  -0.401305   0.386539  -0.350182\n",
      "  -0.536429   0.561426  -0.102372\n",
      "\n",
      "S =\n",
      "\n",
      "Diagonal Matrix\n",
      "\n",
      "   1.89871         0         0\n",
      "         0   0.52190         0\n",
      "         0         0   0.11684\n",
      "\n",
      "V =\n",
      "\n",
      "  -0.84293   0.39946  -0.36041\n",
      "  -0.48960  -0.84726   0.20604\n",
      "  -0.22306   0.35013   0.90976\n",
      "\n"
     ]
    }
   ],
   "source": [
    "[U,S,V] = svd(A, 'econ')"
   ]
  },
  {
   "cell_type": "markdown",
   "metadata": {},
   "source": [
    "## The Rank-$k$ Approximation of a Matrix, using the SVD\n",
    "\n",
    "If $A \\,=\\, U\\,S\\,V'$, the <b>rank-k approximation</b>\n",
    "of $A$ is\n",
    "\\[\n",
    "A^{(k)} ~~=~~ U ~ S^{(k)} ~ \\adjoint{V}\n",
    "\\]\n",
    "where all columns {\\bf after $k$} of $U^{(k)}$, $S^{(k)}$, and $V^{(k)}$ are zero:\n",
    "$${\\small\n",
    "A^{(k)} ~~=~~\n",
    "\\begin{pmatrix}\n",
    " & & & & \\\\\n",
    " & & & & \\\\\n",
    "{\\bf u}_1 & \\cdots & {\\bf u}_k & {\\bf 0} & \\cdots  & {\\bf 0} \\\\\n",
    " & & & & \\\\\n",
    " & & & &\n",
    "\\end{pmatrix}\n",
    "~~\n",
    "\\begin{pmatrix}\n",
    "\\sigma_1 &        &          &  &  & \\\\\n",
    "         & \\ddots &          &  &  & \\\\\n",
    "         &        & \\sigma_k &  &  & \\\\\n",
    "         &        &          & 0 &  & \\\\\n",
    "         &        &          &  &  \\ddots & \\\\\n",
    "         &        &          &  &  & 0 \\\\\n",
    "         &        &          &  &  & \\\\\n",
    "         &        &          &  &  & \\\\\n",
    "\\end{pmatrix}\n",
    "~~\n",
    "\\begin{pmatrix}\n",
    " & & & & \\\\\n",
    " & & & & \\\\\n",
    "{\\bf v}_1 & \\cdots  & {\\bf v}_k & {\\bf 0} & \\cdots  & {\\bf 0} \\\\\n",
    " & & & & \\\\\n",
    " & & & &\n",
    "\\end{pmatrix} '\n",
    "}$$"
   ]
  },
  {
   "cell_type": "code",
   "execution_count": 14,
   "metadata": {
    "collapsed": false
   },
   "outputs": [
    {
     "name": "stdout",
     "output_type": "stream",
     "text": [
      "U2 =\n",
      "\n",
      "  -0.583618  -0.728560\n",
      "  -0.458899  -0.067737\n",
      "  -0.401305   0.386539\n",
      "  -0.536429   0.561426\n",
      "\n",
      "S2 =\n",
      "\n",
      "Diagonal Matrix\n",
      "\n",
      "   1.89871         0\n",
      "         0   0.52190\n",
      "\n",
      "V2 =\n",
      "\n",
      "  -0.84293   0.39946\n",
      "  -0.48960  -0.84726\n",
      "  -0.22306   0.35013\n",
      "\n"
     ]
    }
   ],
   "source": [
    "[U2, S2, V2] = svds(A, 2)  %  compute only the first 2 columns of A's SVD"
   ]
  },
  {
   "cell_type": "code",
   "execution_count": 15,
   "metadata": {
    "collapsed": false
   },
   "outputs": [
    {
     "name": "stdout",
     "output_type": "stream",
     "text": [
      "error =  0.11684\r\n"
     ]
    }
   ],
   "source": [
    "error = norm( A - U2 * S2 * V2' )  %  approximation error! (omitted 3rd column)"
   ]
  },
  {
   "cell_type": "markdown",
   "metadata": {},
   "source": [
    "## The Rank-$k$ Approximation is a Good Approximation\n",
    "\n",
    "$$\\begin{eqnarray*}\n",
    "A \\; - \\; A^{(k)}\n",
    " & = &\n",
    "U \\; S \\; V' ~ - ~ U^{(k)} ~ S^{(k)} ~ V^{(k)'}  \\\\\n",
    " & = &\n",
    "U \\; S \\; V' ~ - ~ U \\; S^{(k)} \\; V' \\\\\n",
    " & = &\n",
    "U \\; (S ~ - ~ S^{(k)}) \\; V ' \\\\\n",
    "\\\\\n",
    "\\mid\\mid{A \\; - \\; A^{(k)}}\\mid\\mid^2_{F} & = & \\sum_{i>k} \\sigma_i^2 .\n",
    "\\end{eqnarray*}$$"
   ]
  },
  {
   "cell_type": "code",
   "execution_count": 16,
   "metadata": {
    "collapsed": false
   },
   "outputs": [
    {
     "name": "stdout",
     "output_type": "stream",
     "text": [
      "A2 =\n",
      "\n",
      "   0.78218   0.86469   0.11404\n",
      "   0.72034   0.45655   0.18197\n",
      "   0.72287   0.20213   0.24059\n",
      "   0.97559   0.25041   0.32978\n",
      "\n",
      "S =\n",
      "\n",
      "Diagonal Matrix\n",
      "\n",
      "   1.89871         0         0\n",
      "         0   0.52190         0\n",
      "         0         0   0.11684\n",
      "         0         0         0\n",
      "\n"
     ]
    }
   ],
   "source": [
    "[U, S, V] = svd(A);\n",
    "\n",
    "[U2, S2, V2] = svds(A, 2);\n",
    "\n",
    "A2 = U2 * S2 * V2'     % rank-2 approximation of A\n",
    "\n",
    "S"
   ]
  },
  {
   "cell_type": "code",
   "execution_count": 17,
   "metadata": {
    "collapsed": false
   },
   "outputs": [
    {
     "name": "stdout",
     "output_type": "stream",
     "text": [
      "ans =  0.013651\n",
      "ans =  0.013651\n"
     ]
    }
   ],
   "source": [
    "norm( A - A2, 'fro' )^2  % squared Frobenius norm\n",
    "\n",
    "sum( diag(S).^2 ) - sum( diag(S2).^2 )"
   ]
  },
  {
   "cell_type": "markdown",
   "metadata": {},
   "source": [
    "## Latent Semantic Indexing\n",
    "\n",
    "Demo of Latent Semantic Indexing\n",
    "for a co-occurrence matrix of X terms vs. Y terms\n",
    "(in this case, Keywords vs. Books).\n",
    "\n",
    "Components are computed as in:\n",
    "  Berry, M. W., Dumais, S. T., and O'Brien, G. W. (1995).\n",
    "  \"Using linear algebra for intelligent information retrieval.\"\n",
    "  SIAM Review, 37(4), 1995, 573-595.\n",
    "\n",
    "LSI references:\n",
    "<a target=\"_blank\"\n",
    "href=\"http://lsi.research.telcordia.com/lsi/LSIpapers.html\">lsi.research.telcordia.com/lsi/LSIpapers.html</a>"
   ]
  },
  {
   "cell_type": "code",
   "execution_count": 18,
   "metadata": {
    "collapsed": false
   },
   "outputs": [
    {
     "name": "stdout",
     "output_type": "stream",
     "text": [
      "Xfactor =\n",
      "\n",
      "   0.0158718  -0.4317246\n",
      "   0.0265872  -0.3756293\n",
      "   0.1784834  -0.1692080\n",
      "   0.6013705   0.1186813\n",
      "   0.6690689   0.1209205\n",
      "   0.0147793  -0.3602535\n",
      "   0.0519705  -0.2248061\n",
      "   0.0065613  -0.1120144\n",
      "   0.1503431   0.1126545\n",
      "   0.0813181   0.0672148\n",
      "   0.1503431   0.1126545\n",
      "   0.1784834  -0.1692080\n",
      "   0.1414814   0.0974388\n",
      "   0.0105168  -0.2363185\n",
      "   0.0952170   0.0398872\n",
      "   0.2050705  -0.5448372\n",
      "\n",
      "Yfactor =\n",
      "\n",
      "   0.1591196  -0.0376639\n",
      "   0.1476507   0.0438399\n",
      "   0.0578865  -0.6208499\n",
      "   0.3115839   0.1221947\n",
      "   0.0049506  -0.1971336\n",
      "   0.0247814  -0.1118276\n",
      "   0.0090850  -0.3728108\n",
      "   0.3677299   0.1830154\n",
      "   0.0389579   0.0388300\n",
      "   0.3135395   0.1277112\n",
      "   0.4043925  -0.2333570\n",
      "   0.4043925  -0.2333570\n",
      "   0.3295292   0.1465635\n",
      "   0.3135395   0.1277112\n",
      "   0.2803617   0.0868681\n",
      "   0.0137897  -0.1671816\n",
      "   0.0625913  -0.4152207\n",
      "\n"
     ]
    },
    {
     "data": {
      "image/svg+xml": [
       "<svg height=\"420px\" viewBox=\"0 0 576 432\" width=\"560px\" xmlns=\"http://www.w3.org/2000/svg\" xmlns:xlink=\"http://www.w3.org/1999/xlink\">\n",
       "\n",
       "<title>Gnuplot</title>\n",
       "<desc>Produced by GNUPLOT 5.0 patchlevel 4 </desc>\n",
       "\n",
       "<g id=\"gnuplot_canvas\">\n",
       "\n",
       "<rect fill=\"none\" height=\"432\" width=\"576\" x=\"0\" y=\"0\"/>\n",
       "<defs>\n",
       "\n",
       "\t<circle id=\"gpDot\" r=\"0.5\" stroke-width=\"0.5\"/>\n",
       "\t<path d=\"M-1,0 h2 M0,-1 v2\" id=\"gpPt0\" stroke=\"currentColor\" stroke-width=\"0.333\"/>\n",
       "\t<path d=\"M-1,-1 L1,1 M1,-1 L-1,1\" id=\"gpPt1\" stroke=\"currentColor\" stroke-width=\"0.333\"/>\n",
       "\t<path d=\"M-1,0 L1,0 M0,-1 L0,1 M-1,-1 L1,1 M-1,1 L1,-1\" id=\"gpPt2\" stroke=\"currentColor\" stroke-width=\"0.333\"/>\n",
       "\t<rect height=\"2\" id=\"gpPt3\" stroke=\"currentColor\" stroke-width=\"0.333\" width=\"2\" x=\"-1\" y=\"-1\"/>\n",
       "\t<rect fill=\"currentColor\" height=\"2\" id=\"gpPt4\" stroke=\"currentColor\" stroke-width=\"0.333\" width=\"2\" x=\"-1\" y=\"-1\"/>\n",
       "\t<circle cx=\"0\" cy=\"0\" id=\"gpPt5\" r=\"1\" stroke=\"currentColor\" stroke-width=\"0.333\"/>\n",
       "\t<use fill=\"currentColor\" id=\"gpPt6\" stroke=\"none\" xlink:href=\"#gpPt5\"/>\n",
       "\t<path d=\"M0,-1.33 L-1.33,0.67 L1.33,0.67 z\" id=\"gpPt7\" stroke=\"currentColor\" stroke-width=\"0.333\"/>\n",
       "\t<use fill=\"currentColor\" id=\"gpPt8\" stroke=\"none\" xlink:href=\"#gpPt7\"/>\n",
       "\t<use id=\"gpPt9\" stroke=\"currentColor\" transform=\"rotate(180)\" xlink:href=\"#gpPt7\"/>\n",
       "\t<use fill=\"currentColor\" id=\"gpPt10\" stroke=\"none\" xlink:href=\"#gpPt9\"/>\n",
       "\t<use id=\"gpPt11\" stroke=\"currentColor\" transform=\"rotate(45)\" xlink:href=\"#gpPt3\"/>\n",
       "\t<use fill=\"currentColor\" id=\"gpPt12\" stroke=\"none\" xlink:href=\"#gpPt11\"/>\n",
       "\t<path d=\"M0,1.330 L1.265,0.411 L0.782,-1.067 L-0.782,-1.076 L-1.265,0.411 z\" id=\"gpPt13\" stroke=\"currentColor\" stroke-width=\"0.333\"/>\n",
       "\t<use fill=\"currentColor\" id=\"gpPt14\" stroke=\"none\" xlink:href=\"#gpPt13\"/>\n",
       "\t<filter filterUnits=\"objectBoundingBox\" height=\"1\" id=\"textbox\" width=\"1\" x=\"0\" y=\"0\">\n",
       "\t  <feFlood flood-color=\"white\" flood-opacity=\"1\" result=\"bgnd\"/>\n",
       "\t  <feComposite in=\"SourceGraphic\" in2=\"bgnd\" operator=\"atop\"/>\n",
       "\t</filter>\n",
       "\t<filter filterUnits=\"objectBoundingBox\" height=\"1\" id=\"greybox\" width=\"1\" x=\"0\" y=\"0\">\n",
       "\t  <feFlood flood-color=\"lightgrey\" flood-opacity=\"1\" result=\"grey\"/>\n",
       "\t  <feComposite in=\"SourceGraphic\" in2=\"grey\" operator=\"atop\"/>\n",
       "\t</filter>\n",
       "</defs>\n",
       "<g color=\"white\" fill=\"none\" stroke=\"currentColor\" stroke-linecap=\"butt\" stroke-linejoin=\"miter\" stroke-width=\"1.00\">\n",
       "</g>\n",
       "<g color=\"black\" fill=\"none\" stroke=\"currentColor\" stroke-linecap=\"butt\" stroke-linejoin=\"miter\" stroke-width=\"1.00\">\n",
       "\t<g shape-rendering=\"crispEdges\" stroke=\"none\">\n",
       "\t\t<polygon fill=\"rgb(255, 255, 255)\" points=\"48.4,393.6 559.0,393.6 559.0,39.2 48.4,39.2 \"/>\n",
       "\t</g>\n",
       "</g>\n",
       "<g color=\"black\" fill=\"none\" stroke=\"rgb(255, 255, 255)\" stroke-linecap=\"butt\" stroke-linejoin=\"miter\" stroke-width=\"0.50\">\n",
       "</g>\n",
       "<g color=\"black\" fill=\"none\" stroke=\"currentColor\" stroke-linecap=\"butt\" stroke-linejoin=\"miter\" stroke-width=\"0.50\">\n",
       "\t<path d=\"M48.4,393.6 L56.8,393.6 M559.1,393.6 L550.7,393.6  \" stroke=\"black\"/>\t<g fill=\"rgb(0,0,0)\" font-family=\"{}\" font-size=\"10.00\" stroke=\"none\" text-anchor=\"end\" transform=\"translate(42.8,397.3)\">\n",
       "\t\t<text><tspan font-family=\"{}\">-0.8</tspan></text>\n",
       "\t</g>\n",
       "</g>\n",
       "<g color=\"black\" fill=\"none\" stroke=\"currentColor\" stroke-linecap=\"butt\" stroke-linejoin=\"miter\" stroke-width=\"0.50\">\n",
       "\t<path d=\"M48.4,322.7 L56.8,322.7 M559.1,322.7 L550.7,322.7  \" stroke=\"black\"/>\t<g fill=\"rgb(0,0,0)\" font-family=\"{}\" font-size=\"10.00\" stroke=\"none\" text-anchor=\"end\" transform=\"translate(42.8,326.4)\">\n",
       "\t\t<text><tspan font-family=\"{}\">-0.6</tspan></text>\n",
       "\t</g>\n",
       "</g>\n",
       "<g color=\"black\" fill=\"none\" stroke=\"currentColor\" stroke-linecap=\"butt\" stroke-linejoin=\"miter\" stroke-width=\"0.50\">\n",
       "\t<path d=\"M48.4,251.8 L56.8,251.8 M559.1,251.8 L550.7,251.8  \" stroke=\"black\"/>\t<g fill=\"rgb(0,0,0)\" font-family=\"{}\" font-size=\"10.00\" stroke=\"none\" text-anchor=\"end\" transform=\"translate(42.8,255.5)\">\n",
       "\t\t<text><tspan font-family=\"{}\">-0.4</tspan></text>\n",
       "\t</g>\n",
       "</g>\n",
       "<g color=\"black\" fill=\"none\" stroke=\"currentColor\" stroke-linecap=\"butt\" stroke-linejoin=\"miter\" stroke-width=\"0.50\">\n",
       "\t<path d=\"M48.4,180.9 L56.8,180.9 M559.1,180.9 L550.7,180.9  \" stroke=\"black\"/>\t<g fill=\"rgb(0,0,0)\" font-family=\"{}\" font-size=\"10.00\" stroke=\"none\" text-anchor=\"end\" transform=\"translate(42.8,184.6)\">\n",
       "\t\t<text><tspan font-family=\"{}\">-0.2</tspan></text>\n",
       "\t</g>\n",
       "</g>\n",
       "<g color=\"black\" fill=\"none\" stroke=\"currentColor\" stroke-linecap=\"butt\" stroke-linejoin=\"miter\" stroke-width=\"0.50\">\n",
       "\t<path d=\"M48.4,110.0 L56.8,110.0 M559.1,110.0 L550.7,110.0  \" stroke=\"black\"/>\t<g fill=\"rgb(0,0,0)\" font-family=\"{}\" font-size=\"10.00\" stroke=\"none\" text-anchor=\"end\" transform=\"translate(42.8,113.7)\">\n",
       "\t\t<text><tspan font-family=\"{}\">0</tspan></text>\n",
       "\t</g>\n",
       "</g>\n",
       "<g color=\"black\" fill=\"none\" stroke=\"currentColor\" stroke-linecap=\"butt\" stroke-linejoin=\"miter\" stroke-width=\"0.50\">\n",
       "\t<path d=\"M48.4,39.1 L56.8,39.1 M559.1,39.1 L550.7,39.1  \" stroke=\"black\"/>\t<g fill=\"rgb(0,0,0)\" font-family=\"{}\" font-size=\"10.00\" stroke=\"none\" text-anchor=\"end\" transform=\"translate(42.8,42.8)\">\n",
       "\t\t<text><tspan font-family=\"{}\">0.2</tspan></text>\n",
       "\t</g>\n",
       "</g>\n",
       "<g color=\"black\" fill=\"none\" stroke=\"currentColor\" stroke-linecap=\"butt\" stroke-linejoin=\"miter\" stroke-width=\"0.50\">\n",
       "\t<path d=\"M48.4,393.6 L48.4,385.2 M48.4,39.1 L48.4,47.5  \" stroke=\"black\"/>\t<g fill=\"rgb(0,0,0)\" font-family=\"{}\" font-size=\"10.00\" stroke=\"none\" text-anchor=\"middle\" transform=\"translate(48.4,409.3)\">\n",
       "\t\t<text><tspan font-family=\"{}\">0</tspan></text>\n",
       "\t</g>\n",
       "</g>\n",
       "<g color=\"black\" fill=\"none\" stroke=\"currentColor\" stroke-linecap=\"butt\" stroke-linejoin=\"miter\" stroke-width=\"0.50\">\n",
       "\t<path d=\"M121.4,393.6 L121.4,385.2 M121.4,39.1 L121.4,47.5  \" stroke=\"black\"/>\t<g fill=\"rgb(0,0,0)\" font-family=\"{}\" font-size=\"10.00\" stroke=\"none\" text-anchor=\"middle\" transform=\"translate(121.4,409.3)\">\n",
       "\t\t<text><tspan font-family=\"{}\">0.1</tspan></text>\n",
       "\t</g>\n",
       "</g>\n",
       "<g color=\"black\" fill=\"none\" stroke=\"currentColor\" stroke-linecap=\"butt\" stroke-linejoin=\"miter\" stroke-width=\"0.50\">\n",
       "\t<path d=\"M194.3,393.6 L194.3,385.2 M194.3,39.1 L194.3,47.5  \" stroke=\"black\"/>\t<g fill=\"rgb(0,0,0)\" font-family=\"{}\" font-size=\"10.00\" stroke=\"none\" text-anchor=\"middle\" transform=\"translate(194.3,409.3)\">\n",
       "\t\t<text><tspan font-family=\"{}\">0.2</tspan></text>\n",
       "\t</g>\n",
       "</g>\n",
       "<g color=\"black\" fill=\"none\" stroke=\"currentColor\" stroke-linecap=\"butt\" stroke-linejoin=\"miter\" stroke-width=\"0.50\">\n",
       "\t<path d=\"M267.3,393.6 L267.3,385.2 M267.3,39.1 L267.3,47.5  \" stroke=\"black\"/>\t<g fill=\"rgb(0,0,0)\" font-family=\"{}\" font-size=\"10.00\" stroke=\"none\" text-anchor=\"middle\" transform=\"translate(267.3,409.3)\">\n",
       "\t\t<text><tspan font-family=\"{}\">0.3</tspan></text>\n",
       "\t</g>\n",
       "</g>\n",
       "<g color=\"black\" fill=\"none\" stroke=\"currentColor\" stroke-linecap=\"butt\" stroke-linejoin=\"miter\" stroke-width=\"0.50\">\n",
       "\t<path d=\"M340.2,393.6 L340.2,385.2 M340.2,39.1 L340.2,47.5  \" stroke=\"black\"/>\t<g fill=\"rgb(0,0,0)\" font-family=\"{}\" font-size=\"10.00\" stroke=\"none\" text-anchor=\"middle\" transform=\"translate(340.2,409.3)\">\n",
       "\t\t<text><tspan font-family=\"{}\">0.4</tspan></text>\n",
       "\t</g>\n",
       "</g>\n",
       "<g color=\"black\" fill=\"none\" stroke=\"currentColor\" stroke-linecap=\"butt\" stroke-linejoin=\"miter\" stroke-width=\"0.50\">\n",
       "\t<path d=\"M413.2,393.6 L413.2,385.2 M413.2,39.1 L413.2,47.5  \" stroke=\"black\"/>\t<g fill=\"rgb(0,0,0)\" font-family=\"{}\" font-size=\"10.00\" stroke=\"none\" text-anchor=\"middle\" transform=\"translate(413.2,409.3)\">\n",
       "\t\t<text><tspan font-family=\"{}\">0.5</tspan></text>\n",
       "\t</g>\n",
       "</g>\n",
       "<g color=\"black\" fill=\"none\" stroke=\"currentColor\" stroke-linecap=\"butt\" stroke-linejoin=\"miter\" stroke-width=\"0.50\">\n",
       "\t<path d=\"M486.1,393.6 L486.1,385.2 M486.1,39.1 L486.1,47.5  \" stroke=\"black\"/>\t<g fill=\"rgb(0,0,0)\" font-family=\"{}\" font-size=\"10.00\" stroke=\"none\" text-anchor=\"middle\" transform=\"translate(486.1,409.3)\">\n",
       "\t\t<text><tspan font-family=\"{}\">0.6</tspan></text>\n",
       "\t</g>\n",
       "</g>\n",
       "<g color=\"black\" fill=\"none\" stroke=\"currentColor\" stroke-linecap=\"butt\" stroke-linejoin=\"miter\" stroke-width=\"0.50\">\n",
       "\t<path d=\"M559.1,393.6 L559.1,385.2 M559.1,39.1 L559.1,47.5  \" stroke=\"black\"/>\t<g fill=\"rgb(0,0,0)\" font-family=\"{}\" font-size=\"10.00\" stroke=\"none\" text-anchor=\"middle\" transform=\"translate(559.1,409.3)\">\n",
       "\t\t<text><tspan font-family=\"{}\">0.7</tspan></text>\n",
       "\t</g>\n",
       "</g>\n",
       "<g color=\"black\" fill=\"none\" stroke=\"currentColor\" stroke-linecap=\"butt\" stroke-linejoin=\"miter\" stroke-width=\"0.50\">\n",
       "</g>\n",
       "<g color=\"black\" fill=\"none\" stroke=\"currentColor\" stroke-linecap=\"butt\" stroke-linejoin=\"miter\" stroke-width=\"0.50\">\n",
       "\t<path d=\"M48.4,39.1 L48.4,393.6 L559.1,393.6 L559.1,39.1 L48.4,39.1 Z  \" stroke=\"black\"/></g>\n",
       "<g color=\"black\" fill=\"none\" stroke=\"currentColor\" stroke-linecap=\"butt\" stroke-linejoin=\"miter\" stroke-width=\"0.50\">\n",
       "\t<g fill=\"rgb(0,0,0)\" font-family=\"{}\" font-size=\"10.00\" stroke=\"none\" text-anchor=\"middle\" transform=\"translate(12.5,216.4) rotate(-90)\">\n",
       "\t\t<text><tspan font-family=\"{}\">2nd component</tspan></text>\n",
       "\t</g>\n",
       "</g>\n",
       "<g color=\"black\" fill=\"none\" stroke=\"currentColor\" stroke-linecap=\"butt\" stroke-linejoin=\"miter\" stroke-width=\"0.50\">\n",
       "\t<g fill=\"rgb(0,0,0)\" font-family=\"{}\" font-size=\"10.00\" stroke=\"none\" text-anchor=\"middle\" transform=\"translate(303.7,427.3)\">\n",
       "\t\t<text><tspan font-family=\"{}\">1st component</tspan></text>\n",
       "\t</g>\n",
       "</g>\n",
       "<g color=\"black\" fill=\"none\" stroke=\"currentColor\" stroke-linecap=\"butt\" stroke-linejoin=\"miter\" stroke-width=\"0.50\">\n",
       "\t<g fill=\"rgb(0,0,0)\" font-family=\"{}\" font-size=\"10.00\" stroke=\"none\" text-anchor=\"middle\" transform=\"translate(303.7,21.8)\">\n",
       "\t\t<text xml:space=\"preserve\"><tspan font-family=\"{}\" xml:space=\"preserve\">Latent Semantic Indexing:  X term vs. Y term </tspan></text>\n",
       "\t</g>\n",
       "</g>\n",
       "<g color=\"black\" fill=\"none\" stroke=\"currentColor\" stroke-linecap=\"butt\" stroke-linejoin=\"miter\" stroke-width=\"0.50\">\n",
       "</g>\n",
       "\t<g id=\"gnuplot_plot_1a\"><title>gnuplot_plot_1a</title>\n",
       "<g color=\"black\" fill=\"none\" stroke=\"currentColor\" stroke-linecap=\"butt\" stroke-linejoin=\"miter\" stroke-width=\"0.50\">\n",
       "\t<g onmousemove=\"gnuplot_svg.showHypertext(evt,'')\" onmouseout=\"gnuplot_svg.hideHypertext()\"><title> </title>\n",
       "\t<use color=\"rgb(255,   0,   0)\" transform=\"translate(60.0,263.0) scale(6.00)\" xlink:href=\"#gpPt2\"/></g>\n",
       "\t<use color=\"rgb(255,   0,   0)\" transform=\"translate(67.8,243.2) scale(6.00)\" xlink:href=\"#gpPt2\"/>\n",
       "\t<use color=\"rgb(255,   0,   0)\" transform=\"translate(178.6,170.0) scale(6.00)\" xlink:href=\"#gpPt2\"/>\n",
       "\t<use color=\"rgb(255,   0,   0)\" transform=\"translate(487.1,67.9) scale(6.00)\" xlink:href=\"#gpPt2\"/>\n",
       "\t<use color=\"rgb(255,   0,   0)\" transform=\"translate(536.5,67.1) scale(6.00)\" xlink:href=\"#gpPt2\"/>\n",
       "\t<use color=\"rgb(255,   0,   0)\" transform=\"translate(59.2,237.7) scale(6.00)\" xlink:href=\"#gpPt2\"/>\n",
       "\t<use color=\"rgb(255,   0,   0)\" transform=\"translate(86.3,189.7) scale(6.00)\" xlink:href=\"#gpPt2\"/>\n",
       "\t<use color=\"rgb(255,   0,   0)\" transform=\"translate(53.2,149.7) scale(6.00)\" xlink:href=\"#gpPt2\"/>\n",
       "\t<use color=\"rgb(255,   0,   0)\" transform=\"translate(158.1,70.1) scale(6.00)\" xlink:href=\"#gpPt2\"/>\n",
       "\t<use color=\"rgb(255,   0,   0)\" transform=\"translate(107.7,86.2) scale(6.00)\" xlink:href=\"#gpPt2\"/>\n",
       "\t<use color=\"rgb(255,   0,   0)\" transform=\"translate(158.1,70.1) scale(6.00)\" xlink:href=\"#gpPt2\"/>\n",
       "\t<use color=\"rgb(255,   0,   0)\" transform=\"translate(178.6,170.0) scale(6.00)\" xlink:href=\"#gpPt2\"/>\n",
       "\t<use color=\"rgb(255,   0,   0)\" transform=\"translate(151.6,75.5) scale(6.00)\" xlink:href=\"#gpPt2\"/>\n",
       "\t<use color=\"rgb(255,   0,   0)\" transform=\"translate(56.1,193.8) scale(6.00)\" xlink:href=\"#gpPt2\"/>\n",
       "\t<use color=\"rgb(255,   0,   0)\" transform=\"translate(117.9,95.9) scale(6.00)\" xlink:href=\"#gpPt2\"/>\n",
       "\t<use color=\"rgb(255,   0,   0)\" transform=\"translate(198.0,303.1) scale(6.00)\" xlink:href=\"#gpPt2\"/>\n",
       "</g>\n",
       "\t</g>\n",
       "\t<g id=\"gnuplot_plot_2a\"><title>gnuplot_plot_2a</title>\n",
       "<g color=\"black\" fill=\"none\" stroke=\"currentColor\" stroke-linecap=\"butt\" stroke-linejoin=\"miter\" stroke-width=\"0.50\">\n",
       "\t<g onmousemove=\"gnuplot_svg.showHypertext(evt,'')\" onmouseout=\"gnuplot_svg.hideHypertext()\"><title> </title>\n",
       "\t<use color=\"rgb(  0,   0, 255)\" transform=\"translate(164.5,123.4) scale(6.00)\" xlink:href=\"#gpPt2\"/></g>\n",
       "\t<use color=\"rgb(  0,   0, 255)\" transform=\"translate(156.1,94.5) scale(6.00)\" xlink:href=\"#gpPt2\"/>\n",
       "\t<use color=\"rgb(  0,   0, 255)\" transform=\"translate(90.6,330.1) scale(6.00)\" xlink:href=\"#gpPt2\"/>\n",
       "\t<use color=\"rgb(  0,   0, 255)\" transform=\"translate(275.7,66.7) scale(6.00)\" xlink:href=\"#gpPt2\"/>\n",
       "\t<use color=\"rgb(  0,   0, 255)\" transform=\"translate(52.0,179.9) scale(6.00)\" xlink:href=\"#gpPt2\"/>\n",
       "\t<use color=\"rgb(  0,   0, 255)\" transform=\"translate(66.5,149.6) scale(6.00)\" xlink:href=\"#gpPt2\"/>\n",
       "\t<use color=\"rgb(  0,   0, 255)\" transform=\"translate(55.0,242.2) scale(6.00)\" xlink:href=\"#gpPt2\"/>\n",
       "\t<use color=\"rgb(  0,   0, 255)\" transform=\"translate(316.7,45.1) scale(6.00)\" xlink:href=\"#gpPt2\"/>\n",
       "\t<use color=\"rgb(  0,   0, 255)\" transform=\"translate(76.8,96.2) scale(6.00)\" xlink:href=\"#gpPt2\"/>\n",
       "\t<use color=\"rgb(  0,   0, 255)\" transform=\"translate(277.1,64.7) scale(6.00)\" xlink:href=\"#gpPt2\"/>\n",
       "\t<use color=\"rgb(  0,   0, 255)\" transform=\"translate(343.4,192.7) scale(6.00)\" xlink:href=\"#gpPt2\"/>\n",
       "\t<use color=\"rgb(  0,   0, 255)\" transform=\"translate(343.4,192.7) scale(6.00)\" xlink:href=\"#gpPt2\"/>\n",
       "\t<use color=\"rgb(  0,   0, 255)\" transform=\"translate(288.8,58.0) scale(6.00)\" xlink:href=\"#gpPt2\"/>\n",
       "\t<use color=\"rgb(  0,   0, 255)\" transform=\"translate(277.1,64.7) scale(6.00)\" xlink:href=\"#gpPt2\"/>\n",
       "\t<use color=\"rgb(  0,   0, 255)\" transform=\"translate(252.9,79.2) scale(6.00)\" xlink:href=\"#gpPt2\"/>\n",
       "\t<use color=\"rgb(  0,   0, 255)\" transform=\"translate(58.5,169.3) scale(6.00)\" xlink:href=\"#gpPt2\"/>\n",
       "\t<use color=\"rgb(  0,   0, 255)\" transform=\"translate(94.1,257.2) scale(6.00)\" xlink:href=\"#gpPt2\"/>\n",
       "</g>\n",
       "\t</g>\n",
       "<g color=\"white\" fill=\"none\" stroke=\"rgb(  0,   0, 255)\" stroke-linecap=\"butt\" stroke-linejoin=\"miter\" stroke-width=\"2.00\">\n",
       "</g>\n",
       "<g color=\"black\" fill=\"none\" stroke=\"currentColor\" stroke-linecap=\"butt\" stroke-linejoin=\"miter\" stroke-width=\"2.00\">\n",
       "\t<g fill=\"rgb(0,0,0)\" font-family=\"{}\" font-size=\"10.00\" stroke=\"none\" text-anchor=\"start\" transform=\"translate(67.3,266.7)\">\n",
       "\t\t<text><tspan font-family=\"{}\">algorithms</tspan></text>\n",
       "\t</g>\n",
       "\t<g fill=\"rgb(0,0,0)\" font-family=\"{}\" font-size=\"10.00\" stroke=\"none\" text-anchor=\"start\" transform=\"translate(75.1,246.9)\">\n",
       "\t\t<text><tspan font-family=\"{}\">application</tspan></text>\n",
       "\t</g>\n",
       "\t<g fill=\"rgb(0,0,0)\" font-family=\"{}\" font-size=\"10.00\" stroke=\"none\" text-anchor=\"start\" transform=\"translate(185.9,173.7)\">\n",
       "\t\t<text><tspan font-family=\"{}\">delay</tspan></text>\n",
       "\t</g>\n",
       "\t<g fill=\"rgb(0,0,0)\" font-family=\"{}\" font-size=\"10.00\" stroke=\"none\" text-anchor=\"start\" transform=\"translate(494.4,71.6)\">\n",
       "\t\t<text><tspan font-family=\"{}\">differential</tspan></text>\n",
       "\t</g>\n",
       "\t<g fill=\"rgb(0,0,0)\" font-family=\"{}\" font-size=\"10.00\" stroke=\"none\" text-anchor=\"start\" transform=\"translate(543.8,70.8)\">\n",
       "\t\t<text><tspan font-family=\"{}\">equations</tspan></text>\n",
       "\t</g>\n",
       "\t<g fill=\"rgb(0,0,0)\" font-family=\"{}\" font-size=\"10.00\" stroke=\"none\" text-anchor=\"start\" transform=\"translate(66.5,241.4)\">\n",
       "\t\t<text><tspan font-family=\"{}\">implementation</tspan></text>\n",
       "\t</g>\n",
       "\t<g fill=\"rgb(0,0,0)\" font-family=\"{}\" font-size=\"10.00\" stroke=\"none\" text-anchor=\"start\" transform=\"translate(93.6,193.4)\">\n",
       "\t\t<text><tspan font-family=\"{}\">integral</tspan></text>\n",
       "\t</g>\n",
       "\t<g fill=\"rgb(0,0,0)\" font-family=\"{}\" font-size=\"10.00\" stroke=\"none\" text-anchor=\"start\" transform=\"translate(60.5,153.4)\">\n",
       "\t\t<text><tspan font-family=\"{}\">introduction</tspan></text>\n",
       "\t</g>\n",
       "\t<g fill=\"rgb(0,0,0)\" font-family=\"{}\" font-size=\"10.00\" stroke=\"none\" text-anchor=\"start\" transform=\"translate(165.4,73.8)\">\n",
       "\t\t<text><tspan font-family=\"{}\">methods</tspan></text>\n",
       "\t</g>\n",
       "\t<g fill=\"rgb(0,0,0)\" font-family=\"{}\" font-size=\"10.00\" stroke=\"none\" text-anchor=\"start\" transform=\"translate(115.0,89.9)\">\n",
       "\t\t<text><tspan font-family=\"{}\">nonlinear</tspan></text>\n",
       "\t</g>\n",
       "\t<g fill=\"rgb(0,0,0)\" font-family=\"{}\" font-size=\"10.00\" stroke=\"none\" text-anchor=\"start\" transform=\"translate(165.4,73.8)\">\n",
       "\t\t<text><tspan font-family=\"{}\">ordinary</tspan></text>\n",
       "\t</g>\n",
       "\t<g fill=\"rgb(0,0,0)\" font-family=\"{}\" font-size=\"10.00\" stroke=\"none\" text-anchor=\"start\" transform=\"translate(185.9,173.7)\">\n",
       "\t\t<text><tspan font-family=\"{}\">oscillation</tspan></text>\n",
       "\t</g>\n",
       "\t<g fill=\"rgb(0,0,0)\" font-family=\"{}\" font-size=\"10.00\" stroke=\"none\" text-anchor=\"start\" transform=\"translate(158.9,79.2)\">\n",
       "\t\t<text><tspan font-family=\"{}\">partial</tspan></text>\n",
       "\t</g>\n",
       "\t<g fill=\"rgb(0,0,0)\" font-family=\"{}\" font-size=\"10.00\" stroke=\"none\" text-anchor=\"start\" transform=\"translate(63.4,197.5)\">\n",
       "\t\t<text><tspan font-family=\"{}\">problem</tspan></text>\n",
       "\t</g>\n",
       "\t<g fill=\"rgb(0,0,0)\" font-family=\"{}\" font-size=\"10.00\" stroke=\"none\" text-anchor=\"start\" transform=\"translate(125.2,99.6)\">\n",
       "\t\t<text><tspan font-family=\"{}\">systems</tspan></text>\n",
       "\t</g>\n",
       "\t<g fill=\"rgb(0,0,0)\" font-family=\"{}\" font-size=\"10.00\" stroke=\"none\" text-anchor=\"start\" transform=\"translate(205.3,306.8)\">\n",
       "\t\t<text><tspan font-family=\"{}\">theory</tspan></text>\n",
       "\t</g>\n",
       "\t<g fill=\"rgb(0,0,0)\" font-family=\"{}\" font-size=\"10.00\" stroke=\"none\" text-anchor=\"start\" transform=\"translate(171.8,127.1)\">\n",
       "\t\t<text><tspan font-family=\"{}\">B1</tspan></text>\n",
       "\t</g>\n",
       "\t<g fill=\"rgb(0,0,0)\" font-family=\"{}\" font-size=\"10.00\" stroke=\"none\" text-anchor=\"start\" transform=\"translate(163.4,98.2)\">\n",
       "\t\t<text><tspan font-family=\"{}\">B2</tspan></text>\n",
       "\t</g>\n",
       "\t<g fill=\"rgb(0,0,0)\" font-family=\"{}\" font-size=\"10.00\" stroke=\"none\" text-anchor=\"start\" transform=\"translate(97.9,333.8)\">\n",
       "\t\t<text><tspan font-family=\"{}\">B3</tspan></text>\n",
       "\t</g>\n",
       "\t<g fill=\"rgb(0,0,0)\" font-family=\"{}\" font-size=\"10.00\" stroke=\"none\" text-anchor=\"start\" transform=\"translate(283.0,70.4)\">\n",
       "\t\t<text><tspan font-family=\"{}\">B4</tspan></text>\n",
       "\t</g>\n",
       "\t<g fill=\"rgb(0,0,0)\" font-family=\"{}\" font-size=\"10.00\" stroke=\"none\" text-anchor=\"start\" transform=\"translate(59.3,183.6)\">\n",
       "\t\t<text><tspan font-family=\"{}\">B5</tspan></text>\n",
       "\t</g>\n",
       "\t<g fill=\"rgb(0,0,0)\" font-family=\"{}\" font-size=\"10.00\" stroke=\"none\" text-anchor=\"start\" transform=\"translate(73.8,153.3)\">\n",
       "\t\t<text><tspan font-family=\"{}\">B6</tspan></text>\n",
       "\t</g>\n",
       "\t<g fill=\"rgb(0,0,0)\" font-family=\"{}\" font-size=\"10.00\" stroke=\"none\" text-anchor=\"start\" transform=\"translate(62.3,245.9)\">\n",
       "\t\t<text><tspan font-family=\"{}\">B7</tspan></text>\n",
       "\t</g>\n",
       "\t<g fill=\"rgb(0,0,0)\" font-family=\"{}\" font-size=\"10.00\" stroke=\"none\" text-anchor=\"start\" transform=\"translate(324.0,48.8)\">\n",
       "\t\t<text><tspan font-family=\"{}\">B8</tspan></text>\n",
       "\t</g>\n",
       "\t<g fill=\"rgb(0,0,0)\" font-family=\"{}\" font-size=\"10.00\" stroke=\"none\" text-anchor=\"start\" transform=\"translate(84.1,99.9)\">\n",
       "\t\t<text><tspan font-family=\"{}\">B9</tspan></text>\n",
       "\t</g>\n",
       "\t<g fill=\"rgb(0,0,0)\" font-family=\"{}\" font-size=\"10.00\" stroke=\"none\" text-anchor=\"start\" transform=\"translate(284.4,68.4)\">\n",
       "\t\t<text><tspan font-family=\"{}\">B10</tspan></text>\n",
       "\t</g>\n",
       "\t<g fill=\"rgb(0,0,0)\" font-family=\"{}\" font-size=\"10.00\" stroke=\"none\" text-anchor=\"start\" transform=\"translate(350.7,196.4)\">\n",
       "\t\t<text><tspan font-family=\"{}\">B11</tspan></text>\n",
       "\t</g>\n",
       "\t<g fill=\"rgb(0,0,0)\" font-family=\"{}\" font-size=\"10.00\" stroke=\"none\" text-anchor=\"start\" transform=\"translate(350.7,196.4)\">\n",
       "\t\t<text><tspan font-family=\"{}\">B12</tspan></text>\n",
       "\t</g>\n",
       "\t<g fill=\"rgb(0,0,0)\" font-family=\"{}\" font-size=\"10.00\" stroke=\"none\" text-anchor=\"start\" transform=\"translate(296.1,61.7)\">\n",
       "\t\t<text><tspan font-family=\"{}\">B13</tspan></text>\n",
       "\t</g>\n",
       "\t<g fill=\"rgb(0,0,0)\" font-family=\"{}\" font-size=\"10.00\" stroke=\"none\" text-anchor=\"start\" transform=\"translate(284.4,68.4)\">\n",
       "\t\t<text><tspan font-family=\"{}\">B14</tspan></text>\n",
       "\t</g>\n",
       "\t<g fill=\"rgb(0,0,0)\" font-family=\"{}\" font-size=\"10.00\" stroke=\"none\" text-anchor=\"start\" transform=\"translate(260.2,82.9)\">\n",
       "\t\t<text><tspan font-family=\"{}\">B15</tspan></text>\n",
       "\t</g>\n",
       "\t<g fill=\"rgb(0,0,0)\" font-family=\"{}\" font-size=\"10.00\" stroke=\"none\" text-anchor=\"start\" transform=\"translate(65.8,173.0)\">\n",
       "\t\t<text><tspan font-family=\"{}\">B16</tspan></text>\n",
       "\t</g>\n",
       "\t<g fill=\"rgb(0,0,0)\" font-family=\"{}\" font-size=\"10.00\" stroke=\"none\" text-anchor=\"start\" transform=\"translate(101.4,260.9)\">\n",
       "\t\t<text><tspan font-family=\"{}\">B17</tspan></text>\n",
       "\t</g>\n",
       "</g>\n",
       "<g color=\"black\" fill=\"none\" stroke=\"rgb(  0,   0,   0)\" stroke-linecap=\"butt\" stroke-linejoin=\"miter\" stroke-width=\"0.50\">\n",
       "</g>\n",
       "<g color=\"black\" fill=\"none\" stroke=\"currentColor\" stroke-linecap=\"butt\" stroke-linejoin=\"miter\" stroke-width=\"0.50\">\n",
       "</g>\n",
       "</g>\n",
       "</svg>"
      ],
      "text/plain": [
       "<IPython.core.display.SVG object>"
      ]
     },
     "metadata": {},
     "output_type": "display_data"
    }
   ],
   "source": [
    "% X:  Keywords\n",
    "\n",
    "nX = 16;\n",
    "Xtext = {\n",
    "        'algorithms',\n",
    "        'application',\n",
    "        'delay',\n",
    "        'differential',\n",
    "        'equations',\n",
    "        'implementation',\n",
    "        'integral',\n",
    "        'introduction',\n",
    "        'methods',\n",
    "        'nonlinear',\n",
    "        'ordinary',\n",
    "        'oscillation',\n",
    "        'partial',\n",
    "        'problem',\n",
    "        'systems',\n",
    "        'theory'\n",
    "        };\n",
    "\n",
    "% Y:  Books\n",
    "\n",
    "nY = 17;\n",
    "\n",
    "% Book: 1  2  3  4  5  6  7  8  9 10 11 12 13 14 15 16 17   # Keyword:\n",
    "%--------------------------------------------------------------------------\n",
    "coOccurrence =  [\n",
    "        0  0  1  0  1  0  1  0  0  0  0  0  0  0  0  0  0;  % algorithms\n",
    "        0  0  1  0  0  0  0  0  0  0  0  0  0  0  0  0  1;  % application\n",
    "        0  0  0  0  0  0  0  0  0  0  1  1  0  0  0  0  0;  % delay\n",
    "        0  0  0  1  0  0  0  1  0  1  1  1  1  1  1  0  0;  % differential\n",
    "        1  1  0  1  0  0  0  1  0  1  1  1  1  1  1  0  0;  % equations\n",
    "        0  0  1  0  0  0  1  0  0  0  0  0  0  0  0  0  0;  % implementation\n",
    "        1  0  0  0  0  0  0  0  0  0  0  0  0  0  0  1  1;  % integral\n",
    "        0  0  0  0  1  1  0  0  0  0  0  0  0  0  0  0  0;  % introduction\n",
    "        0  0  0  0  0  0  0  1  0  0  0  0  0  1  0  0  0;  % methods\n",
    "        0  0  0  0  0  0  0  0  1  0  0  0  1  0  0  0  0;  % nonlinear\n",
    "        0  0  0  0  0  0  0  1  0  1  0  0  0  0  0  0  0;  % ordinary\n",
    "        0  0  0  0  0  0  0  0  0  0  1  1  0  0  0  0  0;  % oscillation\n",
    "        0  0  0  1  0  0  0  0  0  0  0  0  1  0  0  0  0;  % partial\n",
    "        0  0  0  0  0  1  1  0  0  0  0  0  0  0  0  1  0;  % problem\n",
    "        0  0  0  0  0  1  0  1  1  0  0  0  0  0  0  0  0;  % systems\n",
    "        0  0  1  0  0  0  0  0  0  0  1  1  0  0  0  0  1;  % theory\n",
    "];\n",
    "\n",
    "[U,S,V] = svd(coOccurrence);\n",
    "\n",
    "%  We can look at a plot of the singular values (diagonal of S):\n",
    "\n",
    "plot( diag(S), 'b' )\n",
    "\n",
    "Xfactor = U(:,1:2)\n",
    "Yfactor = V(:,1:2)\n",
    "\n",
    "% plot the 2D projection of the data\n",
    "\n",
    "text_offset = 0.01;\n",
    "plot( Xfactor(:,1), Xfactor(:,2), 'r*', Yfactor(:,1), Yfactor(:,2), 'b*' )\n",
    "hold on\n",
    "\n",
    "for i = (1:nX)\n",
    "     text( Xfactor(i,1)+text_offset, Xfactor(i,2), Xtext(i))\n",
    "end\n",
    "\n",
    "for i = (1:nY)\n",
    "     text( Yfactor(i,1)+text_offset, Yfactor(i,2), sprintf('B%d',i))\n",
    "end\n",
    "\n",
    "title( 'Latent Semantic Indexing:  X term vs. Y term ' )\n",
    "xlabel( '1st component' )\n",
    "ylabel( '2nd component' )\n",
    "\n",
    "zoom on\n",
    "hold off"
   ]
  },
  {
   "cell_type": "markdown",
   "metadata": {},
   "source": [
    "## The Pseudoinverse"
   ]
  },
  {
   "cell_type": "code",
   "execution_count": 19,
   "metadata": {
    "collapsed": false
   },
   "outputs": [
    {
     "name": "stdout",
     "output_type": "stream",
     "text": [
      "A =\n",
      "\n",
      "   1.2000   1.0000\n",
      "   2.7000   1.0000\n",
      "   3.3000   1.0000\n",
      "   3.7000   1.0000\n",
      "\n",
      "P =\n",
      "\n",
      "  -0.4227304  -0.0069300   0.1593902   0.2702703\n",
      "   1.4019404   0.2688843  -0.1843382  -0.4864865\n",
      "\n",
      "AP =\n",
      "\n",
      "   0.8946639   0.2605683   0.0069300  -0.1621622\n",
      "   0.2605683   0.2501733   0.2460152   0.2432432\n",
      "   0.0069300   0.2460152   0.3416493   0.4054054\n",
      "  -0.1621622   0.2432432   0.4054054   0.5135135\n",
      "\n",
      "PA =\n",
      "\n",
      "   1.0000e+00  -1.1102e-16\n",
      "  -6.6613e-16   1.0000e+00\n",
      "\n",
      "error =    4.9651e-16\n"
     ]
    }
   ],
   "source": [
    "A = [ 1.2 1 ;  2.7 1 ;  3.3 1 ; 3.7 1 ]\n",
    "\n",
    "P = pinv(A)     %  the pseudoinverse of A\n",
    "\n",
    "AP = A * P\n",
    "\n",
    "PA = P * A      %  P is a \"left inverse\" for A\n",
    "\n",
    "error = norm( A * P * A  -  A )   %  consequently  A P A  =  A"
   ]
  },
  {
   "cell_type": "markdown",
   "metadata": {},
   "source": [
    "## Computation of the Pseudoinverse -- using the SVD\n",
    "\n",
    "If  $A = U S V'$, then it has pseudoinverse  $A^- = V ~ S^- ~ U'$, where:\n",
    "\n",
    "$$\n",
    "\\begin{pmatrix}\n",
    "\\sigma_1 &          &        & \\\\\n",
    "         & \\sigma_2 &        & \\\\\n",
    "         &          & \\ddots & \\\\\n",
    "         &          &        & \\sigma_p \\\\\n",
    "         &          &        & \\\\\n",
    "         &          &        & \\\\\n",
    "\\end{pmatrix}{}^-\n",
    "~~=~~\n",
    "\\begin{pmatrix}\n",
    "\\sigma_1^- &          &        &   ~    &  ~     &  \\\\\n",
    "         & \\sigma_2^- &        &   ~    &  ~     &  \\\\\n",
    "         &               & \\ddots   &        &   ~    &     \\\\\n",
    "         &               &          & \\sigma_p^- &  ~      &\n",
    "\\end{pmatrix}\n",
    "$$\n",
    "where $$\n",
    "\\sigma^- ~=~\n",
    "\\left\\{\n",
    "\\begin{array}{ll} 1/\\sigma & \\sigma \\neq 0 \\\\ 0 & \\sigma = 0 \\end{array}\n",
    "\\right.\n",
    "$$"
   ]
  },
  {
   "cell_type": "code",
   "execution_count": 20,
   "metadata": {
    "collapsed": false
   },
   "outputs": [],
   "source": [
    "function P = Pseudoinverse(A)\n",
    "   [U,S,V] = svd(A)\n",
    "   P = V * DiagonalPinv(S) * U'\n",
    "end\n",
    "\n",
    "function Sminus = DiagonalPinv(S)\n",
    "   m = size(S,1);\n",
    "   n = size(S,2);\n",
    "   Sminus = zeros(n,m);\n",
    "   p = min(m,n);\n",
    "   for i=1:p\n",
    "       if S(i,i) ~= 0\n",
    "           Sminus(i,i) = 1/S(i,i);\n",
    "       end     \n",
    "   end\n",
    "end"
   ]
  },
  {
   "cell_type": "code",
   "execution_count": 21,
   "metadata": {
    "collapsed": false
   },
   "outputs": [],
   "source": [
    "function P = DiagonalPinv(S)    %  cleverer implementation\n",
    "   invsigma = 1 ./ diag(S);\n",
    "   invsigma(invsigma == Inf) = 0;\n",
    "   P = zeros(size(S'));\n",
    "   P(1:min(size(S)),1:min(size(S)))  = diag(invsigma)\n",
    "end"
   ]
  },
  {
   "cell_type": "markdown",
   "metadata": {},
   "source": [
    "### Properties of the Pseudoinverse"
   ]
  },
  {
   "cell_type": "code",
   "execution_count": 22,
   "metadata": {
    "collapsed": false
   },
   "outputs": [
    {
     "name": "stdout",
     "output_type": "stream",
     "text": [
      "A =\n",
      "\n",
      "   0.802639   0.184194   0.251411\n",
      "   0.107494   0.967319   0.940896\n",
      "   0.434607   0.691767   0.031022\n",
      "   0.298036   0.458320   0.174913\n",
      "\n",
      "P =\n",
      "\n",
      "   1.201037  -0.347244   0.081537   0.127134\n",
      "  -0.846949   0.101991   1.229937   0.450591\n",
      "   0.719265   0.980518  -1.326872  -0.355803\n",
      "\n",
      "ans =\n",
      "\n",
      "   1.0000e+00   4.5797e-16  -2.7756e-17\n",
      "   3.3307e-16   1.0000e+00  -1.1102e-16\n",
      "  -3.8858e-16   4.9960e-16   1.0000e+00\n",
      "\n",
      "ans =\n",
      "\n",
      "   0.988828  -0.013413  -0.041599   0.095586\n",
      "  -0.013413   0.983897  -0.049943   0.114758\n",
      "  -0.041599  -0.049943   0.845104   0.355920\n",
      "   0.095586   0.114758   0.355920   0.182171\n",
      "\n",
      "ans =\n",
      "\n",
      "  -2.2204e-16   3.3307e-16   0.0000e+00\n",
      "   5.5511e-17  -1.1102e-16   1.1102e-16\n",
      "   1.6653e-16  -3.3307e-16  -1.0408e-16\n",
      "   1.1102e-16  -5.5511e-17  -2.7756e-17\n",
      "\n",
      "ans =\n",
      "\n",
      "  -6.6613e-16   1.1102e-16   5.9674e-16   1.6653e-16\n",
      "   9.9920e-16  -3.0531e-16  -6.6613e-16  -2.2204e-16\n",
      "  -8.8818e-16   2.2204e-16   6.6613e-16   1.6653e-16\n",
      "\n",
      "ans =\n",
      "\n",
      "   0.0000e+00   1.3878e-16   1.3878e-17  -6.9389e-17\n",
      "  -1.3878e-16   0.0000e+00   3.4694e-17  -1.5266e-16\n",
      "  -1.3878e-17  -3.4694e-17   0.0000e+00   5.5511e-17\n",
      "   6.9389e-17   1.5266e-16  -5.5511e-17   0.0000e+00\n",
      "\n",
      "ans =\n",
      "\n",
      "   0.0000e+00  -1.2490e-16  -3.6082e-16\n",
      "   1.2490e-16   0.0000e+00   6.1062e-16\n",
      "   3.6082e-16  -6.1062e-16   0.0000e+00\n",
      "\n"
     ]
    }
   ],
   "source": [
    "A = rand(4,3)\n",
    "\n",
    "P  =  inv(A' * A) * A'\n",
    "P * A\n",
    "A * P\n",
    "A * P * A - A\n",
    "P * A * P - P\n",
    "(A * P)'  -  (A * P)\n",
    "(P * A)'  -  (P * A)"
   ]
  },
  {
   "cell_type": "code",
   "execution_count": 23,
   "metadata": {
    "collapsed": false
   },
   "outputs": [],
   "source": [
    "essentially_equal =  @(X,Y)  max(max(abs(X-Y))) < 1e-14 * (norm(X)+norm(Y));"
   ]
  },
  {
   "cell_type": "code",
   "execution_count": 24,
   "metadata": {
    "collapsed": false
   },
   "outputs": [
    {
     "name": "stdout",
     "output_type": "stream",
     "text": [
      "ans =  1\n",
      "ans =  1\n",
      "ans =  1\n"
     ]
    }
   ],
   "source": [
    "essentially_equal( (P*A)', (P*A) )\n",
    "essentially_equal( (A*P)', (A*P) )\n",
    "essentially_equal( (A*P*A), A )"
   ]
  },
  {
   "cell_type": "code",
   "execution_count": 25,
   "metadata": {
    "collapsed": false
   },
   "outputs": [
    {
     "name": "stdout",
     "output_type": "stream",
     "text": [
      "U =\n",
      "\n",
      "  -0.35255  -0.73359   0.57130  -0.10570\n",
      "  -0.76355   0.58107   0.25149  -0.12690\n",
      "  -0.42587  -0.32158  -0.74855  -0.39357\n",
      "  -0.33368  -0.14415  -0.22371   0.90434\n",
      "\n",
      "S =\n",
      "\n",
      "Diagonal Matrix\n",
      "\n",
      "   1.66106         0         0\n",
      "         0   0.79306         0\n",
      "         0         0   0.42863\n",
      "         0         0         0\n",
      "\n",
      "V =\n",
      "\n",
      "  -0.39106  -0.89409   0.21832\n",
      "  -0.75317   0.17456  -0.63424\n",
      "  -0.52896   0.41246   0.74167\n",
      "\n",
      "ans =  1\n"
     ]
    }
   ],
   "source": [
    "[U,S,V] = svd(A)\n",
    "essentially_equal( A, (U * S * V') )"
   ]
  },
  {
   "cell_type": "code",
   "execution_count": 26,
   "metadata": {
    "collapsed": false
   },
   "outputs": [
    {
     "name": "stdout",
     "output_type": "stream",
     "text": [
      "ans =\n",
      "\n",
      "   1.66106\n",
      "   0.79306\n",
      "   0.42863\n",
      "\n",
      "S_inv =\n",
      "\n",
      "Diagonal Matrix\n",
      "\n",
      "   0.60203         0         0         0\n",
      "         0   1.26094         0         0\n",
      "         0         0   2.33301         0\n",
      "\n",
      "ans =\n",
      "\n",
      "   1.201037  -0.347244   0.081537   0.127134\n",
      "  -0.846949   0.101991   1.229937   0.450591\n",
      "   0.719265   0.980518  -1.326872  -0.355803\n",
      "\n"
     ]
    }
   ],
   "source": [
    "diag(S)\n",
    "S_inv = S'; for i=1:min(size(S_inv)), if S(i,i) ~= 0, S_inv(i,i) = 1/S(i,i); end, end\n",
    "S_inv\n",
    "V * S_inv * U'"
   ]
  },
  {
   "cell_type": "code",
   "execution_count": 27,
   "metadata": {
    "collapsed": false
   },
   "outputs": [
    {
     "name": "stdout",
     "output_type": "stream",
     "text": [
      "ans =  1\n",
      "ans =\n",
      "\n",
      "Diagonal Matrix\n",
      "\n",
      "   1.00000         0         0         0\n",
      "         0   1.00000         0         0\n",
      "         0         0   1.00000         0\n",
      "         0         0         0   0.00000\n",
      "\n",
      "ans =\n",
      "\n",
      "Diagonal Matrix\n",
      "\n",
      "   1.00000         0         0\n",
      "         0   1.00000         0\n",
      "         0         0   1.00000\n",
      "\n"
     ]
    }
   ],
   "source": [
    "essentially_equal( P,  V * S_inv * U' )\n",
    "S * S_inv\n",
    "S_inv * S"
   ]
  },
  {
   "cell_type": "code",
   "execution_count": 28,
   "metadata": {
    "collapsed": false
   },
   "outputs": [
    {
     "name": "stdout",
     "output_type": "stream",
     "text": [
      "pseudoinverse =\n",
      "\n",
      "@(X) inv (X' * X) * X'\n",
      "\n",
      "P =\n",
      "\n",
      "   1.201037  -0.347244   0.081537   0.127134\n",
      "  -0.846949   0.101991   1.229937   0.450591\n",
      "   0.719265   0.980518  -1.326872  -0.355803\n",
      "\n",
      "b =\n",
      "\n",
      "   0.082549\n",
      "   0.530480\n",
      "   0.771848\n",
      "   0.976135\n",
      "\n",
      "ans =\n",
      "\n",
      "   0.10197\n",
      "   1.37335\n",
      "  -0.79194\n",
      "\n",
      "ans =\n",
      "\n",
      "   0.10197\n",
      "   1.37335\n",
      "  -0.79194\n",
      "\n"
     ]
    }
   ],
   "source": [
    "pseudoinverse  =  @(X)  inv(X' * X) * X'\n",
    "P = pseudoinverse(A)\n",
    "b = rand(4,1)\n",
    "P * b\n",
    "A \\ b"
   ]
  },
  {
   "cell_type": "markdown",
   "metadata": {},
   "source": [
    "## Implementing the SVD"
   ]
  },
  {
   "cell_type": "code",
   "execution_count": 29,
   "metadata": {
    "collapsed": false
   },
   "outputs": [
    {
     "name": "stdout",
     "output_type": "stream",
     "text": [
      "A =\n",
      "\n",
      "   0.87964   0.20403   0.18991\n",
      "   0.63167   0.63171   0.97220\n",
      "   0.68590   0.21807   0.20663\n",
      "\n"
     ]
    }
   ],
   "source": [
    "A = rand(3,3)"
   ]
  },
  {
   "cell_type": "code",
   "execution_count": 30,
   "metadata": {
    "collapsed": false
   },
   "outputs": [],
   "source": [
    "function [U,S,V] = SimpleSVD(A)\n",
    "           [Q L] = eig(A' * A);\n",
    "           V = Q;\n",
    "           S = sqrt(L);\n",
    "           U = A * V * pinv(S);\n",
    "end           "
   ]
  },
  {
   "cell_type": "code",
   "execution_count": 31,
   "metadata": {
    "collapsed": false
   },
   "outputs": [
    {
     "name": "stdout",
     "output_type": "stream",
     "text": [
      "A =\n",
      "\n",
      "   0.26929   0.92373   0.73514\n",
      "   0.56917   0.18885   0.26814\n",
      "   0.58816   0.43689   0.85086\n",
      "\n",
      "U =\n",
      "\n",
      "  -0.68710   0.66803  -0.28571\n",
      "  -0.32429  -0.63386  -0.70218\n",
      "  -0.65018  -0.38981   0.65216\n",
      "\n",
      "S =\n",
      "\n",
      "Diagonal Matrix\n",
      "\n",
      "   1.68451         0         0\n",
      "         0   0.52470         0\n",
      "         0         0   0.21360\n",
      "\n",
      "V =\n",
      "\n",
      "  -0.446431  -0.781691  -0.435498\n",
      "  -0.581768   0.623341  -0.522486\n",
      "  -0.679887  -0.020105   0.733042\n",
      "\n",
      "U =\n",
      "\n",
      "   0.28571  -0.66803   0.68710\n",
      "   0.70218   0.63386   0.32429\n",
      "  -0.65216   0.38981   0.65018\n",
      "\n",
      "S =\n",
      "\n",
      "Diagonal Matrix\n",
      "\n",
      "   0.21360         0         0\n",
      "         0   0.52470         0\n",
      "         0         0   1.68451\n",
      "\n",
      "V =\n",
      "\n",
      "   0.435498   0.781691   0.446431\n",
      "   0.522486  -0.623341   0.581768\n",
      "  -0.733042   0.020105   0.679887\n",
      "\n"
     ]
    }
   ],
   "source": [
    "A = rand(3,3)\n",
    "\n",
    "[U,S,V] = svd(A)\n",
    "\n",
    "[U,S,V] = SimpleSVD(A)"
   ]
  },
  {
   "cell_type": "code",
   "execution_count": 32,
   "metadata": {
    "collapsed": false
   },
   "outputs": [],
   "source": [
    "function [U,S,V] = GeneralSquareSVD(A)\n",
    "       %  This simple approach is sufficient to implement the SVD when A is square.\n",
    "       %  (It also works like  svd(A,'econ')  when A has more rows than columns.)\n",
    "   [Q L] = eig(A' * A);  %%% Jacobi(A' * A);\n",
    "   V = Q;\n",
    "   S = sqrt(abs(L));\n",
    "       %  Although L should not have any negative eigenvalues,\n",
    "       %  roundoff errors may produce some, so abs(L) avoids problems.\n",
    "\n",
    "%  Next:  compute U  (from A, S, and V).\n",
    "   Spinv = 1 ./ S;\n",
    "   Spinv( Spinv == Inf ) = 0;\n",
    "       %  Spinv = pseudoinverse of S;  we replace all  1/0 = Inf  values by 0.\n",
    "   U = A * V * Spinv;\n",
    "\n",
    "%  Finally:  sort the singular values in descending order.\n",
    "   singular_values = diag(S);\n",
    "   [sorted_singular_values ordering] = sort(singular_values,1,'descend');\n",
    "   U = U(:,ordering);\n",
    "   S = S(ordering,ordering);\n",
    "   V = V(:,ordering);\n",
    "end"
   ]
  },
  {
   "cell_type": "code",
   "execution_count": 33,
   "metadata": {
    "collapsed": false
   },
   "outputs": [
    {
     "name": "stdout",
     "output_type": "stream",
     "text": [
      "U =\n",
      "\n",
      "   0.68710  -0.66803   0.28571\n",
      "   0.32429   0.63386   0.70218\n",
      "   0.65018   0.38981  -0.65216\n",
      "\n",
      "S =\n",
      "\n",
      "   1.68451   0.00000   0.00000\n",
      "   0.00000   0.52470   0.00000\n",
      "   0.00000   0.00000   0.21360\n",
      "\n",
      "V =\n",
      "\n",
      "   0.446431   0.781691   0.435498\n",
      "   0.581768  -0.623341   0.522486\n",
      "   0.679887   0.020105  -0.733042\n",
      "\n"
     ]
    }
   ],
   "source": [
    "[U,S,V] = GeneralSquareSVD(A)"
   ]
  },
  {
   "cell_type": "code",
   "execution_count": 34,
   "metadata": {
    "collapsed": false
   },
   "outputs": [
    {
     "name": "stdout",
     "output_type": "stream",
     "text": [
      "U =\n",
      "\n",
      "  -0.68710   0.66803  -0.28571\n",
      "  -0.32429  -0.63386  -0.70218\n",
      "  -0.65018  -0.38981   0.65216\n",
      "\n",
      "S =\n",
      "\n",
      "Diagonal Matrix\n",
      "\n",
      "   1.68451         0         0\n",
      "         0   0.52470         0\n",
      "         0         0   0.21360\n",
      "\n",
      "V =\n",
      "\n",
      "  -0.446431  -0.781691  -0.435498\n",
      "  -0.581768   0.623341  -0.522486\n",
      "  -0.679887  -0.020105   0.733042\n",
      "\n"
     ]
    }
   ],
   "source": [
    "[U,S,V] = svd(A)"
   ]
  },
  {
   "cell_type": "markdown",
   "metadata": {},
   "source": [
    "## General non-square SVD"
   ]
  },
  {
   "cell_type": "code",
   "execution_count": 35,
   "metadata": {
    "collapsed": false
   },
   "outputs": [],
   "source": [
    "function [U,S,V] = SimpleSVD(A)\n",
    "   [n p] = size(A);\n",
    "   if (n < p)\n",
    "      [Q L] = eig(A' * A);  %%% Jacobi(A' * A);  %  (A' * A)  is a  p x p  matrix\n",
    "      V = Q;\n",
    "      S = zeros([n p]);\n",
    "      S(1:n, 1:n) = sqrt(abs(L(1:n,1:n)));\n",
    "      Sinv = 1 ./ S';\n",
    "      Sinv(Sinv == Inf) = 0;\n",
    "      U = A * V * Sinv;\n",
    "   else\n",
    "      [Q L] = eig(A' * A);  %%% Jacobi(A * A');  %  (A * A')  is a  n x n  matrix\n",
    "      U = Q;\n",
    "      S = zeros([n p]);\n",
    "      S(1:p, 1:p) = sqrt(abs(L(1:p,1:p)));\n",
    "      Sinv = 1 ./ S';\n",
    "      Sinv(Sinv == Inf) = 0;\n",
    "      V = (Sinv * U' * A)';\n",
    "   end\n",
    "   singular_values = diag(S);\n",
    "end"
   ]
  },
  {
   "cell_type": "markdown",
   "metadata": {},
   "source": [
    "## Cleverer SVD implementation"
   ]
  },
  {
   "cell_type": "code",
   "execution_count": 36,
   "metadata": {
    "collapsed": false
   },
   "outputs": [],
   "source": [
    "function [U,S,V] = ClevererSVD(A)\n",
    "   [n p] = size(A);\n",
    "   if (n > p)\n",
    "      [Q L] = eig(A' * A);  %%% Jacobi(A' * A);  %  (A' * A)  is a  p x p  matrix\n",
    "      V = Q;\n",
    "      S = sqrt(abs(L));\n",
    "      Sinv = 1 ./ S';\n",
    "      Sinv(Sinv == Inf) = 0;\n",
    "      U = A * V * Sinv;        %  yield a rectangular matrix U\n",
    "   else\n",
    "      [Q L] = eig(A' * A);  %%% Jacobi(A * A');  %  (A * A')  is a  n x n  matrix\n",
    "      U = Q;\n",
    "      S = sqrt(abs(L));\n",
    "      Sinv = 1 ./ S';\n",
    "      Sinv(Sinv == Inf) = 0;\n",
    "      V = (Sinv * U' * A)';    %  yield a rectangular matrix V\n",
    "   end\n",
    "   singular_values = diag(S);  %  put the singular values in decreasing order\n",
    "   [sorted_singular_values ordering] = sort(singular_values,1,'descend');\n",
    "   U = U(:,ordering);\n",
    "   S = S(ordering,ordering);\n",
    "   V = V(:,ordering);\n",
    "end"
   ]
  },
  {
   "cell_type": "code",
   "execution_count": 37,
   "metadata": {
    "collapsed": false
   },
   "outputs": [
    {
     "name": "stdout",
     "output_type": "stream",
     "text": [
      "U =\n",
      "\n",
      "  -0.68710   0.66803  -0.28571\n",
      "  -0.32429  -0.63386  -0.70218\n",
      "  -0.65018  -0.38981   0.65216\n",
      "\n",
      "S =\n",
      "\n",
      "Diagonal Matrix\n",
      "\n",
      "   1.68451         0         0\n",
      "         0   0.52470         0\n",
      "         0         0   0.21360\n",
      "\n",
      "V =\n",
      "\n",
      "  -0.446431  -0.781691  -0.435498\n",
      "  -0.581768   0.623341  -0.522486\n",
      "  -0.679887  -0.020105   0.733042\n",
      "\n",
      "U =\n",
      "\n",
      "   0.446431   0.781691   0.435498\n",
      "   0.581768  -0.623341   0.522486\n",
      "   0.679887   0.020105  -0.733042\n",
      "\n",
      "S =\n",
      "\n",
      "   1.68451   0.00000   0.00000\n",
      "   0.00000   0.52470   0.00000\n",
      "   0.00000   0.00000   0.21360\n",
      "\n",
      "V =\n",
      "\n",
      "   0.505328  -0.252445  -0.077182\n",
      "   0.486363   1.168547   0.845944\n",
      "   0.630848   0.809248  -0.765284\n",
      "\n"
     ]
    }
   ],
   "source": [
    "[U,S,V] = svd(A)\n",
    "[U,S,V] = ClevererSVD(A)"
   ]
  },
  {
   "cell_type": "code",
   "execution_count": null,
   "metadata": {
    "collapsed": true
   },
   "outputs": [],
   "source": []
  }
 ],
 "metadata": {
  "anaconda-cloud": {},
  "kernelspec": {
   "display_name": "Octave",
   "language": "octave",
   "name": "octave"
  },
  "language_info": {
   "file_extension": ".m",
   "help_links": [
    {
     "text": "MetaKernel Magics",
     "url": "https://github.com/calysto/metakernel/blob/master/metakernel/magics/README.md"
    }
   ],
   "mimetype": "text/x-octave",
   "name": "octave",
   "version": "0.16.0"
  }
 },
 "nbformat": 4,
 "nbformat_minor": 0
}
