{
 "cells": [
  {
   "cell_type": "markdown",
   "metadata": {},
   "source": [
    "#  The Singular Value Decomposition "
   ]
  },
  {
   "cell_type": "code",
   "execution_count": 1,
   "metadata": {
    "collapsed": false
   },
   "outputs": [],
   "source": [
    "# eigsvdgui # demo showing how various Eigenvalue routines eliminate off-diagonal entries"
   ]
  },
  {
   "cell_type": "code",
   "execution_count": 2,
   "metadata": {
    "collapsed": false
   },
   "outputs": [],
   "source": [
    "# imagesvd  # demo showing how the rank-k approximation work  (works only in Matlab)"
   ]
  },
  {
   "cell_type": "code",
   "execution_count": 3,
   "metadata": {
    "collapsed": true
   },
   "outputs": [],
   "source": [
    "import numpy as np\n",
    "from numpy import eye\n",
    "from numpy import size\n",
    "from numpy import diag\n",
    "from numpy.linalg import norm\n",
    "from numpy.linalg import inv\n",
    "from numpy.linalg import det\n",
    "from numpy.linalg import svd\n",
    "from numpy.linalg import eig\n",
    "from numpy.linalg import pinv\n",
    "from numpy.random import rand\n",
    "from numpy.fft import fft"
   ]
  },
  {
   "cell_type": "code",
   "execution_count": 4,
   "metadata": {
    "collapsed": true
   },
   "outputs": [],
   "source": [
    "import matplotlib.pyplot as plt\n",
    "%matplotlib inline\n",
    "\n",
    "plt.rcParams['figure.figsize'] = (12.0,10.0)"
   ]
  },
  {
   "cell_type": "code",
   "execution_count": 5,
   "metadata": {
    "collapsed": false
   },
   "outputs": [],
   "source": [
    "import math\n",
    "from math import cos, sin, pi"
   ]
  },
  {
   "cell_type": "markdown",
   "metadata": {},
   "source": [
    "## Unitary Matrices\n",
    "\n",
    "A (possibly complex) square matrix $U$ is <b>unitary</b> if\n",
    "$U' \\, U ~=~ U \\, U' ~=~ I$.\n",
    "\n",
    "<ul><li>\n",
    "every orthogonal matrix $Q$ is unitary:  $Q'\\,Q ~=~ I$.\n",
    "</li><li>\n",
    "a <b>complex unit value</b> (a value like $z = e^{i\\theta}$) is unitary:  $\\overline{z}\\,z ~=~ 1$.\n",
    "</li><li>every diagonal matrix $D$ of complex unit values is unitary:\n",
    "$D' \\, D ~=~ 1$.\n",
    "</li><li>\n",
    "If $U$ is unitary, then the eigenvalues of $U$ are complex unit values.\n",
    "</li><li>\n",
    "Unitary matrices preserve the length of any vector they transform:\n",
    "if $U$ is unitary, and ${\\bf v}$ is a vector,\n",
    " then $\\mid\\mid{U\\,{\\bf v}}\\mid\\mid = \\mid\\mid{\\bf v}\\mid\\mid$.\n",
    "</li></ul>\n"
   ]
  },
  {
   "cell_type": "code",
   "execution_count": 6,
   "metadata": {
    "collapsed": false
   },
   "outputs": [
    {
     "data": {
      "text/plain": [
       "array([[ 1.,  0.],\n",
       "       [ 0.,  1.]])"
      ]
     },
     "execution_count": 6,
     "metadata": {},
     "output_type": "execute_result"
    }
   ],
   "source": [
    "#  All orthogonal matrices are unitary\n",
    "\n",
    "#  random orthogonal matrix\n",
    "\n",
    "Q = np.array([[cos(pi/3), -sin(pi/3)], [sin(pi/3),cos(pi/3)]])\n",
    "\n",
    "Q.dot(Q.T)"
   ]
  },
  {
   "cell_type": "markdown",
   "metadata": {},
   "source": [
    "### Nice Example of a Unitary Matrix:  The Fourier Matrix"
   ]
  },
  {
   "cell_type": "code",
   "execution_count": 7,
   "metadata": {
    "collapsed": false
   },
   "outputs": [
    {
     "data": {
      "text/plain": [
       "array([[ 0.70710678+0.j,  0.70710678+0.j],\n",
       "       [ 0.70710678+0.j, -0.70710678+0.j]])"
      ]
     },
     "execution_count": 7,
     "metadata": {},
     "output_type": "execute_result"
    }
   ],
   "source": [
    "FourierMatrix  =  lambda n: 1/math.sqrt(n) * fft(eye(n))\n",
    "\n",
    "F2 = FourierMatrix(2)\n",
    "F2"
   ]
  },
  {
   "cell_type": "code",
   "execution_count": 8,
   "metadata": {
    "collapsed": false
   },
   "outputs": [
    {
     "data": {
      "text/plain": [
       "(-0.99999999999999978+0j)"
      ]
     },
     "execution_count": 8,
     "metadata": {},
     "output_type": "execute_result"
    }
   ],
   "source": [
    "F2.dot(F2).T\n",
    "det(F2)"
   ]
  },
  {
   "cell_type": "code",
   "execution_count": 9,
   "metadata": {
    "collapsed": false
   },
   "outputs": [
    {
     "data": {
      "text/plain": [
       "array([[ 0.5+0.j ,  0.5+0.j ,  0.5+0.j ,  0.5+0.j ],\n",
       "       [ 0.5+0.j ,  0.0-0.5j, -0.5+0.j ,  0.0+0.5j],\n",
       "       [ 0.5+0.j , -0.5+0.j ,  0.5+0.j , -0.5+0.j ],\n",
       "       [ 0.5+0.j ,  0.0+0.5j, -0.5+0.j ,  0.0-0.5j]])"
      ]
     },
     "execution_count": 9,
     "metadata": {},
     "output_type": "execute_result"
    }
   ],
   "source": [
    "F4 = FourierMatrix(4)\n",
    "F4"
   ]
  },
  {
   "cell_type": "code",
   "execution_count": 10,
   "metadata": {
    "collapsed": false
   },
   "outputs": [
    {
     "data": {
      "text/plain": [
       "array([[ 1.+0.j,  0.+0.j,  0.+0.j,  0.+0.j],\n",
       "       [ 0.+0.j,  0.+0.j,  0.+0.j,  1.+0.j],\n",
       "       [ 0.+0.j,  0.+0.j,  1.+0.j,  0.+0.j],\n",
       "       [ 0.+0.j,  1.+0.j,  0.+0.j,  0.+0.j]])"
      ]
     },
     "execution_count": 10,
     "metadata": {},
     "output_type": "execute_result"
    }
   ],
   "source": [
    "F4.dot(F4).T"
   ]
  },
  {
   "cell_type": "code",
   "execution_count": 11,
   "metadata": {
    "collapsed": false
   },
   "outputs": [
    {
     "data": {
      "text/plain": [
       "0.99999999999999978j"
      ]
     },
     "execution_count": 11,
     "metadata": {},
     "output_type": "execute_result"
    }
   ],
   "source": [
    "det(F4)"
   ]
  },
  {
   "cell_type": "markdown",
   "metadata": {},
   "source": [
    "## The SVD"
   ]
  },
  {
   "cell_type": "code",
   "execution_count": 12,
   "metadata": {
    "collapsed": false
   },
   "outputs": [],
   "source": [
    "def full_svd(A):\n",
    "    U, sigma, VT = np.linalg.svd(A, full_matrices=True)\n",
    "    n, p = A.shape\n",
    "    S = np.zeros((n,p))\n",
    "    k = min(n,p)\n",
    "    S[:k,:k] = np.diag(sigma)\n",
    "    return (U, S, VT.T)"
   ]
  },
  {
   "cell_type": "code",
   "execution_count": 13,
   "metadata": {
    "collapsed": false
   },
   "outputs": [
    {
     "data": {
      "text/plain": [
       "array([[ 0.41318591,  0.5650927 ,  0.68768195],\n",
       "       [ 0.07973688,  0.0255478 ,  0.41304766],\n",
       "       [ 0.65184228,  0.59674718,  0.52714783]])"
      ]
     },
     "execution_count": 13,
     "metadata": {},
     "output_type": "execute_result"
    }
   ],
   "source": [
    "A = rand(3,3)\n",
    "A"
   ]
  },
  {
   "cell_type": "code",
   "execution_count": 14,
   "metadata": {
    "collapsed": false
   },
   "outputs": [
    {
     "data": {
      "text/plain": [
       "(array([[-0.67550789, -0.26483797, -0.68814966],\n",
       "        [-0.22289497, -0.81626496,  0.53294404],\n",
       "        [-0.70285627,  0.513393  ,  0.49236237]]),\n",
       " array([[ 1.44243256,  0.        ,  0.        ],\n",
       "        [ 0.        ,  0.32546195,  0.        ],\n",
       "        [ 0.        ,  0.        ,  0.11371481]]),\n",
       " array([[-0.52344542,  0.49203146,  0.69563635],\n",
       "        [-0.55936518,  0.41741913, -0.71615073],\n",
       "        [-0.64274061, -0.76398057,  0.05672913]]))"
      ]
     },
     "execution_count": 14,
     "metadata": {},
     "output_type": "execute_result"
    }
   ],
   "source": [
    "U,S,V = full_svd(A)\n",
    "U,S,V"
   ]
  },
  {
   "cell_type": "code",
   "execution_count": 15,
   "metadata": {
    "collapsed": false
   },
   "outputs": [
    {
     "data": {
      "text/plain": [
       "array([[ 0.41318591,  0.5650927 ,  0.68768195],\n",
       "       [ 0.07973688,  0.0255478 ,  0.41304766],\n",
       "       [ 0.65184228,  0.59674718,  0.52714783]])"
      ]
     },
     "execution_count": 15,
     "metadata": {},
     "output_type": "execute_result"
    }
   ],
   "source": [
    "U.dot(S).dot(V.T)"
   ]
  },
  {
   "cell_type": "code",
   "execution_count": 16,
   "metadata": {
    "collapsed": false
   },
   "outputs": [
    {
     "data": {
      "text/plain": [
       "1.0612652031785719e-15"
      ]
     },
     "execution_count": 16,
     "metadata": {},
     "output_type": "execute_result"
    }
   ],
   "source": [
    "error = norm( A - U.dot(S).dot(V.T) )\n",
    "error"
   ]
  },
  {
   "cell_type": "markdown",
   "metadata": {},
   "source": [
    "### Every matrix has an SVD -- even rectangular matrices"
   ]
  },
  {
   "cell_type": "code",
   "execution_count": 17,
   "metadata": {
    "collapsed": false
   },
   "outputs": [
    {
     "data": {
      "text/plain": [
       "array([[ 0.83144248,  0.27541038,  0.31056257],\n",
       "       [ 0.41392534,  0.17455095,  0.29522613],\n",
       "       [ 0.7951172 ,  0.11735049,  0.04103196],\n",
       "       [ 0.09104589,  0.28241758,  0.93544827]])"
      ]
     },
     "execution_count": 17,
     "metadata": {},
     "output_type": "execute_result"
    }
   ],
   "source": [
    "A = rand(4,3)\n",
    "A"
   ]
  },
  {
   "cell_type": "code",
   "execution_count": 18,
   "metadata": {
    "collapsed": false
   },
   "outputs": [
    {
     "data": {
      "text/plain": [
       "(array([[-0.63743506, -0.24765855,  0.60362534,  0.40985149],\n",
       "        [-0.3790489 ,  0.0107913 ,  0.21519378, -0.89994284],\n",
       "        [-0.48058543, -0.49247508, -0.72523967,  0.02309465],\n",
       "        [-0.46801296,  0.83427638, -0.25170521,  0.1469397 ]]),\n",
       " array([[ 1.4176527 ,  0.        ,  0.        ],\n",
       "        [ 0.        ,  0.86663328,  0.        ],\n",
       "        [ 0.        ,  0.        ,  0.05043307],\n",
       "        [ 0.        ,  0.        ,  0.        ]]),\n",
       " array([[-0.78412782, -0.59663647, -0.17078785],\n",
       "        [-0.30352399,  0.12865652,  0.94409782],\n",
       "        [-0.54131022,  0.79213157, -0.28197664]]))"
      ]
     },
     "execution_count": 18,
     "metadata": {},
     "output_type": "execute_result"
    }
   ],
   "source": [
    "U,S,V = full_svd(A)\n",
    "U,S,V"
   ]
  },
  {
   "cell_type": "code",
   "execution_count": 19,
   "metadata": {
    "collapsed": false
   },
   "outputs": [
    {
     "data": {
      "text/plain": [
       "array([[ 0.83144248,  0.27541038,  0.31056257],\n",
       "       [ 0.41392534,  0.17455095,  0.29522613],\n",
       "       [ 0.7951172 ,  0.11735049,  0.04103196],\n",
       "       [ 0.09104589,  0.28241758,  0.93544827]])"
      ]
     },
     "execution_count": 19,
     "metadata": {},
     "output_type": "execute_result"
    }
   ],
   "source": [
    "U.dot(S).dot(V.T)"
   ]
  },
  {
   "cell_type": "code",
   "execution_count": 20,
   "metadata": {
    "collapsed": false
   },
   "outputs": [
    {
     "data": {
      "text/plain": [
       "8.0730086905728061e-16"
      ]
     },
     "execution_count": 20,
     "metadata": {},
     "output_type": "execute_result"
    }
   ],
   "source": [
    "A\n",
    "error = norm( A - U.dot(S).dot(V.T) )\n",
    "error"
   ]
  },
  {
   "cell_type": "markdown",
   "metadata": {},
   "source": [
    "## The \"Economy\" SVD  -- doesn't bother with zero singular values; S is always a square matrix"
   ]
  },
  {
   "cell_type": "code",
   "execution_count": 21,
   "metadata": {
    "collapsed": false
   },
   "outputs": [
    {
     "data": {
      "text/plain": [
       "(array([[-0.63743506, -0.24765855,  0.60362534,  0.40985149],\n",
       "        [-0.3790489 ,  0.0107913 ,  0.21519378, -0.89994284],\n",
       "        [-0.48058543, -0.49247508, -0.72523967,  0.02309465],\n",
       "        [-0.46801296,  0.83427638, -0.25170521,  0.1469397 ]]),\n",
       " array([[ 1.4176527 ,  0.        ,  0.        ],\n",
       "        [ 0.        ,  0.86663328,  0.        ],\n",
       "        [ 0.        ,  0.        ,  0.05043307],\n",
       "        [ 0.        ,  0.        ,  0.        ]]),\n",
       " array([[-0.78412782, -0.59663647, -0.17078785],\n",
       "        [-0.30352399,  0.12865652,  0.94409782],\n",
       "        [-0.54131022,  0.79213157, -0.28197664]]))"
      ]
     },
     "execution_count": 21,
     "metadata": {},
     "output_type": "execute_result"
    }
   ],
   "source": [
    "U,S,V = full_svd(A)\n",
    "U,S,V"
   ]
  },
  {
   "cell_type": "markdown",
   "metadata": {},
   "source": [
    "## The Rank-$k$ Approximation of a Matrix, using the SVD\n",
    "\n",
    "If $A \\,=\\, U\\,S\\,V'$, the <b>rank-k approximation</b>\n",
    "of $A$ is\n",
    "\\[\n",
    "A^{(k)} ~~=~~ U ~ S^{(k)} ~ \\adjoint{V}\n",
    "\\]\n",
    "where all columns {\\bf after $k$} of $U^{(k)}$, $S^{(k)}$, and $V^{(k)}$ are zero:\n",
    "$${\\small\n",
    "A^{(k)} ~~=~~\n",
    "\\begin{pmatrix}\n",
    " & & & & \\\\\n",
    " & & & & \\\\\n",
    "{\\bf u}_1 & \\cdots & {\\bf u}_k & {\\bf 0} & \\cdots  & {\\bf 0} \\\\\n",
    " & & & & \\\\\n",
    " & & & &\n",
    "\\end{pmatrix}\n",
    "~~\n",
    "\\begin{pmatrix}\n",
    "\\sigma_1 &        &          &  &  & \\\\\n",
    "         & \\ddots &          &  &  & \\\\\n",
    "         &        & \\sigma_k &  &  & \\\\\n",
    "         &        &          & 0 &  & \\\\\n",
    "         &        &          &  &  \\ddots & \\\\\n",
    "         &        &          &  &  & 0 \\\\\n",
    "         &        &          &  &  & \\\\\n",
    "         &        &          &  &  & \\\\\n",
    "\\end{pmatrix}\n",
    "~~\n",
    "\\begin{pmatrix}\n",
    " & & & & \\\\\n",
    " & & & & \\\\\n",
    "{\\bf v}_1 & \\cdots  & {\\bf v}_k & {\\bf 0} & \\cdots  & {\\bf 0} \\\\\n",
    " & & & & \\\\\n",
    " & & & &\n",
    "\\end{pmatrix} '\n",
    "}$$"
   ]
  },
  {
   "cell_type": "code",
   "execution_count": 22,
   "metadata": {
    "collapsed": true
   },
   "outputs": [],
   "source": [
    "def svds(A,k):\n",
    "    U,sigma,VT = svd(A, full_matrices=True)\n",
    "    n, p = A.shape\n",
    "    if k > min(n,p):  k = min(n,p)\n",
    "    S = diag(sigma[:k])\n",
    "    return (U[:,:k], S, VT.T[:,:k])"
   ]
  },
  {
   "cell_type": "code",
   "execution_count": 23,
   "metadata": {
    "collapsed": false
   },
   "outputs": [
    {
     "data": {
      "text/plain": [
       "array([[ 0.83144248,  0.27541038,  0.31056257],\n",
       "       [ 0.41392534,  0.17455095,  0.29522613],\n",
       "       [ 0.7951172 ,  0.11735049,  0.04103196],\n",
       "       [ 0.09104589,  0.28241758,  0.93544827]])"
      ]
     },
     "execution_count": 23,
     "metadata": {},
     "output_type": "execute_result"
    }
   ],
   "source": [
    "A"
   ]
  },
  {
   "cell_type": "code",
   "execution_count": 24,
   "metadata": {
    "collapsed": false
   },
   "outputs": [
    {
     "data": {
      "text/plain": [
       "(array([[-0.63743506, -0.24765855],\n",
       "        [-0.3790489 ,  0.0107913 ],\n",
       "        [-0.48058543, -0.49247508],\n",
       "        [-0.46801296,  0.83427638]]), array([[ 1.4176527 ,  0.        ],\n",
       "        [ 0.        ,  0.86663328]]), array([[-0.78412782, -0.59663647],\n",
       "        [-0.30352399,  0.12865652],\n",
       "        [-0.54131022,  0.79213157]]))"
      ]
     },
     "execution_count": 24,
     "metadata": {},
     "output_type": "execute_result"
    }
   ],
   "source": [
    "U2, S2, V2 = svds(A, 2)  #  compute only the first 2 columns of A's SVD\n",
    "U2, S2, V2"
   ]
  },
  {
   "cell_type": "code",
   "execution_count": 25,
   "metadata": {
    "collapsed": false
   },
   "outputs": [
    {
     "data": {
      "text/plain": [
       "0.050433071812655543"
      ]
     },
     "execution_count": 25,
     "metadata": {},
     "output_type": "execute_result"
    }
   ],
   "source": [
    "error = norm( A - U2.dot(S2).dot(V2.T) )  #  approximation error! (omitted 3rd column)\n",
    "error"
   ]
  },
  {
   "cell_type": "markdown",
   "metadata": {},
   "source": [
    "## The Rank-$k$ Approximation is a Good Approximation\n",
    "\n",
    "$$\\begin{eqnarray*}\n",
    "A \\; - \\; A^{(k)}\n",
    " & = &\n",
    "U \\; S \\; V' ~ - ~ U^{(k)} ~ S^{(k)} ~ V^{(k)'}  \\\\\n",
    " & = &\n",
    "U \\; S \\; V' ~ - ~ U \\; S^{(k)} \\; V' \\\\\n",
    " & = &\n",
    "U \\; (S ~ - ~ S^{(k)}) \\; V ' \\\\\n",
    "\\\\\n",
    "\\mid\\mid{A \\; - \\; A^{(k)}}\\mid\\mid^2_{F} & = & \\sum_{i>k} \\sigma_i^2 .\n",
    "\\end{eqnarray*}$$"
   ]
  },
  {
   "cell_type": "code",
   "execution_count": 26,
   "metadata": {
    "collapsed": false
   },
   "outputs": [
    {
     "data": {
      "text/plain": [
       "array([[ 0.83144248,  0.27541038,  0.31056257],\n",
       "       [ 0.41392534,  0.17455095,  0.29522613],\n",
       "       [ 0.7951172 ,  0.11735049,  0.04103196],\n",
       "       [ 0.09104589,  0.28241758,  0.93544827]])"
      ]
     },
     "execution_count": 26,
     "metadata": {},
     "output_type": "execute_result"
    }
   ],
   "source": [
    "A"
   ]
  },
  {
   "cell_type": "code",
   "execution_count": 27,
   "metadata": {
    "collapsed": false
   },
   "outputs": [
    {
     "data": {
      "text/plain": [
       "(array([[-0.63743506, -0.24765855,  0.60362534,  0.40985149],\n",
       "        [-0.3790489 ,  0.0107913 ,  0.21519378, -0.89994284],\n",
       "        [-0.48058543, -0.49247508, -0.72523967,  0.02309465],\n",
       "        [-0.46801296,  0.83427638, -0.25170521,  0.1469397 ]]),\n",
       " array([[ 1.4176527 ,  0.        ,  0.        ],\n",
       "        [ 0.        ,  0.86663328,  0.        ],\n",
       "        [ 0.        ,  0.        ,  0.05043307],\n",
       "        [ 0.        ,  0.        ,  0.        ]]),\n",
       " array([[-0.78412782, -0.59663647, -0.17078785],\n",
       "        [-0.30352399,  0.12865652,  0.94409782],\n",
       "        [-0.54131022,  0.79213157, -0.28197664]]))"
      ]
     },
     "execution_count": 27,
     "metadata": {},
     "output_type": "execute_result"
    }
   ],
   "source": [
    "U, S, V = full_svd(A)\n",
    "U, S, V"
   ]
  },
  {
   "cell_type": "code",
   "execution_count": 28,
   "metadata": {
    "collapsed": false
   },
   "outputs": [
    {
     "data": {
      "text/plain": [
       "(array([[-0.63743506, -0.24765855],\n",
       "        [-0.3790489 ,  0.0107913 ],\n",
       "        [-0.48058543, -0.49247508],\n",
       "        [-0.46801296,  0.83427638]]), array([[ 1.4176527 ,  0.        ],\n",
       "        [ 0.        ,  0.86663328]]), array([[-0.78412782, -0.59663647],\n",
       "        [-0.30352399,  0.12865652],\n",
       "        [-0.54131022,  0.79213157]]))"
      ]
     },
     "execution_count": 28,
     "metadata": {},
     "output_type": "execute_result"
    }
   ],
   "source": [
    "U2, S2, V2 = svds(A, 2)\n",
    "U2, S2, V2"
   ]
  },
  {
   "cell_type": "code",
   "execution_count": 29,
   "metadata": {
    "collapsed": false
   },
   "outputs": [
    {
     "data": {
      "text/plain": [
       "array([[ 0.83664172,  0.24666952,  0.3191467 ],\n",
       "       [ 0.41577888,  0.16430477,  0.29828639],\n",
       "       [ 0.78887045,  0.15188188,  0.03071837],\n",
       "       [ 0.08887786,  0.29440221,  0.93186879]])"
      ]
     },
     "execution_count": 29,
     "metadata": {},
     "output_type": "execute_result"
    }
   ],
   "source": [
    "A2 = U2.dot(S2).dot(V2.T)     # rank-2 approximation of A\n",
    "A2"
   ]
  },
  {
   "cell_type": "code",
   "execution_count": 30,
   "metadata": {
    "collapsed": false
   },
   "outputs": [
    {
     "data": {
      "text/plain": [
       "0.0025434947324604711"
      ]
     },
     "execution_count": 30,
     "metadata": {},
     "output_type": "execute_result"
    }
   ],
   "source": [
    "norm( A - A2, ord='fro' )**2  # squared Frobenius norm"
   ]
  },
  {
   "cell_type": "code",
   "execution_count": 31,
   "metadata": {
    "collapsed": false
   },
   "outputs": [
    {
     "data": {
      "text/plain": [
       "0.0025434947324604715"
      ]
     },
     "execution_count": 31,
     "metadata": {},
     "output_type": "execute_result"
    }
   ],
   "source": [
    "sum(sum( (A-A2)**2 ))"
   ]
  },
  {
   "cell_type": "code",
   "execution_count": 32,
   "metadata": {
    "collapsed": false
   },
   "outputs": [
    {
     "data": {
      "text/plain": [
       "array([ 1.4176527 ,  0.86663328,  0.05043307])"
      ]
     },
     "execution_count": 32,
     "metadata": {},
     "output_type": "execute_result"
    }
   ],
   "source": [
    "diag(S)"
   ]
  },
  {
   "cell_type": "code",
   "execution_count": 33,
   "metadata": {
    "collapsed": false
   },
   "outputs": [
    {
     "data": {
      "text/plain": [
       "2.7633358995371613"
      ]
     },
     "execution_count": 33,
     "metadata": {},
     "output_type": "execute_result"
    }
   ],
   "source": [
    "sum(diag(S)**2)"
   ]
  },
  {
   "cell_type": "code",
   "execution_count": 34,
   "metadata": {
    "collapsed": false
   },
   "outputs": [
    {
     "data": {
      "text/plain": [
       "array([ 1.4176527 ,  0.86663328])"
      ]
     },
     "execution_count": 34,
     "metadata": {},
     "output_type": "execute_result"
    }
   ],
   "source": [
    "diag(S2)"
   ]
  },
  {
   "cell_type": "code",
   "execution_count": 35,
   "metadata": {
    "collapsed": false
   },
   "outputs": [
    {
     "data": {
      "text/plain": [
       "0.0025434947324605162"
      ]
     },
     "execution_count": 35,
     "metadata": {},
     "output_type": "execute_result"
    }
   ],
   "source": [
    "sum(diag(S)**2) - sum(diag(S2)**2)"
   ]
  },
  {
   "cell_type": "markdown",
   "metadata": {},
   "source": [
    "## Latent Semantic Indexing\n",
    "\n",
    "Demo of Latent Semantic Indexing\n",
    "for a co-occurrence matrix of X terms vs. Y terms\n",
    "(in this case, Keywords vs. Books).\n",
    "\n",
    "Components are computed as in:\n",
    "  Berry, M. W., Dumais, S. T., and O'Brien, G. W. (1995).\n",
    "  \"Using linear algebra for intelligent information retrieval.\"\n",
    "  SIAM Review, 37(4), 1995, 573-595.\n",
    "\n",
    "LSI references:\n",
    "<a target=\"_blank\"\n",
    "href=\"http://lsi.research.telcordia.com/lsi/LSIpapers.html\">lsi.research.telcordia.com/lsi/LSIpapers.html</a>"
   ]
  },
  {
   "cell_type": "code",
   "execution_count": 36,
   "metadata": {
    "collapsed": false
   },
   "outputs": [
    {
     "data": {
      "image/png": "[encoded data removed]",
      "text/plain": [
       "<matplotlib.figure.Figure at 0x10d2defd0>"
      ]
     },
     "metadata": {},
     "output_type": "display_data"
    }
   ],
   "source": [
    "# X:  Keywords\n",
    "\n",
    "nX = 16\n",
    "Xtext = [\n",
    "        'algorithms',\n",
    "        'application',\n",
    "        'delay',\n",
    "        'differential',\n",
    "        'equations',\n",
    "        'implementation',\n",
    "        'integral',\n",
    "        'introduction',\n",
    "        'methods',\n",
    "        'nonlinear',\n",
    "        'ordinary',\n",
    "        'oscillation',\n",
    "        'partial',\n",
    "        'problem',\n",
    "        'systems',\n",
    "        'theory'\n",
    "        ]\n",
    "\n",
    "# Y:  Books\n",
    "\n",
    "nY = 17\n",
    "\n",
    "# Book: 1  2  3  4  5  6  7  8  9 10 11 12 13 14 15 16 17   # Keyword:\n",
    "#--------------------------------------------------------------------------\n",
    "coOccurrence =  np.array([\n",
    "      [ 0,  0,  1,  0,  1,  0,  1,  0,  0,  0,  0,  0,  0,  0,  0,  0,  0 ],  # algorithms\n",
    "      [ 0,  0,  1,  0,  0,  0,  0,  0,  0,  0,  0,  0,  0,  0,  0,  0,  1 ],  # application\n",
    "      [ 0,  0,  0,  0,  0,  0,  0,  0,  0,  0,  1,  1,  0,  0,  0,  0,  0 ],  # delay\n",
    "      [ 0,  0,  0,  1,  0,  0,  0,  1,  0,  1,  1,  1,  1,  1,  1,  0,  0 ],  # differential\n",
    "      [ 1,  1,  0,  1,  0,  0,  0,  1,  0,  1,  1,  1,  1,  1,  1,  0,  0 ],  # equations\n",
    "      [ 0,  0,  1,  0,  0,  0,  1,  0,  0,  0,  0,  0,  0,  0,  0,  0,  0 ],  # implementation\n",
    "      [ 1,  0,  0,  0,  0,  0,  0,  0,  0,  0,  0,  0,  0,  0,  0,  1,  1 ],  # integral\n",
    "      [ 0,  0,  0,  0,  1,  1,  0,  0,  0,  0,  0,  0,  0,  0,  0,  0,  0 ],  # introduction\n",
    "      [ 0,  0,  0,  0,  0,  0,  0,  1,  0,  0,  0,  0,  0,  1,  0,  0,  0 ],  # methods\n",
    "      [ 0,  0,  0,  0,  0,  0,  0,  0,  1,  0,  0,  0,  1,  0,  0,  0,  0 ],  # nonlinear\n",
    "      [ 0,  0,  0,  0,  0,  0,  0,  1,  0,  1,  0,  0,  0,  0,  0,  0,  0 ],  # ordinary\n",
    "      [ 0,  0,  0,  0,  0,  0,  0,  0,  0,  0,  1,  1,  0,  0,  0,  0,  0 ],  # oscillation\n",
    "      [ 0,  0,  0,  1,  0,  0,  0,  0,  0,  0,  0,  0,  1,  0,  0,  0,  0 ],  # partial\n",
    "      [ 0,  0,  0,  0,  0,  1,  1,  0,  0,  0,  0,  0,  0,  0,  0,  1,  0 ],  # problem\n",
    "      [ 0,  0,  0,  0,  0,  1,  0,  1,  1,  0,  0,  0,  0,  0,  0,  0,  0 ],  # systems\n",
    "      [ 0,  0,  1,  0,  0,  0,  0,  0,  0,  0,  1,  1,  0,  0,  0,  0,  1 ]   # theory\n",
    "])\n",
    "\n",
    "U,S,V = full_svd(coOccurrence)\n",
    "\n",
    "Xfactor = U[:, :2]\n",
    "Yfactor = V[:, :2]\n",
    "\n",
    "plt.rcParams['figure.figsize'] = (12,10)\n",
    "\n",
    "# plot the 2D projection of the data\n",
    "\n",
    "plt.plot( Xfactor[:,0], Xfactor[:,1], 'r*', Yfactor[:,0], Yfactor[:,1], 'b*' )\n",
    "plt.hold()\n",
    "\n",
    "text_offset = 0.01\n",
    "for i in range(nX):\n",
    "     plt.text( Xfactor[i,0]+text_offset, Xfactor[i,1], Xtext[i])\n",
    "\n",
    "for i in range(nY):\n",
    "     plt.text( Yfactor[i,0]+text_offset, Yfactor[i,1], ('B%d' % i))\n",
    "\n",
    "plt.title( 'Latent Semantic Indexing:  X term vs. Y term ' )\n",
    "plt.xlabel( '1st component' )\n",
    "plt.ylabel( '2nd component' )\n",
    "plt.hold()"
   ]
  },
  {
   "cell_type": "markdown",
   "metadata": {},
   "source": [
    "## The Pseudoinverse"
   ]
  },
  {
   "cell_type": "code",
   "execution_count": 37,
   "metadata": {
    "collapsed": false
   },
   "outputs": [
    {
     "data": {
      "text/plain": [
       "array([[-0.42273042, -0.00693001,  0.15939016,  0.27027027],\n",
       "       [ 1.4019404 ,  0.26888427, -0.18433818, -0.48648649]])"
      ]
     },
     "execution_count": 37,
     "metadata": {},
     "output_type": "execute_result"
    }
   ],
   "source": [
    "A = np.array( [ [1.2, 1] ,  [2.7, 1] ,  [3.3, 1] , [3.7, 1] ] )\n",
    "\n",
    "P = pinv(A)     #  the pseudoinverse of A\n",
    "P"
   ]
  },
  {
   "cell_type": "code",
   "execution_count": 38,
   "metadata": {
    "collapsed": false
   },
   "outputs": [
    {
     "data": {
      "text/plain": [
       "array([[ 0.89466389,  0.26056826,  0.00693001, -0.16216216],\n",
       "       [ 0.26056826,  0.25017325,  0.24601525,  0.24324324],\n",
       "       [ 0.00693001,  0.24601525,  0.34164934,  0.40540541],\n",
       "       [-0.16216216,  0.24324324,  0.40540541,  0.51351351]])"
      ]
     },
     "execution_count": 38,
     "metadata": {},
     "output_type": "execute_result"
    }
   ],
   "source": [
    "A.dot(P)"
   ]
  },
  {
   "cell_type": "code",
   "execution_count": 39,
   "metadata": {
    "collapsed": false
   },
   "outputs": [
    {
     "data": {
      "text/plain": [
       "array([[  1.00000000e+00,  -1.11022302e-16],\n",
       "       [ -6.66133815e-16,   1.00000000e+00]])"
      ]
     },
     "execution_count": 39,
     "metadata": {},
     "output_type": "execute_result"
    }
   ],
   "source": [
    "P.dot(A)      #  P is a \"left inverse\" for A"
   ]
  },
  {
   "cell_type": "code",
   "execution_count": 40,
   "metadata": {
    "collapsed": false
   },
   "outputs": [
    {
     "data": {
      "text/plain": [
       "2.7012892057857038e-15"
      ]
     },
     "execution_count": 40,
     "metadata": {},
     "output_type": "execute_result"
    }
   ],
   "source": [
    "error = norm( A.dot(P).dot(A)  -  A )   #  consequently  A P A  =  A\n",
    "error"
   ]
  },
  {
   "cell_type": "markdown",
   "metadata": {},
   "source": [
    "## Computation of the Pseudoinverse -- using the SVD\n",
    "\n",
    "If  $A = U S V'$, then it has pseudoinverse  $A^- = V ~ S^- ~ U'$, where:\n",
    "\n",
    "$$\n",
    "\\begin{pmatrix}\n",
    "\\sigma_1 &          &        & \\\\\n",
    "         & \\sigma_2 &        & \\\\\n",
    "         &          & \\ddots & \\\\\n",
    "         &          &        & \\sigma_p \\\\\n",
    "         &          &        & \\\\\n",
    "         &          &        & \\\\\n",
    "\\end{pmatrix}{}^-\n",
    "~~=~~\n",
    "\\begin{pmatrix}\n",
    "\\sigma_1^- &          &        &   ~    &  ~     &  \\\\\n",
    "         & \\sigma_2^- &        &   ~    &  ~     &  \\\\\n",
    "         &               & \\ddots   &        &   ~    &     \\\\\n",
    "         &               &          & \\sigma_p^- &  ~      &\n",
    "\\end{pmatrix}\n",
    "$$\n",
    "where $$\n",
    "\\sigma^- ~=~\n",
    "\\left\\{\n",
    "\\begin{array}{ll} 1/\\sigma & \\sigma \\neq 0 \\\\ 0 & \\sigma = 0 \\end{array}\n",
    "\\right.\n",
    "$$"
   ]
  },
  {
   "cell_type": "code",
   "execution_count": 41,
   "metadata": {
    "collapsed": true
   },
   "outputs": [],
   "source": [
    "def Pseudoinverse(A):\n",
    "    U, S, V = full_svd(A)\n",
    "    return (V.T).dot(DiagonalPinv(S)).dot(U.T)"
   ]
  },
  {
   "cell_type": "code",
   "execution_count": 42,
   "metadata": {
    "collapsed": false
   },
   "outputs": [],
   "source": [
    "def DiagonalPinv(S):\n",
    "    n, p = S.shape\n",
    "    Sminus = np.zeros((p,n))\n",
    "    for i in range(min(p,n)):\n",
    "        if S[i,i] != 0:\n",
    "            Sminus[i,i] = 1/S[i,i]\n",
    "    return Sminus"
   ]
  },
  {
   "cell_type": "code",
   "execution_count": 43,
   "metadata": {
    "collapsed": false
   },
   "outputs": [
    {
     "data": {
      "text/plain": [
       "array([[-0.42273042, -0.00693001,  0.15939016,  0.27027027],\n",
       "       [ 1.4019404 ,  0.26888427, -0.18433818, -0.48648649]])"
      ]
     },
     "execution_count": 43,
     "metadata": {},
     "output_type": "execute_result"
    }
   ],
   "source": [
    "Pseudoinverse(A)"
   ]
  },
  {
   "cell_type": "code",
   "execution_count": 44,
   "metadata": {
    "collapsed": false
   },
   "outputs": [
    {
     "data": {
      "text/plain": [
       "array([[-0.42273042, -0.00693001,  0.15939016,  0.27027027],\n",
       "       [ 1.4019404 ,  0.26888427, -0.18433818, -0.48648649]])"
      ]
     },
     "execution_count": 44,
     "metadata": {},
     "output_type": "execute_result"
    }
   ],
   "source": [
    "pinv(A)"
   ]
  },
  {
   "cell_type": "code",
   "execution_count": 45,
   "metadata": {
    "collapsed": false
   },
   "outputs": [
    {
     "data": {
      "text/plain": [
       "array([[  1.00000000e+00,   1.01187604e-15,   8.32463154e-17,\n",
       "          6.39472210e-18],\n",
       "       [  1.25804330e-16,   1.00000000e+00,   1.67345434e-16,\n",
       "          3.29236491e-16],\n",
       "       [  0.00000000e+00,   0.00000000e+00,   0.00000000e+00,\n",
       "          0.00000000e+00],\n",
       "       [  0.00000000e+00,   0.00000000e+00,   0.00000000e+00,\n",
       "          0.00000000e+00]])"
      ]
     },
     "execution_count": 45,
     "metadata": {},
     "output_type": "execute_result"
    }
   ],
   "source": [
    "U, S, V = full_svd(A)\n",
    "S.dot( V.dot( pinv(A).dot(U) ) )"
   ]
  },
  {
   "cell_type": "markdown",
   "metadata": {},
   "source": [
    "### Properties of the Pseudoinverse"
   ]
  },
  {
   "cell_type": "code",
   "execution_count": 46,
   "metadata": {
    "collapsed": false
   },
   "outputs": [
    {
     "data": {
      "text/plain": [
       "array([[-0.82617343, -0.24512849,  1.65842745,  0.00881616],\n",
       "       [ 0.15079373,  1.32427885, -0.70338032, -0.69655301],\n",
       "       [ 1.82879427, -0.4279703 , -1.31863778,  1.2716055 ]])"
      ]
     },
     "execution_count": 46,
     "metadata": {},
     "output_type": "execute_result"
    }
   ],
   "source": [
    "A = rand(4,3)\n",
    "P = inv(A.T.dot(A)).dot(A.T)\n",
    "P"
   ]
  },
  {
   "cell_type": "code",
   "execution_count": 47,
   "metadata": {
    "collapsed": false
   },
   "outputs": [
    {
     "data": {
      "text/plain": [
       "array([[  1.00000000e+00,   3.44342610e-16,  -7.65013053e-16],\n",
       "       [  4.99600361e-16,   1.00000000e+00,   4.44089210e-16],\n",
       "       [ -5.55111512e-16,  -5.68989300e-16,   1.00000000e+00]])"
      ]
     },
     "execution_count": 47,
     "metadata": {},
     "output_type": "execute_result"
    }
   ],
   "source": [
    "P.dot(A)"
   ]
  },
  {
   "cell_type": "code",
   "execution_count": 48,
   "metadata": {
    "collapsed": false
   },
   "outputs": [
    {
     "data": {
      "text/plain": [
       "array([[ 0.63866162,  0.17820281, -0.15588903,  0.41798962],\n",
       "       [ 0.17820281,  0.91211495,  0.07688047, -0.20614175],\n",
       "       [-0.15588903,  0.07688047,  0.93274617,  0.18032958],\n",
       "       [ 0.41798962, -0.20614175,  0.18032958,  0.51647726]])"
      ]
     },
     "execution_count": 48,
     "metadata": {},
     "output_type": "execute_result"
    }
   ],
   "source": [
    "A.dot(P)"
   ]
  },
  {
   "cell_type": "code",
   "execution_count": 49,
   "metadata": {
    "collapsed": false
   },
   "outputs": [
    {
     "data": {
      "text/plain": [
       "8.6533320887260379e-16"
      ]
     },
     "execution_count": 49,
     "metadata": {},
     "output_type": "execute_result"
    }
   ],
   "source": [
    "norm( A.dot(P).dot(A) - A )"
   ]
  },
  {
   "cell_type": "code",
   "execution_count": 50,
   "metadata": {
    "collapsed": false
   },
   "outputs": [
    {
     "data": {
      "text/plain": [
       "3.2330820069334966e-15"
      ]
     },
     "execution_count": 50,
     "metadata": {},
     "output_type": "execute_result"
    }
   ],
   "source": [
    "norm( P.dot(A).dot(P) - P )"
   ]
  },
  {
   "cell_type": "code",
   "execution_count": 51,
   "metadata": {
    "collapsed": false
   },
   "outputs": [
    {
     "data": {
      "text/plain": [
       "1.0362907589042387e-15"
      ]
     },
     "execution_count": 51,
     "metadata": {},
     "output_type": "execute_result"
    }
   ],
   "source": [
    "norm( (A.dot(P)).T  -  A.dot(P) )"
   ]
  },
  {
   "cell_type": "code",
   "execution_count": 52,
   "metadata": {
    "collapsed": false
   },
   "outputs": [
    {
     "data": {
      "text/plain": [
       "1.4795213370438157e-15"
      ]
     },
     "execution_count": 52,
     "metadata": {},
     "output_type": "execute_result"
    }
   ],
   "source": [
    "norm( (P.dot(A)).T  -  P.dot(A) )"
   ]
  },
  {
   "cell_type": "code",
   "execution_count": 53,
   "metadata": {
    "collapsed": true
   },
   "outputs": [],
   "source": [
    "essentially_equal =  lambda X,Y:  (np.max(np.abs(X-Y)) < 1e-14 * (norm(X)+norm(Y))).all()"
   ]
  },
  {
   "cell_type": "code",
   "execution_count": 54,
   "metadata": {
    "collapsed": false
   },
   "outputs": [
    {
     "data": {
      "text/plain": [
       "True"
      ]
     },
     "execution_count": 54,
     "metadata": {},
     "output_type": "execute_result"
    }
   ],
   "source": [
    "essentially_equal( (P.dot(A)).T , P.dot(A) )"
   ]
  },
  {
   "cell_type": "code",
   "execution_count": 55,
   "metadata": {
    "collapsed": false
   },
   "outputs": [
    {
     "data": {
      "text/plain": [
       "True"
      ]
     },
     "execution_count": 55,
     "metadata": {},
     "output_type": "execute_result"
    }
   ],
   "source": [
    "essentially_equal( A.dot(P).T, A.dot(P) )"
   ]
  },
  {
   "cell_type": "code",
   "execution_count": 56,
   "metadata": {
    "collapsed": false
   },
   "outputs": [
    {
     "data": {
      "text/plain": [
       "True"
      ]
     },
     "execution_count": 56,
     "metadata": {},
     "output_type": "execute_result"
    }
   ],
   "source": [
    "essentially_equal( A.dot(P).dot(A), A )"
   ]
  },
  {
   "cell_type": "code",
   "execution_count": 57,
   "metadata": {
    "collapsed": false
   },
   "outputs": [
    {
     "data": {
      "text/plain": [
       "array([[ 0.51430022,  0.40686844,  0.54801658],\n",
       "       [ 0.71480648,  0.9320886 ,  0.3435071 ],\n",
       "       [ 0.96219102,  0.34002685,  0.32139958],\n",
       "       [ 0.49869876,  0.08115711,  0.44715981]])"
      ]
     },
     "execution_count": 57,
     "metadata": {},
     "output_type": "execute_result"
    }
   ],
   "source": [
    "A"
   ]
  },
  {
   "cell_type": "code",
   "execution_count": 58,
   "metadata": {
    "collapsed": false
   },
   "outputs": [
    {
     "data": {
      "text/plain": [
       "True"
      ]
     },
     "execution_count": 58,
     "metadata": {},
     "output_type": "execute_result"
    }
   ],
   "source": [
    "U,S,V = full_svd(A)\n",
    "essentially_equal( A, U.dot(S).dot(V.T) )\n",
    "# U,S,V"
   ]
  },
  {
   "cell_type": "code",
   "execution_count": 59,
   "metadata": {
    "collapsed": false
   },
   "outputs": [
    {
     "data": {
      "text/plain": [
       "array([ 0.53888834,  1.90312704,  3.03654953])"
      ]
     },
     "execution_count": 59,
     "metadata": {},
     "output_type": "execute_result"
    }
   ],
   "source": [
    "1/diag(S)"
   ]
  },
  {
   "cell_type": "code",
   "execution_count": 60,
   "metadata": {
    "collapsed": false
   },
   "outputs": [
    {
     "data": {
      "text/plain": [
       "array([ 0.53888834,  1.90312704,  3.03654953])"
      ]
     },
     "execution_count": 60,
     "metadata": {},
     "output_type": "execute_result"
    }
   ],
   "source": [
    "S_inv = np.zeros(S.T.shape)\n",
    "m = min(S.shape)\n",
    "for i in range(m):\n",
    "    if S[i,i] != 0:\n",
    "        S_inv[i,i] = 1/S[i,i]\n",
    "diag( S_inv ) # notice these are not in descending order"
   ]
  },
  {
   "cell_type": "code",
   "execution_count": 61,
   "metadata": {
    "collapsed": false
   },
   "outputs": [
    {
     "data": {
      "text/plain": [
       "array([[ 0.51430022,  0.40686844,  0.54801658],\n",
       "       [ 0.71480648,  0.9320886 ,  0.3435071 ],\n",
       "       [ 0.96219102,  0.34002685,  0.32139958],\n",
       "       [ 0.49869876,  0.08115711,  0.44715981]])"
      ]
     },
     "execution_count": 61,
     "metadata": {},
     "output_type": "execute_result"
    }
   ],
   "source": [
    "U.dot(S).dot(V.T)"
   ]
  },
  {
   "cell_type": "code",
   "execution_count": 62,
   "metadata": {
    "collapsed": false
   },
   "outputs": [
    {
     "data": {
      "text/plain": [
       "3.5975337699988621e-16"
      ]
     },
     "execution_count": 62,
     "metadata": {},
     "output_type": "execute_result"
    }
   ],
   "source": [
    "norm( pinv(A) - V.dot(S_inv).dot(U.T) )"
   ]
  },
  {
   "cell_type": "code",
   "execution_count": 63,
   "metadata": {
    "collapsed": false
   },
   "outputs": [
    {
     "data": {
      "text/plain": [
       "array([[ 1.,  0.,  0.,  0.],\n",
       "       [ 0.,  1.,  0.,  0.],\n",
       "       [ 0.,  0.,  1.,  0.],\n",
       "       [ 0.,  0.,  0.,  0.]])"
      ]
     },
     "execution_count": 63,
     "metadata": {},
     "output_type": "execute_result"
    }
   ],
   "source": [
    "S.dot(S_inv)"
   ]
  },
  {
   "cell_type": "code",
   "execution_count": 64,
   "metadata": {
    "collapsed": false
   },
   "outputs": [
    {
     "data": {
      "text/plain": [
       "array([[ 1.,  0.,  0.],\n",
       "       [ 0.,  1.,  0.],\n",
       "       [ 0.,  0.,  1.]])"
      ]
     },
     "execution_count": 64,
     "metadata": {},
     "output_type": "execute_result"
    }
   ],
   "source": [
    "S_inv.dot(S)"
   ]
  },
  {
   "cell_type": "code",
   "execution_count": 65,
   "metadata": {
    "collapsed": false
   },
   "outputs": [
    {
     "data": {
      "text/plain": [
       "array([[-0.82617343, -0.24512849,  1.65842745,  0.00881616],\n",
       "       [ 0.15079373,  1.32427885, -0.70338032, -0.69655301],\n",
       "       [ 1.82879427, -0.4279703 , -1.31863778,  1.2716055 ]])"
      ]
     },
     "execution_count": 65,
     "metadata": {},
     "output_type": "execute_result"
    }
   ],
   "source": [
    "pseudoinverse  =  lambda X: inv(X.T.dot(X)).dot(X.T)\n",
    "P = pseudoinverse(A)\n",
    "P"
   ]
  },
  {
   "cell_type": "code",
   "execution_count": 66,
   "metadata": {
    "collapsed": false
   },
   "outputs": [
    {
     "data": {
      "text/plain": [
       "array([[-0.1323396 ],\n",
       "       [-0.03407274],\n",
       "       [ 1.42317602]])"
      ]
     },
     "execution_count": 66,
     "metadata": {},
     "output_type": "execute_result"
    }
   ],
   "source": [
    "b = rand(4,1)\n",
    "P.dot(b)"
   ]
  },
  {
   "cell_type": "markdown",
   "metadata": {},
   "source": [
    "## Implementing the SVD"
   ]
  },
  {
   "cell_type": "code",
   "execution_count": 67,
   "metadata": {
    "collapsed": false
   },
   "outputs": [
    {
     "data": {
      "text/plain": [
       "(array([[-0.40721114, -0.47869909, -0.77783434],\n",
       "        [-0.73109946, -0.33960397,  0.59174548],\n",
       "        [-0.54742365,  0.80963963, -0.21168613]]),\n",
       " array([[ 1.63441205,  0.        ,  0.        ],\n",
       "        [ 0.        ,  0.69612043,  0.        ],\n",
       "        [ 0.        ,  0.        ,  0.30257487]]),\n",
       " array([[-0.45740379,  0.53501272, -0.71031202],\n",
       "        [-0.55572666, -0.79555792, -0.24136171],\n",
       "        [-0.69422594,  0.28433956,  0.66121204]]))"
      ]
     },
     "execution_count": 67,
     "metadata": {},
     "output_type": "execute_result"
    }
   ],
   "source": [
    "A = rand(3,3)\n",
    "U, S, V = full_svd(A)\n",
    "U, S, V"
   ]
  },
  {
   "cell_type": "code",
   "execution_count": 68,
   "metadata": {
    "collapsed": false
   },
   "outputs": [
    {
     "data": {
      "text/plain": [
       "(array([ 2.67130274,  0.09155155,  0.48458366]),\n",
       " array([[-0.45740379, -0.71031202,  0.53501272],\n",
       "        [-0.55572666, -0.24136171, -0.79555792],\n",
       "        [-0.69422594,  0.66121204,  0.28433956]]))"
      ]
     },
     "execution_count": 68,
     "metadata": {},
     "output_type": "execute_result"
    }
   ],
   "source": [
    "eig(A.T.dot(A))"
   ]
  },
  {
   "cell_type": "code",
   "execution_count": 69,
   "metadata": {
    "collapsed": false
   },
   "outputs": [],
   "source": [
    "def SimpleSVD(A):\n",
    "    L, Q = eig(A.T.dot(A))\n",
    "    V = Q\n",
    "    S = diag(np.sqrt(L))\n",
    "    U = A.dot(V).dot(pinv(S))\n",
    "    return (U,S,V)           "
   ]
  },
  {
   "cell_type": "code",
   "execution_count": 70,
   "metadata": {
    "collapsed": false
   },
   "outputs": [
    {
     "data": {
      "text/plain": [
       "(array([[-0.40721114, -0.77783434, -0.47869909],\n",
       "        [-0.73109946,  0.59174548, -0.33960397],\n",
       "        [-0.54742365, -0.21168613,  0.80963963]]),\n",
       " array([[ 1.63441205,  0.        ,  0.        ],\n",
       "        [ 0.        ,  0.30257487,  0.        ],\n",
       "        [ 0.        ,  0.        ,  0.69612043]]),\n",
       " array([[-0.45740379, -0.71031202,  0.53501272],\n",
       "        [-0.55572666, -0.24136171, -0.79555792],\n",
       "        [-0.69422594,  0.66121204,  0.28433956]]))"
      ]
     },
     "execution_count": 70,
     "metadata": {},
     "output_type": "execute_result"
    }
   ],
   "source": [
    "U,S,V = SimpleSVD(A)\n",
    "U,S,V"
   ]
  },
  {
   "cell_type": "code",
   "execution_count": 71,
   "metadata": {
    "collapsed": true
   },
   "outputs": [],
   "source": [
    "def reversed(L):\n",
    "    return [x for x in list(L).__reversed__()]"
   ]
  },
  {
   "cell_type": "code",
   "execution_count": 72,
   "metadata": {
    "collapsed": false
   },
   "outputs": [],
   "source": [
    "def GeneralSquareSVD(A):\n",
    "    L, V = eig(A.T.dot(A));  ### Jacobi(A.T.dot(A))V = Q\n",
    "    L = diag(L)\n",
    "    S = np.sqrt(abs(L))\n",
    "    Spinv = pinv(S)\n",
    "    U = A.dot(V).dot(Spinv)\n",
    "    singular_values = diag(Spinv)\n",
    "    ordering = list( np.argsort( singular_values ) )\n",
    "    U = U[:,ordering]\n",
    "    S = S[ordering,ordering]\n",
    "    V = V[:,ordering]\n",
    "    return (U,S,V)"
   ]
  },
  {
   "cell_type": "code",
   "execution_count": 73,
   "metadata": {
    "collapsed": false
   },
   "outputs": [
    {
     "data": {
      "text/plain": [
       "(array([[-0.40721114, -0.47869909, -0.77783434],\n",
       "        [-0.73109946, -0.33960397,  0.59174548],\n",
       "        [-0.54742365,  0.80963963, -0.21168613]]),\n",
       " array([ 1.63441205,  0.69612043,  0.30257487]),\n",
       " array([[-0.45740379,  0.53501272, -0.71031202],\n",
       "        [-0.55572666, -0.79555792, -0.24136171],\n",
       "        [-0.69422594,  0.28433956,  0.66121204]]))"
      ]
     },
     "execution_count": 73,
     "metadata": {},
     "output_type": "execute_result"
    }
   ],
   "source": [
    "U,S,V = GeneralSquareSVD(A)\n",
    "U,S,V"
   ]
  },
  {
   "cell_type": "code",
   "execution_count": 74,
   "metadata": {
    "collapsed": false
   },
   "outputs": [
    {
     "data": {
      "text/plain": [
       "(array([[-0.40721114, -0.47869909, -0.77783434],\n",
       "        [-0.73109946, -0.33960397,  0.59174548],\n",
       "        [-0.54742365,  0.80963963, -0.21168613]]),\n",
       " array([[ 1.63441205,  0.        ,  0.        ],\n",
       "        [ 0.        ,  0.69612043,  0.        ],\n",
       "        [ 0.        ,  0.        ,  0.30257487]]),\n",
       " array([[-0.45740379,  0.53501272, -0.71031202],\n",
       "        [-0.55572666, -0.79555792, -0.24136171],\n",
       "        [-0.69422594,  0.28433956,  0.66121204]]))"
      ]
     },
     "execution_count": 74,
     "metadata": {},
     "output_type": "execute_result"
    }
   ],
   "source": [
    "U,S,V = full_svd(A)\n",
    "U,S,V"
   ]
  },
  {
   "cell_type": "markdown",
   "metadata": {},
   "source": [
    "## General non-square SVD"
   ]
  },
  {
   "cell_type": "code",
   "execution_count": 75,
   "metadata": {
    "collapsed": false
   },
   "outputs": [],
   "source": [
    "def SimpleSVD(A):\n",
    "    n, p = A.shape\n",
    "    if (n > p):\n",
    "        L, Q = eig(A.T.dot(A));  ### Jacobi(A.T).dot(A);  #  (A' * A)  is a  p x p  matrix\n",
    "        V = Q\n",
    "        S = diag(np.sqrt(abs(L)))\n",
    "        Sinv = pinv(S.T)\n",
    "        U = A.dot(V).dot(Sinv);        #  yield a rectangular matrix U\n",
    "    else:\n",
    "        L, Q = eig(A.T.dot(A));  ### Jacobi(A).dot(A.T);  #  (A * A')  is a  n x n  matrix\n",
    "        U = Q\n",
    "        S = diag(np.sqrt(abs(L)))\n",
    "        Sinv = pinv(S.T)\n",
    "        V = Sinv.dot(U.T).dot(A.T);    #  yield a rectangular matrix V\n",
    "    return (U,S,V)"
   ]
  },
  {
   "cell_type": "code",
   "execution_count": 76,
   "metadata": {
    "collapsed": false
   },
   "outputs": [
    {
     "data": {
      "text/plain": [
       "(array([[-0.45740379, -0.71031202,  0.53501272],\n",
       "        [-0.55572666, -0.24136171, -0.79555792],\n",
       "        [-0.69422594,  0.66121204,  0.28433956]]),\n",
       " array([[ 1.63441205,  0.        ,  0.        ],\n",
       "        [ 0.        ,  0.30257487,  0.        ],\n",
       "        [ 0.        ,  0.        ,  0.69612043]]),\n",
       " array([[-0.40721114, -0.73109946, -0.54742365],\n",
       "        [-0.77783434,  0.59174548, -0.21168613],\n",
       "        [-0.47869909, -0.33960397,  0.80963963]]))"
      ]
     },
     "execution_count": 76,
     "metadata": {},
     "output_type": "execute_result"
    }
   ],
   "source": [
    "SimpleSVD(A)"
   ]
  },
  {
   "cell_type": "markdown",
   "metadata": {},
   "source": [
    "## Cleverer SVD implementation"
   ]
  },
  {
   "cell_type": "code",
   "execution_count": 77,
   "metadata": {
    "collapsed": true
   },
   "outputs": [],
   "source": [
    "def ClevererSVD(A):\n",
    "    n, p = A.shape\n",
    "    if (n > p):\n",
    "        L, Q = eig(A.T.dot(A));  ### Jacobi(A.T).dot(A);  #  (A' * A)  is a  p x p  matrix\n",
    "        V = Q\n",
    "        S = diag(np.sqrt(abs(L)))\n",
    "        Sinv = pinv(S.T)\n",
    "        U = A.dot(V).dot(Sinv);        #  yield a rectangular matrix U\n",
    "    else:\n",
    "        L, Q = eig(A.T.dot(A));  ### Jacobi(A).dot(A.T);  #  (A * A')  is a  n x n  matrix\n",
    "        U = Q\n",
    "        S = diag(np.sqrt(abs(L)))\n",
    "        Sinv = pinv(S.T)\n",
    "        V = Sinv.dot(U.T).dot(A.T);    #  yield a rectangular matrix V\n",
    "    singular_values = diag(Sinv)\n",
    "    ordering = list( reversed( np.argsort( singular_values ) ) )\n",
    "    U = U[:,ordering]\n",
    "    S = S[ordering][:,ordering]\n",
    "    V = V[:,ordering]\n",
    "    return (U,S,V)"
   ]
  },
  {
   "cell_type": "code",
   "execution_count": 78,
   "metadata": {
    "collapsed": false
   },
   "outputs": [
    {
     "data": {
      "text/plain": [
       "(array([[-0.71031202,  0.53501272, -0.45740379],\n",
       "        [-0.24136171, -0.79555792, -0.55572666],\n",
       "        [ 0.66121204,  0.28433956, -0.69422594]]),\n",
       " array([[ 0.30257487,  0.        ,  0.        ],\n",
       "        [ 0.        ,  0.69612043,  0.        ],\n",
       "        [ 0.        ,  0.        ,  1.63441205]]),\n",
       " array([[-0.73109946, -0.54742365, -0.40721114],\n",
       "        [ 0.59174548, -0.21168613, -0.77783434],\n",
       "        [-0.33960397,  0.80963963, -0.47869909]]))"
      ]
     },
     "execution_count": 78,
     "metadata": {},
     "output_type": "execute_result"
    }
   ],
   "source": [
    "U,S,V = ClevererSVD(A)\n",
    "U,S,V"
   ]
  },
  {
   "cell_type": "code",
   "execution_count": 79,
   "metadata": {
    "collapsed": false
   },
   "outputs": [
    {
     "data": {
      "text/plain": [
       "(array([[-0.40721114, -0.47869909, -0.77783434],\n",
       "        [-0.73109946, -0.33960397,  0.59174548],\n",
       "        [-0.54742365,  0.80963963, -0.21168613]]),\n",
       " array([[ 1.63441205,  0.        ,  0.        ],\n",
       "        [ 0.        ,  0.69612043,  0.        ],\n",
       "        [ 0.        ,  0.        ,  0.30257487]]),\n",
       " array([[-0.45740379,  0.53501272, -0.71031202],\n",
       "        [-0.55572666, -0.79555792, -0.24136171],\n",
       "        [-0.69422594,  0.28433956,  0.66121204]]))"
      ]
     },
     "execution_count": 79,
     "metadata": {},
     "output_type": "execute_result"
    }
   ],
   "source": [
    "U,S,V = full_svd(A)\n",
    "U,S,V"
   ]
  },
  {
   "cell_type": "code",
   "execution_count": null,
   "metadata": {
    "collapsed": true
   },
   "outputs": [],
   "source": []
  }
 ],
 "metadata": {
  "anaconda-cloud": {},
  "kernelspec": {
   "display_name": "Python [Root]",
   "language": "python",
   "name": "Python [Root]"
  },
  "language_info": {
   "codemirror_mode": {
    "name": "ipython",
    "version": 3
   },
   "file_extension": ".py",
   "mimetype": "text/x-python",
   "name": "python",
   "nbconvert_exporter": "python",
   "pygments_lexer": "ipython3",
   "version": "3.5.2"
  }
 },
 "nbformat": 4,
 "nbformat_minor": 0
}
