{
 "cells": [
  {
   "cell_type": "markdown",
   "metadata": {},
   "source": [
    "# CS170A -- HW#3 -- assignment and solution form -- Matlab\n",
    "\n",
    "Your name:  Alfred Lucero\n",
    "\n",
    "Your UID:  604251044\n",
    "\n",
    "<b>Please upload only this notebook to CCLE by the deadline.</b>\n",
    "\n",
    "<b>Policy for late submission of solutions:</b>  We will use Paul Eggert's Late\n",
    "Policy: $N$ days late $\\Leftrightarrow$ $2^N$ points deducted}\n",
    "The number of days late is $N=0$\n",
    "for the first 24 hrs, $N=1$ for the next 24 hrs, etc., and if you submit\n",
    "an assignment $H$ hours late, $2^{\\lfloor \\,H\\,/\\,24\\, \\rfloor}$ points are\n",
    "deducted."
   ]
  },
  {
   "cell_type": "code",
   "execution_count": 1,
   "metadata": {
    "collapsed": false
   },
   "outputs": [],
   "source": [
    "% Make sure to include all files submitted such as the hillary_clinton_photoshop.jpg, photoshopDetector.m, read_csv_file.m, note_power.m in the same directory as this matlab notebook"
   ]
  },
  {
   "cell_type": "markdown",
   "metadata": {},
   "source": [
    "## Problem 1:  Fourier Music"
   ]
  },
  {
   "cell_type": "markdown",
   "metadata": {},
   "source": [
    "Remember the $k$-th note in the the <b>equal-tempered scale</b> has frequency $c^k$ times the frequency of C,\n",
    "where $c = 2^{1/12} = 1.059463\\ldots$:\n",
    "\n",
    "<table>\n",
    "<tr><th> note  </th><th>  frequency (Hz)  </th><th>  frequency/C  </th><th>  interval </th></tr>\n",
    "<tr><td>Middle C  </td><td>  261.63  </td><td>      $c^0 = 1.000$  </td><td>               ~ </td></tr>\n",
    "<tr><td>       C#  </td><td>  277.18  </td><td>      $c^1 = 1.059$  </td><td>       minor 2nd </td></tr>\n",
    "<tr><td>       D  </td><td>  293.66  </td><td>      $c^2 = 1.122$  </td><td>       major 2nd </td></tr>\n",
    "<tr><td>       D#  </td><td>  311.13  </td><td>      $c^3 = 1.189$  </td><td>       minor 3rd </td></tr>\n",
    "<tr><td>       E  </td><td>  329.63  </td><td>      $c^4 = 1.260$  </td><td>       major 3rd </td></tr>\n",
    "<tr><td>       F  </td><td>  349.23  </td><td>      $c^5 = 1.334$  </td><td>             4th </td></tr>\n",
    "<tr><td>       F#  </td><td>  369.99  </td><td>      $c^6 = 1.414$  </td><td>  diminished 5th </td></tr>\n",
    "<tr><td>       G  </td><td>  392.00  </td><td>      $c^7 = 1.498$  </td><td>             5th </td></tr>\n",
    "<tr><td>       G#  </td><td>  415.30  </td><td>      $c^8 = 1.587$  </td><td>       minor 6th </td></tr>\n",
    "<tr><td>       A  </td><td>  440  </td><td>      $c^9 = 1.682$  </td><td>       major 6th </td></tr>\n",
    "<tr><td>       A#  </td><td>  466.16  </td><td>   $c^{10} = 1.782$  </td><td>       minor 7th </td></tr>\n",
    "<tr><td>       B  </td><td>  493.88  </td><td>   $c^{11} = 1.888$  </td><td>       major 7th </td></tr>\n",
    "<tr><td>  High C  </td><td>  523.25  </td><td>   $c^{12} = 2.000$  </td><td>      octave/8th </td></tr>\n",
    "</table>\n",
    "\n",
    "The equal-tempered scale can be extended to higher or lower octaves by multiplying the frequencies in it by a power of 2.\n",
    "(For example, the note 'A' occurs at frequencies 220, 440, 880, etc., because 440 = 2 $\\times$ 220, 880 = 4 $\\times$ 220, etc.\n",
    "\n",
    "However, it is not right to call the frequency 660 = 3 $\\times$ 220 an 'A';  the frequency 660 is\n",
    "an 'E', because 600 = 2 $\\times$ 330, and 330 is the frequency for 'E'.)  Only the frequencies $2^k \\times 440$\n",
    "(for integer $k$) are called 'A'.\n",
    "\n",
    "Remember:  if a signal is sampled at frequency <tt>Fs</tt>,\n",
    "then the <i>Nyquist frequency</i> at the end of this first half is <tt>Fs/2</tt>.\n",
    "<!-- (after the work of Nyquist, who identified it around 1928).\n",
    "The <tt>wavread()</tt> function will give you the sampling frequency <tt>Fs</tt> at which the music was rcorded.\n",
    "-->"
   ]
  },
  {
   "cell_type": "markdown",
   "metadata": {},
   "source": [
    "### 1.0 Read in the Mystery Tune\n",
    "\n",
    "Read in the file <tt>mystery.wav</tt>, creating\n",
    "a vector <tt>y</tt> that contains a sound track\n",
    "(audio sequence) for the first few seconds of a mystery tune.\n",
    "\n",
    "As discussed in class, if <tt>Fs</tt> is an integer sampling frequency.\n",
    "In Octave and Matlab, executing <tt>sound(y, Fs)</tt> will play <tt>y</tt> at the frequency <tt>Fs</tt>.\n",
    "\n",
    "Change <tt>y</tt> to contain only the first of the 2 stereo audio tracks."
   ]
  },
  {
   "cell_type": "code",
   "execution_count": 2,
   "metadata": {
    "collapsed": false
   },
   "outputs": [],
   "source": [
    "% Matlab uses audioread now in my version in comparison to wavread\n",
    "[y Fs] = audioread('mystery.wav');\n",
    "\n",
    "sound(y,Fs);   %  play the mystery tune"
   ]
  },
  {
   "cell_type": "code",
   "execution_count": 3,
   "metadata": {
    "collapsed": false
   },
   "outputs": [
    {
     "name": "stdout",
     "output_type": "stream",
     "text": [
      "n =\r\n",
      "\r\n",
      "      860000\n"
     ]
    }
   ],
   "source": [
    "y = y(:,1);   %  only keep the first track for this assignment\n",
    "\n",
    "n = length(y)"
   ]
  },
  {
   "cell_type": "markdown",
   "metadata": {},
   "source": [
    "### 1.1 The Fast Fourier Transform\n",
    "\n",
    "\n",
    "The length of <tt>y</tt> is $n = 86000$.\n",
    "Find the integer factors of $n$ by using the Matlab function <tt>factor()</tt>.\n",
    "\n",
    "Then find out how much cpu time it takes to compute <tt>fft(y);</tt>\n",
    "\n",
    "(To do this, run it 100 times and compute the average time required, using <tt>cputime</tt>.)\n"
   ]
  },
  {
   "cell_type": "code",
   "execution_count": 4,
   "metadata": {
    "collapsed": false
   },
   "outputs": [
    {
     "name": "stdout",
     "output_type": "stream",
     "text": [
      "intNFactors =\r\n",
      "\r\n",
      "     2     2     2     2     2     5     5     5     5    43\r\n",
      "\r\n",
      "\r\n",
      "average_fft_cpu_time =\r\n",
      "\r\n",
      "    0.1444\n"
     ]
    }
   ],
   "source": [
    "% Find the integer factors of n\n",
    "intNFactors = factor(n)\n",
    "\n",
    "% Run fft(y) 100 times and keep track of each of its cpu time\n",
    "total_fft_cpu_time = 0;\n",
    "for i = 1:100\n",
    "    t0 = cputime;\n",
    "    Y = fft(y);\n",
    "    total_fft_cpu_time = total_fft_cpu_time + (cputime - t0);\n",
    "end\n",
    "\n",
    "% Calculate the average fft cpu time\n",
    "average_fft_cpu_time = total_fft_cpu_time / 100"
   ]
  },
  {
   "cell_type": "markdown",
   "metadata": {},
   "source": [
    "### 1.2 The Fast Fourier Transform?\n",
    "\n",
    "First, define a new vector <tt>z</tt> that contains <tt>y(1:(n-13))</tt>.\n",
    "Find the integer factors of $(n-13)$.\n",
    "\n",
    "Find out how much cpu time it takes to compute <tt>fft(z);</tt> using the method above.\n",
    "\n",
    "Explain the difference in timing; this is discussed on pp.235-236 of the Course Reader."
   ]
  },
  {
   "cell_type": "code",
   "execution_count": 5,
   "metadata": {
    "collapsed": false
   },
   "outputs": [
    {
     "name": "stdout",
     "output_type": "stream",
     "text": [
      "nMinusThirteenFactors =\r\n",
      "\r\n",
      "      859987\r\n",
      "\r\n",
      "\r\n",
      "average_fftz_cpu_time =\r\n",
      "\r\n",
      "    0.8195\n"
     ]
    }
   ],
   "source": [
    "z = y(1:(n-13));\n",
    "\n",
    "% Calculate n-13 integer factors\n",
    "nMinusThirteenFactors = factor(n-13)\n",
    "\n",
    "% Run fft(z) 100 times and keep track of each of its cpu time\n",
    "total_fftz_cpu_time = 0;\n",
    "for i = 1:100\n",
    "    t0 = cputime;\n",
    "    Y = fft(z);\n",
    "    total_fftz_cpu_time = total_fftz_cpu_time + (cputime - t0);\n",
    "end\n",
    "\n",
    "% Calculate the average fftz cpu time\n",
    "average_fftz_cpu_time = total_fftz_cpu_time / 100\n",
    "\n",
    "% The fast fourier transform is slower with z because the length of the input is not a power of 2 as the FFT cannot be decomposed \n",
    "% into more factors like the first FFT of y which had many small integer factors, leading to symmetries in the Fourier matrix which\n",
    "% permits divide-and-conquer computation and faster execution. If we were to plot the absolute value of the Fourier transform of y\n",
    "% we would see more overall symmetry. Hence, fft(y) ~ 0.0356 cputime (factors: 2 2 2 2 2 5 5 5 5 43) vs fft(z) ~  0.212 cputime \n",
    "% (factors: 859987)\n",
    "\n",
    "\n"
   ]
  },
  {
   "cell_type": "markdown",
   "metadata": {},
   "source": [
    "### 1.3 Plot the First Half of the Power Spectrum\n",
    "\n",
    "Plot the frequency spectrum for <tt>y</tt>\n",
    "by plotting the power of the 'first half' of the squared power of its Fourier transform,\n",
    "using <tt>Fs</tt> as the sampling frequency.\n",
    "\n",
    "Assume for this assignment that the <u><i>power</i></u> of a complex value $z$ is its <u>complex absolute value</u>:  i.e., $\\mbox{power}(z) = |z| = \\sqrt{z \\, \\bar{z}}$.\n",
    "\n",
    "Here by <i>\"first half\"</i> of a sequence $s =[s_0, \\ldots, s_{n-1}]$\n",
    "we actually mean $[s_1, \\ldots, s_m]$ where $m = \\lfloor n/2 \\rfloor$.\n",
    "For example, the \"first half\" of $[0,1,2,3,4,5,6,7]$ is $[1,2,3,4]$.\n",
    "\n",
    "To increase the information displayed by your plot, \n",
    "omit the very first element in the <tt>power</tt> vector\n",
    "(which is just the sum of the data)."
   ]
  },
  {
   "cell_type": "code",
   "execution_count": 6,
   "metadata": {
    "collapsed": false
   },
   "outputs": [
    {
     "data": {
      "image/png": "[encoded data removed]",
      "text/plain": [
       "<IPython.core.display.Image object>"
      ]
     },
     "metadata": {},
     "output_type": "display_data"
    }
   ],
   "source": [
    "Y = fft(y);\n",
    "firstHalf = 2:(n/2+1); % the spectrum is symmetric, so we plot only the \"first half\"\n",
    "power = abs(Y(firstHalf)); % the Fourier spectrum\n",
    "\n",
    "freqs = linspace(1, Fs/2, n/2);\n",
    "plot(freqs, power, 'b-');\n",
    "title('Frequency Spectrum of fft(y)')\n",
    "xlabel('Plotting the power of the first half of the squared power of its Fourier')"
   ]
  },
  {
   "cell_type": "markdown",
   "metadata": {},
   "source": [
    "### 1.4 Write a script to find the top 10 Notes (corresponding to Spikes)\n",
    "\n",
    "There are altogether about $(5 \\times 12)+1 = 61$ notes in the equal-tempered scale with frequencies between low C (with frequency near 131) and the very high C with frequency near $131 \\times 2^5 = 4192$.\n",
    "\n",
    "Suppose we also define <b>dividing lines</b> between notes.\n",
    "For example, C has frequency 261.63 and C# has frequency 271.18.\n",
    "The dividing line between these two notes is $\\Delta = (261.63+271.18)/2 = 266.40$.\n",
    "\n",
    "Just as every note in the equal-tempered scale has frequency $c^k$ times the frequency of C,\n",
    "we can define <b>equal tempered dividing lines</b> between all adjacent notes as having frequency $c^k$ times the frequency $\\Delta$.\n",
    "\n",
    "Write a Matlab function <tt>note_power(power,Fs)</tt> that distills a power spectrum vector <tt>power</tt> into an $61 \\times 1$ vector that gives, for each equal-tempered note, the maximum value among all entries in the vector within the dividing lines above and below this note.\n",
    "Find the top 10 notes (the 10 notes with highest power).\n",
    "\n",
    "For the mystery clip, use your function to print the power value for each of these 10 notes."
   ]
  },
  {
   "cell_type": "code",
   "execution_count": 7,
   "metadata": {
    "collapsed": false
   },
   "outputs": [
    {
     "name": "stdout",
     "output_type": "stream",
     "text": [
      "top_ten_notes =\r\n",
      "\r\n",
      "   1.0e+03 *\r\n",
      "\r\n",
      "    0.1997\r\n",
      "    1.3329\r\n",
      "    2.0127\r\n",
      "    0.1721\r\n",
      "    0.2219\r\n",
      "    0.1320\r\n",
      "    0.1370\r\n",
      "    0.1637\r\n",
      "    0.1573\r\n",
      "    0.1489\n"
     ]
    }
   ],
   "source": [
    "% Call note_power.m with inputs the power spectrum and the frequencies to get the top 10 notes with highest power\n",
    "% It prints out the top ten notes in ascending order (frequencies of the equal-tempered scale between low C near 131 to high C frequency 4192)\n",
    "top_ten_notes = note_power(power, freqs)\n",
    "\n",
    "\n",
    "\n",
    "\n",
    "\n"
   ]
  },
  {
   "cell_type": "markdown",
   "metadata": {},
   "source": [
    "### 1.5 Identify the Key, and find the relationship of the top 10 Notes to the Key\n",
    "\n",
    "Find the note whose spike in the power spectrum is largest; this is called the <b>key</b>.\n",
    "\n",
    "For each of the top 10 notes, compute the <b>ratio</b> of their frequency to that of the key.\n",
    "Each ratio will be a power $c^k$; for each note, give the value of $k$.\n",
    "\n",
    "A major fifth has a ratio $c^7$, which is approximately 3/2 -- the tonic/dominant ratio.\n",
    "\n",
    "A minor fifth (diminished fifth) has a ratio $c^6$, which is approximately 1.4.\n",
    "\n",
    "A major third has a ratio $c^4$, which is approximately 5/4 -- the ratio of harmony.\n"
   ]
  },
  {
   "cell_type": "code",
   "execution_count": 8,
   "metadata": {
    "collapsed": false
   },
   "outputs": [
    {
     "name": "stdout",
     "output_type": "stream",
     "text": [
      "spike_freq1 =\r\n",
      "\r\n",
      "  110.9376\r\n",
      "\r\n",
      "\r\n",
      "spike_power1 =\r\n",
      "\r\n",
      "   6.8510e+03\r\n",
      "\r\n",
      "\r\n",
      "pos1 =\r\n",
      "\r\n",
      "        2145\r\n",
      "\r\n",
      "\r\n",
      "key_freq =\r\n",
      "\r\n",
      "  110.9376\r\n",
      "\r\n",
      "\r\n",
      "top_ten_ratios =\r\n",
      "\r\n",
      "    1.8006\r\n",
      "   12.0150\r\n",
      "   18.1426\r\n",
      "    1.5510\r\n",
      "    2.0002\r\n",
      "    1.1895\r\n",
      "    1.2348\r\n",
      "    1.4752\r\n",
      "    1.4183\r\n",
      "    1.3425\r\n",
      "\r\n",
      "\r\n",
      "top_ten_k_values =\r\n",
      "\r\n",
      "    10     3    10     8    12     3     4     7     6     5\r\n",
      "\r\n",
      "\r\n",
      "c =\r\n",
      "\r\n",
      "    1.0595\r\n",
      "\r\n",
      "\r\n",
      "ck_vector =\r\n",
      "\r\n",
      "    1.0595\r\n",
      "    1.1225\r\n",
      "    1.1892\r\n",
      "    1.2599\r\n",
      "    1.3348\r\n",
      "    1.4142\r\n",
      "    1.4983\r\n",
      "    1.5874\r\n",
      "    1.6818\r\n",
      "    1.7818\r\n",
      "    1.8877\r\n",
      "    2.0000\n"
     ]
    }
   ],
   "source": [
    "% Find the note whose spike in the power spectrum is the largest = key\n",
    "% It is ~110 spike_frequency == A note (440 * 2^-2)\n",
    "pos1 = find(power==max(power));\n",
    "spike_freq1 = freqs(pos1)\n",
    "spike_power1 = power(pos1)\n",
    "pos1\n",
    "\n",
    "key_freq = spike_freq1 % A Note Frequency =~ 110.9376\n",
    "\n",
    "% Output the top ten notes divided by the key frequency\n",
    "top_ten_ratios = top_ten_notes / key_freq\n",
    "% After matching up k values by doing c^k * constant = note_frequency\n",
    "top_ten_k_values = [ 10 3 10 8 12 3 4 7 6 5 ]\n",
    "\n",
    "\n",
    "c = 2^(1/12)\n",
    "ck_vector = zeros(12, 1);\n",
    "for i= 1:12\n",
    "    ck_vector(i,1) = c^i;\n",
    "end\n",
    "ck_vector\n"
   ]
  },
  {
   "cell_type": "markdown",
   "metadata": {
    "collapsed": true
   },
   "source": [
    "## Problem 2: Sunspots\n",
    "\n",
    "Sunspots have effects on power grids and communications on earth, and have had high intensity recently.\n",
    "They often appear in the news, and\n",
    "<a href=\"http://phys.org/news/2016-10-tracking-sunspots-solar-insight.html\">there is a sunspot observatory at Big Bear near Los Angeles</a>.\n",
    "\n",
    "In class we studied a classic example of Fourier analysis: determining the periodicity of sunspot data.\n",
    "The plot of the data shows it is clearly periodic."
   ]
  },
  {
   "cell_type": "code",
   "execution_count": 9,
   "metadata": {
    "collapsed": false
   },
   "outputs": [
    {
     "data": {
      "image/png": "[encoded data removed]",
      "text/plain": [
       "<IPython.core.display.Image object>"
      ]
     },
     "metadata": {},
     "output_type": "display_data"
    },
    {
     "name": "stdout",
     "output_type": "stream",
     "text": [
      "ans =\r\n",
      "\r\n",
      "     1   288\n"
     ]
    }
   ],
   "source": [
    "% sunspot activity from 1700 to 1987.\n",
    "\n",
    "years = 1700 : 1987;\n",
    "sunspots = [ ...\n",
    "     5    11    16    23    36    58    29    20    10     8     3     0     0     2    11    27 ...\n",
    "    47    63    60    39    28    26    22    11    21    40    78   122   103    73    47    35 ...\n",
    "    11     5    16    34    70    81   111   101    73    40    20    16     5    11    22    40 ...\n",
    "    60    81    83    48    48    31    12    10    10    32    48    54    63    86    61    45 ...\n",
    "    36    21    11    38    70   106   101    82    67    35    31     7    20    93   154   126 ...\n",
    "    85    68    39    23    10    24    83   132   131   118    90    67    60    47    41    21 ...\n",
    "    16     6     4     7    15    34    45    43    48    42    28    10     8     3     0     1 ...\n",
    "     5    12    14    35    46    41    30    24    16     7     4     2     9    17    36    50 ...\n",
    "    64    67    71    48    28     9    13    57   122   138   103    86    65    37    24    11 ...\n",
    "    15    40    62    99   125    96    67    65    54    39    21     7     4    23    55    94 ...\n",
    "    96    77    59    44    47    31    16     7    38    74   139   111   102    66    45    17 ...\n",
    "    11    12     3     6    32    54    60    64    64    52    25    13     7     6     7    36 ...\n",
    "    73    85    78    64    42    26    27    12    10     3     5    24    42    64    54    62 ...\n",
    "    49    44    19     6     4     1    10    47    57   104    81    64    38    26    14     6 ...\n",
    "    17    44    64    69    78    65    36    21    11     6     9    36    80   114   110    89 ...\n",
    "    68    48    31    16    10    33    93   152   136   135    84    69    32    14     4    38 ...\n",
    "   142   190   185   159   112    54    38    28    10    15    47    94   106   106   105    67 ...\n",
    "    69    38    35    16    13    28    93   155   155   140   116    67    46    18    13    29 ...\n",
    "];\n",
    "\n",
    "size(sunspots)\n",
    "\n",
    "plot( years, sunspots, 'b' )\n",
    "title('Sunspot intensity from 1700 to 1987')\n",
    "xlabel('year')"
   ]
  },
  {
   "cell_type": "markdown",
   "metadata": {},
   "source": [
    "We can use Fourier analysis to find the frequency of the cycles shown in the plot above.\n",
    "Based on the script below, sunspots go through a cycle that has frequency (0.091/year) which is (1/(11 years)).\n",
    "Thus the period of sunspot activity is about 11 years long."
   ]
  },
  {
   "cell_type": "code",
   "execution_count": null,
   "metadata": {
    "collapsed": false
   },
   "outputs": [
    {
     "data": {
      "image/png": "[encoded data removed]",
      "text/plain": [
       "<IPython.core.display.Image object>"
      ]
     },
     "metadata": {},
     "output_type": "display_data"
    }
   ],
   "source": [
    "subplot(2,2,1)\n",
    "plot( years, sunspots, 'b' )\n",
    "title('Sunspot intensity from 1700 to 1987')\n",
    "xlabel('year')\n",
    "\n",
    "power_spectrum = abs(fft(sunspots));\n",
    "n = length(sunspots);\n",
    "sampling_frequency = 1;  %  one sample / year\n",
    "frequencies = linspace( 0, sampling_frequency, n );\n",
    "\n",
    "subplot(2,2,2)\n",
    "plot( frequencies, power_spectrum, 'b' )\n",
    "text( sampling_frequency/5, max(power_spectrum)*0.80, 'Note the symmetry (always obtained for real data)', 'fontsize', 6 )\n",
    "text( sampling_frequency/5, max(power_spectrum)*0.70, 'Sampling frequency = once per year = (1 / year)', 'fontsize', 6 )\n",
    "title( 'Fourier power spectrum of the sunspot data' )\n",
    "xlabel('frequency (1/year)')\n",
    "\n",
    "n_over_2 = floor(n/2);\n",
    "subplot(2,2,3)\n",
    "plot( frequencies(2:n_over_2), power_spectrum(2:n_over_2) )\n",
    "title( 'Spectrum up to the Nyquist frequency' )\n",
    "xlabel('frequency (1/year)')\n",
    "% text( sampling_frequency/8, max(power_spectrum)*0.90, 'Nyquist frequency = sampling frequency / 2', 'fontsize', 6 )\n",
    "% text( sampling_frequency/8, max(power_spectrum)*0.70, 'We ignore the 1st Fourier coefficient here;', 'fontsize', 6 )\n",
    "% text( sampling_frequency/8, max(power_spectrum)*0.60, 'it is always just the sum of the input data.', 'fontsize', 6 )\n",
    "\n",
    "search_interval = 2:floor(n/4);  %  skip the first coefficient, which is always the sum of the input data\n",
    "spike_location = 1+find( power_spectrum(search_interval) == max(power_spectrum(search_interval)) );\n",
    "spike_frequency = frequencies(spike_location);\n",
    "period_of_sunspot_cycle = 1/spike_frequency;\n",
    "\n",
    "subplot(2,2,4)\n",
    "plot( frequencies(search_interval), power_spectrum(search_interval) )\n",
    "text( spike_frequency*1.05, power_spectrum(spike_location)*1.00, sprintf('Frequency f of largest spike (units: 1/year) = %6.3f',spike_frequency), 'fontsize', 5 )\n",
    "text( spike_frequency*1.05, power_spectrum(spike_location)*0.90, sprintf('1/f = period of sunspot cycle (units:  year) = %5.2f',period_of_sunspot_cycle), 'fontsize', 5 )\n",
    "title( 'Spike represents sunspot cycle frequency: once per 11 years' )\n",
    "xlabel('frequency (1/year)')\n",
    "hold on\n",
    "plot( [spike_frequency spike_frequency], [0 power_spectrum(spike_location)], 'r--' )\n",
    "hold off"
   ]
  },
  {
   "cell_type": "markdown",
   "metadata": {},
   "source": [
    "Sunspot data since 1700 is available from the Belgian Royal Observatory at\n",
    "<a href=\"http://www.sidc.be/silso/datafiles\">http://www.sidc.be/silso/datafiles</a>.\n",
    "Daily, monthly, and yearly sunspot measures are available.\n",
    "<ul><li>\n",
    "<b>yearly data</b> is in:\n",
    "<a href=\"http://www.sidc.be/silso/DATA/SN_y_tot_V2.0.csv\">http://www.sidc.be/silso/DATA/SN_y_tot_V2.0.csv</a>\n",
    "</li><li>\n",
    "<b>monthly data</b> is in:\n",
    "<a href=\"http://www.sidc.be/silso/DATA/SN_m_tot_V2.0.csv\">http://www.sidc.be/silso/DATA/SN_m_tot_V2.0.csv</a>\n",
    "</li></ul>"
   ]
  },
  {
   "cell_type": "markdown",
   "metadata": {},
   "source": [
    "### 2.0 Get the yearly and monthly data\n",
    "\n",
    "Define a function to read in a .csv file across the network\n",
    "using  <tt>urlread()</tt>, <tt>writefile()</tt>, and <tt>csvread()</tt>.\n",
    "\n",
    "Use your function to read in the yearly and monthly data."
   ]
  },
  {
   "cell_type": "code",
   "execution_count": null,
   "metadata": {
    "collapsed": false
   },
   "outputs": [],
   "source": [
    "% Need to use strsplit to separate by newlines and semicolon\n",
    "yearlyUrl = 'http://www.sidc.be/silso/DATA/SN_y_tot_V2.0.csv';\n",
    "yearlyData = read_csv_file(yearlyUrl);\n",
    "\n",
    "monthlyUrl = 'http://www.sidc.be/silso/DATA/SN_m_tot_V2.0.csv';\n",
    "monthlyData = read_csv_file(monthlyUrl);\n",
    "\n",
    "size(yearlyData)\n",
    "size(monthlyData)\n",
    "\n",
    "\n"
   ]
  },
  {
   "cell_type": "markdown",
   "metadata": {},
   "source": [
    "### 2.1 Compare the Belgian yearly sunspot data with the classical sunspot data\n",
    "\n",
    "Is the yearly data close to the <tt>sunspots</tt> vector analyzed above? (up to 1987)\n",
    "Find the L2-distance between the two vectors."
   ]
  },
  {
   "cell_type": "code",
   "execution_count": null,
   "metadata": {
    "collapsed": false
   },
   "outputs": [],
   "source": [
    "% Yearly and Monthly Matrix excluding the first column of the data read in since that is only the year\n",
    "yearlyMatrix = yearlyData(:, 2:5);\n",
    "monthlyMatrix = monthlyData(:, 2:7);\n",
    "\n",
    "% The yearly data is close the sunspots vector in terms of plotting\n",
    "figure\n",
    "plot(yearlyMatrix(:,1), 'b')\n",
    "title('Belgian Yearly Sunspot Data')\n",
    "xlabel('1700 - 2015')\n",
    "\n",
    "% Calculate the L2 (Euclidean distance) between sunspots and Belgian yearly matrix up to 1987 (288 years)\n",
    "LTwoDist = norm(yearlyMatrix(1:288,1)' - sunspots)\n",
    "\n",
    "\n",
    "\n"
   ]
  },
  {
   "cell_type": "markdown",
   "metadata": {},
   "source": [
    "### 2.2 Analyze the yearly data\n",
    "\n",
    "Find the period of yearly sunspot intensity, using analysis like that shown above.\n",
    "Do the two values of the period agree?"
   ]
  },
  {
   "cell_type": "code",
   "execution_count": null,
   "metadata": {
    "collapsed": false
   },
   "outputs": [],
   "source": [
    "% Period of original sunspot cycle ~ 11 years\n",
    "period_of_sunspot_cycle\n",
    "\n",
    "% Extract belgian sunspots from 1700 to 1987\n",
    "years = 1700 : 1987;\n",
    "belgian_sunspots = yearlyMatrix(1:288,1)';\n",
    "\n",
    "% Period\n",
    "subplot(2,2,1)\n",
    "plot( years, belgian_sunspots, 'b' )\n",
    "title('Belgian Sunspot intensity from 1700 to 1987')\n",
    "xlabel('year')\n",
    "\n",
    "belgian_power_spectrum = abs(fft(belgian_sunspots));\n",
    "n = length(belgian_sunspots);\n",
    "sampling_frequency = 1;  %  one sample / year\n",
    "belgian_frequencies = linspace( 0, sampling_frequency, n );\n",
    "\n",
    "subplot(2,2,2)\n",
    "plot( belgian_frequencies, belgian_power_spectrum, 'b' )\n",
    "text( sampling_frequency/5, max(belgian_power_spectrum)*0.80, 'Note the symmetry (always obtained for real data)', 'fontsize', 6 )\n",
    "text( sampling_frequency/5, max(belgian_power_spectrum)*0.70, 'Sampling frequency = once per year = (1 / year)', 'fontsize', 6 )\n",
    "title( 'Fourier Belgian power spectrum of the sunspot data' )\n",
    "xlabel('belgian frequency (1/year)')\n",
    "\n",
    "n_over_2 = floor(n/2);\n",
    "subplot(2,2,3)\n",
    "plot( belgian_frequencies(2:n_over_2), belgian_power_spectrum(2:n_over_2) )\n",
    "title( 'Spectrum up to the Nyquist frequency' )\n",
    "xlabel('frequency (1/year)')\n",
    "% text( sampling_frequency/8, max(power_spectrum)*0.90, 'Nyquist frequency = sampling frequency / 2', 'fontsize', 6 )\n",
    "% text( sampling_frequency/8, max(power_spectrum)*0.70, 'We ignore the 1st Fourier coefficient here;', 'fontsize', 6 )\n",
    "% text( sampling_frequency/8, max(power_spectrum)*0.60, 'it is always just the sum of the input data.', 'fontsize', 6 )\n",
    "\n",
    "search_interval = 2:floor(n/4);  %  skip the first coefficient, which is always the sum of the input data\n",
    "spike_location = 1+find( belgian_power_spectrum(search_interval) == max(belgian_power_spectrum(search_interval)) );\n",
    "belgian_spike_frequency = belgian_frequencies(spike_location);\n",
    "period_of_belgian_sunspot_cycle = 1/belgian_spike_frequency;\n",
    "\n",
    "subplot(2,2,4)\n",
    "plot( belgian_frequencies(search_interval), belgian_power_spectrum(search_interval) )\n",
    "text( belgian_spike_frequency*1.05, belgian_power_spectrum(spike_location)*1.00, sprintf('Frequency f of largest spike (units: 1/year) = %6.3f',belgian_spike_frequency), 'fontsize', 5 )\n",
    "text( belgian_spike_frequency*1.05, belgian_power_spectrum(spike_location)*0.90, sprintf('1/f = period of sunspot cycle (units:  year) = %5.2f',period_of_belgian_sunspot_cycle), 'fontsize', 5 )\n",
    "title( 'Spike represents sunspot cycle frequency: once per 11 years' )\n",
    "xlabel('frequency (1/year)')\n",
    "hold on\n",
    "plot( [belgian_spike_frequency belgian_spike_frequency], [0 belgian_power_spectrum(spike_location)], 'r--' )\n",
    "hold off\n",
    "\n",
    "% The two value periods agree in being 11.0385 years \n",
    "period_of_belgian_sunspot_cycle\n",
    "period_of_belgian_sunspot_cycle == period_of_sunspot_cycle"
   ]
  },
  {
   "cell_type": "markdown",
   "metadata": {},
   "source": [
    "### 2.3 Analyze the monthly data\n",
    "\n",
    "Find the period of sunspot intensity using the <b>monthly</b> data.\n",
    "At which frequencies are there spikes?\n",
    "\n",
    "Remember, the sampling frequency here is (1/month) = (12/year).\n",
    "\n",
    "Is there a period at a frequency close to the period for the yearly data?"
   ]
  },
  {
   "cell_type": "code",
   "execution_count": null,
   "metadata": {
    "collapsed": false
   },
   "outputs": [],
   "source": [
    "belgian_sunspots = monthlyMatrix(:,3);\n",
    "\n",
    "% Period\n",
    "subplot(2,2,1)\n",
    "plot( belgian_sunspots, 'b' )\n",
    "title('Belgian Sunspot intensity from 1700 to 1987')\n",
    "\n",
    "belgian_power_spectrum = abs(fft(belgian_sunspots));\n",
    "n = length(belgian_sunspots);\n",
    "sampling_frequency = 12;  %  one sample / year\n",
    "belgian_frequencies = linspace( 0, sampling_frequency, n );\n",
    "\n",
    "subplot(2,2,2)\n",
    "plot( belgian_frequencies, belgian_power_spectrum, 'b' )\n",
    "text( sampling_frequency/5, max(belgian_power_spectrum)*0.80, 'Note the symmetry (always obtained for real data)', 'fontsize', 6 )\n",
    "text( sampling_frequency/5, max(belgian_power_spectrum)*0.70, 'Sampling frequency = once per year = (1 / year)', 'fontsize', 6 )\n",
    "title( 'Fourier Belgian power spectrum of the sunspot data' )\n",
    "xlabel('belgian frequency (1/year)')\n",
    "\n",
    "n_over_2 = floor(n/2);\n",
    "subplot(2,2,3)\n",
    "plot( belgian_frequencies(2:n_over_2), belgian_power_spectrum(2:n_over_2) )\n",
    "title( 'Spectrum up to the Nyquist frequency' )\n",
    "xlabel('frequency (1/year)')\n",
    "% text( sampling_frequency/8, max(power_spectrum)*0.90, 'Nyquist frequency = sampling frequency / 2', 'fontsize', 6 )\n",
    "% text( sampling_frequency/8, max(power_spectrum)*0.70, 'We ignore the 1st Fourier coefficient here;', 'fontsize', 6 )\n",
    "% text( sampling_frequency/8, max(power_spectrum)*0.60, 'it is always just the sum of the input data.', 'fontsize', 6 )\n",
    "\n",
    "search_interval = 2:floor(n/4);  %  skip the first coefficient, which is always the sum of the input data\n",
    "spike_location = 1+find( belgian_power_spectrum(search_interval) == max(belgian_power_spectrum(search_interval)) );\n",
    "belgian_spike_frequency = belgian_frequencies(spike_location);\n",
    "period_of_belgian_sunspot_cycle = 1/belgian_spike_frequency;\n",
    "\n",
    "subplot(2,2,4)\n",
    "plot( belgian_frequencies(search_interval), belgian_power_spectrum(search_interval) )\n",
    "text( belgian_spike_frequency*1.05, belgian_power_spectrum(spike_location)*1.00, sprintf('Frequency f of largest spike (units: 1/year) = %6.3f',belgian_spike_frequency), 'fontsize', 5 )\n",
    "text( belgian_spike_frequency*1.05, belgian_power_spectrum(spike_location)*0.90, sprintf('1/f = period of sunspot cycle (units:  year) = %5.2f',period_of_belgian_sunspot_cycle), 'fontsize', 5 )\n",
    "title( 'Spike represents sunspot cycle frequency: once per 11 years' )\n",
    "xlabel('frequency (1/year)')\n",
    "hold on\n",
    "plot( [belgian_spike_frequency belgian_spike_frequency], [0 belgian_power_spectrum(spike_location)], 'r--' )\n",
    "hold off\n",
    "\n",
    "% Yes, the period for the monthly belgian sunspot data is close to the yearly data\n",
    "% The monthly data period of belgian sunspot cycle = 11.1563\n",
    "period_of_belgian_sunspot_cycle\n"
   ]
  },
  {
   "cell_type": "markdown",
   "metadata": {},
   "source": [
    "## Problem 3:  A Photoshop Detector\n",
    "\n",
    "A simple way to check if a $m \\times n$ RGB image has been faked (with Photoshop, say) is to use the <tt>reshape</tt> function to convert it into a $(m\\,n) \\times 3$ matrix,\n",
    "compute the 3 principal components of its $3 \\times 3$ covariance matrix,\n",
    "project the reshaped image on the <u>second</u> principal component,\n",
    "and then reshape the result back to a $m \\times n$ grayscale image.\n",
    "If this grayscale image has bright or dark spots, it is possible that the color distribution in that area (and perhaps also that part of the image) has been altered.\n",
    "\n",
    "For example, the image <tt>LIFE_projected_on_2nd_PC.jpg</tt> shows the result of projecting the image <tt>LIFE.jpg</tt> on the 2nd PC, and treating the result as a grayscale image.\n",
    "Notice the flag on Aldrin's shoulder and some buttons on his suit are bright, suggesting that they have been retouched.  The buttons are bright red in <tt>LIFE.jpg</tt>.\n",
    "<table>\n",
    "<tr><td>\n",
    "<img src=\"LIFE.jpg\" style=\"height:400px;\"/>LIFE magazine cover\n",
    "</td><td>\n",
    "<img src=\"LIFE_projected_on_2nd_PC.jpg\" style=\"height:400px;\"/>LIFE cover projected on 2nd PC\n",
    "</td></tr>\n",
    "</table>"
   ]
  },
  {
   "cell_type": "markdown",
   "metadata": {},
   "source": [
    "### 3.1 Write a Photoshop detector\n",
    "\n",
    "Write a function that takes the filename of an input image, and returns its 2nd PC image.\n",
    "\n",
    "As a test, show the output of your program on <tt>LIFE.jpg</tt>."
   ]
  },
  {
   "cell_type": "code",
   "execution_count": null,
   "metadata": {
    "collapsed": false
   },
   "outputs": [],
   "source": [
    "% Wrote photoshopDetector.m that takes in filename of input image and returns its 2nd PC image\n",
    "% My results look different however as if all of it was photoshopped but possibly because most of the colors are whiteish\n",
    "photoshopDetector('LIFE.jpg')"
   ]
  },
  {
   "cell_type": "markdown",
   "metadata": {},
   "source": [
    "### 3.2 Jennifer in Paradise\n",
    "\n",
    "Show the output of your program on the photo <tt>Jennifer_in_Paradise.jpg</tt> included in the assignment .zip file.\n",
    "This image is allegedly the first image ever actually photoshopped -- a photo of the wife of the original\n",
    "developer of Photoshop,\n",
    "<a href=\"http://www.telegraph.co.uk/technology/2016/02/05/the-most-famous-photoshopped-images-of-all-time/\">\n",
    "famous as a photoshopped image</a>."
   ]
  },
  {
   "cell_type": "code",
   "execution_count": null,
   "metadata": {
    "collapsed": false
   },
   "outputs": [],
   "source": [
    "% This makes sense as the girl was photoshopped into the beach scene and that is where the brightness is\n",
    "photoshopDetector('Jennifer_in_Paradise.jpg');"
   ]
  },
  {
   "cell_type": "markdown",
   "metadata": {},
   "source": [
    "### 3.3 Find and comment on an image of Hillary Clinton or Donald Trump that has been photoshopped\n",
    "\n",
    "Using e.g. Google image search, find an image of Hillary or Donald whose 2nd PC has clearly highlighted areas.\n",
    "Comment on the highlighting."
   ]
  },
  {
   "cell_type": "code",
   "execution_count": null,
   "metadata": {
    "collapsed": false
   },
   "outputs": [],
   "source": [
    "photoshopDetector('hillary_clinton_photoshop.jpg');\n",
    "\n",
    "% One can see bright spots around Hillary Clinton's neck and hands to mask away the wrinkles\n",
    "% Also, the suit/formal clothes she is wearing has been refined to look pristine with perfect shadows and creases\n",
    "% Even the hair has been touched up to have perfect styling and presentation for her campaign"
   ]
  },
  {
   "cell_type": "markdown",
   "metadata": {},
   "source": [
    "# Problem 4:  Graphs as Matrices\n",
    "\n",
    "The goal of this problem is to analyze the graph (actually, a numeric matrix $H$).  You can read it from one of the attached files  <tt>hero_social_network_50.tsv</tt>, <tt>hero_social_network_50.m</tt>, <tt>hero_social_network_50.py</tt>.\n",
    "\n",
    "This $H$ matrix represent a core part of Marvel's ___Hero Social Network___ (a graph of social connections between superheroes.  The entry $h_{ij}$ of $H$ is the strength of edges, so higher values mean that heroes $i$ and $j$ appear together more often.\n",
    "\n",
    "The entire Marvel set of heroes is amazingly large; this dataset includes 206 heroes in the graph, obtained from the subset who appear in at least 50 comics.  Despite their frequent appearance, this matrix is still pretty sparse -- apparently superheroes don't have hundreds of friends."
   ]
  },
  {
   "cell_type": "markdown",
   "metadata": {},
   "source": [
    "### 4.0 Read in the Hero Social Network\n",
    "\n",
    "For example, you can read the file with ___dlmread()___ in Matlab; in Python either ad hoc parsing or perhaps the ___csv___ module.\n",
    "\n",
    "Notice that the network is undirected, so $H$ is real symmetric, and all entries of $H$ are nonnegative."
   ]
  },
  {
   "cell_type": "code",
   "execution_count": null,
   "metadata": {
    "collapsed": false
   },
   "outputs": [],
   "source": [
    "% Tried using dlmread but it doesn't work with the files given so I just run the matlab file to get the Hero_network and names\n",
    "hero_social_network_50\n",
    "\n",
    "\n",
    "\n"
   ]
  },
  {
   "cell_type": "markdown",
   "metadata": {},
   "source": [
    "### 4.1 Eigenvalues\n",
    "\n",
    "Compute the ___eigenvalues___ of $H$ and plot them -- so that the $i$-th eigenvalue $\\lambda_i$ is plotted at position $(x,y) = (i, \\lambda_i)$."
   ]
  },
  {
   "cell_type": "code",
   "execution_count": null,
   "metadata": {
    "collapsed": false
   },
   "outputs": [],
   "source": [
    "[V, D] = eig(Hero_network);\n",
    "eigenvaluesOfH = diag(D);\n",
    "figure\n",
    "plot( 1:249, eigenvaluesOfH, 'b' )\n",
    "title('Eigenvalues of Hero Network')\n",
    "xlabel('ith eigenvalue')"
   ]
  },
  {
   "cell_type": "markdown",
   "metadata": {},
   "source": [
    "### 4.2 Largest Eigenvalue\n",
    "\n",
    "Find the ___largest eigenvalue___ $r$ of $H$.  Is it equal to the ___spectral norm___ $||H||_2$?"
   ]
  },
  {
   "cell_type": "code",
   "execution_count": null,
   "metadata": {
    "collapsed": false
   },
   "outputs": [],
   "source": [
    "% largestEigenvalueOfH\n",
    "largestEigenvalueOfH = max(eigenvaluesOfH)\n",
    "\n",
    "% 2-norm is the same as spectral norm of H\n",
    "% Yes, it is the same as the largest eigenvalue r of H\n",
    "spectralNormOfH = norm(Hero_network, 2)\n"
   ]
  },
  {
   "cell_type": "markdown",
   "metadata": {},
   "source": [
    "### 4.3 Dominant Eigenvector\n",
    "\n",
    "Find the ___eigenvector___ ___e___ of $H$ that has this largest eigenvalue.  Plot the sequence of entries of the eigenvector, showing that they are nonnegative.  Which entry $i$ has the largest value?  (Who is the $i$-th hero?)"
   ]
  },
  {
   "cell_type": "code",
   "execution_count": null,
   "metadata": {
    "collapsed": false
   },
   "outputs": [],
   "source": [
    "largestEigenvectorIndex = find(diag(D)==largestEigenvalueOfH);\n",
    "largestEigenvectorE = V(:,largestEigenvectorIndex)\n",
    "\n",
    "% 'BANSHEE/SEAN CASSIDY'\n",
    "largestEigenvectorHero = names(largestEigenvectorIndex)\n",
    "\n",
    "figure\n",
    "plot( 1:249, largestEigenvectorE, 'b' )\n",
    "title('Largest Eigenvector (249) E of H')\n",
    "xlabel('249th eigenvalue')\n",
    "\n",
    "\n",
    "\n"
   ]
  },
  {
   "cell_type": "markdown",
   "metadata": {},
   "source": [
    "### 4.4 Node Degree Sequence\n",
    "\n",
    "The ___degree sequence___ is a vector $\bf d$ of integer values whose $i$-th entry $d_i$ is the _degree_ of the $i$-th node.  That is, $d_i$ is the number of other superheroes to which the $i$-th hero has nonzero edges.  Plot the sequence of degrees.  What is the name of the hero $i$ who has the largest value?"
   ]
  },
  {
   "cell_type": "code",
   "execution_count": null,
   "metadata": {
    "collapsed": false
   },
   "outputs": [],
   "source": [
    "% Replace all nonzero degree strengths with 1 to show degree since they occur with each other\n",
    "%Hero_degree_network = spones(Hero_network);\n",
    "%Hero_degree_network = uint8(Hero_degree_network);\n",
    "Hero_degree_network = Hero_network;\n",
    "Hero_degree_network(Hero_degree_network ~= 0) = 1;\n",
    "\n",
    "% Max Sum of Degrees is 59 -> 97th Hero: Captain America has the largest value\n",
    "max_sum_degrees = max(sum(Hero_degree_network, 2))\n",
    "names(97)\n",
    "\n",
    "figure\n",
    "plot(Hero_degree_network, 'b.')\n",
    "title('Sequence of degrees for each hero')\n",
    "xlabel('Most superheroes have 0 connections hence the line')\n",
    "\n"
   ]
  },
  {
   "cell_type": "markdown",
   "metadata": {},
   "source": [
    "### 4.5 Graph Laplacian -- and Connected Components\n",
    "\n",
    "Compute the ___graph laplacian___ $L = D - A$, where $D = diag({\\bf d})$ is the diagonal matrix determined by the degree sequence, and $A$ is the zero-one adjacency matrix for $H$ (The entries of $A$ are zero wherever they are zero in $H$, and are one wherever nonzero in $H$.)\n",
    "\n",
    "What is the number of zero eigenvalues of the graph laplacian $L$, if we assume that all eigenvalues whose absolute value is below 1e-10 are zero?  (This is supposed to be the number of connected components in the graph.)"
   ]
  },
  {
   "cell_type": "code",
   "execution_count": null,
   "metadata": {
    "collapsed": false
   },
   "outputs": [],
   "source": [
    "% Computer Graph Laplacian L = D - A, where D = diag(d) -> diag of degree sequence, A = zero-one adjacency matrix of H\n",
    "D = diag(Hero_degree_network);\n",
    "A = Hero_degree_network;\n",
    "L = D - A;\n",
    "\n",
    "Leig = abs(eig(L));\n",
    "\n",
    "% Count the number of zero eigenvalues (< 1E-10) == number of connected components in the graph\n",
    "num_zero_eigenvalues = 0;\n",
    "\n",
    "for i=1:249\n",
    "    if (Leig(i,1) < 1E-10)\n",
    "        num_zero_eigenvalues = num_zero_eigenvalues + 1;\n",
    "    end\n",
    "end\n",
    "\n",
    "% 37 Zero eigenvalues or 37 connected components in the graph\n",
    "num_zero_eigenvalues\n"
   ]
  }
 ],
 "metadata": {
  "anaconda-cloud": {},
  "kernelspec": {
   "display_name": "Matlab",
   "language": "matlab",
   "name": "matlab"
  },
  "language_info": {
   "codemirror_mode": "octave",
   "file_extension": ".m",
   "help_links": [
    {
     "text": "MetaKernel Magics",
     "url": "https://github.com/calysto/metakernel/blob/master/metakernel/magics/README.md"
    }
   ],
   "mimetype": "text/x-octave",
   "name": "matlab",
   "version": "0.11.0"
  }
 },
 "nbformat": 4,
 "nbformat_minor": 0
}
