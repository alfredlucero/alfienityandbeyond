{
 "cells": [
  {
   "cell_type": "markdown",
   "metadata": {},
   "source": [
    "#  The Singular Value Decomposition "
   ]
  },
  {
   "cell_type": "code",
   "execution_count": 1,
   "metadata": {
    "collapsed": false
   },
   "outputs": [
    {
     "name": "stdout",
     "output_type": "stream",
     "text": [
      "error: 'eigsvdgui' undefined near line 1 column 1\r\n"
     ]
    }
   ],
   "source": [
    "% eigsvdgui # demo showing how various Eigenvalue routines eliminate off-diagonal entries"
   ]
  },
  {
   "cell_type": "code",
   "execution_count": 2,
   "metadata": {
    "collapsed": false
   },
   "outputs": [
    {
     "name": "stdout",
     "output_type": "stream",
     "text": [
      "error: 'imagesvd' undefined near line 1 column 1\r\n"
     ]
    }
   ],
   "source": [
    "% imagesvd  # demo showing how the rank-k approximation work  (works only in Matlab)"
   ]
  },
  {
   "cell_type": "markdown",
   "metadata": {},
   "source": [
    "## Unitary Matrices\n",
    "\n",
    "A (possibly complex) square matrix $U$ is <b>unitary</b> if\n",
    "$U' \\, U ~=~ U \\, U' ~=~ I$.\n",
    "\n",
    "<ul><li>\n",
    "every orthogonal matrix $Q$ is unitary:  $Q'\\,Q ~=~ I$.\n",
    "</li><li>\n",
    "a <b>complex unit value</b> (a value like $z = e^{i\\theta}$) is unitary:  $\\overline{z}\\,z ~=~ 1$.\n",
    "</li><li>every diagonal matrix $D$ of complex unit values is unitary:\n",
    "$D' \\, D ~=~ 1$.\n",
    "</li><li>\n",
    "If $U$ is unitary, then the eigenvalues of $U$ are complex unit values.\n",
    "</li><li>\n",
    "Unitary matrices preserve the length of any vector they transform:\n",
    "if $U$ is unitary, and ${\\bf v}$ is a vector,\n",
    " then $\\mid\\mid{U\\,{\\bf v}}\\mid\\mid = \\mid\\mid{\\bf v}\\mid\\mid$.\n",
    "</li></ul>\n"
   ]
  },
  {
   "cell_type": "code",
   "execution_count": 3,
   "metadata": {
    "collapsed": false
   },
   "outputs": [
    {
     "name": "stdout",
     "output_type": "stream",
     "text": [
      "Q =\n",
      "\n",
      "   0.37175   0.60150   0.60150   0.37175\n",
      "   0.60150   0.37175  -0.37175  -0.60150\n",
      "   0.60150  -0.37175  -0.37175   0.60150\n",
      "   0.37175  -0.60150   0.60150  -0.37175\n",
      "\n",
      "ans =\n",
      "\n",
      "   1.00000  -0.00000   0.00000   0.00000\n",
      "  -0.00000   1.00000   0.00000  -0.00000\n",
      "   0.00000   0.00000   1.00000   0.00000\n",
      "   0.00000  -0.00000   0.00000   1.00000\n",
      "\n"
     ]
    }
   ],
   "source": [
    "%  All orthogonal matrices are unitary\n",
    "\n",
    "%  random orthogonal matrix\n",
    "\n",
    "Q = gallery(\"orthog\", 4)\n",
    "\n",
    "Q' * Q"
   ]
  },
  {
   "cell_type": "markdown",
   "metadata": {},
   "source": [
    "### Nice Example of a Unitary Matrix:  The Fourier Matrix"
   ]
  },
  {
   "cell_type": "code",
   "execution_count": 4,
   "metadata": {
    "collapsed": false
   },
   "outputs": [
    {
     "name": "stdout",
     "output_type": "stream",
     "text": [
      "F2 =\n",
      "\n",
      "   0.70711   0.70711\n",
      "   0.70711  -0.70711\n",
      "\n"
     ]
    }
   ],
   "source": [
    "FourierMatrix  =  @(n) 1/sqrt(n) * fft(eye(n));\n",
    "\n",
    "F2 = FourierMatrix(2)"
   ]
  },
  {
   "cell_type": "code",
   "execution_count": 5,
   "metadata": {
    "collapsed": false
   },
   "outputs": [
    {
     "name": "stdout",
     "output_type": "stream",
     "text": [
      "ans =\n",
      "\n",
      "   1.00000   0.00000\n",
      "   0.00000   1.00000\n",
      "\n",
      "ans = -1.00000\n"
     ]
    }
   ],
   "source": [
    "F2 * F2'\n",
    "det(F2)"
   ]
  },
  {
   "cell_type": "code",
   "execution_count": 6,
   "metadata": {
    "collapsed": false
   },
   "outputs": [
    {
     "name": "stdout",
     "output_type": "stream",
     "text": [
      "F4 =\n",
      "\n",
      " Columns 1 through 3:\n",
      "\n",
      "   0.50000 + 0.00000i   0.50000 + 0.00000i   0.50000 + 0.00000i\n",
      "   0.50000 + 0.00000i   0.00000 - 0.50000i  -0.50000 + 0.00000i\n",
      "   0.50000 + 0.00000i  -0.50000 + 0.00000i   0.50000 + 0.00000i\n",
      "   0.50000 - 0.00000i   0.00000 + 0.50000i  -0.50000 - 0.00000i\n",
      "\n",
      " Column 4:\n",
      "\n",
      "   0.50000 + 0.00000i\n",
      "   0.00000 + 0.50000i\n",
      "  -0.50000 + 0.00000i\n",
      "   0.00000 - 0.50000i\n",
      "\n"
     ]
    }
   ],
   "source": [
    "F4 = FourierMatrix(4)"
   ]
  },
  {
   "cell_type": "code",
   "execution_count": 7,
   "metadata": {
    "collapsed": false
   },
   "outputs": [
    {
     "name": "stdout",
     "output_type": "stream",
     "text": [
      "ans =\n",
      "\n",
      "   1   0   0   0\n",
      "   0   1   0   0\n",
      "   0   0   1   0\n",
      "   0   0   0   1\n",
      "\n"
     ]
    }
   ],
   "source": [
    "F4 * F4'"
   ]
  },
  {
   "cell_type": "code",
   "execution_count": 8,
   "metadata": {
    "collapsed": false
   },
   "outputs": [
    {
     "name": "stdout",
     "output_type": "stream",
     "text": [
      "ans =  0 + 1i\r\n"
     ]
    }
   ],
   "source": [
    "det(F4)"
   ]
  },
  {
   "cell_type": "markdown",
   "metadata": {},
   "source": [
    "## The SVD"
   ]
  },
  {
   "cell_type": "code",
   "execution_count": 9,
   "metadata": {
    "collapsed": false
   },
   "outputs": [
    {
     "name": "stdout",
     "output_type": "stream",
     "text": [
      "A =\n",
      "\n",
      "   0.67553   0.27677   0.57608\n",
      "   0.16511   0.84212   0.45139\n",
      "   0.23855   0.45557   0.57855\n",
      "\n",
      "U =\n",
      "\n",
      "  -0.577835   0.748927  -0.324368\n",
      "  -0.622006  -0.661419  -0.419086\n",
      "  -0.528409  -0.040404   0.848028\n",
      "\n",
      "S =\n",
      "\n",
      "Diagonal Matrix\n",
      "\n",
      "   1.44330         0         0\n",
      "         0   0.54528         0\n",
      "         0         0   0.15397\n",
      "\n",
      "V =\n",
      "\n",
      "  -0.42895   0.70986  -0.55866\n",
      "  -0.64051  -0.67510  -0.36603\n",
      "  -0.63698   0.20082   0.74426\n",
      "\n"
     ]
    }
   ],
   "source": [
    "A = rand(3,3)\n",
    "[U,S,V] = svd(A)"
   ]
  },
  {
   "cell_type": "code",
   "execution_count": 10,
   "metadata": {
    "collapsed": false
   },
   "outputs": [
    {
     "name": "stdout",
     "output_type": "stream",
     "text": [
      "ans =\n",
      "\n",
      "   0.67553   0.27677   0.57608\n",
      "   0.16511   0.84212   0.45139\n",
      "   0.23855   0.45557   0.57855\n",
      "\n",
      "A =\n",
      "\n",
      "   0.67553   0.27677   0.57608\n",
      "   0.16511   0.84212   0.45139\n",
      "   0.23855   0.45557   0.57855\n",
      "\n",
      "error =    5.5026e-16\n"
     ]
    }
   ],
   "source": [
    "U * S * V'\n",
    "A\n",
    "error = norm( A - U * S * V' )"
   ]
  },
  {
   "cell_type": "markdown",
   "metadata": {},
   "source": [
    "### Every matrix has an SVD -- even rectangular matrices"
   ]
  },
  {
   "cell_type": "code",
   "execution_count": 11,
   "metadata": {
    "collapsed": false
   },
   "outputs": [
    {
     "name": "stdout",
     "output_type": "stream",
     "text": [
      "A =\n",
      "\n",
      "   0.266147   0.221248   0.169149\n",
      "   0.795987   0.301092   0.222111\n",
      "   0.868636   0.221402   0.440322\n",
      "   0.014690   0.376768   0.247256\n",
      "\n",
      "U =\n",
      "\n",
      "  -0.265312  -0.267302   0.132921  -0.916783\n",
      "  -0.626467   0.154266   0.724886   0.241416\n",
      "  -0.712964   0.186076  -0.673871   0.054373\n",
      "  -0.169799  -0.932806  -0.052632   0.313482\n",
      "\n",
      "S =\n",
      "\n",
      "Diagonal Matrix\n",
      "\n",
      "   1.38935         0         0\n",
      "         0   0.41185         0\n",
      "         0         0   0.15103\n",
      "         0         0         0\n",
      "\n",
      "V =\n",
      "\n",
      "  -0.85729   0.48460   0.17383\n",
      "  -0.33768  -0.78414   0.52067\n",
      "  -0.38863  -0.38766  -0.83587\n",
      "\n"
     ]
    }
   ],
   "source": [
    "A = rand(4,3)\n",
    "[U,S,V] = svd(A)"
   ]
  },
  {
   "cell_type": "code",
   "execution_count": 12,
   "metadata": {
    "collapsed": false
   },
   "outputs": [
    {
     "name": "stdout",
     "output_type": "stream",
     "text": [
      "ans =\n",
      "\n",
      "   0.266147   0.221248   0.169149\n",
      "   0.795987   0.301092   0.222111\n",
      "   0.868636   0.221402   0.440322\n",
      "   0.014690   0.376768   0.247256\n",
      "\n",
      "A =\n",
      "\n",
      "   0.266147   0.221248   0.169149\n",
      "   0.795987   0.301092   0.222111\n",
      "   0.868636   0.221402   0.440322\n",
      "   0.014690   0.376768   0.247256\n",
      "\n",
      "error =    5.4249e-16\n"
     ]
    }
   ],
   "source": [
    "U * S * V'\n",
    "A\n",
    "error = norm( A - U * S * V' )"
   ]
  },
  {
   "cell_type": "markdown",
   "metadata": {},
   "source": [
    "## The \"Economy\" SVD  -- doesn't bother with zero singular values; S is always a square matrix"
   ]
  },
  {
   "cell_type": "code",
   "execution_count": 13,
   "metadata": {
    "collapsed": false
   },
   "outputs": [
    {
     "name": "stdout",
     "output_type": "stream",
     "text": [
      "U =\n",
      "\n",
      "  -0.265312  -0.267302   0.132921\n",
      "  -0.626467   0.154266   0.724886\n",
      "  -0.712964   0.186076  -0.673871\n",
      "  -0.169799  -0.932806  -0.052632\n",
      "\n",
      "S =\n",
      "\n",
      "Diagonal Matrix\n",
      "\n",
      "   1.38935         0         0\n",
      "         0   0.41185         0\n",
      "         0         0   0.15103\n",
      "\n",
      "V =\n",
      "\n",
      "  -0.85729   0.48460   0.17383\n",
      "  -0.33768  -0.78414   0.52067\n",
      "  -0.38863  -0.38766  -0.83587\n",
      "\n"
     ]
    }
   ],
   "source": [
    "[U,S,V] = svd(A, 'econ')"
   ]
  },
  {
   "cell_type": "markdown",
   "metadata": {},
   "source": [
    "## The Rank-$k$ Approximation of a Matrix, using the SVD\n",
    "\n",
    "If $A \\,=\\, U\\,S\\,V'$, the <b>rank-k approximation</b>\n",
    "of $A$ is\n",
    "\\[\n",
    "A^{(k)} ~~=~~ U ~ S^{(k)} ~ \\adjoint{V}\n",
    "\\]\n",
    "where all columns {\\bf after $k$} of $U^{(k)}$, $S^{(k)}$, and $V^{(k)}$ are zero:\n",
    "$${\\small\n",
    "A^{(k)} ~~=~~\n",
    "\\begin{pmatrix}\n",
    " & & & & \\\\\n",
    " & & & & \\\\\n",
    "{\\bf u}_1 & \\cdots & {\\bf u}_k & {\\bf 0} & \\cdots  & {\\bf 0} \\\\\n",
    " & & & & \\\\\n",
    " & & & &\n",
    "\\end{pmatrix}\n",
    "~~\n",
    "\\begin{pmatrix}\n",
    "\\sigma_1 &        &          &  &  & \\\\\n",
    "         & \\ddots &          &  &  & \\\\\n",
    "         &        & \\sigma_k &  &  & \\\\\n",
    "         &        &          & 0 &  & \\\\\n",
    "         &        &          &  &  \\ddots & \\\\\n",
    "         &        &          &  &  & 0 \\\\\n",
    "         &        &          &  &  & \\\\\n",
    "         &        &          &  &  & \\\\\n",
    "\\end{pmatrix}\n",
    "~~\n",
    "\\begin{pmatrix}\n",
    " & & & & \\\\\n",
    " & & & & \\\\\n",
    "{\\bf v}_1 & \\cdots  & {\\bf v}_k & {\\bf 0} & \\cdots  & {\\bf 0} \\\\\n",
    " & & & & \\\\\n",
    " & & & &\n",
    "\\end{pmatrix} '\n",
    "}$$"
   ]
  },
  {
   "cell_type": "code",
   "execution_count": 14,
   "metadata": {
    "collapsed": false
   },
   "outputs": [
    {
     "name": "stdout",
     "output_type": "stream",
     "text": [
      "U2 =\n",
      "\n",
      "   0.26531  -0.26730\n",
      "   0.62647   0.15427\n",
      "   0.71296   0.18608\n",
      "   0.16980  -0.93281\n",
      "\n",
      "S2 =\n",
      "\n",
      "Diagonal Matrix\n",
      "\n",
      "   1.38935         0\n",
      "         0   0.41185\n",
      "\n",
      "V2 =\n",
      "\n",
      "   0.85729   0.48460\n",
      "   0.33768  -0.78414\n",
      "   0.38863  -0.38766\n",
      "\n"
     ]
    }
   ],
   "source": [
    "[U2, S2, V2] = svds(A, 2)  %  compute only the first 2 columns of A's SVD"
   ]
  },
  {
   "cell_type": "code",
   "execution_count": 15,
   "metadata": {
    "collapsed": false
   },
   "outputs": [
    {
     "name": "stdout",
     "output_type": "stream",
     "text": [
      "error =  0.15103\r\n"
     ]
    }
   ],
   "source": [
    "error = norm( A - U2 * S2 * V2' )  %  approximation error! (omitted 3rd column)"
   ]
  },
  {
   "cell_type": "markdown",
   "metadata": {},
   "source": [
    "## The Rank-$k$ Approximation is a Good Approximation\n",
    "\n",
    "$$\\begin{eqnarray*}\n",
    "A \\; - \\; A^{(k)}\n",
    " & = &\n",
    "U \\; S \\; V' ~ - ~ U^{(k)} ~ S^{(k)} ~ V^{(k)'}  \\\\\n",
    " & = &\n",
    "U \\; S \\; V' ~ - ~ U \\; S^{(k)} \\; V' \\\\\n",
    " & = &\n",
    "U \\; (S ~ - ~ S^{(k)}) \\; V ' \\\\\n",
    "\\\\\n",
    "\\mid\\mid{A \\; - \\; A^{(k)}}\\mid\\mid^2_{F} & = & \\sum_{i>k} \\sigma_i^2 .\n",
    "\\end{eqnarray*}$$"
   ]
  },
  {
   "cell_type": "code",
   "execution_count": 16,
   "metadata": {
    "collapsed": false
   },
   "outputs": [
    {
     "name": "stdout",
     "output_type": "stream",
     "text": [
      "A2 =\n",
      "\n",
      "   0.262657   0.210795   0.185929\n",
      "   0.776955   0.244088   0.313624\n",
      "   0.886328   0.274395   0.355249\n",
      "   0.016072   0.380907   0.240611\n",
      "\n",
      "S =\n",
      "\n",
      "Diagonal Matrix\n",
      "\n",
      "   1.38935         0         0\n",
      "         0   0.41185         0\n",
      "         0         0   0.15103\n",
      "         0         0         0\n",
      "\n"
     ]
    }
   ],
   "source": [
    "[U, S, V] = svd(A);\n",
    "\n",
    "[U2, S2, V2] = svds(A, 2);\n",
    "\n",
    "A2 = U2 * S2 * V2'     % rank-2 approximation of A\n",
    "\n",
    "S"
   ]
  },
  {
   "cell_type": "code",
   "execution_count": 17,
   "metadata": {
    "collapsed": false
   },
   "outputs": [
    {
     "name": "stdout",
     "output_type": "stream",
     "text": [
      "ans =  0.022811\n",
      "ans =  0.022811\n"
     ]
    }
   ],
   "source": [
    "norm( A - A2, 'fro' )^2  % squared Frobenius norm\n",
    "\n",
    "sum( diag(S).^2 ) - sum( diag(S2).^2 )"
   ]
  },
  {
   "cell_type": "markdown",
   "metadata": {},
   "source": [
    "## Latent Semantic Indexing\n",
    "\n",
    "Demo of Latent Semantic Indexing\n",
    "for a co-occurrence matrix of X terms vs. Y terms\n",
    "(in this case, Keywords vs. Books).\n",
    "\n",
    "Components are computed as in:\n",
    "  Berry, M. W., Dumais, S. T., and O'Brien, G. W. (1995).\n",
    "  \"Using linear algebra for intelligent information retrieval.\"\n",
    "  SIAM Review, 37(4), 1995, 573-595.\n",
    "\n",
    "LSI references:\n",
    "<a target=\"_blank\"\n",
    "href=\"http://lsi.research.telcordia.com/lsi/LSIpapers.html\">lsi.research.telcordia.com/lsi/LSIpapers.html</a>"
   ]
  },
  {
   "cell_type": "code",
   "execution_count": 18,
   "metadata": {
    "collapsed": false
   },
   "outputs": [
    {
     "name": "stdout",
     "output_type": "stream",
     "text": [
      "Xfactor =\n",
      "\n",
      "   0.0158718  -0.4317246\n",
      "   0.0265872  -0.3756293\n",
      "   0.1784834  -0.1692080\n",
      "   0.6013705   0.1186813\n",
      "   0.6690689   0.1209205\n",
      "   0.0147793  -0.3602535\n",
      "   0.0519705  -0.2248061\n",
      "   0.0065613  -0.1120144\n",
      "   0.1503431   0.1126545\n",
      "   0.0813181   0.0672148\n",
      "   0.1503431   0.1126545\n",
      "   0.1784834  -0.1692080\n",
      "   0.1414814   0.0974388\n",
      "   0.0105168  -0.2363185\n",
      "   0.0952170   0.0398872\n",
      "   0.2050705  -0.5448372\n",
      "\n",
      "Yfactor =\n",
      "\n",
      "   0.1591196  -0.0376639\n",
      "   0.1476507   0.0438399\n",
      "   0.0578865  -0.6208499\n",
      "   0.3115839   0.1221947\n",
      "   0.0049506  -0.1971336\n",
      "   0.0247814  -0.1118276\n",
      "   0.0090850  -0.3728108\n",
      "   0.3677299   0.1830154\n",
      "   0.0389579   0.0388300\n",
      "   0.3135395   0.1277112\n",
      "   0.4043925  -0.2333570\n",
      "   0.4043925  -0.2333570\n",
      "   0.3295292   0.1465635\n",
      "   0.3135395   0.1277112\n",
      "   0.2803617   0.0868681\n",
      "   0.0137897  -0.1671816\n",
      "   0.0625913  -0.4152207\n",
      "\n"
     ]
    },
    {
     "data": {
      "image/svg+xml": [
       "<svg height=\"420px\" viewBox=\"0 0 576 432\" width=\"560px\" xmlns=\"http://www.w3.org/2000/svg\" xmlns:xlink=\"http://www.w3.org/1999/xlink\">\n",
       "\n",
       "<title>Gnuplot</title>\n",
       "<desc>Produced by GNUPLOT 5.0 patchlevel 4 </desc>\n",
       "\n",
       "<g id=\"gnuplot_canvas\">\n",
       "\n",
       "<rect fill=\"none\" height=\"432\" width=\"576\" x=\"0\" y=\"0\"/>\n",
       "<defs>\n",
       "\n",
       "\t<circle id=\"gpDot\" r=\"0.5\" stroke-width=\"0.5\"/>\n",
       "\t<path d=\"M-1,0 h2 M0,-1 v2\" id=\"gpPt0\" stroke=\"currentColor\" stroke-width=\"0.333\"/>\n",
       "\t<path d=\"M-1,-1 L1,1 M1,-1 L-1,1\" id=\"gpPt1\" stroke=\"currentColor\" stroke-width=\"0.333\"/>\n",
       "\t<path d=\"M-1,0 L1,0 M0,-1 L0,1 M-1,-1 L1,1 M-1,1 L1,-1\" id=\"gpPt2\" stroke=\"currentColor\" stroke-width=\"0.333\"/>\n",
       "\t<rect height=\"2\" id=\"gpPt3\" stroke=\"currentColor\" stroke-width=\"0.333\" width=\"2\" x=\"-1\" y=\"-1\"/>\n",
       "\t<rect fill=\"currentColor\" height=\"2\" id=\"gpPt4\" stroke=\"currentColor\" stroke-width=\"0.333\" width=\"2\" x=\"-1\" y=\"-1\"/>\n",
       "\t<circle cx=\"0\" cy=\"0\" id=\"gpPt5\" r=\"1\" stroke=\"currentColor\" stroke-width=\"0.333\"/>\n",
       "\t<use fill=\"currentColor\" id=\"gpPt6\" stroke=\"none\" xlink:href=\"#gpPt5\"/>\n",
       "\t<path d=\"M0,-1.33 L-1.33,0.67 L1.33,0.67 z\" id=\"gpPt7\" stroke=\"currentColor\" stroke-width=\"0.333\"/>\n",
       "\t<use fill=\"currentColor\" id=\"gpPt8\" stroke=\"none\" xlink:href=\"#gpPt7\"/>\n",
       "\t<use id=\"gpPt9\" stroke=\"currentColor\" transform=\"rotate(180)\" xlink:href=\"#gpPt7\"/>\n",
       "\t<use fill=\"currentColor\" id=\"gpPt10\" stroke=\"none\" xlink:href=\"#gpPt9\"/>\n",
       "\t<use id=\"gpPt11\" stroke=\"currentColor\" transform=\"rotate(45)\" xlink:href=\"#gpPt3\"/>\n",
       "\t<use fill=\"currentColor\" id=\"gpPt12\" stroke=\"none\" xlink:href=\"#gpPt11\"/>\n",
       "\t<path d=\"M0,1.330 L1.265,0.411 L0.782,-1.067 L-0.782,-1.076 L-1.265,0.411 z\" id=\"gpPt13\" stroke=\"currentColor\" stroke-width=\"0.333\"/>\n",
       "\t<use fill=\"currentColor\" id=\"gpPt14\" stroke=\"none\" xlink:href=\"#gpPt13\"/>\n",
       "\t<filter filterUnits=\"objectBoundingBox\" height=\"1\" id=\"textbox\" width=\"1\" x=\"0\" y=\"0\">\n",
       "\t  <feFlood flood-color=\"white\" flood-opacity=\"1\" result=\"bgnd\"/>\n",
       "\t  <feComposite in=\"SourceGraphic\" in2=\"bgnd\" operator=\"atop\"/>\n",
       "\t</filter>\n",
       "\t<filter filterUnits=\"objectBoundingBox\" height=\"1\" id=\"greybox\" width=\"1\" x=\"0\" y=\"0\">\n",
       "\t  <feFlood flood-color=\"lightgrey\" flood-opacity=\"1\" result=\"grey\"/>\n",
       "\t  <feComposite in=\"SourceGraphic\" in2=\"grey\" operator=\"atop\"/>\n",
       "\t</filter>\n",
       "</defs>\n",
       "<g color=\"white\" fill=\"none\" stroke=\"currentColor\" stroke-linecap=\"butt\" stroke-linejoin=\"miter\" stroke-width=\"1.00\">\n",
       "</g>\n",
       "<g color=\"black\" fill=\"none\" stroke=\"currentColor\" stroke-linecap=\"butt\" stroke-linejoin=\"miter\" stroke-width=\"1.00\">\n",
       "\t<g shape-rendering=\"crispEdges\" stroke=\"none\">\n",
       "\t\t<polygon fill=\"rgb(255, 255, 255)\" points=\"48.4,393.6 559.0,393.6 559.0,39.2 48.4,39.2 \"/>\n",
       "\t</g>\n",
       "</g>\n",
       "<g color=\"black\" fill=\"none\" stroke=\"rgb(255, 255, 255)\" stroke-linecap=\"butt\" stroke-linejoin=\"miter\" stroke-width=\"0.50\">\n",
       "</g>\n",
       "<g color=\"black\" fill=\"none\" stroke=\"currentColor\" stroke-linecap=\"butt\" stroke-linejoin=\"miter\" stroke-width=\"0.50\">\n",
       "\t<path d=\"M48.4,393.6 L56.8,393.6 M559.1,393.6 L550.7,393.6  \" stroke=\"black\"/>\t<g fill=\"rgb(0,0,0)\" font-family=\"{}\" font-size=\"10.00\" stroke=\"none\" text-anchor=\"end\" transform=\"translate(42.8,397.3)\">\n",
       "\t\t<text><tspan font-family=\"{}\">-0.8</tspan></text>\n",
       "\t</g>\n",
       "</g>\n",
       "<g color=\"black\" fill=\"none\" stroke=\"currentColor\" stroke-linecap=\"butt\" stroke-linejoin=\"miter\" stroke-width=\"0.50\">\n",
       "\t<path d=\"M48.4,322.7 L56.8,322.7 M559.1,322.7 L550.7,322.7  \" stroke=\"black\"/>\t<g fill=\"rgb(0,0,0)\" font-family=\"{}\" font-size=\"10.00\" stroke=\"none\" text-anchor=\"end\" transform=\"translate(42.8,326.4)\">\n",
       "\t\t<text><tspan font-family=\"{}\">-0.6</tspan></text>\n",
       "\t</g>\n",
       "</g>\n",
       "<g color=\"black\" fill=\"none\" stroke=\"currentColor\" stroke-linecap=\"butt\" stroke-linejoin=\"miter\" stroke-width=\"0.50\">\n",
       "\t<path d=\"M48.4,251.8 L56.8,251.8 M559.1,251.8 L550.7,251.8  \" stroke=\"black\"/>\t<g fill=\"rgb(0,0,0)\" font-family=\"{}\" font-size=\"10.00\" stroke=\"none\" text-anchor=\"end\" transform=\"translate(42.8,255.5)\">\n",
       "\t\t<text><tspan font-family=\"{}\">-0.4</tspan></text>\n",
       "\t</g>\n",
       "</g>\n",
       "<g color=\"black\" fill=\"none\" stroke=\"currentColor\" stroke-linecap=\"butt\" stroke-linejoin=\"miter\" stroke-width=\"0.50\">\n",
       "\t<path d=\"M48.4,180.9 L56.8,180.9 M559.1,180.9 L550.7,180.9  \" stroke=\"black\"/>\t<g fill=\"rgb(0,0,0)\" font-family=\"{}\" font-size=\"10.00\" stroke=\"none\" text-anchor=\"end\" transform=\"translate(42.8,184.6)\">\n",
       "\t\t<text><tspan font-family=\"{}\">-0.2</tspan></text>\n",
       "\t</g>\n",
       "</g>\n",
       "<g color=\"black\" fill=\"none\" stroke=\"currentColor\" stroke-linecap=\"butt\" stroke-linejoin=\"miter\" stroke-width=\"0.50\">\n",
       "\t<path d=\"M48.4,110.0 L56.8,110.0 M559.1,110.0 L550.7,110.0  \" stroke=\"black\"/>\t<g fill=\"rgb(0,0,0)\" font-family=\"{}\" font-size=\"10.00\" stroke=\"none\" text-anchor=\"end\" transform=\"translate(42.8,113.7)\">\n",
       "\t\t<text><tspan font-family=\"{}\">0</tspan></text>\n",
       "\t</g>\n",
       "</g>\n",
       "<g color=\"black\" fill=\"none\" stroke=\"currentColor\" stroke-linecap=\"butt\" stroke-linejoin=\"miter\" stroke-width=\"0.50\">\n",
       "\t<path d=\"M48.4,39.1 L56.8,39.1 M559.1,39.1 L550.7,39.1  \" stroke=\"black\"/>\t<g fill=\"rgb(0,0,0)\" font-family=\"{}\" font-size=\"10.00\" stroke=\"none\" text-anchor=\"end\" transform=\"translate(42.8,42.8)\">\n",
       "\t\t<text><tspan font-family=\"{}\">0.2</tspan></text>\n",
       "\t</g>\n",
       "</g>\n",
       "<g color=\"black\" fill=\"none\" stroke=\"currentColor\" stroke-linecap=\"butt\" stroke-linejoin=\"miter\" stroke-width=\"0.50\">\n",
       "\t<path d=\"M48.4,393.6 L48.4,385.2 M48.4,39.1 L48.4,47.5  \" stroke=\"black\"/>\t<g fill=\"rgb(0,0,0)\" font-family=\"{}\" font-size=\"10.00\" stroke=\"none\" text-anchor=\"middle\" transform=\"translate(48.4,409.3)\">\n",
       "\t\t<text><tspan font-family=\"{}\">0</tspan></text>\n",
       "\t</g>\n",
       "</g>\n",
       "<g color=\"black\" fill=\"none\" stroke=\"currentColor\" stroke-linecap=\"butt\" stroke-linejoin=\"miter\" stroke-width=\"0.50\">\n",
       "\t<path d=\"M121.4,393.6 L121.4,385.2 M121.4,39.1 L121.4,47.5  \" stroke=\"black\"/>\t<g fill=\"rgb(0,0,0)\" font-family=\"{}\" font-size=\"10.00\" stroke=\"none\" text-anchor=\"middle\" transform=\"translate(121.4,409.3)\">\n",
       "\t\t<text><tspan font-family=\"{}\">0.1</tspan></text>\n",
       "\t</g>\n",
       "</g>\n",
       "<g color=\"black\" fill=\"none\" stroke=\"currentColor\" stroke-linecap=\"butt\" stroke-linejoin=\"miter\" stroke-width=\"0.50\">\n",
       "\t<path d=\"M194.3,393.6 L194.3,385.2 M194.3,39.1 L194.3,47.5  \" stroke=\"black\"/>\t<g fill=\"rgb(0,0,0)\" font-family=\"{}\" font-size=\"10.00\" stroke=\"none\" text-anchor=\"middle\" transform=\"translate(194.3,409.3)\">\n",
       "\t\t<text><tspan font-family=\"{}\">0.2</tspan></text>\n",
       "\t</g>\n",
       "</g>\n",
       "<g color=\"black\" fill=\"none\" stroke=\"currentColor\" stroke-linecap=\"butt\" stroke-linejoin=\"miter\" stroke-width=\"0.50\">\n",
       "\t<path d=\"M267.3,393.6 L267.3,385.2 M267.3,39.1 L267.3,47.5  \" stroke=\"black\"/>\t<g fill=\"rgb(0,0,0)\" font-family=\"{}\" font-size=\"10.00\" stroke=\"none\" text-anchor=\"middle\" transform=\"translate(267.3,409.3)\">\n",
       "\t\t<text><tspan font-family=\"{}\">0.3</tspan></text>\n",
       "\t</g>\n",
       "</g>\n",
       "<g color=\"black\" fill=\"none\" stroke=\"currentColor\" stroke-linecap=\"butt\" stroke-linejoin=\"miter\" stroke-width=\"0.50\">\n",
       "\t<path d=\"M340.2,393.6 L340.2,385.2 M340.2,39.1 L340.2,47.5  \" stroke=\"black\"/>\t<g fill=\"rgb(0,0,0)\" font-family=\"{}\" font-size=\"10.00\" stroke=\"none\" text-anchor=\"middle\" transform=\"translate(340.2,409.3)\">\n",
       "\t\t<text><tspan font-family=\"{}\">0.4</tspan></text>\n",
       "\t</g>\n",
       "</g>\n",
       "<g color=\"black\" fill=\"none\" stroke=\"currentColor\" stroke-linecap=\"butt\" stroke-linejoin=\"miter\" stroke-width=\"0.50\">\n",
       "\t<path d=\"M413.2,393.6 L413.2,385.2 M413.2,39.1 L413.2,47.5  \" stroke=\"black\"/>\t<g fill=\"rgb(0,0,0)\" font-family=\"{}\" font-size=\"10.00\" stroke=\"none\" text-anchor=\"middle\" transform=\"translate(413.2,409.3)\">\n",
       "\t\t<text><tspan font-family=\"{}\">0.5</tspan></text>\n",
       "\t</g>\n",
       "</g>\n",
       "<g color=\"black\" fill=\"none\" stroke=\"currentColor\" stroke-linecap=\"butt\" stroke-linejoin=\"miter\" stroke-width=\"0.50\">\n",
       "\t<path d=\"M486.1,393.6 L486.1,385.2 M486.1,39.1 L486.1,47.5  \" stroke=\"black\"/>\t<g fill=\"rgb(0,0,0)\" font-family=\"{}\" font-size=\"10.00\" stroke=\"none\" text-anchor=\"middle\" transform=\"translate(486.1,409.3)\">\n",
       "\t\t<text><tspan font-family=\"{}\">0.6</tspan></text>\n",
       "\t</g>\n",
       "</g>\n",
       "<g color=\"black\" fill=\"none\" stroke=\"currentColor\" stroke-linecap=\"butt\" stroke-linejoin=\"miter\" stroke-width=\"0.50\">\n",
       "\t<path d=\"M559.1,393.6 L559.1,385.2 M559.1,39.1 L559.1,47.5  \" stroke=\"black\"/>\t<g fill=\"rgb(0,0,0)\" font-family=\"{}\" font-size=\"10.00\" stroke=\"none\" text-anchor=\"middle\" transform=\"translate(559.1,409.3)\">\n",
       "\t\t<text><tspan font-family=\"{}\">0.7</tspan></text>\n",
       "\t</g>\n",
       "</g>\n",
       "<g color=\"black\" fill=\"none\" stroke=\"currentColor\" stroke-linecap=\"butt\" stroke-linejoin=\"miter\" stroke-width=\"0.50\">\n",
       "</g>\n",
       "<g color=\"black\" fill=\"none\" stroke=\"currentColor\" stroke-linecap=\"butt\" stroke-linejoin=\"miter\" stroke-width=\"0.50\">\n",
       "\t<path d=\"M48.4,39.1 L48.4,393.6 L559.1,393.6 L559.1,39.1 L48.4,39.1 Z  \" stroke=\"black\"/></g>\n",
       "<g color=\"black\" fill=\"none\" stroke=\"currentColor\" stroke-linecap=\"butt\" stroke-linejoin=\"miter\" stroke-width=\"0.50\">\n",
       "\t<g fill=\"rgb(0,0,0)\" font-family=\"{}\" font-size=\"10.00\" stroke=\"none\" text-anchor=\"middle\" transform=\"translate(12.5,216.4) rotate(-90)\">\n",
       "\t\t<text><tspan font-family=\"{}\">2nd component</tspan></text>\n",
       "\t</g>\n",
       "</g>\n",
       "<g color=\"black\" fill=\"none\" stroke=\"currentColor\" stroke-linecap=\"butt\" stroke-linejoin=\"miter\" stroke-width=\"0.50\">\n",
       "\t<g fill=\"rgb(0,0,0)\" font-family=\"{}\" font-size=\"10.00\" stroke=\"none\" text-anchor=\"middle\" transform=\"translate(303.7,427.3)\">\n",
       "\t\t<text><tspan font-family=\"{}\">1st component</tspan></text>\n",
       "\t</g>\n",
       "</g>\n",
       "<g color=\"black\" fill=\"none\" stroke=\"currentColor\" stroke-linecap=\"butt\" stroke-linejoin=\"miter\" stroke-width=\"0.50\">\n",
       "\t<g fill=\"rgb(0,0,0)\" font-family=\"{}\" font-size=\"10.00\" stroke=\"none\" text-anchor=\"middle\" transform=\"translate(303.7,21.8)\">\n",
       "\t\t<text xml:space=\"preserve\"><tspan font-family=\"{}\" xml:space=\"preserve\">Latent Semantic Indexing:  X term vs. Y term </tspan></text>\n",
       "\t</g>\n",
       "</g>\n",
       "<g color=\"black\" fill=\"none\" stroke=\"currentColor\" stroke-linecap=\"butt\" stroke-linejoin=\"miter\" stroke-width=\"0.50\">\n",
       "</g>\n",
       "\t<g id=\"gnuplot_plot_1a\"><title>gnuplot_plot_1a</title>\n",
       "<g color=\"black\" fill=\"none\" stroke=\"currentColor\" stroke-linecap=\"butt\" stroke-linejoin=\"miter\" stroke-width=\"0.50\">\n",
       "\t<g onmousemove=\"gnuplot_svg.showHypertext(evt,'')\" onmouseout=\"gnuplot_svg.hideHypertext()\"><title> </title>\n",
       "\t<use color=\"rgb(255,   0,   0)\" transform=\"translate(60.0,263.0) scale(6.00)\" xlink:href=\"#gpPt2\"/></g>\n",
       "\t<use color=\"rgb(255,   0,   0)\" transform=\"translate(67.8,243.2) scale(6.00)\" xlink:href=\"#gpPt2\"/>\n",
       "\t<use color=\"rgb(255,   0,   0)\" transform=\"translate(178.6,170.0) scale(6.00)\" xlink:href=\"#gpPt2\"/>\n",
       "\t<use color=\"rgb(255,   0,   0)\" transform=\"translate(487.1,67.9) scale(6.00)\" xlink:href=\"#gpPt2\"/>\n",
       "\t<use color=\"rgb(255,   0,   0)\" transform=\"translate(536.5,67.1) scale(6.00)\" xlink:href=\"#gpPt2\"/>\n",
       "\t<use color=\"rgb(255,   0,   0)\" transform=\"translate(59.2,237.7) scale(6.00)\" xlink:href=\"#gpPt2\"/>\n",
       "\t<use color=\"rgb(255,   0,   0)\" transform=\"translate(86.3,189.7) scale(6.00)\" xlink:href=\"#gpPt2\"/>\n",
       "\t<use color=\"rgb(255,   0,   0)\" transform=\"translate(53.2,149.7) scale(6.00)\" xlink:href=\"#gpPt2\"/>\n",
       "\t<use color=\"rgb(255,   0,   0)\" transform=\"translate(158.1,70.1) scale(6.00)\" xlink:href=\"#gpPt2\"/>\n",
       "\t<use color=\"rgb(255,   0,   0)\" transform=\"translate(107.7,86.2) scale(6.00)\" xlink:href=\"#gpPt2\"/>\n",
       "\t<use color=\"rgb(255,   0,   0)\" transform=\"translate(158.1,70.1) scale(6.00)\" xlink:href=\"#gpPt2\"/>\n",
       "\t<use color=\"rgb(255,   0,   0)\" transform=\"translate(178.6,170.0) scale(6.00)\" xlink:href=\"#gpPt2\"/>\n",
       "\t<use color=\"rgb(255,   0,   0)\" transform=\"translate(151.6,75.5) scale(6.00)\" xlink:href=\"#gpPt2\"/>\n",
       "\t<use color=\"rgb(255,   0,   0)\" transform=\"translate(56.1,193.8) scale(6.00)\" xlink:href=\"#gpPt2\"/>\n",
       "\t<use color=\"rgb(255,   0,   0)\" transform=\"translate(117.9,95.9) scale(6.00)\" xlink:href=\"#gpPt2\"/>\n",
       "\t<use color=\"rgb(255,   0,   0)\" transform=\"translate(198.0,303.1) scale(6.00)\" xlink:href=\"#gpPt2\"/>\n",
       "</g>\n",
       "\t</g>\n",
       "\t<g id=\"gnuplot_plot_2a\"><title>gnuplot_plot_2a</title>\n",
       "<g color=\"black\" fill=\"none\" stroke=\"currentColor\" stroke-linecap=\"butt\" stroke-linejoin=\"miter\" stroke-width=\"0.50\">\n",
       "\t<g onmousemove=\"gnuplot_svg.showHypertext(evt,'')\" onmouseout=\"gnuplot_svg.hideHypertext()\"><title> </title>\n",
       "\t<use color=\"rgb(  0,   0, 255)\" transform=\"translate(164.5,123.4) scale(6.00)\" xlink:href=\"#gpPt2\"/></g>\n",
       "\t<use color=\"rgb(  0,   0, 255)\" transform=\"translate(156.1,94.5) scale(6.00)\" xlink:href=\"#gpPt2\"/>\n",
       "\t<use color=\"rgb(  0,   0, 255)\" transform=\"translate(90.6,330.1) scale(6.00)\" xlink:href=\"#gpPt2\"/>\n",
       "\t<use color=\"rgb(  0,   0, 255)\" transform=\"translate(275.7,66.7) scale(6.00)\" xlink:href=\"#gpPt2\"/>\n",
       "\t<use color=\"rgb(  0,   0, 255)\" transform=\"translate(52.0,179.9) scale(6.00)\" xlink:href=\"#gpPt2\"/>\n",
       "\t<use color=\"rgb(  0,   0, 255)\" transform=\"translate(66.5,149.6) scale(6.00)\" xlink:href=\"#gpPt2\"/>\n",
       "\t<use color=\"rgb(  0,   0, 255)\" transform=\"translate(55.0,242.2) scale(6.00)\" xlink:href=\"#gpPt2\"/>\n",
       "\t<use color=\"rgb(  0,   0, 255)\" transform=\"translate(316.7,45.1) scale(6.00)\" xlink:href=\"#gpPt2\"/>\n",
       "\t<use color=\"rgb(  0,   0, 255)\" transform=\"translate(76.8,96.2) scale(6.00)\" xlink:href=\"#gpPt2\"/>\n",
       "\t<use color=\"rgb(  0,   0, 255)\" transform=\"translate(277.1,64.7) scale(6.00)\" xlink:href=\"#gpPt2\"/>\n",
       "\t<use color=\"rgb(  0,   0, 255)\" transform=\"translate(343.4,192.7) scale(6.00)\" xlink:href=\"#gpPt2\"/>\n",
       "\t<use color=\"rgb(  0,   0, 255)\" transform=\"translate(343.4,192.7) scale(6.00)\" xlink:href=\"#gpPt2\"/>\n",
       "\t<use color=\"rgb(  0,   0, 255)\" transform=\"translate(288.8,58.0) scale(6.00)\" xlink:href=\"#gpPt2\"/>\n",
       "\t<use color=\"rgb(  0,   0, 255)\" transform=\"translate(277.1,64.7) scale(6.00)\" xlink:href=\"#gpPt2\"/>\n",
       "\t<use color=\"rgb(  0,   0, 255)\" transform=\"translate(252.9,79.2) scale(6.00)\" xlink:href=\"#gpPt2\"/>\n",
       "\t<use color=\"rgb(  0,   0, 255)\" transform=\"translate(58.5,169.3) scale(6.00)\" xlink:href=\"#gpPt2\"/>\n",
       "\t<use color=\"rgb(  0,   0, 255)\" transform=\"translate(94.1,257.2) scale(6.00)\" xlink:href=\"#gpPt2\"/>\n",
       "</g>\n",
       "\t</g>\n",
       "<g color=\"white\" fill=\"none\" stroke=\"rgb(  0,   0, 255)\" stroke-linecap=\"butt\" stroke-linejoin=\"miter\" stroke-width=\"2.00\">\n",
       "</g>\n",
       "<g color=\"black\" fill=\"none\" stroke=\"currentColor\" stroke-linecap=\"butt\" stroke-linejoin=\"miter\" stroke-width=\"2.00\">\n",
       "\t<g fill=\"rgb(0,0,0)\" font-family=\"{}\" font-size=\"10.00\" stroke=\"none\" text-anchor=\"start\" transform=\"translate(67.3,266.7)\">\n",
       "\t\t<text><tspan font-family=\"{}\">algorithms</tspan></text>\n",
       "\t</g>\n",
       "\t<g fill=\"rgb(0,0,0)\" font-family=\"{}\" font-size=\"10.00\" stroke=\"none\" text-anchor=\"start\" transform=\"translate(75.1,246.9)\">\n",
       "\t\t<text><tspan font-family=\"{}\">application</tspan></text>\n",
       "\t</g>\n",
       "\t<g fill=\"rgb(0,0,0)\" font-family=\"{}\" font-size=\"10.00\" stroke=\"none\" text-anchor=\"start\" transform=\"translate(185.9,173.7)\">\n",
       "\t\t<text><tspan font-family=\"{}\">delay</tspan></text>\n",
       "\t</g>\n",
       "\t<g fill=\"rgb(0,0,0)\" font-family=\"{}\" font-size=\"10.00\" stroke=\"none\" text-anchor=\"start\" transform=\"translate(494.4,71.6)\">\n",
       "\t\t<text><tspan font-family=\"{}\">differential</tspan></text>\n",
       "\t</g>\n",
       "\t<g fill=\"rgb(0,0,0)\" font-family=\"{}\" font-size=\"10.00\" stroke=\"none\" text-anchor=\"start\" transform=\"translate(543.8,70.8)\">\n",
       "\t\t<text><tspan font-family=\"{}\">equations</tspan></text>\n",
       "\t</g>\n",
       "\t<g fill=\"rgb(0,0,0)\" font-family=\"{}\" font-size=\"10.00\" stroke=\"none\" text-anchor=\"start\" transform=\"translate(66.5,241.4)\">\n",
       "\t\t<text><tspan font-family=\"{}\">implementation</tspan></text>\n",
       "\t</g>\n",
       "\t<g fill=\"rgb(0,0,0)\" font-family=\"{}\" font-size=\"10.00\" stroke=\"none\" text-anchor=\"start\" transform=\"translate(93.6,193.4)\">\n",
       "\t\t<text><tspan font-family=\"{}\">integral</tspan></text>\n",
       "\t</g>\n",
       "\t<g fill=\"rgb(0,0,0)\" font-family=\"{}\" font-size=\"10.00\" stroke=\"none\" text-anchor=\"start\" transform=\"translate(60.5,153.4)\">\n",
       "\t\t<text><tspan font-family=\"{}\">introduction</tspan></text>\n",
       "\t</g>\n",
       "\t<g fill=\"rgb(0,0,0)\" font-family=\"{}\" font-size=\"10.00\" stroke=\"none\" text-anchor=\"start\" transform=\"translate(165.4,73.8)\">\n",
       "\t\t<text><tspan font-family=\"{}\">methods</tspan></text>\n",
       "\t</g>\n",
       "\t<g fill=\"rgb(0,0,0)\" font-family=\"{}\" font-size=\"10.00\" stroke=\"none\" text-anchor=\"start\" transform=\"translate(115.0,89.9)\">\n",
       "\t\t<text><tspan font-family=\"{}\">nonlinear</tspan></text>\n",
       "\t</g>\n",
       "\t<g fill=\"rgb(0,0,0)\" font-family=\"{}\" font-size=\"10.00\" stroke=\"none\" text-anchor=\"start\" transform=\"translate(165.4,73.8)\">\n",
       "\t\t<text><tspan font-family=\"{}\">ordinary</tspan></text>\n",
       "\t</g>\n",
       "\t<g fill=\"rgb(0,0,0)\" font-family=\"{}\" font-size=\"10.00\" stroke=\"none\" text-anchor=\"start\" transform=\"translate(185.9,173.7)\">\n",
       "\t\t<text><tspan font-family=\"{}\">oscillation</tspan></text>\n",
       "\t</g>\n",
       "\t<g fill=\"rgb(0,0,0)\" font-family=\"{}\" font-size=\"10.00\" stroke=\"none\" text-anchor=\"start\" transform=\"translate(158.9,79.2)\">\n",
       "\t\t<text><tspan font-family=\"{}\">partial</tspan></text>\n",
       "\t</g>\n",
       "\t<g fill=\"rgb(0,0,0)\" font-family=\"{}\" font-size=\"10.00\" stroke=\"none\" text-anchor=\"start\" transform=\"translate(63.4,197.5)\">\n",
       "\t\t<text><tspan font-family=\"{}\">problem</tspan></text>\n",
       "\t</g>\n",
       "\t<g fill=\"rgb(0,0,0)\" font-family=\"{}\" font-size=\"10.00\" stroke=\"none\" text-anchor=\"start\" transform=\"translate(125.2,99.6)\">\n",
       "\t\t<text><tspan font-family=\"{}\">systems</tspan></text>\n",
       "\t</g>\n",
       "\t<g fill=\"rgb(0,0,0)\" font-family=\"{}\" font-size=\"10.00\" stroke=\"none\" text-anchor=\"start\" transform=\"translate(205.3,306.8)\">\n",
       "\t\t<text><tspan font-family=\"{}\">theory</tspan></text>\n",
       "\t</g>\n",
       "\t<g fill=\"rgb(0,0,0)\" font-family=\"{}\" font-size=\"10.00\" stroke=\"none\" text-anchor=\"start\" transform=\"translate(171.8,127.1)\">\n",
       "\t\t<text><tspan font-family=\"{}\">B1</tspan></text>\n",
       "\t</g>\n",
       "\t<g fill=\"rgb(0,0,0)\" font-family=\"{}\" font-size=\"10.00\" stroke=\"none\" text-anchor=\"start\" transform=\"translate(163.4,98.2)\">\n",
       "\t\t<text><tspan font-family=\"{}\">B2</tspan></text>\n",
       "\t</g>\n",
       "\t<g fill=\"rgb(0,0,0)\" font-family=\"{}\" font-size=\"10.00\" stroke=\"none\" text-anchor=\"start\" transform=\"translate(97.9,333.8)\">\n",
       "\t\t<text><tspan font-family=\"{}\">B3</tspan></text>\n",
       "\t</g>\n",
       "\t<g fill=\"rgb(0,0,0)\" font-family=\"{}\" font-size=\"10.00\" stroke=\"none\" text-anchor=\"start\" transform=\"translate(283.0,70.4)\">\n",
       "\t\t<text><tspan font-family=\"{}\">B4</tspan></text>\n",
       "\t</g>\n",
       "\t<g fill=\"rgb(0,0,0)\" font-family=\"{}\" font-size=\"10.00\" stroke=\"none\" text-anchor=\"start\" transform=\"translate(59.3,183.6)\">\n",
       "\t\t<text><tspan font-family=\"{}\">B5</tspan></text>\n",
       "\t</g>\n",
       "\t<g fill=\"rgb(0,0,0)\" font-family=\"{}\" font-size=\"10.00\" stroke=\"none\" text-anchor=\"start\" transform=\"translate(73.8,153.3)\">\n",
       "\t\t<text><tspan font-family=\"{}\">B6</tspan></text>\n",
       "\t</g>\n",
       "\t<g fill=\"rgb(0,0,0)\" font-family=\"{}\" font-size=\"10.00\" stroke=\"none\" text-anchor=\"start\" transform=\"translate(62.3,245.9)\">\n",
       "\t\t<text><tspan font-family=\"{}\">B7</tspan></text>\n",
       "\t</g>\n",
       "\t<g fill=\"rgb(0,0,0)\" font-family=\"{}\" font-size=\"10.00\" stroke=\"none\" text-anchor=\"start\" transform=\"translate(324.0,48.8)\">\n",
       "\t\t<text><tspan font-family=\"{}\">B8</tspan></text>\n",
       "\t</g>\n",
       "\t<g fill=\"rgb(0,0,0)\" font-family=\"{}\" font-size=\"10.00\" stroke=\"none\" text-anchor=\"start\" transform=\"translate(84.1,99.9)\">\n",
       "\t\t<text><tspan font-family=\"{}\">B9</tspan></text>\n",
       "\t</g>\n",
       "\t<g fill=\"rgb(0,0,0)\" font-family=\"{}\" font-size=\"10.00\" stroke=\"none\" text-anchor=\"start\" transform=\"translate(284.4,68.4)\">\n",
       "\t\t<text><tspan font-family=\"{}\">B10</tspan></text>\n",
       "\t</g>\n",
       "\t<g fill=\"rgb(0,0,0)\" font-family=\"{}\" font-size=\"10.00\" stroke=\"none\" text-anchor=\"start\" transform=\"translate(350.7,196.4)\">\n",
       "\t\t<text><tspan font-family=\"{}\">B11</tspan></text>\n",
       "\t</g>\n",
       "\t<g fill=\"rgb(0,0,0)\" font-family=\"{}\" font-size=\"10.00\" stroke=\"none\" text-anchor=\"start\" transform=\"translate(350.7,196.4)\">\n",
       "\t\t<text><tspan font-family=\"{}\">B12</tspan></text>\n",
       "\t</g>\n",
       "\t<g fill=\"rgb(0,0,0)\" font-family=\"{}\" font-size=\"10.00\" stroke=\"none\" text-anchor=\"start\" transform=\"translate(296.1,61.7)\">\n",
       "\t\t<text><tspan font-family=\"{}\">B13</tspan></text>\n",
       "\t</g>\n",
       "\t<g fill=\"rgb(0,0,0)\" font-family=\"{}\" font-size=\"10.00\" stroke=\"none\" text-anchor=\"start\" transform=\"translate(284.4,68.4)\">\n",
       "\t\t<text><tspan font-family=\"{}\">B14</tspan></text>\n",
       "\t</g>\n",
       "\t<g fill=\"rgb(0,0,0)\" font-family=\"{}\" font-size=\"10.00\" stroke=\"none\" text-anchor=\"start\" transform=\"translate(260.2,82.9)\">\n",
       "\t\t<text><tspan font-family=\"{}\">B15</tspan></text>\n",
       "\t</g>\n",
       "\t<g fill=\"rgb(0,0,0)\" font-family=\"{}\" font-size=\"10.00\" stroke=\"none\" text-anchor=\"start\" transform=\"translate(65.8,173.0)\">\n",
       "\t\t<text><tspan font-family=\"{}\">B16</tspan></text>\n",
       "\t</g>\n",
       "\t<g fill=\"rgb(0,0,0)\" font-family=\"{}\" font-size=\"10.00\" stroke=\"none\" text-anchor=\"start\" transform=\"translate(101.4,260.9)\">\n",
       "\t\t<text><tspan font-family=\"{}\">B17</tspan></text>\n",
       "\t</g>\n",
       "</g>\n",
       "<g color=\"black\" fill=\"none\" stroke=\"rgb(  0,   0,   0)\" stroke-linecap=\"butt\" stroke-linejoin=\"miter\" stroke-width=\"0.50\">\n",
       "</g>\n",
       "<g color=\"black\" fill=\"none\" stroke=\"currentColor\" stroke-linecap=\"butt\" stroke-linejoin=\"miter\" stroke-width=\"0.50\">\n",
       "</g>\n",
       "</g>\n",
       "</svg>"
      ],
      "text/plain": [
       "<IPython.core.display.SVG object>"
      ]
     },
     "metadata": {},
     "output_type": "display_data"
    }
   ],
   "source": [
    "% X:  Keywords\n",
    "\n",
    "nX = 16;\n",
    "Xtext = {\n",
    "        'algorithms',\n",
    "        'application',\n",
    "        'delay',\n",
    "        'differential',\n",
    "        'equations',\n",
    "        'implementation',\n",
    "        'integral',\n",
    "        'introduction',\n",
    "        'methods',\n",
    "        'nonlinear',\n",
    "        'ordinary',\n",
    "        'oscillation',\n",
    "        'partial',\n",
    "        'problem',\n",
    "        'systems',\n",
    "        'theory'\n",
    "        };\n",
    "\n",
    "% Y:  Books\n",
    "\n",
    "nY = 17;\n",
    "\n",
    "% Book: 1  2  3  4  5  6  7  8  9 10 11 12 13 14 15 16 17   # Keyword:\n",
    "%--------------------------------------------------------------------------\n",
    "coOccurrence =  [\n",
    "        0  0  1  0  1  0  1  0  0  0  0  0  0  0  0  0  0;  % algorithms\n",
    "        0  0  1  0  0  0  0  0  0  0  0  0  0  0  0  0  1;  % application\n",
    "        0  0  0  0  0  0  0  0  0  0  1  1  0  0  0  0  0;  % delay\n",
    "        0  0  0  1  0  0  0  1  0  1  1  1  1  1  1  0  0;  % differential\n",
    "        1  1  0  1  0  0  0  1  0  1  1  1  1  1  1  0  0;  % equations\n",
    "        0  0  1  0  0  0  1  0  0  0  0  0  0  0  0  0  0;  % implementation\n",
    "        1  0  0  0  0  0  0  0  0  0  0  0  0  0  0  1  1;  % integral\n",
    "        0  0  0  0  1  1  0  0  0  0  0  0  0  0  0  0  0;  % introduction\n",
    "        0  0  0  0  0  0  0  1  0  0  0  0  0  1  0  0  0;  % methods\n",
    "        0  0  0  0  0  0  0  0  1  0  0  0  1  0  0  0  0;  % nonlinear\n",
    "        0  0  0  0  0  0  0  1  0  1  0  0  0  0  0  0  0;  % ordinary\n",
    "        0  0  0  0  0  0  0  0  0  0  1  1  0  0  0  0  0;  % oscillation\n",
    "        0  0  0  1  0  0  0  0  0  0  0  0  1  0  0  0  0;  % partial\n",
    "        0  0  0  0  0  1  1  0  0  0  0  0  0  0  0  1  0;  % problem\n",
    "        0  0  0  0  0  1  0  1  1  0  0  0  0  0  0  0  0;  % systems\n",
    "        0  0  1  0  0  0  0  0  0  0  1  1  0  0  0  0  1;  % theory\n",
    "];\n",
    "\n",
    "[U,S,V] = svd(coOccurrence);\n",
    "\n",
    "%  We can look at a plot of the singular values (diagonal of S):\n",
    "\n",
    "plot( diag(S), 'b' )\n",
    "\n",
    "Xfactor = U(:,1:2)\n",
    "Yfactor = V(:,1:2)\n",
    "\n",
    "% plot the 2D projection of the data\n",
    "\n",
    "text_offset = 0.01;\n",
    "plot( Xfactor(:,1), Xfactor(:,2), 'r*', Yfactor(:,1), Yfactor(:,2), 'b*' )\n",
    "hold on\n",
    "\n",
    "for i = (1:nX)\n",
    "     text( Xfactor(i,1)+text_offset, Xfactor(i,2), Xtext(i))\n",
    "end\n",
    "\n",
    "for i = (1:nY)\n",
    "     text( Yfactor(i,1)+text_offset, Yfactor(i,2), sprintf('B%d',i))\n",
    "end\n",
    "\n",
    "title( 'Latent Semantic Indexing:  X term vs. Y term ' )\n",
    "xlabel( '1st component' )\n",
    "ylabel( '2nd component' )\n",
    "\n",
    "zoom on\n",
    "hold off\n"
   ]
  },
  {
   "cell_type": "markdown",
   "metadata": {},
   "source": [
    "## The Pseudoinverse"
   ]
  },
  {
   "cell_type": "code",
   "execution_count": 19,
   "metadata": {
    "collapsed": false
   },
   "outputs": [
    {
     "name": "stdout",
     "output_type": "stream",
     "text": [
      "A =\n",
      "\n",
      "   1.2000   1.0000\n",
      "   2.7000   1.0000\n",
      "   3.3000   1.0000\n",
      "   3.7000   1.0000\n",
      "\n",
      "P =\n",
      "\n",
      "  -0.4227304  -0.0069300   0.1593902   0.2702703\n",
      "   1.4019404   0.2688843  -0.1843382  -0.4864865\n",
      "\n",
      "AP =\n",
      "\n",
      "   0.8946639   0.2605683   0.0069300  -0.1621622\n",
      "   0.2605683   0.2501733   0.2460152   0.2432432\n",
      "   0.0069300   0.2460152   0.3416493   0.4054054\n",
      "  -0.1621622   0.2432432   0.4054054   0.5135135\n",
      "\n",
      "PA =\n",
      "\n",
      "   1.0000e+00  -1.1102e-16\n",
      "  -6.6613e-16   1.0000e+00\n",
      "\n",
      "error =    4.9651e-16\n"
     ]
    }
   ],
   "source": [
    "A = [ 1.2 1 ;  2.7 1 ;  3.3 1 ; 3.7 1 ]\n",
    "\n",
    "P = pinv(A)     %  the pseudoinverse of A\n",
    "\n",
    "AP = A * P\n",
    "\n",
    "PA = P * A      %  P is a \"left inverse\" for A\n",
    "\n",
    "error = norm( A * P * A  -  A )   %  consequently  A P A  =  A"
   ]
  },
  {
   "cell_type": "markdown",
   "metadata": {},
   "source": [
    "## Computation of the Pseudoinverse -- using the SVD\n",
    "\n",
    "If  $A = U S V'$, then it has pseudoinverse  $A^- = V ~ S^- ~ U'$, where:\n",
    "\n",
    "$$\n",
    "\\begin{pmatrix}\n",
    "\\sigma_1 &          &        & \\\\\n",
    "         & \\sigma_2 &        & \\\\\n",
    "         &          & \\ddots & \\\\\n",
    "         &          &        & \\sigma_p \\\\\n",
    "         &          &        & \\\\\n",
    "         &          &        & \\\\\n",
    "\\end{pmatrix}{}^-\n",
    "~~=~~\n",
    "\\begin{pmatrix}\n",
    "\\sigma_1^- &          &        &   ~    &  ~     &  \\\\\n",
    "         & \\sigma_2^- &        &   ~    &  ~     &  \\\\\n",
    "         &               & \\ddots   &        &   ~    &     \\\\\n",
    "         &               &          & \\sigma_p^- &  ~      &\n",
    "\\end{pmatrix}\n",
    "$$\n",
    "where $$\n",
    "\\sigma^- ~=~\n",
    "\\left\\{\n",
    "\\begin{array}{ll} 1/\\sigma & \\sigma \\neq 0 \\\\ 0 & \\sigma = 0 \\end{array}\n",
    "\\right.\n",
    "$$"
   ]
  },
  {
   "cell_type": "code",
   "execution_count": 20,
   "metadata": {
    "collapsed": true
   },
   "outputs": [],
   "source": [
    "function P = Pseudoinverse(A)\n",
    "   [U,S,V] = svd(A)\n",
    "   P = V * DiagonalPinv(S) * U'\n",
    "end\n",
    "\n",
    "function Sminus = DiagonalPinv(S)\n",
    "   m = size(S,1);\n",
    "   n = size(S,2);\n",
    "   Sminus = zeros(n,m);\n",
    "   p = min(m,n);\n",
    "   for i=1:p\n",
    "       if S(i,i) ~= 0\n",
    "           Sminus(i,i) = 1/S(i,i);\n",
    "       end     \n",
    "   end\n",
    "end"
   ]
  },
  {
   "cell_type": "code",
   "execution_count": 21,
   "metadata": {
    "collapsed": true
   },
   "outputs": [],
   "source": [
    "function P = DiagonalPinv(S)    %  cleverer implementation\n",
    "   invsigma = 1 ./ diag(S);\n",
    "   invsigma(invsigma == Inf) = 0;\n",
    "   P = zeros(size(S'));\n",
    "   P(1:min(size(S)),1:min(size(S)))  = diag(invsigma)\n",
    "end"
   ]
  },
  {
   "cell_type": "markdown",
   "metadata": {},
   "source": [
    "### Properties of the Pseudoinverse"
   ]
  },
  {
   "cell_type": "code",
   "execution_count": 22,
   "metadata": {
    "collapsed": false
   },
   "outputs": [
    {
     "name": "stdout",
     "output_type": "stream",
     "text": [
      "A =\n",
      "\n",
      "   0.98890   0.48489   0.89592\n",
      "   0.44773   0.11554   0.89021\n",
      "   0.40475   0.57346   0.50437\n",
      "   0.95214   0.26082   0.67601\n",
      "\n",
      "P =\n",
      "\n",
      "   0.50193  -1.09160  -0.84115   1.39984\n",
      "   0.25274  -0.85593   2.03171  -0.72368\n",
      "  -0.18548   1.76726   0.11295  -0.68640\n",
      "\n",
      "ans =\n",
      "\n",
      "   1.0000e+00   1.1102e-16   1.1102e-15\n",
      "  -1.5543e-15   1.0000e+00  -1.6098e-15\n",
      "   3.3307e-16  -8.3267e-17   1.0000e+00\n",
      "\n",
      "ans =\n",
      "\n",
      "   0.452729   0.088813   0.254538   0.418436\n",
      "   0.088813   0.985587  -0.041307  -0.067905\n",
      "   0.254538  -0.041307   0.881614  -0.194616\n",
      "   0.418436  -0.067905  -0.194616   0.680070\n",
      "\n",
      "ans =\n",
      "\n",
      "  -2.2204e-16  -1.6653e-16   1.1102e-16\n",
      "   3.3307e-16  -5.5511e-17   1.1102e-16\n",
      "  -4.9960e-16   0.0000e+00  -4.4409e-16\n",
      "   4.4409e-16  -5.5511e-17   5.5511e-16\n",
      "\n",
      "ans =\n",
      "\n",
      "   1.1102e-16   1.3323e-15  -2.2204e-16   2.2204e-16\n",
      "  -4.9960e-16  -1.2212e-15   1.3323e-15  -1.1102e-15\n",
      "   1.6653e-16  -4.4409e-16  -4.5797e-16   6.6613e-16\n",
      "\n",
      "ans =\n",
      "\n",
      "   0.0000e+00   8.3267e-17   1.1102e-16   4.4409e-16\n",
      "  -8.3267e-17   0.0000e+00   1.8041e-16   4.4409e-16\n",
      "  -1.1102e-16  -1.8041e-16   0.0000e+00  -1.1102e-16\n",
      "  -4.4409e-16  -4.4409e-16   1.1102e-16   0.0000e+00\n",
      "\n",
      "ans =\n",
      "\n",
      "   0.0000e+00  -1.6653e-15  -7.7716e-16\n",
      "   1.6653e-15   0.0000e+00   1.5266e-15\n",
      "   7.7716e-16  -1.5266e-15   0.0000e+00\n",
      "\n"
     ]
    }
   ],
   "source": [
    "A = rand(4,3)\n",
    "\n",
    "P  =  inv(A' * A) * A'\n",
    "P * A\n",
    "A * P\n",
    "A * P * A - A\n",
    "P * A * P - P\n",
    "(A * P)'  -  (A * P)\n",
    "(P * A)'  -  (P * A)"
   ]
  },
  {
   "cell_type": "code",
   "execution_count": 23,
   "metadata": {
    "collapsed": true
   },
   "outputs": [],
   "source": [
    "essentially_equal =  @(X,Y)  max(max(abs(X-Y))) < 1e-14 * (norm(X)+norm(Y));"
   ]
  },
  {
   "cell_type": "code",
   "execution_count": 24,
   "metadata": {
    "collapsed": false
   },
   "outputs": [
    {
     "name": "stdout",
     "output_type": "stream",
     "text": [
      "ans =  1\n",
      "ans =  1\n",
      "ans =  1\n"
     ]
    }
   ],
   "source": [
    "essentially_equal( (P*A)', (P*A) )\n",
    "essentially_equal( (A*P)', (A*P) )\n",
    "essentially_equal( (A*P*A), A )"
   ]
  },
  {
   "cell_type": "code",
   "execution_count": 25,
   "metadata": {
    "collapsed": false
   },
   "outputs": [
    {
     "name": "stdout",
     "output_type": "stream",
     "text": [
      "U =\n",
      "\n",
      "  -0.641085   0.155347  -0.132688  -0.739778\n",
      "  -0.423029  -0.742683   0.505030   0.120053\n",
      "  -0.358348   0.650442   0.574566   0.344073\n",
      "  -0.530700  -0.034857  -0.630248   0.565623\n",
      "\n",
      "S =\n",
      "\n",
      "Diagonal Matrix\n",
      "\n",
      "   2.21098         0         0\n",
      "         0   0.41811         0\n",
      "         0         0   0.37074\n",
      "         0         0         0\n",
      "\n",
      "V =\n",
      "\n",
      "  -0.66655   0.12241  -0.73534\n",
      "  -0.31825   0.84529   0.42919\n",
      "  -0.67411  -0.52010   0.52447\n",
      "\n",
      "ans =  1\n"
     ]
    }
   ],
   "source": [
    "[U,S,V] = svd(A)\n",
    "essentially_equal( A, (U * S * V') )"
   ]
  },
  {
   "cell_type": "code",
   "execution_count": 26,
   "metadata": {
    "collapsed": false
   },
   "outputs": [
    {
     "name": "stdout",
     "output_type": "stream",
     "text": [
      "ans =\n",
      "\n",
      "   2.21098\n",
      "   0.41811\n",
      "   0.37074\n",
      "\n",
      "S_inv =\n",
      "\n",
      "Diagonal Matrix\n",
      "\n",
      "   0.45229         0         0         0\n",
      "         0   2.39171         0         0\n",
      "         0         0   2.69728         0\n",
      "\n",
      "ans =\n",
      "\n",
      "   0.50193  -1.09160  -0.84115   1.39984\n",
      "   0.25274  -0.85593   2.03171  -0.72368\n",
      "  -0.18548   1.76726   0.11295  -0.68640\n",
      "\n"
     ]
    }
   ],
   "source": [
    "diag(S)\n",
    "S_inv = S'; for i=1:min(size(S_inv)), if S(i,i) ~= 0, S_inv(i,i) = 1/S(i,i); end, end\n",
    "S_inv\n",
    "V * S_inv * U'"
   ]
  },
  {
   "cell_type": "code",
   "execution_count": 27,
   "metadata": {
    "collapsed": false
   },
   "outputs": [
    {
     "name": "stdout",
     "output_type": "stream",
     "text": [
      "ans =  1\n",
      "ans =\n",
      "\n",
      "Diagonal Matrix\n",
      "\n",
      "   1   0   0   0\n",
      "   0   1   0   0\n",
      "   0   0   1   0\n",
      "   0   0   0   0\n",
      "\n",
      "ans =\n",
      "\n",
      "Diagonal Matrix\n",
      "\n",
      "   1   0   0\n",
      "   0   1   0\n",
      "   0   0   1\n",
      "\n"
     ]
    }
   ],
   "source": [
    "essentially_equal( P,  V * S_inv * U' )\n",
    "S * S_inv\n",
    "S_inv * S"
   ]
  },
  {
   "cell_type": "code",
   "execution_count": 28,
   "metadata": {
    "collapsed": false
   },
   "outputs": [
    {
     "name": "stdout",
     "output_type": "stream",
     "text": [
      "pseudoinverse =\n",
      "\n",
      "@(X) inv (X' * X) * X'\n",
      "\n",
      "P =\n",
      "\n",
      "   0.50193  -1.09160  -0.84115   1.39984\n",
      "   0.25274  -0.85593   2.03171  -0.72368\n",
      "  -0.18548   1.76726   0.11295  -0.68640\n",
      "\n",
      "b =\n",
      "\n",
      "   0.60569\n",
      "   0.81737\n",
      "   0.35700\n",
      "   0.89166\n",
      "\n",
      "ans =\n",
      "\n",
      "   0.35966\n",
      "  -0.46649\n",
      "   0.76045\n",
      "\n",
      "ans =\n",
      "\n",
      "   0.35966\n",
      "  -0.46649\n",
      "   0.76045\n",
      "\n"
     ]
    }
   ],
   "source": [
    "pseudoinverse  =  @(X)  inv(X' * X) * X'\n",
    "P = pseudoinverse(A)\n",
    "b = rand(4,1)\n",
    "P * b\n",
    "A \\ b"
   ]
  },
  {
   "cell_type": "markdown",
   "metadata": {},
   "source": [
    "## Implementing the SVD"
   ]
  },
  {
   "cell_type": "code",
   "execution_count": 29,
   "metadata": {
    "collapsed": false
   },
   "outputs": [
    {
     "name": "stdout",
     "output_type": "stream",
     "text": [
      "A =\n",
      "\n",
      "   0.73577   0.92582   0.86410\n",
      "   0.35142   0.60121   0.78897\n",
      "   0.82745   0.86330   0.56630\n",
      "\n"
     ]
    }
   ],
   "source": [
    "A = rand(3,3)"
   ]
  },
  {
   "cell_type": "code",
   "execution_count": 30,
   "metadata": {
    "collapsed": false
   },
   "outputs": [],
   "source": [
    "function [U,S,V] = SimpleSVD(A)\n",
    "           [Q L] = eig(A' * A);\n",
    "           V = Q;\n",
    "           S = sqrt(L);\n",
    "           U = A * V * pinv(S);\n",
    "end           "
   ]
  },
  {
   "cell_type": "code",
   "execution_count": 31,
   "metadata": {
    "collapsed": false
   },
   "outputs": [
    {
     "name": "stdout",
     "output_type": "stream",
     "text": [
      "A =\n",
      "\n",
      "   0.27034   0.64273   0.85717\n",
      "   0.75093   0.49610   0.79444\n",
      "   0.83254   0.59499   0.32889\n",
      "\n",
      "U =\n",
      "\n",
      "  -0.552120   0.717230   0.425140\n",
      "  -0.638123  -0.035324  -0.769124\n",
      "  -0.536621  -0.695941   0.477184\n",
      "\n",
      "S =\n",
      "\n",
      "Diagonal Matrix\n",
      "\n",
      "   1.86428         0         0\n",
      "         0   0.54652         0\n",
      "         0         0   0.20773\n",
      "\n",
      "V =\n",
      "\n",
      "  -0.576738  -0.753924  -0.314599\n",
      "  -0.531424   0.053760   0.845398\n",
      "  -0.620453   0.654759  -0.431659\n",
      "\n",
      "U =\n",
      "\n",
      "   0.425140   0.717230   0.552120\n",
      "  -0.769124  -0.035324   0.638123\n",
      "   0.477184  -0.695941   0.536621\n",
      "\n",
      "S =\n",
      "\n",
      "Diagonal Matrix\n",
      "\n",
      "   0.20773         0         0\n",
      "         0   0.54652         0\n",
      "         0         0   1.86428\n",
      "\n",
      "V =\n",
      "\n",
      "  -0.314599  -0.753924   0.576738\n",
      "   0.845398   0.053760   0.531424\n",
      "  -0.431659   0.654759   0.620453\n",
      "\n"
     ]
    }
   ],
   "source": [
    "A = rand(3,3)\n",
    "\n",
    "[U,S,V] = svd(A)\n",
    "\n",
    "[U,S,V] = SimpleSVD(A)"
   ]
  },
  {
   "cell_type": "code",
   "execution_count": 32,
   "metadata": {
    "collapsed": true
   },
   "outputs": [],
   "source": [
    "function [U,S,V] = GeneralSquareSVD(A)\n",
    "       %  This simple approach is sufficient to implement the SVD when A is square.\n",
    "       %  (It also works like  svd(A,'econ')  when A has more rows than columns.)\n",
    "   [Q L] = eig(A' * A);  %%% Jacobi(A' * A);\n",
    "   V = Q;\n",
    "   S = sqrt(abs(L));\n",
    "       %  Although L should not have any negative eigenvalues,\n",
    "       %  roundoff errors may produce some, so abs(L) avoids problems.\n",
    "\n",
    "%  Next:  compute U  (from A, S, and V).\n",
    "   Spinv = 1 ./ S;\n",
    "   Spinv( Spinv == Inf ) = 0;\n",
    "       %  Spinv = pseudoinverse of S;  we replace all  1/0 = Inf  values by 0.\n",
    "   U = A * V * Spinv;\n",
    "\n",
    "%  Finally:  sort the singular values in descending order.\n",
    "   singular_values = diag(S);\n",
    "   [sorted_singular_values ordering] = sort(singular_values,1,'descend');\n",
    "   U = U(:,ordering);\n",
    "   S = S(ordering,ordering);\n",
    "   V = V(:,ordering);\n",
    "end"
   ]
  },
  {
   "cell_type": "code",
   "execution_count": 34,
   "metadata": {
    "collapsed": false
   },
   "outputs": [
    {
     "name": "stdout",
     "output_type": "stream",
     "text": [
      "U =\n",
      "\n",
      "   0.552120   0.717230   0.425140\n",
      "   0.638123  -0.035324  -0.769124\n",
      "   0.536621  -0.695941   0.477184\n",
      "\n",
      "S =\n",
      "\n",
      "   1.86428   0.00000   0.00000\n",
      "   0.00000   0.54652   0.00000\n",
      "   0.00000   0.00000   0.20773\n",
      "\n",
      "V =\n",
      "\n",
      "   0.576738  -0.753924  -0.314599\n",
      "   0.531424   0.053760   0.845398\n",
      "   0.620453   0.654759  -0.431659\n",
      "\n"
     ]
    }
   ],
   "source": [
    "[U,S,V] = GeneralSquareSVD(A)"
   ]
  },
  {
   "cell_type": "code",
   "execution_count": 35,
   "metadata": {
    "collapsed": false
   },
   "outputs": [
    {
     "name": "stdout",
     "output_type": "stream",
     "text": [
      "U =\n",
      "\n",
      "  -0.552120   0.717230   0.425140\n",
      "  -0.638123  -0.035324  -0.769124\n",
      "  -0.536621  -0.695941   0.477184\n",
      "\n",
      "S =\n",
      "\n",
      "Diagonal Matrix\n",
      "\n",
      "   1.86428         0         0\n",
      "         0   0.54652         0\n",
      "         0         0   0.20773\n",
      "\n",
      "V =\n",
      "\n",
      "  -0.576738  -0.753924  -0.314599\n",
      "  -0.531424   0.053760   0.845398\n",
      "  -0.620453   0.654759  -0.431659\n",
      "\n"
     ]
    }
   ],
   "source": [
    "[U,S,V] = svd(A)"
   ]
  },
  {
   "cell_type": "markdown",
   "metadata": {},
   "source": [
    "## General non-square SVD"
   ]
  },
  {
   "cell_type": "code",
   "execution_count": 36,
   "metadata": {
    "collapsed": true
   },
   "outputs": [],
   "source": [
    "function [U,S,V] = SimpleSVD(A)\n",
    "   [n p] = size(A);\n",
    "   if (n < p)\n",
    "      [Q L] = eig(A' * A);  %%% Jacobi(A' * A);  %  (A' * A)  is a  p x p  matrix\n",
    "      V = Q;\n",
    "      S = zeros([n p]);\n",
    "      S(1:n, 1:n) = sqrt(abs(L(1:n,1:n)));\n",
    "      Sinv = 1 ./ S';\n",
    "      Sinv(Sinv == Inf) = 0;\n",
    "      U = A * V * Sinv;\n",
    "   else\n",
    "      [Q L] = eig(A' * A);  %%% Jacobi(A * A');  %  (A * A')  is a  n x n  matrix\n",
    "      U = Q;\n",
    "      S = zeros([n p]);\n",
    "      S(1:p, 1:p) = sqrt(abs(L(1:p,1:p)));\n",
    "      Sinv = 1 ./ S';\n",
    "      Sinv(Sinv == Inf) = 0;\n",
    "      V = (Sinv * U' * A)';\n",
    "   end\n",
    "   singular_values = diag(S);\n",
    "end"
   ]
  },
  {
   "cell_type": "markdown",
   "metadata": {},
   "source": [
    "## Cleverer SVD implementation"
   ]
  },
  {
   "cell_type": "code",
   "execution_count": 39,
   "metadata": {
    "collapsed": true
   },
   "outputs": [],
   "source": [
    "function [U,S,V] = ClevererSVD(A)\n",
    "   [n p] = size(A);\n",
    "   if (n > p)\n",
    "      [Q L] = eig(A' * A);  %%% Jacobi(A' * A);  %  (A' * A)  is a  p x p  matrix\n",
    "      V = Q;\n",
    "      S = sqrt(abs(L));\n",
    "      Sinv = 1 ./ S';\n",
    "      Sinv(Sinv == Inf) = 0;\n",
    "      U = A * V * Sinv;        %  yield a rectangular matrix U\n",
    "   else\n",
    "      [Q L] = eig(A' * A);  %%% Jacobi(A * A');  %  (A * A')  is a  n x n  matrix\n",
    "      U = Q;\n",
    "      S = sqrt(abs(L));\n",
    "      Sinv = 1 ./ S';\n",
    "      Sinv(Sinv == Inf) = 0;\n",
    "      V = (Sinv * U' * A)';    %  yield a rectangular matrix V\n",
    "   end\n",
    "   singular_values = diag(S);  %  put the singular values in decreasing order\n",
    "   [sorted_singular_values ordering] = sort(singular_values,1,'descend');\n",
    "   U = U(:,ordering);\n",
    "   S = S(ordering,ordering);\n",
    "   V = V(:,ordering);\n",
    "end"
   ]
  },
  {
   "cell_type": "code",
   "execution_count": 40,
   "metadata": {
    "collapsed": false
   },
   "outputs": [
    {
     "name": "stdout",
     "output_type": "stream",
     "text": [
      "U =\n",
      "\n",
      "  -0.552120   0.717230   0.425140\n",
      "  -0.638123  -0.035324  -0.769124\n",
      "  -0.536621  -0.695941   0.477184\n",
      "\n",
      "S =\n",
      "\n",
      "Diagonal Matrix\n",
      "\n",
      "   1.86428         0         0\n",
      "         0   0.54652         0\n",
      "         0         0   0.20773\n",
      "\n",
      "V =\n",
      "\n",
      "  -0.576738  -0.753924  -0.314599\n",
      "  -0.531424   0.053760   0.845398\n",
      "  -0.620453   0.654759  -0.431659\n",
      "\n",
      "U =\n",
      "\n",
      "   0.576738  -0.753924  -0.314599\n",
      "   0.531424   0.053760   0.845398\n",
      "   0.620453   0.654759  -0.431659\n",
      "\n",
      "S =\n",
      "\n",
      "   1.86428   0.00000   0.00000\n",
      "   0.00000   0.54652   0.00000\n",
      "   0.00000   0.00000   0.20773\n",
      "\n",
      "V =\n",
      "\n",
      "   0.57477   0.69837   0.91664\n",
      "   0.53827  -0.12501  -0.19081\n",
      "   0.60109  -0.71029   1.25158\n",
      "\n"
     ]
    }
   ],
   "source": [
    "[U,S,V] = svd(A)\n",
    "[U,S,V] = ClevererSVD(A)"
   ]
  },
  {
   "cell_type": "code",
   "execution_count": null,
   "metadata": {
    "collapsed": true
   },
   "outputs": [],
   "source": []
  }
 ],
 "metadata": {
  "anaconda-cloud": {},
  "kernelspec": {
   "display_name": "Matlab",
   "language": "matlab",
   "name": "matlab"
  },
  "language_info": {
   "codemirror_mode": "octave",
   "file_extension": ".m",
   "help_links": [
    {
     "text": "MetaKernel Magics",
     "url": "https://github.com/calysto/metakernel/blob/master/metakernel/magics/README.md"
    }
   ],
   "mimetype": "text/x-octave",
   "name": "matlab",
   "version": "0.11.0"
  }
 },
 "nbformat": 4,
 "nbformat_minor": 0
}
