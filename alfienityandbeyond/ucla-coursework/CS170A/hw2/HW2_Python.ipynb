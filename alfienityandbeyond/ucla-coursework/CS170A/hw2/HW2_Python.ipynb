{
 "cells": [
  {
   "cell_type": "markdown",
   "metadata": {},
   "source": [
    "# CS170A -- HW#2: Eigenfaces -- Python"
   ]
  },
  {
   "cell_type": "markdown",
   "metadata": {},
   "source": [
    "Your name:  ______________________\n",
    "\n",
    "Your UID:  _________\n",
    "\n",
    "<b>Please upload only this notebook to CCLE by the deadline.</b>\n",
    "\n",
    "<b>Policy for late submission of solutions:</b>  We will use Paul Eggert's Late\n",
    "Policy: $N$ days late $\\Leftrightarrow$ $2^N$ points deducted}\n",
    "The number of days late is $N=0$\n",
    "for the first 24 hrs, $N=1$ for the next 24 hrs, etc., and if you submit\n",
    "an assignment $H$ hours late, $2^{\\lfloor \\,H\\,/\\,24\\, \\rfloor}$ points are\n",
    "deducted."
   ]
  },
  {
   "cell_type": "markdown",
   "metadata": {},
   "source": [
    "## Problem 1:  Eigenfaces\n",
    "\n",
    "Chapter 11 of the Course Reader is on Eigenfaces.\n",
    "For this assignment we have included the face files\n",
    "for this chapter in the directory <tt>old_faces</tt>.\n",
    "It includes some Matlab scripts and a database of 177 face images,\n",
    "each a grayscale <tt>.bmp</tt> bitmap file of size $64 \\times 64$ pixels.\n",
    "The face images have been pre-processed so that the background\n",
    "and hair are removed and the faces have similar lighting conditions.\n",
    "\n",
    "The Course Reader explains how to\n",
    "reshape each face image into a $1 \\times 64^2 \\, = \\, 1 \\times 4096$ row vector, and collect them into a matrix.\n",
    "The principal components of the matrix then define the main dimensions of variance in the faces.\n",
    "The program <tt>more_efficient_eigenfaces.m</tt> shows how to do this.\n",
    "These principal components are called <i>eigenfaces</i>."
   ]
  },
  {
   "cell_type": "markdown",
   "metadata": {},
   "source": [
    "### This Assignment uses a new Face Dataset -- with Normal and Smiling Faces\n",
    "\n",
    "The goal of this problem is to apply the same ideas to a new set of 200 faces in the directory <tt>new_faces</tt>.\n",
    "The subdirectory <tt>new_faces/faces</tt> has 200 faces that have been normalized, cropped, and equalized.\n",
    "The subdirectory <tt>new_faces/smiling_faces</tt> has 200 images of the same people, but they are smiling.\n",
    "Each of these images is a grayscale <tt>.jpg</tt> file with size $193 \\times 162$."
   ]
  },
  {
   "cell_type": "markdown",
   "metadata": {
    "collapsed": true
   },
   "source": [
    "### 1a:  The Average Face\n",
    "\n",
    "Modify the program <tt>more_efficient_eigenfaces.m</tt> (available in this directory)\n",
    "to use the <tt>new_faces</tt> images instead of the <tt>old_faces</tt> images.\n",
    "Also, modify it to use the Matlab function <tt>imresize</tt> to downsample\n",
    "each of the new faces by a factor of 3, so it is $64 \\times 54$ (instead of $193 \\times 162$).\n",
    "Then: <i>pad</i> both sides of the image with <tt>zeros(64,5)</tt>\n",
    "so the result is a $64 \\times 64$ image.\n",
    "\n",
    "Then: create a function that\n",
    "takes as input a string array of filenames of face images, an integer $k$,\n",
    "and an integer sample size $s$ ---\n",
    "and yields the average face and the first $k$ singular values and eigenfaces as output values\n",
    "for a sample of size $s$.\n",
    "\n",
    "Apply your function to\n",
    "both the <tt>new_faces/faces</tt>\n",
    "and the <tt>new_faces/smiling_faces</tt>\n",
    "directories,\n",
    "and plot the absolute value of the difference between your average face and (your downsampled version of)\n",
    "the average face provided in the directory.\n",
    "\n",
    "(The <tt>imagesc</tt> function can display images with automatic rescaling of numeric values.)"
   ]
  },
  {
   "cell_type": "code",
   "execution_count": 19,
   "metadata": {
    "collapsed": true
   },
   "outputs": [],
   "source": [
    "#  image showing the difference between your average normal face and the one provided"
   ]
  },
  {
   "cell_type": "code",
   "execution_count": 20,
   "metadata": {
    "collapsed": true
   },
   "outputs": [],
   "source": [
    "#  image showing the difference between your average smiling face and the one provided"
   ]
  },
  {
   "cell_type": "markdown",
   "metadata": {},
   "source": [
    "### 1b: Smiling makes a Difference\n",
    "\n",
    "If your mean normal face is $\\overline{\\mathbf{f}}_0$, and your mean smiling face is $\\overline{\\mathbf{f}}_1$,\n",
    "render (using <tt>imagesc</tt>)\n",
    "the difference $\\overline{\\mathbf{f}}_0-\\overline{\\mathbf{f}}_1$\n",
    "(the average difference between normal faces and smiling faces).\n"
   ]
  },
  {
   "cell_type": "code",
   "execution_count": 21,
   "metadata": {
    "collapsed": true
   },
   "outputs": [],
   "source": [
    "#  image showing the difference between the average normal face and average smiling face"
   ]
  },
  {
   "cell_type": "markdown",
   "metadata": {},
   "source": [
    "### 1c: Scree Plots and $k$-Approximation\n",
    "\n",
    "Using your downsampled images,\n",
    "perform PCA on each set of faces (normal and smiling).\n",
    "\n",
    "For each image (normal or smiling), construct its $64^2 \\times 1$ vector $\\mathbf{f}$.\n",
    "Then, subtract the average face\n",
    "($\\overline{\\mathbf{f}}_0$ or $\\overline{\\mathbf{f}}_1$)\n",
    "and project the remainder on the first $k = 60$ eigenfaces.\n",
    "For example, with a smiling face,\n",
    "the projection of $\\mathbf{f}$ on the $j$-th smiling eigenface $\\mathbf{e}_j$ is\n",
    "$$\n",
    "c_j ~=~ {(\\mathbf{f} \\, - \\, \\overline{\\mathbf{f}}_1)}' \\, {\\mathbf{e}_j}  ~~~~~~~~~~ (j = 1,\\dots,k).\n",
    "$$\n",
    "\n",
    "For each set of faces (normal or smiling),\n",
    "make one large scree plot for the set, showing all sequences of the first $k$ coefficients\n",
    "for each image overplotted (e.g. with <tt>hold on</tt>)."
   ]
  },
  {
   "cell_type": "code",
   "execution_count": 22,
   "metadata": {
    "collapsed": true
   },
   "outputs": [],
   "source": [
    "#  (overlaid) scree plots for normal faces"
   ]
  },
  {
   "cell_type": "code",
   "execution_count": 23,
   "metadata": {
    "collapsed": true
   },
   "outputs": [],
   "source": [
    "#  (overlaid) scree plots for smiling faces"
   ]
  },
  {
   "cell_type": "markdown",
   "metadata": {},
   "source": [
    "### 1d:  Unusualness of a Face\n",
    "\n",
    "Let us say the <i>unusualness</i> of a face is the $L_2$ norm\n",
    "of its eigenface-coefficient vector (using the first $k=60$ eigenfaces).\n",
    "\n",
    "Determine, for each set (normal or smiling), the most unusual face."
   ]
  },
  {
   "cell_type": "code",
   "execution_count": 24,
   "metadata": {
    "collapsed": true
   },
   "outputs": [],
   "source": [
    "#  the most unusual normal face"
   ]
  },
  {
   "cell_type": "code",
   "execution_count": 25,
   "metadata": {
    "collapsed": true
   },
   "outputs": [],
   "source": [
    "#  the most unusual smiling face"
   ]
  },
  {
   "cell_type": "markdown",
   "metadata": {},
   "source": [
    "## Problem 2: Face Classifiers\n",
    "\n",
    "Develop two different face classifiers using the eigenfaces you've computed;\n",
    "each should be a function that, given a face image $\\mathbf{f}$ as input,\n",
    "yields the output value 1 if $\\mathbf{f}$ is smiling, and 0 otherwise.\n",
    "(NOTE: or vice-versa; we just need the function to be a classifier)\n",
    "\n",
    "Specifically, implement the following 3 classifiers that take an input image $\\mathbf{f}$:\n",
    "<ul><li>  {Classifier X}:   yield 1 if the normal face unusualness of $\\mathbf{f}$ is greater than smiling face unusualness of $\\mathbf{f}$, else 0.\n",
    "<br/><br/>\n",
    "</li><li>  {Classifier Y}:   yield 1 if $||{\\mathbf{f} - \\overline{\\mathbf{f}}_0}||^2 ~\\geq ~ ||{\\mathbf{f} - \\overline{\\mathbf{f}}_1}||^2$, else 0.\n",
    "<br/><br/>\n",
    "<!--\n",
    "</li><li>  {Classifier Z}:   if $C_0$ is the covariance matrix for normal faces, and $C_1$ is the covariance matrix for smiling faces,\n",
    "yield 1 if $||{\\mathbf{f} - \\overline{\\mathbf{f}}_0}||_{C_0}^2 ~\\geq ~ ||{\\mathbf{f} - \\overline{\\mathbf{f}}_1}||_{C_1}^2$, else 0.\n",
    "<br/>\n",
    "(Here: $||{\\mathbf{x}}||_C^2 \\;=\\; {\\mathbf{x}}' \\; C^{-} \\; \\mathbf{x}$ is the kernel norm defined by the pseudo-inverse of the covariance matrix $C$.)\n",
    "-->\n",
    "</li></ul>"
   ]
  },
  {
   "cell_type": "markdown",
   "metadata": {},
   "source": [
    "### 2a:  Unusual Face Classification\n",
    "\n",
    "Using each of these classifiers, determine the classification it yields\n",
    "for the two most unusual images you found in the previous question."
   ]
  },
  {
   "cell_type": "code",
   "execution_count": 26,
   "metadata": {
    "collapsed": true
   },
   "outputs": [],
   "source": [
    "#  X, Y, Z classifications of the most unusual normal face"
   ]
  },
  {
   "cell_type": "code",
   "execution_count": 27,
   "metadata": {
    "collapsed": true
   },
   "outputs": [],
   "source": [
    "#  X, Y, Z classifications of the most unusual smiling face"
   ]
  },
  {
   "cell_type": "markdown",
   "metadata": {},
   "source": [
    "### 2b:  Splitting into Training and Test sets\n",
    "\n",
    "Write a function <tt>[Sublist1 Sublist2] = randsplit(List)</tt> that takes an array <tt>List</tt> of length <tt>n</tt>\n",
    "and splits it randomly into two sublists of size <tt>floor(n/2)</tt> and <tt>ceil(n/2)</tt>.\n",
    "(Hint: <tt>randperm</tt>)\n",
    "\n",
    "Use <tt>randsplit</tt> to split each of the 200-face sets\n",
    "into a <u>training subset</u> and <u>testing subset</u> of equal size.\n",
    "\n",
    "For both sets of faces (100 normal faces and 100 smiling faces),\n",
    "compute the average normal and smiling faces\n",
    "$\\overline{\\mathbf{f}}_0$ and $\\overline{\\mathbf{f}}_1$\n",
    "<u>for the training set</u>."
   ]
  },
  {
   "cell_type": "code",
   "execution_count": 28,
   "metadata": {
    "collapsed": true
   },
   "outputs": [],
   "source": [
    "# The average normal face (for the training set)"
   ]
  },
  {
   "cell_type": "code",
   "execution_count": 29,
   "metadata": {
    "collapsed": true
   },
   "outputs": [],
   "source": [
    "# The average smiling face (for the training set)"
   ]
  },
  {
   "cell_type": "markdown",
   "metadata": {},
   "source": [
    "### 2c:  Classifier Error Rate\n",
    "\n",
    "For each of the Classifiers (X, Y), using the average faces you just computed: \n",
    "<ul><li>\n",
    "classify each of the 200 faces $\\mathbf{f}$ in the testing set, and count classification errors.\n",
    "</li><li>\n",
    "compute the <i>error rate</i> (percentage of errors in test face classifications) for the Classifier.\n",
    "</li></ul>\n",
    "\n",
    "Then rank the classifiers by their error rate."
   ]
  },
  {
   "cell_type": "markdown",
   "metadata": {},
   "source": [
    "#### For normal faces (using the test set):"
   ]
  },
  {
   "cell_type": "code",
   "execution_count": 30,
   "metadata": {
    "collapsed": true
   },
   "outputs": [],
   "source": [
    "# X, Y error rates"
   ]
  },
  {
   "cell_type": "code",
   "execution_count": null,
   "metadata": {
    "collapsed": true
   },
   "outputs": [],
   "source": [
    "#  which of the classifiers has lowest error rate for normal faces in the test set?"
   ]
  },
  {
   "cell_type": "markdown",
   "metadata": {},
   "source": [
    "#### For smiling faces (using the test set):"
   ]
  },
  {
   "cell_type": "code",
   "execution_count": 32,
   "metadata": {
    "collapsed": true
   },
   "outputs": [],
   "source": [
    "# X, Y error rates"
   ]
  },
  {
   "cell_type": "code",
   "execution_count": null,
   "metadata": {
    "collapsed": true
   },
   "outputs": [],
   "source": [
    "#  which of the classifiers has lowest error rate for smiling faces in the test set?"
   ]
  },
  {
   "cell_type": "markdown",
   "metadata": {},
   "source": [
    "## Problem 3:  Face Compression\n",
    "\n",
    "In the previous problem you computed the first 60 Eigenface coefficients, and used these to find the most unusual face.\n",
    "\n",
    "For each $64 \\times 64$ image $X$ from your (downsampled) smiling faces, compute the following sequences:\n",
    "<ul><li> (descendingly sorted absolute values of) the first 60 Eigenface coefficients for $X$\n",
    "</li><li> (descendingly sorted absolute values of) the first 60 coefficient values from the two-sided FFT of $X$  (in Matlab: <tt>fft2(X)</tt>)\n",
    "</li><li> (descendingly sorted absolute values of) the first 60 coefficient values from the two-sided DCT of $X$  (in Matlab: <tt>dct2(X)</tt>)\n",
    "</li><li> the first 60 singular values from the SVD of $X$.\n",
    "</li></ul>\n",
    "\n",
    "We get an <i>image compression</i> scheme if we keep only the first $k \\leq 60$ coefficients, and discard the rest.\n",
    "\n",
    "Define\n",
    "$$\n",
    "\\mbox{$k$-coefficient compression error} ~~=~~\n",
    "\\frac{\\mbox{(the sum of absolute values of all coefficients after the first $k$)}}{\\mbox{(the sum of absolute values of all coefficients)}} .\n",
    "$$\n",
    "\n",
    "Compute the $k$-coefficient compression error for each of the 4 transforms,\n",
    "$1 \\leq k \\leq 60$, <u>for the smiling test set</u>.\n",
    "\n",
    "Rank the 4 transforms above by their average compression error (for $k \\leq 60$)."
   ]
  },
  {
   "cell_type": "code",
   "execution_count": 34,
   "metadata": {
    "collapsed": true
   },
   "outputs": [],
   "source": [
    "#  plot of the Eigenface's k-coefficient compression error   (for k <= 60)"
   ]
  },
  {
   "cell_type": "code",
   "execution_count": 35,
   "metadata": {
    "collapsed": true
   },
   "outputs": [],
   "source": [
    "#  plot of the two-sided FFT's k-coefficient compression error  (for k <= 60)\n",
    "\n",
    "###   You might do something like this:\n",
    "#   TwoSidedFFTofX = fft2(X);\n",
    "#   SortedAbsoluteValuesOfFourierCoefficients = sort(abs(TwoSidedFFTofX(:)), 'descend');\n",
    "#   figure\n",
    "#   plot( SortedAbsoluteValuesOfFourierCoefficients(1:60) )"
   ]
  },
  {
   "cell_type": "code",
   "execution_count": 36,
   "metadata": {
    "collapsed": true
   },
   "outputs": [],
   "source": [
    "#  plot of the two-sided DCT's k-coefficient compression error  (for k <= 60)"
   ]
  },
  {
   "cell_type": "code",
   "execution_count": 37,
   "metadata": {
    "collapsed": true
   },
   "outputs": [],
   "source": [
    "#  plot of the rank-k singular value compression error (for k <= 60)"
   ]
  },
  {
   "cell_type": "code",
   "execution_count": null,
   "metadata": {
    "collapsed": true
   },
   "outputs": [],
   "source": [
    "#  which of the 4 compression schemes has lowest average compression error?"
   ]
  }
 ],
 "metadata": {
  "anaconda-cloud": {},
  "kernelspec": {
   "display_name": "Python [conda root]",
   "language": "python",
   "name": "conda-root-py"
  },
  "language_info": {
   "codemirror_mode": {
    "name": "ipython",
    "version": 3
   },
   "file_extension": ".py",
   "mimetype": "text/x-python",
   "name": "python",
   "nbconvert_exporter": "python",
   "pygments_lexer": "ipython3",
   "version": "3.5.2"
  }
 },
 "nbformat": 4,
 "nbformat_minor": 0
}
